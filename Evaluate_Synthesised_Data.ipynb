{
 "cells": [
  {
   "cell_type": "markdown",
   "id": "cdca3e33",
   "metadata": {},
   "source": [
    "# Evaluate the synthesised data.\n"
   ]
  },
  {
   "cell_type": "code",
   "execution_count": 1,
   "id": "b90e63ff",
   "metadata": {},
   "outputs": [],
   "source": [
    "import pandas as pd\n",
    "from datetime import datetime\n",
    "import psutil\n",
    "import os\n",
    "\n",
    "import psutil \n",
    "import gc\n",
    "\n",
    "\n",
    "# importing matplotlib module\n",
    "import matplotlib.pyplot as plt\n",
    "plt.style.use('default')\n",
    "# %matplotlib inline: only draw static\n",
    "# images in the notebook\n",
    "%matplotlib inline"
   ]
  },
  {
   "cell_type": "code",
   "execution_count": 2,
   "id": "393027d9",
   "metadata": {},
   "outputs": [
    {
     "name": "stdout",
     "output_type": "stream",
     "text": [
      "SDV version  1.0.0\n",
      "RDT version:  1.5.0\n"
     ]
    }
   ],
   "source": [
    "import sdv\n",
    "import rdt\n",
    "\n",
    "print('SDV version ', sdv.__version__)\n",
    "print('RDT version: ', rdt.__version__)"
   ]
  },
  {
   "cell_type": "markdown",
   "id": "a40bd667",
   "metadata": {},
   "source": [
    "## Set all runtime variables."
   ]
  },
  {
   "cell_type": "code",
   "execution_count": 3,
   "id": "77ec1b2f",
   "metadata": {
    "scrolled": true
   },
   "outputs": [
    {
     "name": "stdout",
     "output_type": "stream",
     "text": [
      "==========================\n",
      "2024-08-14 18:04:57.050263\n",
      "==========================\n",
      "svmem(total=16756752384, available=1200467968, percent=92.8, used=15556284416, free=1200467968)\n",
      "==========================\n",
      "..\n",
      ".\\data\n",
      ".\\data\\Synthetic_Switch_Data.csv\n"
     ]
    }
   ],
   "source": [
    "pd.set_option('max_row', None)\n",
    "#pd.options.display.max_rows = 1000\n",
    "\n",
    "# Set a value for the home folder.\n",
    "home_folder = \".\"\n",
    "\n",
    "# Set values for the various paths.\n",
    "BASE_DIR = os.path.join( os.path.dirname( home_folder ), '..' )\n",
    "input_path = BASE_DIR +  \"\\Synthesisation\\data\"\n",
    "input_path = home_folder +  \"\\data\"\n",
    "\n",
    "# giving directory name\n",
    "full_file = input_path + '\\Synthetic_Switch_Data.csv'\n",
    "\n",
    "print('==========================')\n",
    "now = datetime.now()\n",
    "print(now)\n",
    "print('==========================')\n",
    "print(psutil.virtual_memory())\n",
    "print('==========================')\n",
    "os.path.abspath(os.getcwd())\n",
    "\n",
    "print(BASE_DIR)\n",
    "print(input_path)\n",
    "print(full_file)"
   ]
  },
  {
   "cell_type": "markdown",
   "id": "c75fdd55",
   "metadata": {},
   "source": [
    "# Read the full file."
   ]
  },
  {
   "cell_type": "code",
   "execution_count": null,
   "id": "2a096fa2",
   "metadata": {},
   "outputs": [],
   "source": [
    "df_full_file = pd.read_csv(full_file,low_memory=False, header=0)\n",
    "\n",
    "# Fill NULLs\n",
    "df_full_file = df_full_file.fillna(0)\n",
    "\n",
    "# Track runtime and encironment.\n",
    "print('==========================')\n",
    "now = datetime.now()\n",
    "print(now)\n",
    "print('==========================')\n",
    "print(psutil.virtual_memory())\n",
    "print('==========================')\n",
    "\n",
    "# print stats.\n",
    "print(len(df_full_file.index))\n",
    "print(df_full_file.dtypes)\n",
    "df_full_file.head(10)"
   ]
  },
  {
   "cell_type": "markdown",
   "id": "eb81ac00",
   "metadata": {},
   "source": [
    " # Look at the distribution of the target variable."
   ]
  },
  {
   "cell_type": "code",
   "execution_count": null,
   "id": "e74f4824",
   "metadata": {},
   "outputs": [],
   "source": [
    "print(df_full_file.Switch_Flag.value_counts(normalize=True))\n",
    "print(df_full_file.Switch_Flag.value_counts())"
   ]
  },
  {
   "cell_type": "code",
   "execution_count": null,
   "id": "2b2af8a6",
   "metadata": {},
   "outputs": [],
   "source": [
    "# Count and print the values. \n",
    "print(df_full_file.Switch_Flag.value_counts(normalize=True))\n",
    "\n",
    "# plot value_counts of Series\n",
    "ax = df_full_file['Switch_Flag'].value_counts(normalize=True).plot(kind='barh')\n",
    "\n",
    "# Set axis headings.\n",
    "ax.set(xlabel='Distribution of Policies with a Fund Switch', ylabel='Past Fund Switch')\n",
    "ax.set_xscale('log')\n",
    "\n",
    "ax.figure.savefig('Distribution of Policies with a Fund Switch.png')  # saves the current figure"
   ]
  },
  {
   "cell_type": "code",
   "execution_count": null,
   "id": "4e094bc1",
   "metadata": {},
   "outputs": [],
   "source": [
    "# Count and print the values. \n",
    "print(df_full_file.Switch_Flag.value_counts())\n",
    "\n",
    "# plot value_counts of Series\n",
    "ax = df_full_file['Switch_Flag'].value_counts().plot(kind='barh')\n",
    "\n",
    "# Set axis headings.\n",
    "ax.set(xlabel='Distribution of Policies with a Fund Switch', ylabel='Past Fund Switch')\n",
    "ax.set_xscale('log')\n",
    "\n",
    "ax.figure.savefig('Distribution of Policies with a Fund Switch.png')  # saves the current figure"
   ]
  },
  {
   "cell_type": "markdown",
   "id": "8837b37d",
   "metadata": {},
   "source": [
    "### List all dataframes."
   ]
  },
  {
   "cell_type": "code",
   "execution_count": 9,
   "id": "e000b879",
   "metadata": {},
   "outputs": [
    {
     "name": "stdout",
     "output_type": "stream",
     "text": [
      "Variable                   Type         Data/Info\n",
      "-------------------------------------------------\n",
      "df_Synthetic_Switch_Data   DataFrame    <object with id 3079650055744 (str() failed)>\n",
      "df_Tranche1                DataFrame            ContractNumber  S<...>100000 rows x 45 columns]\n",
      "df_Tranche2                DataFrame    <object with id 3079650631008 (str() failed)>\n"
     ]
    }
   ],
   "source": [
    "%whos DataFrame"
   ]
  },
  {
   "cell_type": "code",
   "execution_count": 10,
   "id": "147c7372",
   "metadata": {},
   "outputs": [],
   "source": [
    "del df_Tranche1\n",
    "del df_Tranche2"
   ]
  }
 ],
 "metadata": {
  "kernelspec": {
   "display_name": "Python 3 (ipykernel)",
   "language": "python",
   "name": "python3"
  },
  "language_info": {
   "codemirror_mode": {
    "name": "ipython",
    "version": 3
   },
   "file_extension": ".py",
   "mimetype": "text/x-python",
   "name": "python",
   "nbconvert_exporter": "python",
   "pygments_lexer": "ipython3",
   "version": "3.8.8"
  }
 },
 "nbformat": 4,
 "nbformat_minor": 5
}
