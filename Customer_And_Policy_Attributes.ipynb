{
 "cells": [
  {
   "cell_type": "markdown",
   "id": "a4c7540b",
   "metadata": {},
   "source": [
    "Import the libraries needed"
   ]
  },
  {
   "cell_type": "code",
   "execution_count": 26,
   "id": "96b7fd46",
   "metadata": {},
   "outputs": [],
   "source": [
    "import pandas as pd\n",
    "#from pandas.compat import StringIO\n",
    "from pandas.tseries.offsets import DateOffset\n",
    "\n",
    "from datetime import datetime\n",
    "#ateparse = lambda x: datetime.strptime(x, '%Y-%m-%d')\n",
    "#dateparse = lambda x: datetime.strptime(x '%Y-%m-%d')\n",
    "\n",
    "import psutil\n",
    "\n",
    "\n",
    "\n",
    "\n",
    "import numpy as np\n",
    "import os\n",
    "import pyodbc\n",
    "pyodbc.drivers()\n",
    "\n",
    "import csv\n",
    "\n",
    "from sklearn.preprocessing import StandardScaler\n",
    "import seaborn as sns\n",
    "\n",
    "pd.options.display.max_rows = 1000\n",
    "\n",
    "# For the Yahoo Finance api\n",
    "from pandas_datareader import data as pdr\n",
    "import yfinance as yf\n",
    "yf.pdr_override() \n"
   ]
  },
  {
   "cell_type": "markdown",
   "id": "a42969f9",
   "metadata": {},
   "source": [
    "### Database connections and SQL to retrieve the various data needed."
   ]
  },
  {
   "cell_type": "code",
   "execution_count": 27,
   "id": "b616bb0f",
   "metadata": {},
   "outputs": [
    {
     "name": "stdout",
     "output_type": "stream",
     "text": [
      "==========================\n",
      "2024-08-05 21:40:05.420354\n",
      "==========================\n",
      "svmem(total=16756752384, available=5083897856, percent=69.7, used=11672854528, free=5083897856)\n",
      "==========================\n"
     ]
    },
    {
     "data": {
      "text/plain": [
       "'C:\\\\Users\\\\m033\\\\OneDrive - GWLE\\\\Documents\\\\GitHub\\\\Data-Science-Thesis'"
      ]
     },
     "execution_count": 27,
     "metadata": {},
     "output_type": "execute_result"
    }
   ],
   "source": [
    "pd.set_option('max_row', None)\n",
    "#pd.options.display.max_rows = 1000\n",
    "\n",
    "# Set a value for the home folder.\n",
    "home_folder = \".\"\n",
    "\n",
    "# Set values for the various paths.\n",
    "input_path = home_folder + \"\\data\"\n",
    "\n",
    "print('==========================')\n",
    "now = datetime.now()\n",
    "print(now)\n",
    "print('==========================')\n",
    "print(psutil.virtual_memory())\n",
    "print('==========================')\n",
    "os.path.abspath(os.getcwd())"
   ]
  },
  {
   "cell_type": "markdown",
   "id": "45824292",
   "metadata": {},
   "source": [
    "# 1. Read back the population with switches data."
   ]
  },
  {
   "cell_type": "code",
   "execution_count": 28,
   "id": "3fb61f91",
   "metadata": {},
   "outputs": [
    {
     "name": "stdout",
     "output_type": "stream",
     "text": [
      "==========================\n",
      "2024-08-05 21:40:24.033063\n",
      "==========================\n",
      "svmem(total=16756752384, available=4345774080, percent=74.1, used=12410978304, free=4345774080)\n",
      "==========================\n",
      "ContractNumber            object\n",
      "ProdCat                   object\n",
      "ProdCode                  object\n",
      "PolicyStatus              object\n",
      "CoverEndDt        datetime64[ns]\n",
      "SnapshotDt        datetime64[ns]\n",
      "Switch_Flag                int32\n",
      "dtype: object\n"
     ]
    }
   ],
   "source": [
    "# Read back the comma separated values file.\n",
    "\n",
    "# giving directory name\n",
    "filename = input_path + '\\Full_Population_With_Switch_Flags.csv'\n",
    "\n",
    "#import CSV file and specify dtype of each column\n",
    "# https://www.statology.org/pandas-read-csv-dtype/\n",
    "df_Horizon = pd.read_csv(filename,dtype = {'ContractNumber': str,'ProdCat': str,'ProdCode': str,'PolicyStatus': str,'Switch_Flag': int})\n",
    "# Set all dates to proper dates\n",
    "df_Horizon['SnapshotDt'] = pd.to_datetime(df_Horizon['SnapshotDt'])\n",
    "df_Horizon['CoverEndDt'] = pd.to_datetime(df_Horizon['CoverEndDt'])\n",
    "\n",
    "print('==========================')\n",
    "now = datetime.now()\n",
    "print(now)\n",
    "print('==========================')\n",
    "print(psutil.virtual_memory())\n",
    "print('==========================')\n",
    "\n",
    "print(df_Horizon.dtypes)\n",
    "#df_Horizon.head(5)"
   ]
  },
  {
   "cell_type": "markdown",
   "id": "b0328df7",
   "metadata": {},
   "source": [
    "# 2. Get supplementary policy features. \n",
    "\n",
    "  -  Add policy level features.\n",
    "  -  Tax\n",
    "  -  Asset related features\n",
    "  -  Indexation and premium.\n",
    "  -  Broker and Commission \n",
    "  -  Client data\n",
    "  -  customer Market segmentation\n"
   ]
  },
  {
   "cell_type": "markdown",
   "id": "32d1c469",
   "metadata": {},
   "source": [
    "## 2.1 Tax, Fee and Risk features.\n",
    "### All tax and Fee features wre analysed and only one Risk feature remains."
   ]
  },
  {
   "cell_type": "code",
   "execution_count": 29,
   "id": "a511315d",
   "metadata": {},
   "outputs": [
    {
     "name": "stdout",
     "output_type": "stream",
     "text": [
      "==========================\n",
      "2024-08-05 21:40:24.237069\n",
      "==========================\n",
      "svmem(total=16756752384, available=4325740544, percent=74.2, used=12431011840, free=4325740544)\n",
      "==========================\n",
      "ContractNumber          object\n",
      "Policy_Fee_Type_Desc    object\n",
      "dtype: object\n"
     ]
    }
   ],
   "source": [
    "# Read back the comma separated values file.\n",
    "\n",
    "# giving directory name\n",
    "filename = input_path + '\\Tax_Fee_Risk_data.csv'\n",
    "\n",
    "#df_Tax_Fee_Risk_data = pd.read_csv(filename, delimiter=',',low_memory=False, header=0)\n",
    "df_Tax_Fee_Risk_data = pd.read_csv(filename,dtype = {'ContractNumber': str,'Policy_Fee_Type_Desc': str})\n",
    "# Set all dates to proper dates\n",
    "\n",
    "\n",
    "print('==========================')\n",
    "now = datetime.now()\n",
    "print(now)\n",
    "print('==========================')\n",
    "print(psutil.virtual_memory())\n",
    "print('==========================')\n",
    "\n",
    "print(df_Tax_Fee_Risk_data.dtypes)\n",
    "\n",
    "# No displays to protect PII data\n",
    "#df_Tax_Fee_Risk_data.head(5)"
   ]
  },
  {
   "cell_type": "markdown",
   "id": "070f4f53",
   "metadata": {},
   "source": [
    "## Merge in the Tax, Fee and risk data."
   ]
  },
  {
   "cell_type": "code",
   "execution_count": 30,
   "id": "1a35c61b",
   "metadata": {},
   "outputs": [
    {
     "name": "stdout",
     "output_type": "stream",
     "text": [
      "==========================\n",
      "2024-08-05 21:40:30.242629\n",
      "==========================\n",
      "svmem(total=16756752384, available=4172902400, percent=75.1, used=12583849984, free=4172902400)\n",
      "==========================\n"
     ]
    },
    {
     "data": {
      "text/plain": [
       "['df_Horizon_All_Features']"
      ]
     },
     "execution_count": 30,
     "metadata": {},
     "output_type": "execute_result"
    }
   ],
   "source": [
    "df_Horizon_All_Features = pd.merge(df_Horizon, df_Tax_Fee_Risk_data, left_on = ['ContractNumber'], right_on = ['ContractNumber'] , how = 'left')\n",
    "del df_Tax_Fee_Risk_data\n",
    "del df_Horizon\n",
    "\n",
    "print('==========================')\n",
    "now = datetime.now()\n",
    "print(now)\n",
    "print('==========================')\n",
    "print(psutil.virtual_memory())\n",
    "print('==========================')\n",
    "\n",
    "%who_ls DataFrame \n",
    "\n",
    "# No displays to protect PII data\n",
    "#df_Horizon_All_Features.head(5)"
   ]
  },
  {
   "cell_type": "markdown",
   "id": "1befcc8e",
   "metadata": {},
   "source": [
    "## 2.2 Asset features.\n",
    "### All asset features were analysed and only one feature remains."
   ]
  },
  {
   "cell_type": "code",
   "execution_count": 31,
   "id": "2870d6d7",
   "metadata": {},
   "outputs": [
    {
     "name": "stdout",
     "output_type": "stream",
     "text": [
      "==========================\n",
      "2024-08-05 21:40:30.419815\n",
      "==========================\n",
      "svmem(total=16756752384, available=4178350080, percent=75.1, used=12578402304, free=4178350080)\n",
      "==========================\n",
      "ContractNumber    object\n",
      "PricingVariant     int32\n",
      "dtype: object\n"
     ]
    }
   ],
   "source": [
    "# Read back the comma separated values file.\n",
    "\n",
    "# giving directory name\n",
    "filename = input_path + '\\Asset_data.csv'\n",
    "\n",
    "df_Asset = pd.read_csv(filename,dtype = {'ContractNumber': str,'PricingVariant': int})\n",
    "# Set all dates to proper dates\n",
    "\n",
    "print('==========================')\n",
    "now = datetime.now()\n",
    "print(now)\n",
    "print('==========================')\n",
    "print(psutil.virtual_memory())\n",
    "print('==========================')\n",
    "\n",
    "print(df_Asset.dtypes)\n",
    "\n",
    "# No displays to protect PII data\n",
    "#df_Asset.head(5)"
   ]
  },
  {
   "cell_type": "markdown",
   "id": "7d6bf9fc",
   "metadata": {},
   "source": [
    "## Merge in the asset data."
   ]
  },
  {
   "cell_type": "code",
   "execution_count": 32,
   "id": "c659970f",
   "metadata": {},
   "outputs": [
    {
     "name": "stdout",
     "output_type": "stream",
     "text": [
      "==========================\n",
      "2024-08-05 21:40:37.059749\n",
      "==========================\n",
      "svmem(total=16756752384, available=3670003712, percent=78.1, used=13086748672, free=3670003712)\n",
      "==========================\n",
      "ContractNumber            object\n",
      "ProdCat                   object\n",
      "ProdCode                  object\n",
      "PolicyStatus              object\n",
      "CoverEndDt        datetime64[ns]\n",
      "SnapshotDt        datetime64[ns]\n",
      "Switch_Flag                int32\n",
      "PolicyFeeType             object\n",
      "PricingVariant           float64\n",
      "dtype: object\n"
     ]
    },
    {
     "data": {
      "text/plain": [
       "['df_Horizon_All_Features']"
      ]
     },
     "execution_count": 32,
     "metadata": {},
     "output_type": "execute_result"
    }
   ],
   "source": [
    "df_Horizon_All_Features = pd.merge(df_Horizon_All_Features, df_Asset, left_on = ['ContractNumber'], right_on = ['ContractNumber'] , how = 'left')\n",
    "\n",
    "df_Horizon_All_Features = df_Horizon_All_Features.rename(columns={'Policy_Fee_Type_Desc': 'PolicyFeeType'})\n",
    "\n",
    "del df_Asset\n",
    "\n",
    "print('==========================')\n",
    "now = datetime.now()\n",
    "print(now)\n",
    "print('==========================')\n",
    "print(psutil.virtual_memory())\n",
    "print('==========================')\n",
    "print(df_Horizon_All_Features.dtypes)\n",
    "\n",
    "%who_ls DataFrame \n",
    "\n",
    "# No displays to protect PII data\n",
    "#df_Horizon_All_Features.head(5)"
   ]
  },
  {
   "cell_type": "markdown",
   "id": "e5f1096d",
   "metadata": {},
   "source": [
    "## 2.3 Indexation and premium features.\n",
    "### All Indexation and premium features were analysed and??? only one feature remains."
   ]
  },
  {
   "cell_type": "code",
   "execution_count": 33,
   "id": "acf89b55",
   "metadata": {},
   "outputs": [
    {
     "name": "stdout",
     "output_type": "stream",
     "text": [
      "==========================\n",
      "2024-08-05 21:40:38.029437\n",
      "==========================\n",
      "svmem(total=16756752384, available=3672526848, percent=78.1, used=13084225536, free=3672526848)\n",
      "==========================\n",
      "Contract_Number              object\n",
      "PayFreq                       int32\n",
      "AnniversaryDt        datetime64[ns]\n",
      "IndexationPercent             int64\n",
      "IndexationStartDt    datetime64[ns]\n",
      "PremHolStartDt       datetime64[ns]\n",
      "PremHolEndDt         datetime64[ns]\n",
      "Premium                     float64\n",
      "PremiumCalcMethod            object\n",
      "dtype: object\n"
     ]
    }
   ],
   "source": [
    "# Read back the comma separated values file.\n",
    "\n",
    "# giving directory name\n",
    "filename = input_path + '\\Premium_data.csv'\n",
    "\n",
    "df_premium = pd.read_csv(filename,dtype = {'ContractNumber': str,\n",
    "                                           'PayFreq': int},low_memory=False, header=0)\n",
    "# Set all dates to proper dates\n",
    "df_premium['AnniversaryDt'] = pd.to_datetime(df_premium['AnniversaryDt'])\n",
    "df_premium['IndexationStartDt'] = pd.to_datetime(df_premium['IndexationStartDt'])\n",
    "df_premium['PremHolStartDt'] = pd.to_datetime(df_premium['PremHolStartDt'])\n",
    "df_premium['PremHolEndDt'] = pd.to_datetime(df_premium['PremHolEndDt'])\n",
    "\n",
    "\n",
    "print('==========================')\n",
    "now = datetime.now()\n",
    "print(now)\n",
    "print('==========================')\n",
    "print(psutil.virtual_memory())\n",
    "print('==========================')\n",
    "\n",
    "print(df_premium.dtypes)\n",
    "\n",
    "# No displays to protect PII data\n",
    "#df_premium.head(5)"
   ]
  },
  {
   "cell_type": "markdown",
   "id": "15f791f3",
   "metadata": {},
   "source": [
    "## Merge in the Premium and Indexation data."
   ]
  },
  {
   "cell_type": "code",
   "execution_count": 34,
   "id": "f54494a8",
   "metadata": {},
   "outputs": [
    {
     "name": "stdout",
     "output_type": "stream",
     "text": [
      "==========================\n",
      "2024-08-05 21:41:04.878613\n",
      "==========================\n",
      "svmem(total=16756752384, available=3373772800, percent=79.9, used=13382979584, free=3373772800)\n",
      "==========================\n",
      "ContractNumber               object\n",
      "ProdCat                      object\n",
      "ProdCode                     object\n",
      "PolicyStatus                 object\n",
      "CoverEndDt           datetime64[ns]\n",
      "SnapshotDt           datetime64[ns]\n",
      "Switch_Flag                   int32\n",
      "PolicyFeeType                object\n",
      "PricingVariant              float64\n",
      "PayFreq                       int32\n",
      "AnniversaryDt        datetime64[ns]\n",
      "IndexationPercent             int64\n",
      "IndexationStartDt    datetime64[ns]\n",
      "PremHolStartDt       datetime64[ns]\n",
      "PremHolEndDt         datetime64[ns]\n",
      "Premium                     float64\n",
      "PremiumCalcMethod            object\n",
      "dtype: object\n"
     ]
    },
    {
     "data": {
      "text/plain": [
       "['df_Horizon_All_Features']"
      ]
     },
     "execution_count": 34,
     "metadata": {},
     "output_type": "execute_result"
    }
   ],
   "source": [
    "df_premium = df_premium.rename(columns={'Contract_Number': 'ContractNumber'})\n",
    "\n",
    "df_Horizon_All_Features = pd.merge(df_Horizon_All_Features, df_premium, left_on = ['ContractNumber'], right_on = ['ContractNumber'] , how = 'left')\n",
    "\n",
    "del df_premium\n",
    "\n",
    "print('==========================')\n",
    "now = datetime.now()\n",
    "print(now)\n",
    "print('==========================')\n",
    "print(psutil.virtual_memory())\n",
    "print('==========================')\n",
    "print(df_Horizon_All_Features.dtypes)\n",
    "\n",
    "%who_ls DataFrame \n",
    "\n",
    "\n",
    "# No displays to protect PII data\n",
    "#df_Horizon_All_Features.head(5)"
   ]
  },
  {
   "cell_type": "markdown",
   "id": "4499fedc",
   "metadata": {},
   "source": [
    "## 2.4  Broker and Commission.\n",
    "### All features were analysed and all remains."
   ]
  },
  {
   "cell_type": "code",
   "execution_count": 35,
   "id": "fd4ec6f7",
   "metadata": {},
   "outputs": [
    {
     "name": "stdout",
     "output_type": "stream",
     "text": [
      "==========================\n",
      "2024-08-05 21:41:05.147700\n",
      "==========================\n",
      "svmem(total=16756752384, available=3366658048, percent=79.9, used=13390094336, free=3366658048)\n",
      "==========================\n",
      "ContractNumber      object\n",
      "ServicingBroker     object\n",
      "InitialBroker       object\n",
      "BrokerCategory      object\n",
      "InitialRate        float64\n",
      "RenewalRate        float64\n",
      "dtype: object\n"
     ]
    }
   ],
   "source": [
    "# Read back the comma separated values file.\n",
    "\n",
    "# giving directory name\n",
    "filename = input_path + '\\Broker_and_Commission_data.csv'\n",
    "\n",
    "df_Broker_and_Comm = pd.read_csv(filename,dtype = {'ContractNumber': str,\n",
    "                                                   'ServicingBroker': str,\n",
    "                                                   'InitialBroker': str,\n",
    "                                                   'BrokerCategory': str},low_memory=False, header=0)\n",
    "\n",
    "print('==========================')\n",
    "now = datetime.now()\n",
    "print(now)\n",
    "print('==========================')\n",
    "print(psutil.virtual_memory())\n",
    "print('==========================')\n",
    "\n",
    "print(df_Broker_and_Comm.dtypes)\n",
    "\n",
    "# No displays to protect PII data\n",
    "#df_Broker_and_Comm.head(5)"
   ]
  },
  {
   "cell_type": "markdown",
   "id": "c58fa443",
   "metadata": {},
   "source": [
    "## Merge in the Broker and Commission data."
   ]
  },
  {
   "cell_type": "code",
   "execution_count": 36,
   "id": "55488e1e",
   "metadata": {},
   "outputs": [
    {
     "name": "stdout",
     "output_type": "stream",
     "text": [
      "==========================\n",
      "2024-08-05 21:41:16.032901\n",
      "==========================\n",
      "svmem(total=16756752384, available=3116773376, percent=81.4, used=13639979008, free=3116773376)\n",
      "==========================\n",
      "ContractNumber               object\n",
      "ProdCat                      object\n",
      "ProdCode                     object\n",
      "PolicyStatus                 object\n",
      "CoverEndDt           datetime64[ns]\n",
      "SnapshotDt           datetime64[ns]\n",
      "Switch_Flag                   int32\n",
      "PolicyFeeType                object\n",
      "PricingVariant              float64\n",
      "PayFreq                       int32\n",
      "AnniversaryDt        datetime64[ns]\n",
      "IndexationPercent             int64\n",
      "IndexationStartDt    datetime64[ns]\n",
      "PremHolStartDt       datetime64[ns]\n",
      "PremHolEndDt         datetime64[ns]\n",
      "Premium                     float64\n",
      "PremiumCalcMethod            object\n",
      "ServicingBroker              object\n",
      "InitialBroker                object\n",
      "BrokerCategory               object\n",
      "InitialRate                 float64\n",
      "RenewalRate                 float64\n",
      "dtype: object\n"
     ]
    }
   ],
   "source": [
    "df_Horizon_All_Features = pd.merge(df_Horizon_All_Features, df_Broker_and_Comm, left_on = ['ContractNumber'], right_on = ['ContractNumber'] , how = 'left')\n",
    "\n",
    "del df_Broker_and_Comm\n",
    "\n",
    "print('==========================')\n",
    "now = datetime.now()\n",
    "print(now)\n",
    "print('==========================')\n",
    "print(psutil.virtual_memory())\n",
    "print('==========================')\n",
    "print(df_Horizon_All_Features.dtypes)\n",
    "\n",
    "\n",
    "# No displays to protect PII data\n",
    "#df_Horizon_All_Features.head(5)"
   ]
  },
  {
   "cell_type": "code",
   "execution_count": 37,
   "id": "63b2af34",
   "metadata": {},
   "outputs": [
    {
     "data": {
      "text/plain": [
       "['df_Horizon_All_Features']"
      ]
     },
     "execution_count": 37,
     "metadata": {},
     "output_type": "execute_result"
    }
   ],
   "source": [
    "%who_ls DataFrame "
   ]
  },
  {
   "cell_type": "markdown",
   "id": "c36731f1",
   "metadata": {},
   "source": [
    "## 2.5 Client data\n",
    "### All features were analysed and most remains."
   ]
  },
  {
   "cell_type": "code",
   "execution_count": 38,
   "id": "9eb0a436",
   "metadata": {},
   "outputs": [
    {
     "name": "stdout",
     "output_type": "stream",
     "text": [
      "==========================\n",
      "2024-08-05 21:41:17.959782\n",
      "==========================\n",
      "svmem(total=16756752384, available=3089080320, percent=81.6, used=13667672064, free=3089080320)\n",
      "==========================\n",
      "Policy_Number                    object\n",
      "RiskCommDt               datetime64[ns]\n",
      "VIPType                          object\n",
      "Nationality                      object\n",
      "IsSmoker                           bool\n",
      "PoliticallyExposed               object\n",
      "BirthPlace                       object\n",
      "Gender                           object\n",
      "MaritalStatus                    object\n",
      "PensionDisability                 int64\n",
      "WOPDisability                     int64\n",
      "AddressCity                      object\n",
      "DOB                      datetime64[ns]\n",
      "PartnerType                      object\n",
      "EUSanctioned                       bool\n",
      "AddressDistrict                  object\n",
      "Postal_Code                       int32\n",
      "Postal_Code_Name                 object\n",
      "District                         object\n",
      "State                            object\n",
      "VN_MILIEU_CODE                   object\n",
      "VN_TARGET_GROUP_CODE             object\n",
      "VN_MILIEU_DESCRIPTION            object\n",
      "VP_MILIEU_DESCRIPTION            object\n",
      "dtype: object\n"
     ]
    }
   ],
   "source": [
    "# Read back the comma separated values file.\n",
    "\n",
    "# giving directory name\n",
    "filename = input_path + '\\Client_data.csv'\n",
    "\n",
    "\n",
    "df_Client = pd.read_csv(filename,dtype = {'Policy_Number': str,\n",
    "                                          'VIPType': str,\n",
    "                                          'Nationality': str,\n",
    "                                          'IsSmoker': bool,\n",
    "                                          'PoliticallyExposed': str,\n",
    "                                          'BirthPlace': str,\n",
    "                                          'Gender': str,\n",
    "                                          'MaritalStatus': str,\n",
    "                                          'AddressCity': str,\n",
    "                                          'PartnerType': str,\n",
    "                                          'EUSanctioned': bool,\n",
    "                                          'AddressDistrict': str,\n",
    "                                          'Postal_Code_Name': str,\n",
    "                                          'District': str,\n",
    "                                          'State': str,\n",
    "                                          'VN_MILIEU_CODE': str,\n",
    "                                          'VN_TARGET_GROUP_CODE': str,\n",
    "                                          'VN_MILIEU_DESCRIPTION': str,\n",
    "                                          'VP_MILIEU_DESCRIPTION': str},low_memory=False, header=0)\n",
    "# Set all dates to proper dates\n",
    "df_Client['RiskCommDt'] = pd.to_datetime(df_Client['RiskCommDt'])\n",
    "df_Client['DOB'] = pd.to_datetime(df_Client['DOB'])\n",
    "df_Client['Postal_Code'] = df_Client['Postal_Code'].fillna(0).astype(int)\n",
    "\n",
    "print('==========================')\n",
    "now = datetime.now()\n",
    "print(now)\n",
    "print('==========================')\n",
    "print(psutil.virtual_memory())\n",
    "print('==========================')\n",
    "\n",
    "print(df_Client.dtypes)\n",
    "\n",
    "# No displays to protect PII data\n",
    "#df_Client.head(5)"
   ]
  },
  {
   "cell_type": "markdown",
   "id": "ff63a8ca",
   "metadata": {},
   "source": [
    "## Merge in the Client and address features as well as the Sinus Milieus and postcode features."
   ]
  },
  {
   "cell_type": "code",
   "execution_count": 39,
   "id": "70d78e76",
   "metadata": {},
   "outputs": [
    {
     "name": "stdout",
     "output_type": "stream",
     "text": [
      "==========================\n",
      "2024-08-05 21:41:49.496052\n",
      "==========================\n",
      "svmem(total=16756752384, available=2774573056, percent=83.4, used=13982179328, free=2774573056)\n",
      "==========================\n",
      "ContractNumber                   object\n",
      "ProdCat                          object\n",
      "ProdCode                         object\n",
      "PolicyStatus                     object\n",
      "CoverEndDt               datetime64[ns]\n",
      "SnapshotDt               datetime64[ns]\n",
      "Switch_Flag                       int32\n",
      "PolicyFeeType                    object\n",
      "PricingVariant                  float64\n",
      "PayFreq                           int32\n",
      "AnniversaryDt            datetime64[ns]\n",
      "IndexationPercent                 int64\n",
      "IndexationStartDt        datetime64[ns]\n",
      "PremHolStartDt           datetime64[ns]\n",
      "PremHolEndDt             datetime64[ns]\n",
      "Premium                         float64\n",
      "PremiumCalcMethod                object\n",
      "ServicingBroker                  object\n",
      "InitialBroker                    object\n",
      "BrokerCategory                   object\n",
      "InitialRate                     float64\n",
      "RenewalRate                     float64\n",
      "RiskCommDt               datetime64[ns]\n",
      "VIPType                          object\n",
      "Nationality                      object\n",
      "IsSmoker                         object\n",
      "PoliticallyExposed               object\n",
      "BirthPlace                       object\n",
      "Gender                           object\n",
      "MaritalStatus                    object\n",
      "PensionDisability               float64\n",
      "WOPDisability                   float64\n",
      "AddressCity                      object\n",
      "DOB                      datetime64[ns]\n",
      "PartnerType                      object\n",
      "EUSanctioned                     object\n",
      "AddressDistrict                  object\n",
      "Postal_Code                     float64\n",
      "Postal_Code_Name                 object\n",
      "District                         object\n",
      "State                            object\n",
      "VN_MILIEU_CODE                   object\n",
      "VN_TARGET_GROUP_CODE             object\n",
      "VN_MILIEU_DESCRIPTION            object\n",
      "VP_MILIEU_DESCRIPTION            object\n",
      "dtype: object\n"
     ]
    }
   ],
   "source": [
    "df_Client = df_Client.rename(columns={'Policy_Number': 'ContractNumber'})\n",
    "\n",
    "df_Horizon_All_Features = pd.merge(df_Horizon_All_Features, df_Client, left_on = ['ContractNumber'], right_on = ['ContractNumber'] , how = 'left')\n",
    "\n",
    "del df_Client\n",
    "\n",
    "print('==========================')\n",
    "now = datetime.now()\n",
    "print(now)\n",
    "print('==========================')\n",
    "print(psutil.virtual_memory())\n",
    "print('==========================')\n",
    "print(df_Horizon_All_Features.dtypes)\n",
    "\n",
    "\n",
    "# No displays to protect PII data\n",
    "#df_Horizon_All_Features.head(5)"
   ]
  },
  {
   "cell_type": "markdown",
   "id": "4514e2df",
   "metadata": {},
   "source": [
    "## Create the age and term columns."
   ]
  },
  {
   "cell_type": "code",
   "execution_count": 40,
   "id": "b846d26f",
   "metadata": {},
   "outputs": [
    {
     "name": "stdout",
     "output_type": "stream",
     "text": [
      "ContractNumber                   object\n",
      "ProdCat                          object\n",
      "ProdCode                         object\n",
      "PolicyStatus                     object\n",
      "CoverEndDt               datetime64[ns]\n",
      "SnapshotDt               datetime64[ns]\n",
      "Switch_Flag                       int32\n",
      "PolicyFeeType                    object\n",
      "PricingVariant                  float64\n",
      "PayFreq                           int32\n",
      "AnniversaryDt            datetime64[ns]\n",
      "IndexationPercent                 int64\n",
      "IndexationStartDt        datetime64[ns]\n",
      "PremHolStartDt           datetime64[ns]\n",
      "PremHolEndDt             datetime64[ns]\n",
      "Premium                         float64\n",
      "PremiumCalcMethod                object\n",
      "ServicingBroker                  object\n",
      "InitialBroker                    object\n",
      "BrokerCategory                   object\n",
      "InitialRate                     float64\n",
      "RenewalRate                     float64\n",
      "RiskCommDt               datetime64[ns]\n",
      "VIPType                          object\n",
      "Nationality                      object\n",
      "IsSmoker                         object\n",
      "PoliticallyExposed               object\n",
      "BirthPlace                       object\n",
      "Gender                           object\n",
      "MaritalStatus                    object\n",
      "PensionDisability               float64\n",
      "WOPDisability                   float64\n",
      "AddressCity                      object\n",
      "DOB                      datetime64[ns]\n",
      "PartnerType                      object\n",
      "EUSanctioned                     object\n",
      "AddressDistrict                  object\n",
      "Postal_Code                     float64\n",
      "Postal_Code_Name                 object\n",
      "District                         object\n",
      "State                            object\n",
      "VN_MILIEU_CODE                   object\n",
      "VN_TARGET_GROUP_CODE             object\n",
      "VN_MILIEU_DESCRIPTION            object\n",
      "VP_MILIEU_DESCRIPTION            object\n",
      "Term                            float64\n",
      "Term_Passed                     float64\n",
      "Term_Remaining                  float64\n",
      "TermRemainingLTEQ_5              object\n",
      "TermRemainingLTEQ_10             object\n",
      "Age                             float64\n",
      "AnniversaryMth                  float64\n",
      "dtype: object\n"
     ]
    }
   ],
   "source": [
    "# Set all dates to proper dates\n",
    "#df_Horizon_All_Features['CoverEndDt'] = pd.to_datetime(df_Horizon_All_Features['CoverEndDt'])\n",
    "#df_Horizon_All_Features['SnapshotDt'] = pd.to_datetime(df_Horizon_All_Features['SnapshotDt'])\n",
    "#df_Horizon_All_Features['RiskCommDt'] = pd.to_datetime(df_Horizon_All_Features['RiskCommDt'])\n",
    "#df_Horizon_All_Features['AnniversaryDt'] = pd.to_datetime(df_Horizon_All_Features['AnniversaryDt'])\n",
    "#df_Horizon_All_Features['DOB'] = pd.to_datetime(df_Horizon_All_Features['DOB'])\n",
    "\n",
    "# Calculate the term columns\n",
    "df_Horizon_All_Features['Term'] = ((df_Horizon_All_Features.CoverEndDt - df_Horizon_All_Features.RiskCommDt)/np.timedelta64(1, 'Y')).apply(lambda x: round(x, 1))\n",
    "df_Horizon_All_Features['Term_Passed'] = ((df_Horizon_All_Features.SnapshotDt - df_Horizon_All_Features.RiskCommDt)/np.timedelta64(1, 'Y')).apply(lambda x: round(x, 1))\n",
    "df_Horizon_All_Features['Term_Remaining'] = ((df_Horizon_All_Features.CoverEndDt - df_Horizon_All_Features.SnapshotDt)/np.timedelta64(1, 'Y')).apply(lambda x: round(x, 1))\n",
    "\n",
    "# Set a flag for policies with less or equal to 5 and less than or equal to 10 years term remaining.\n",
    "df_Horizon_All_Features['TermRemainingLTEQ_5'] = '0'\n",
    "df_Horizon_All_Features['TermRemainingLTEQ_10'] = '0'\n",
    "df_Horizon_All_Features.loc[df_Horizon_All_Features['Term_Remaining'] <= 5, 'TermRemainingLTEQ_5'] = '1'\n",
    "df_Horizon_All_Features.loc[df_Horizon_All_Features['Term_Remaining'] <= 10, 'TermRemainingLTEQ_10'] = '1'\n",
    "\n",
    "# Calculate teh age at each snapshot\n",
    "df_Horizon_All_Features['Age'] = ((df_Horizon_All_Features.SnapshotDt - df_Horizon_All_Features.DOB)/np.timedelta64(1, 'Y'))\n",
    "\n",
    "# Calculate the anniversary month\n",
    "df_Horizon_All_Features['AnniversaryMth'] = df_Horizon_All_Features['AnniversaryDt'].dt.month\n",
    "\n",
    "print(df_Horizon_All_Features.dtypes)\n",
    "\n",
    "# No displays to protect PII data\n",
    "#df_Horizon_All_Features.head(5)"
   ]
  },
  {
   "cell_type": "markdown",
   "id": "06804eab",
   "metadata": {},
   "source": [
    "## Drop all non predictive features and write to a csv file."
   ]
  },
  {
   "cell_type": "code",
   "execution_count": 41,
   "id": "4635a933",
   "metadata": {},
   "outputs": [
    {
     "name": "stdout",
     "output_type": "stream",
     "text": [
      "ContractNumber                   object\n",
      "ProdCat                          object\n",
      "ProdCode                         object\n",
      "PolicyStatus                     object\n",
      "SnapshotDt               datetime64[ns]\n",
      "Switch_Flag                       int32\n",
      "PolicyFeeType                    object\n",
      "PricingVariant                  float64\n",
      "PayFreq                           int32\n",
      "IndexationPercent                 int64\n",
      "Premium                         float64\n",
      "PremiumCalcMethod                object\n",
      "ServicingBroker                  object\n",
      "InitialBroker                    object\n",
      "BrokerCategory                   object\n",
      "InitialRate                     float64\n",
      "RenewalRate                     float64\n",
      "VIPType                          object\n",
      "Nationality                      object\n",
      "IsSmoker                         object\n",
      "PoliticallyExposed               object\n",
      "BirthPlace                       object\n",
      "Gender                           object\n",
      "MaritalStatus                    object\n",
      "PensionDisability               float64\n",
      "WOPDisability                   float64\n",
      "AddressCity                      object\n",
      "PartnerType                      object\n",
      "EUSanctioned                     object\n",
      "AddressDistrict                  object\n",
      "Postal_Code                     float64\n",
      "Postal_Code_Name                 object\n",
      "District                         object\n",
      "State                            object\n",
      "VN_MILIEU_CODE                   object\n",
      "VN_TARGET_GROUP_CODE             object\n",
      "VN_MILIEU_DESCRIPTION            object\n",
      "VP_MILIEU_DESCRIPTION            object\n",
      "Term                            float64\n",
      "Term_Passed                     float64\n",
      "Term_Remaining                  float64\n",
      "TermRemainingLTEQ_5              object\n",
      "TermRemainingLTEQ_10             object\n",
      "Age                             float64\n",
      "AnniversaryMth                  float64\n",
      "dtype: object\n"
     ]
    }
   ],
   "source": [
    "# Delete obsolete or PII columns\n",
    "df_Horizon_All_Features = df_Horizon_All_Features.drop(['CoverEndDt','AnniversaryDt','PremHolStartDt','PremHolEndDt','IndexationStartDt','RiskCommDt','DOB'],axis=1)\n",
    "\n",
    "print(df_Horizon_All_Features.dtypes)"
   ]
  },
  {
   "cell_type": "code",
   "execution_count": 42,
   "id": "c2f90026",
   "metadata": {
    "scrolled": true
   },
   "outputs": [
    {
     "data": {
      "text/plain": [
       "ContractNumber           False\n",
       "ProdCat                  False\n",
       "ProdCode                 False\n",
       "PolicyStatus             False\n",
       "SnapshotDt               False\n",
       "Switch_Flag              False\n",
       "PolicyFeeType            False\n",
       "PricingVariant            True\n",
       "PayFreq                  False\n",
       "IndexationPercent        False\n",
       "Premium                  False\n",
       "PremiumCalcMethod        False\n",
       "ServicingBroker           True\n",
       "InitialBroker             True\n",
       "BrokerCategory            True\n",
       "InitialRate               True\n",
       "RenewalRate               True\n",
       "VIPType                   True\n",
       "Nationality               True\n",
       "IsSmoker                  True\n",
       "PoliticallyExposed        True\n",
       "BirthPlace                True\n",
       "Gender                    True\n",
       "MaritalStatus             True\n",
       "PensionDisability         True\n",
       "WOPDisability             True\n",
       "AddressCity               True\n",
       "PartnerType               True\n",
       "EUSanctioned              True\n",
       "AddressDistrict           True\n",
       "Postal_Code               True\n",
       "Postal_Code_Name          True\n",
       "District                  True\n",
       "State                     True\n",
       "VN_MILIEU_CODE            True\n",
       "VN_TARGET_GROUP_CODE      True\n",
       "VN_MILIEU_DESCRIPTION     True\n",
       "VP_MILIEU_DESCRIPTION     True\n",
       "Term                      True\n",
       "Term_Passed               True\n",
       "Term_Remaining            True\n",
       "TermRemainingLTEQ_5      False\n",
       "TermRemainingLTEQ_10     False\n",
       "Age                       True\n",
       "AnniversaryMth            True\n",
       "dtype: bool"
      ]
     },
     "execution_count": 42,
     "metadata": {},
     "output_type": "execute_result"
    }
   ],
   "source": [
    "df_Horizon_All_Features.isna().any()"
   ]
  },
  {
   "cell_type": "code",
   "execution_count": 43,
   "id": "39972bdc",
   "metadata": {},
   "outputs": [
    {
     "data": {
      "text/plain": [
       "ContractNumber           False\n",
       "ProdCat                  False\n",
       "ProdCode                 False\n",
       "PolicyStatus             False\n",
       "SnapshotDt               False\n",
       "Switch_Flag              False\n",
       "PolicyFeeType            False\n",
       "PricingVariant            True\n",
       "PayFreq                  False\n",
       "IndexationPercent        False\n",
       "Premium                  False\n",
       "PremiumCalcMethod        False\n",
       "ServicingBroker           True\n",
       "InitialBroker             True\n",
       "BrokerCategory            True\n",
       "InitialRate               True\n",
       "RenewalRate               True\n",
       "VIPType                   True\n",
       "Nationality               True\n",
       "IsSmoker                  True\n",
       "PoliticallyExposed        True\n",
       "BirthPlace                True\n",
       "Gender                    True\n",
       "MaritalStatus             True\n",
       "PensionDisability         True\n",
       "WOPDisability             True\n",
       "AddressCity               True\n",
       "PartnerType               True\n",
       "EUSanctioned              True\n",
       "AddressDistrict           True\n",
       "Postal_Code               True\n",
       "Postal_Code_Name          True\n",
       "District                  True\n",
       "State                     True\n",
       "VN_MILIEU_CODE            True\n",
       "VN_TARGET_GROUP_CODE      True\n",
       "VN_MILIEU_DESCRIPTION     True\n",
       "VP_MILIEU_DESCRIPTION     True\n",
       "Term                      True\n",
       "Term_Passed               True\n",
       "Term_Remaining            True\n",
       "TermRemainingLTEQ_5      False\n",
       "TermRemainingLTEQ_10     False\n",
       "Age                       True\n",
       "AnniversaryMth            True\n",
       "dtype: bool"
      ]
     },
     "execution_count": 43,
     "metadata": {},
     "output_type": "execute_result"
    }
   ],
   "source": [
    "df_Horizon_All_Features.isna().any()"
   ]
  },
  {
   "cell_type": "code",
   "execution_count": 44,
   "id": "60dba7f0",
   "metadata": {},
   "outputs": [
    {
     "data": {
      "text/plain": [
       "ContractNumber           False\n",
       "ProdCat                  False\n",
       "ProdCode                 False\n",
       "PolicyStatus             False\n",
       "SnapshotDt               False\n",
       "Switch_Flag              False\n",
       "PolicyFeeType            False\n",
       "PricingVariant           False\n",
       "PayFreq                  False\n",
       "IndexationPercent        False\n",
       "Premium                  False\n",
       "PremiumCalcMethod        False\n",
       "ServicingBroker          False\n",
       "InitialBroker            False\n",
       "BrokerCategory           False\n",
       "InitialRate              False\n",
       "RenewalRate              False\n",
       "VIPType                  False\n",
       "Nationality              False\n",
       "IsSmoker                 False\n",
       "PoliticallyExposed       False\n",
       "BirthPlace               False\n",
       "Gender                   False\n",
       "MaritalStatus            False\n",
       "PensionDisability        False\n",
       "WOPDisability            False\n",
       "AddressCity              False\n",
       "PartnerType              False\n",
       "EUSanctioned             False\n",
       "AddressDistrict          False\n",
       "Postal_Code              False\n",
       "Postal_Code_Name         False\n",
       "District                 False\n",
       "State                    False\n",
       "VN_MILIEU_CODE           False\n",
       "VN_TARGET_GROUP_CODE     False\n",
       "VN_MILIEU_DESCRIPTION    False\n",
       "VP_MILIEU_DESCRIPTION    False\n",
       "Term                     False\n",
       "Term_Passed              False\n",
       "Term_Remaining           False\n",
       "TermRemainingLTEQ_5      False\n",
       "TermRemainingLTEQ_10     False\n",
       "Age                      False\n",
       "AnniversaryMth           False\n",
       "dtype: bool"
      ]
     },
     "execution_count": 44,
     "metadata": {},
     "output_type": "execute_result"
    }
   ],
   "source": [
    "df_Horizon_All_Features['Postal_Code'] = df_Horizon_All_Features['Postal_Code'].fillna(0)\n",
    "df_Horizon_All_Features['PricingVariant'] = df_Horizon_All_Features['PricingVariant'].fillna(0)\n",
    "df_Horizon_All_Features['ServicingBroker'] = df_Horizon_All_Features['ServicingBroker'].fillna('')\n",
    "df_Horizon_All_Features['InitialBroker'] = df_Horizon_All_Features['InitialBroker'].fillna('')\n",
    "df_Horizon_All_Features['BrokerCategory'] = df_Horizon_All_Features['BrokerCategory'].fillna('')\n",
    "df_Horizon_All_Features['InitialRate'] = df_Horizon_All_Features['InitialRate'].fillna(0)\n",
    "df_Horizon_All_Features['RenewalRate'] = df_Horizon_All_Features['RenewalRate'].fillna(0)\n",
    "df_Horizon_All_Features['Term'] = df_Horizon_All_Features['Term'].fillna(0)\n",
    "df_Horizon_All_Features['Term_Passed'] = df_Horizon_All_Features['Term_Passed'].fillna(0)\n",
    "df_Horizon_All_Features['Term_Remaining'] = df_Horizon_All_Features['Term_Remaining'].fillna(0)\n",
    "df_Horizon_All_Features['PensionDisability'] = df_Horizon_All_Features['PensionDisability'].fillna(0)\n",
    "df_Horizon_All_Features['WOPDisability'] = df_Horizon_All_Features['WOPDisability'].fillna(0)\n",
    "df_Horizon_All_Features['VIPType'] = df_Horizon_All_Features['VIPType'].fillna('')\n",
    "df_Horizon_All_Features['Nationality'] = df_Horizon_All_Features['Nationality'].fillna('')\n",
    "df_Horizon_All_Features['IsSmoker'] = df_Horizon_All_Features['IsSmoker'].fillna(0)\n",
    "df_Horizon_All_Features['PoliticallyExposed'] = df_Horizon_All_Features['PoliticallyExposed'].fillna('')\n",
    "df_Horizon_All_Features['BirthPlace'] = df_Horizon_All_Features['BirthPlace'].fillna('')\n",
    "df_Horizon_All_Features['Gender'] = df_Horizon_All_Features['Gender'].fillna('')\n",
    "df_Horizon_All_Features['MaritalStatus'] = df_Horizon_All_Features['MaritalStatus'].fillna('')\n",
    "df_Horizon_All_Features['AddressCity'] = df_Horizon_All_Features['AddressCity'].fillna('')\n",
    "df_Horizon_All_Features['PartnerType'] = df_Horizon_All_Features['PartnerType'].fillna('')\n",
    "df_Horizon_All_Features['EUSanctioned'] = df_Horizon_All_Features['EUSanctioned'].fillna('')\n",
    "df_Horizon_All_Features['AddressDistrict'] = df_Horizon_All_Features['AddressDistrict'].fillna('')\n",
    "df_Horizon_All_Features['Postal_Code_Name'] = df_Horizon_All_Features['Postal_Code_Name'].fillna('')\n",
    "df_Horizon_All_Features['District'] = df_Horizon_All_Features['District'].fillna('')\n",
    "df_Horizon_All_Features['State'] = df_Horizon_All_Features['State'].fillna('')\n",
    "df_Horizon_All_Features['VN_MILIEU_CODE'] = df_Horizon_All_Features['VN_MILIEU_CODE'].fillna('')\n",
    "df_Horizon_All_Features['VN_TARGET_GROUP_CODE'] = df_Horizon_All_Features['VN_TARGET_GROUP_CODE'].fillna('')\n",
    "df_Horizon_All_Features['VN_MILIEU_DESCRIPTION'] = df_Horizon_All_Features['VN_MILIEU_DESCRIPTION'].fillna('')\n",
    "df_Horizon_All_Features['VP_MILIEU_DESCRIPTION'] = df_Horizon_All_Features['VP_MILIEU_DESCRIPTION'].fillna('')\n",
    "df_Horizon_All_Features['AnniversaryMth'] = df_Horizon_All_Features['AnniversaryMth'].fillna(0)\n",
    "df_Horizon_All_Features['Age'] = df_Horizon_All_Features['Age'].fillna(0)\n",
    "\n",
    "df_Horizon_All_Features.isna().any()"
   ]
  },
  {
   "cell_type": "code",
   "execution_count": 45,
   "id": "90f2a22e",
   "metadata": {},
   "outputs": [
    {
     "data": {
      "text/plain": [
       "ContractNumber           False\n",
       "ProdCat                  False\n",
       "ProdCode                 False\n",
       "PolicyStatus             False\n",
       "SnapshotDt               False\n",
       "Switch_Flag              False\n",
       "PolicyFeeType            False\n",
       "PricingVariant           False\n",
       "PayFreq                  False\n",
       "IndexationPercent        False\n",
       "Premium                  False\n",
       "PremiumCalcMethod        False\n",
       "ServicingBroker          False\n",
       "InitialBroker            False\n",
       "BrokerCategory           False\n",
       "InitialRate              False\n",
       "RenewalRate              False\n",
       "VIPType                  False\n",
       "Nationality              False\n",
       "IsSmoker                 False\n",
       "PoliticallyExposed       False\n",
       "BirthPlace               False\n",
       "Gender                   False\n",
       "MaritalStatus            False\n",
       "PensionDisability        False\n",
       "WOPDisability            False\n",
       "AddressCity              False\n",
       "PartnerType              False\n",
       "EUSanctioned             False\n",
       "AddressDistrict          False\n",
       "Postal_Code              False\n",
       "Postal_Code_Name         False\n",
       "District                 False\n",
       "State                    False\n",
       "VN_MILIEU_CODE           False\n",
       "VN_TARGET_GROUP_CODE     False\n",
       "VN_MILIEU_DESCRIPTION    False\n",
       "VP_MILIEU_DESCRIPTION    False\n",
       "Term                     False\n",
       "Term_Passed              False\n",
       "Term_Remaining           False\n",
       "TermRemainingLTEQ_5      False\n",
       "TermRemainingLTEQ_10     False\n",
       "Age                      False\n",
       "AnniversaryMth           False\n",
       "dtype: bool"
      ]
     },
     "execution_count": 45,
     "metadata": {},
     "output_type": "execute_result"
    }
   ],
   "source": [
    "df_Horizon_All_Features.isna().any()"
   ]
  },
  {
   "cell_type": "code",
   "execution_count": 46,
   "id": "be1ce075",
   "metadata": {},
   "outputs": [
    {
     "name": "stdout",
     "output_type": "stream",
     "text": [
      "ContractNumber                   object\n",
      "ProdCat                          object\n",
      "ProdCode                         object\n",
      "PolicyStatus                     object\n",
      "SnapshotDt               datetime64[ns]\n",
      "Switch_Flag                       int32\n",
      "PolicyFeeType                    object\n",
      "PricingVariant                  float64\n",
      "PayFreq                           int32\n",
      "IndexationPercent                 int64\n",
      "Premium                         float64\n",
      "PremiumCalcMethod                object\n",
      "ServicingBroker                  object\n",
      "InitialBroker                    object\n",
      "BrokerCategory                   object\n",
      "InitialRate                     float64\n",
      "RenewalRate                     float64\n",
      "VIPType                          object\n",
      "Nationality                      object\n",
      "IsSmoker                         object\n",
      "PoliticallyExposed               object\n",
      "BirthPlace                       object\n",
      "Gender                           object\n",
      "MaritalStatus                    object\n",
      "PensionDisability               float64\n",
      "WOPDisability                   float64\n",
      "AddressCity                      object\n",
      "PartnerType                      object\n",
      "EUSanctioned                     object\n",
      "AddressDistrict                  object\n",
      "Postal_Code                     float64\n",
      "Postal_Code_Name                 object\n",
      "District                         object\n",
      "State                            object\n",
      "VN_MILIEU_CODE                   object\n",
      "VN_TARGET_GROUP_CODE             object\n",
      "VN_MILIEU_DESCRIPTION            object\n",
      "VP_MILIEU_DESCRIPTION            object\n",
      "Term                            float64\n",
      "Term_Passed                     float64\n",
      "Term_Remaining                  float64\n",
      "TermRemainingLTEQ_5              object\n",
      "TermRemainingLTEQ_10             object\n",
      "Age                             float64\n",
      "AnniversaryMth                  float64\n",
      "dtype: object\n"
     ]
    }
   ],
   "source": [
    "# Write out to a comma separated values file.\n",
    "# giving directory name\n",
    "filename = input_path + '\\Full_Horizon_All_Features.csv'\n",
    "df_Horizon_All_Features.to_csv(filename, encoding='utf-8', index=False)\n",
    "\n",
    "print(df_Horizon_All_Features.dtypes)\n",
    "\n",
    "# No displays to protect PII data\n",
    "#df_Horizon_All_Features.head(10)"
   ]
  },
  {
   "cell_type": "markdown",
   "id": "0d33fa3e",
   "metadata": {},
   "source": [
    "# Clean up dataframes to release memory."
   ]
  },
  {
   "cell_type": "code",
   "execution_count": 47,
   "id": "752432d2",
   "metadata": {},
   "outputs": [
    {
     "data": {
      "text/plain": [
       "['df_Horizon_All_Features']"
      ]
     },
     "execution_count": 47,
     "metadata": {},
     "output_type": "execute_result"
    }
   ],
   "source": [
    "%who_ls DataFrame "
   ]
  },
  {
   "cell_type": "code",
   "execution_count": 48,
   "id": "429258dc",
   "metadata": {},
   "outputs": [
    {
     "name": "stdout",
     "output_type": "stream",
     "text": [
      "==========================\n",
      "2024-08-05 21:45:19.213205\n",
      "==========================\n",
      "svmem(total=16756752384, available=9296678912, percent=44.5, used=7460073472, free=9296678912)\n",
      "==========================\n"
     ]
    }
   ],
   "source": [
    "del df_Horizon_All_Features\n",
    "\n",
    "print('==========================')\n",
    "now = datetime.now()\n",
    "print(now)\n",
    "print('==========================')\n",
    "print(psutil.virtual_memory())\n",
    "print('==========================')\n"
   ]
  },
  {
   "cell_type": "code",
   "execution_count": null,
   "id": "1ba1d4e3",
   "metadata": {},
   "outputs": [],
   "source": []
  }
 ],
 "metadata": {
  "kernelspec": {
   "display_name": "Python 3 (ipykernel)",
   "language": "python",
   "name": "python3"
  },
  "language_info": {
   "codemirror_mode": {
    "name": "ipython",
    "version": 3
   },
   "file_extension": ".py",
   "mimetype": "text/x-python",
   "name": "python",
   "nbconvert_exporter": "python",
   "pygments_lexer": "ipython3",
   "version": "3.8.8"
  }
 },
 "nbformat": 4,
 "nbformat_minor": 5
}
