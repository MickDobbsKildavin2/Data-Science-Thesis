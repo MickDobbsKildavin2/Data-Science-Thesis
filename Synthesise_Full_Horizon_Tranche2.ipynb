{
 "cells": [
  {
   "cell_type": "code",
   "execution_count": 1,
   "id": "7ad32299",
   "metadata": {},
   "outputs": [
    {
     "name": "stderr",
     "output_type": "stream",
     "text": [
      "C:\\Users\\m033\\Anaconda3\\lib\\site-packages\\rdt\\transformers\\base.py:132: FutureWarning: Future versions of RDT will not support the 'model_missing_values' parameter. Please switch to using the 'missing_value_generation' parameter to select your strategy.\n",
      "  warnings.warn(\n",
      "C:\\Users\\m033\\Anaconda3\\lib\\site-packages\\requests\\__init__.py:109: RequestsDependencyWarning: urllib3 (1.26.16) or chardet (3.0.0)/charset_normalizer (2.0.4) doesn't match a supported version!\n",
      "  warnings.warn(\n"
     ]
    }
   ],
   "source": [
    "import pandas as pd\n",
    "from datetime import datetime\n",
    "import psutil\n",
    "import os\n",
    "import gc\n",
    "\n",
    "from sdv.datasets.local import load_csvs\n",
    "from sdv.metadata import SingleTableMetadata\n",
    "from sdv.single_table import GaussianCopulaSynthesizer\n",
    "from sdv.single_table import CTGANSynthesizer\n",
    "from sdv.evaluation.single_table import get_column_plot\n",
    "from sdv.evaluation.single_table import evaluate_quality\n",
    "from sdv.evaluation.single_table import run_diagnostic\n",
    "\n",
    "# importing matplotlib module\n",
    "import matplotlib.pyplot as plt\n",
    "plt.style.use('default')\n",
    "# %matplotlib inline: only draw static\n",
    "# images in the notebook\n",
    "%matplotlib inline"
   ]
  },
  {
   "cell_type": "markdown",
   "id": "56de1133",
   "metadata": {},
   "source": [
    "# Global settings"
   ]
  },
  {
   "cell_type": "code",
   "execution_count": 2,
   "id": "0fe8a02c",
   "metadata": {},
   "outputs": [
    {
     "name": "stdout",
     "output_type": "stream",
     "text": [
      "==========================\n",
      "2024-08-05 22:19:26.165819\n",
      "==========================\n",
      "svmem(total=16756752384, available=5674205184, percent=66.1, used=11082547200, free=5674205184)\n",
      "==========================\n"
     ]
    },
    {
     "data": {
      "text/plain": [
       "'C:\\\\Users\\\\m033\\\\OneDrive - GWLE\\\\Documents\\\\GitHub\\\\Data-Science-Thesis'"
      ]
     },
     "execution_count": 2,
     "metadata": {},
     "output_type": "execute_result"
    }
   ],
   "source": [
    "\n",
    "pd.set_option('max_row', None)\n",
    "#pd.options.display.max_rows = 1000\n",
    "\n",
    "# Set a value for the home folder.\n",
    "home_folder = \".\"\n",
    "\n",
    "# Set values for the various paths.\n",
    "input_path = home_folder + \"\\data\"\n",
    "\n",
    "print('==========================')\n",
    "now = datetime.now()\n",
    "print(now)\n",
    "print('==========================')\n",
    "print(psutil.virtual_memory())\n",
    "print('==========================')\n",
    "os.path.abspath(os.getcwd())"
   ]
  },
  {
   "cell_type": "markdown",
   "id": "ac8ac87c",
   "metadata": {},
   "source": [
    "# Use SDV - Synthetic Data Vault\n",
    "This is a Python package to generate synthetic data based on the dataset provided. The generated data could be single-table, multi-table, or time-series, depending on the scheme provided in the environment. Also, the generated data would have the same format properties and statistics as the provided dataset.¶\n",
    "\n",
    "SDV generates synthetic data by applying mathematical techniques and machine learning models such as the deep learning model. Even if the data contain multiple data types and missing data, SDV will handle it, so we only need to provide the data (and the metadata when required).¶\n",
    "\n",
    "The SDV creates synthetic data using machine learning. A synthesizer is an object that you can use to accomplish this task.¶\n",
    "1.  You'll start by creating a synthesizer based on your metadata\n",
    "2.  Next, you'll train the synthesizer using real data. In this phase, the synthesizer will learn patterns from the real data.\n",
    "3.  Once your synthesizer is trained, you can use it to generate new, synthetic data.\n",
    "\n",
    "Of the original data, only the contract number needs to synthesised as everything else is either a boolean that already has obfuscated the fund data or is a calculation based on PII data with the PII data removed."
   ]
  },
  {
   "cell_type": "markdown",
   "id": "ded1375e",
   "metadata": {},
   "source": [
    "https://docs.sdv.dev/sdv/single-table-data/data-preparation/single-table-metadata-api"
   ]
  },
  {
   "cell_type": "markdown",
   "id": "86184e85",
   "metadata": {},
   "source": [
    "# 1. Read back the second half of the full set of data.  There are 6,186,149 records.\n",
    "# The first tranche synthesised the first 3,100,000.\n",
    "\n",
    "# This tranche will synthesise 3,086,149.\n",
    "\n",
    "# This is done to reduce a memory constraint on the runtime environment, which cannot be virtualised because of the sensitive nature of the data."
   ]
  },
  {
   "cell_type": "code",
   "execution_count": 3,
   "id": "a83a3c9b",
   "metadata": {},
   "outputs": [
    {
     "ename": "FileNotFoundError",
     "evalue": "[Errno 2] No such file or directory: '.\\\\data\\\\Full_Population_With_Markex_Index_Data.csv'",
     "output_type": "error",
     "traceback": [
      "\u001b[1;31m---------------------------------------------------------------------------\u001b[0m",
      "\u001b[1;31mFileNotFoundError\u001b[0m                         Traceback (most recent call last)",
      "Cell \u001b[1;32mIn[3], line 4\u001b[0m\n\u001b[0;32m      1\u001b[0m \u001b[38;5;66;03m# giving directory name\u001b[39;00m\n\u001b[0;32m      2\u001b[0m filename \u001b[38;5;241m=\u001b[39m input_path \u001b[38;5;241m+\u001b[39m \u001b[38;5;124m'\u001b[39m\u001b[38;5;124m\\\u001b[39m\u001b[38;5;124mFull_Population_With_Markex_Index_Data.csv\u001b[39m\u001b[38;5;124m'\u001b[39m\n\u001b[1;32m----> 4\u001b[0m df_Switches_tranche_2 \u001b[38;5;241m=\u001b[39m \u001b[43mpd\u001b[49m\u001b[38;5;241;43m.\u001b[39;49m\u001b[43mread_csv\u001b[49m\u001b[43m(\u001b[49m\u001b[43mfilename\u001b[49m\u001b[43m,\u001b[49m\u001b[43mdtype\u001b[49m\u001b[43m \u001b[49m\u001b[38;5;241;43m=\u001b[39;49m\u001b[43m \u001b[49m\u001b[43m{\u001b[49m\u001b[38;5;124;43m'\u001b[39;49m\u001b[38;5;124;43mContractNumber\u001b[39;49m\u001b[38;5;124;43m'\u001b[39;49m\u001b[43m:\u001b[49m\u001b[43m \u001b[49m\u001b[38;5;28;43mstr\u001b[39;49m\u001b[43m,\u001b[49m\n\u001b[0;32m      5\u001b[0m \u001b[43m                                           \u001b[49m\u001b[38;5;124;43m'\u001b[39;49m\u001b[38;5;124;43mProdCat\u001b[39;49m\u001b[38;5;124;43m'\u001b[39;49m\u001b[43m:\u001b[49m\u001b[43m \u001b[49m\u001b[38;5;28;43mstr\u001b[39;49m\u001b[43m,\u001b[49m\n\u001b[0;32m      6\u001b[0m \u001b[43m                                           \u001b[49m\u001b[38;5;124;43m'\u001b[39;49m\u001b[38;5;124;43mProdCode\u001b[39;49m\u001b[38;5;124;43m'\u001b[39;49m\u001b[43m:\u001b[49m\u001b[43m \u001b[49m\u001b[38;5;28;43mstr\u001b[39;49m\u001b[43m,\u001b[49m\n\u001b[0;32m      7\u001b[0m \u001b[43m                                           \u001b[49m\u001b[38;5;124;43m'\u001b[39;49m\u001b[38;5;124;43mPolicyStatus\u001b[39;49m\u001b[38;5;124;43m'\u001b[39;49m\u001b[43m:\u001b[49m\u001b[43m \u001b[49m\u001b[38;5;28;43mstr\u001b[39;49m\u001b[43m,\u001b[49m\n\u001b[0;32m      8\u001b[0m \u001b[43m                                           \u001b[49m\u001b[38;5;124;43m'\u001b[39;49m\u001b[38;5;124;43mSwitch_Flag\u001b[39;49m\u001b[38;5;124;43m'\u001b[39;49m\u001b[43m:\u001b[49m\u001b[43m \u001b[49m\u001b[38;5;28;43mbool\u001b[39;49m\u001b[43m,\u001b[49m\n\u001b[0;32m      9\u001b[0m \u001b[43m                                           \u001b[49m\u001b[38;5;124;43m'\u001b[39;49m\u001b[38;5;124;43mServicingBroker\u001b[39;49m\u001b[38;5;124;43m'\u001b[39;49m\u001b[43m:\u001b[49m\u001b[43m \u001b[49m\u001b[38;5;28;43mstr\u001b[39;49m\u001b[43m,\u001b[49m\n\u001b[0;32m     10\u001b[0m \u001b[43m                                           \u001b[49m\u001b[38;5;124;43m'\u001b[39;49m\u001b[38;5;124;43mInitialBroker\u001b[39;49m\u001b[38;5;124;43m'\u001b[39;49m\u001b[43m:\u001b[49m\u001b[43m \u001b[49m\u001b[38;5;28;43mstr\u001b[39;49m\u001b[43m,\u001b[49m\n\u001b[0;32m     11\u001b[0m \u001b[43m                                           \u001b[49m\u001b[38;5;124;43m'\u001b[39;49m\u001b[38;5;124;43mBrokerCategory\u001b[39;49m\u001b[38;5;124;43m'\u001b[39;49m\u001b[43m:\u001b[49m\u001b[43m \u001b[49m\u001b[38;5;28;43mstr\u001b[39;49m\u001b[43m,\u001b[49m\n\u001b[0;32m     12\u001b[0m \u001b[43m                                           \u001b[49m\u001b[38;5;124;43m'\u001b[39;49m\u001b[38;5;124;43mPolicy_Fee_Type_Desc\u001b[39;49m\u001b[38;5;124;43m'\u001b[39;49m\u001b[43m:\u001b[49m\u001b[43m \u001b[49m\u001b[38;5;28;43mstr\u001b[39;49m\u001b[43m,\u001b[49m\u001b[43m      \u001b[49m\n\u001b[0;32m     13\u001b[0m \u001b[43m                                           \u001b[49m\u001b[38;5;124;43m'\u001b[39;49m\u001b[38;5;124;43mPricingVariant\u001b[39;49m\u001b[38;5;124;43m'\u001b[39;49m\u001b[43m:\u001b[49m\u001b[43m \u001b[49m\u001b[38;5;28;43mint\u001b[39;49m\u001b[43m,\u001b[49m\n\u001b[0;32m     14\u001b[0m \u001b[43m                                           \u001b[49m\u001b[38;5;124;43m'\u001b[39;49m\u001b[38;5;124;43mPayFreq\u001b[39;49m\u001b[38;5;124;43m'\u001b[39;49m\u001b[43m:\u001b[49m\u001b[43m \u001b[49m\u001b[38;5;28;43mint\u001b[39;49m\u001b[43m,\u001b[49m\n\u001b[0;32m     15\u001b[0m \u001b[43m                                           \u001b[49m\u001b[38;5;124;43m'\u001b[39;49m\u001b[38;5;124;43mVIPType\u001b[39;49m\u001b[38;5;124;43m'\u001b[39;49m\u001b[43m:\u001b[49m\u001b[43m \u001b[49m\u001b[38;5;28;43mstr\u001b[39;49m\u001b[43m,\u001b[49m\n\u001b[0;32m     16\u001b[0m \u001b[43m                                          \u001b[49m\u001b[38;5;124;43m'\u001b[39;49m\u001b[38;5;124;43mNationality\u001b[39;49m\u001b[38;5;124;43m'\u001b[39;49m\u001b[43m:\u001b[49m\u001b[43m \u001b[49m\u001b[38;5;28;43mstr\u001b[39;49m\u001b[43m,\u001b[49m\n\u001b[0;32m     17\u001b[0m \u001b[38;5;66;43;03m#                                          'IsSmoker': bool,\u001b[39;49;00m\n\u001b[0;32m     18\u001b[0m \u001b[43m                                          \u001b[49m\u001b[38;5;124;43m'\u001b[39;49m\u001b[38;5;124;43mIsSmoker\u001b[39;49m\u001b[38;5;124;43m'\u001b[39;49m\u001b[43m:\u001b[49m\u001b[43m \u001b[49m\u001b[38;5;28;43mstr\u001b[39;49m\u001b[43m,\u001b[49m\n\u001b[0;32m     19\u001b[0m \u001b[43m                                          \u001b[49m\u001b[38;5;124;43m'\u001b[39;49m\u001b[38;5;124;43mPoliticallyExposed\u001b[39;49m\u001b[38;5;124;43m'\u001b[39;49m\u001b[43m:\u001b[49m\u001b[43m \u001b[49m\u001b[38;5;28;43mstr\u001b[39;49m\u001b[43m,\u001b[49m\n\u001b[0;32m     20\u001b[0m \u001b[43m                                          \u001b[49m\u001b[38;5;124;43m'\u001b[39;49m\u001b[38;5;124;43mBirthPlace\u001b[39;49m\u001b[38;5;124;43m'\u001b[39;49m\u001b[43m:\u001b[49m\u001b[43m \u001b[49m\u001b[38;5;28;43mstr\u001b[39;49m\u001b[43m,\u001b[49m\n\u001b[0;32m     21\u001b[0m \u001b[43m                                          \u001b[49m\u001b[38;5;124;43m'\u001b[39;49m\u001b[38;5;124;43mGender\u001b[39;49m\u001b[38;5;124;43m'\u001b[39;49m\u001b[43m:\u001b[49m\u001b[43m \u001b[49m\u001b[38;5;28;43mstr\u001b[39;49m\u001b[43m,\u001b[49m\n\u001b[0;32m     22\u001b[0m \u001b[43m                                          \u001b[49m\u001b[38;5;124;43m'\u001b[39;49m\u001b[38;5;124;43mMaritalStatus\u001b[39;49m\u001b[38;5;124;43m'\u001b[39;49m\u001b[43m:\u001b[49m\u001b[43m \u001b[49m\u001b[38;5;28;43mstr\u001b[39;49m\u001b[43m,\u001b[49m\n\u001b[0;32m     23\u001b[0m \u001b[43m                                          \u001b[49m\u001b[38;5;124;43m'\u001b[39;49m\u001b[38;5;124;43mAddressCity\u001b[39;49m\u001b[38;5;124;43m'\u001b[39;49m\u001b[43m:\u001b[49m\u001b[43m \u001b[49m\u001b[38;5;28;43mstr\u001b[39;49m\u001b[43m,\u001b[49m\n\u001b[0;32m     24\u001b[0m \u001b[43m                                          \u001b[49m\u001b[38;5;124;43m'\u001b[39;49m\u001b[38;5;124;43mPartnerType\u001b[39;49m\u001b[38;5;124;43m'\u001b[39;49m\u001b[43m:\u001b[49m\u001b[43m \u001b[49m\u001b[38;5;28;43mstr\u001b[39;49m\u001b[43m,\u001b[49m\n\u001b[0;32m     25\u001b[0m \u001b[43m                                          \u001b[49m\u001b[38;5;124;43m'\u001b[39;49m\u001b[38;5;124;43mEUSanctioned\u001b[39;49m\u001b[38;5;124;43m'\u001b[39;49m\u001b[43m:\u001b[49m\u001b[43m \u001b[49m\u001b[38;5;28;43mstr\u001b[39;49m\u001b[43m,\u001b[49m\n\u001b[0;32m     26\u001b[0m \u001b[38;5;66;43;03m#                                          'EUSanctioned': bool,\u001b[39;49;00m\n\u001b[0;32m     27\u001b[0m \u001b[43m                                          \u001b[49m\u001b[38;5;124;43m'\u001b[39;49m\u001b[38;5;124;43mAddressDistrict\u001b[39;49m\u001b[38;5;124;43m'\u001b[39;49m\u001b[43m:\u001b[49m\u001b[43m \u001b[49m\u001b[38;5;28;43mstr\u001b[39;49m\u001b[43m,\u001b[49m\n\u001b[0;32m     28\u001b[0m \u001b[43m                                          \u001b[49m\u001b[38;5;124;43m'\u001b[39;49m\u001b[38;5;124;43mPostal_Code_Name\u001b[39;49m\u001b[38;5;124;43m'\u001b[39;49m\u001b[43m:\u001b[49m\u001b[43m \u001b[49m\u001b[38;5;28;43mstr\u001b[39;49m\u001b[43m,\u001b[49m\n\u001b[0;32m     29\u001b[0m \u001b[43m                                          \u001b[49m\u001b[38;5;124;43m'\u001b[39;49m\u001b[38;5;124;43mDistrict\u001b[39;49m\u001b[38;5;124;43m'\u001b[39;49m\u001b[43m:\u001b[49m\u001b[43m \u001b[49m\u001b[38;5;28;43mstr\u001b[39;49m\u001b[43m,\u001b[49m\n\u001b[0;32m     30\u001b[0m \u001b[43m                                          \u001b[49m\u001b[38;5;124;43m'\u001b[39;49m\u001b[38;5;124;43mState\u001b[39;49m\u001b[38;5;124;43m'\u001b[39;49m\u001b[43m:\u001b[49m\u001b[43m \u001b[49m\u001b[38;5;28;43mstr\u001b[39;49m\u001b[43m,\u001b[49m\n\u001b[0;32m     31\u001b[0m \u001b[43m                                          \u001b[49m\u001b[38;5;124;43m'\u001b[39;49m\u001b[38;5;124;43mVN_MILIEU_CODE\u001b[39;49m\u001b[38;5;124;43m'\u001b[39;49m\u001b[43m:\u001b[49m\u001b[43m \u001b[49m\u001b[38;5;28;43mstr\u001b[39;49m\u001b[43m,\u001b[49m\n\u001b[0;32m     32\u001b[0m \u001b[43m                                          \u001b[49m\u001b[38;5;124;43m'\u001b[39;49m\u001b[38;5;124;43mVN_TARGET_GROUP_CODE\u001b[39;49m\u001b[38;5;124;43m'\u001b[39;49m\u001b[43m:\u001b[49m\u001b[43m \u001b[49m\u001b[38;5;28;43mstr\u001b[39;49m\u001b[43m,\u001b[49m\n\u001b[0;32m     33\u001b[0m \u001b[43m                                          \u001b[49m\u001b[38;5;124;43m'\u001b[39;49m\u001b[38;5;124;43mVN_MILIEU_DESCRIPTION\u001b[39;49m\u001b[38;5;124;43m'\u001b[39;49m\u001b[43m:\u001b[49m\u001b[43m \u001b[49m\u001b[38;5;28;43mstr\u001b[39;49m\u001b[43m,\u001b[49m\n\u001b[0;32m     34\u001b[0m \u001b[43m                                          \u001b[49m\u001b[38;5;124;43m'\u001b[39;49m\u001b[38;5;124;43mVP_MILIEU_DESCRIPTION\u001b[39;49m\u001b[38;5;124;43m'\u001b[39;49m\u001b[43m:\u001b[49m\u001b[43m \u001b[49m\u001b[38;5;28;43mstr\u001b[39;49m\u001b[43m,\u001b[49m\u001b[43m  \u001b[49m\n\u001b[0;32m     35\u001b[0m \u001b[38;5;66;43;03m# Tranche 1.                              'AnniversaryMth': int},low_memory=False, header=0, nrows=3100000)\u001b[39;49;00m\n\u001b[0;32m     36\u001b[0m \u001b[38;5;66;43;03m# Tranche 2. - 3086149\u001b[39;49;00m\n\u001b[0;32m     37\u001b[0m \u001b[43m                                           \u001b[49m\u001b[38;5;124;43m'\u001b[39;49m\u001b[38;5;124;43mAnniversaryMth\u001b[39;49m\u001b[38;5;124;43m'\u001b[39;49m\u001b[43m:\u001b[49m\u001b[43m \u001b[49m\u001b[38;5;28;43mint\u001b[39;49m\u001b[43m}\u001b[49m\u001b[43m,\u001b[49m\u001b[43mlow_memory\u001b[49m\u001b[38;5;241;43m=\u001b[39;49m\u001b[38;5;28;43;01mFalse\u001b[39;49;00m\u001b[43m,\u001b[49m\u001b[43m \u001b[49m\u001b[43mheader\u001b[49m\u001b[38;5;241;43m=\u001b[39;49m\u001b[38;5;241;43m0\u001b[39;49m\u001b[43m,\u001b[49m\u001b[43m \u001b[49m\u001b[43mskiprows\u001b[49m\u001b[38;5;241;43m=\u001b[39;49m\u001b[38;5;28;43mrange\u001b[39;49m\u001b[43m(\u001b[49m\u001b[38;5;241;43m1\u001b[39;49m\u001b[43m,\u001b[49m\u001b[43m \u001b[49m\u001b[38;5;241;43m3100000\u001b[39;49m\u001b[43m)\u001b[49m\u001b[43m)\u001b[49m\n\u001b[0;32m     40\u001b[0m \u001b[38;5;66;03m# Fill NULLs\u001b[39;00m\n\u001b[0;32m     41\u001b[0m df_Switches_tranche_2 \u001b[38;5;241m=\u001b[39m df_Switches_tranche_2\u001b[38;5;241m.\u001b[39mfillna(\u001b[38;5;241m0\u001b[39m)\n",
      "File \u001b[1;32m~\\Anaconda3\\lib\\site-packages\\pandas\\io\\parsers.py:610\u001b[0m, in \u001b[0;36mread_csv\u001b[1;34m(filepath_or_buffer, sep, delimiter, header, names, index_col, usecols, squeeze, prefix, mangle_dupe_cols, dtype, engine, converters, true_values, false_values, skipinitialspace, skiprows, skipfooter, nrows, na_values, keep_default_na, na_filter, verbose, skip_blank_lines, parse_dates, infer_datetime_format, keep_date_col, date_parser, dayfirst, cache_dates, iterator, chunksize, compression, thousands, decimal, lineterminator, quotechar, quoting, doublequote, escapechar, comment, encoding, dialect, error_bad_lines, warn_bad_lines, delim_whitespace, low_memory, memory_map, float_precision, storage_options)\u001b[0m\n\u001b[0;32m    605\u001b[0m kwds_defaults \u001b[38;5;241m=\u001b[39m _refine_defaults_read(\n\u001b[0;32m    606\u001b[0m     dialect, delimiter, delim_whitespace, engine, sep, defaults\u001b[38;5;241m=\u001b[39m{\u001b[38;5;124m\"\u001b[39m\u001b[38;5;124mdelimiter\u001b[39m\u001b[38;5;124m\"\u001b[39m: \u001b[38;5;124m\"\u001b[39m\u001b[38;5;124m,\u001b[39m\u001b[38;5;124m\"\u001b[39m}\n\u001b[0;32m    607\u001b[0m )\n\u001b[0;32m    608\u001b[0m kwds\u001b[38;5;241m.\u001b[39mupdate(kwds_defaults)\n\u001b[1;32m--> 610\u001b[0m \u001b[38;5;28;01mreturn\u001b[39;00m \u001b[43m_read\u001b[49m\u001b[43m(\u001b[49m\u001b[43mfilepath_or_buffer\u001b[49m\u001b[43m,\u001b[49m\u001b[43m \u001b[49m\u001b[43mkwds\u001b[49m\u001b[43m)\u001b[49m\n",
      "File \u001b[1;32m~\\Anaconda3\\lib\\site-packages\\pandas\\io\\parsers.py:462\u001b[0m, in \u001b[0;36m_read\u001b[1;34m(filepath_or_buffer, kwds)\u001b[0m\n\u001b[0;32m    459\u001b[0m _validate_names(kwds\u001b[38;5;241m.\u001b[39mget(\u001b[38;5;124m\"\u001b[39m\u001b[38;5;124mnames\u001b[39m\u001b[38;5;124m\"\u001b[39m, \u001b[38;5;28;01mNone\u001b[39;00m))\n\u001b[0;32m    461\u001b[0m \u001b[38;5;66;03m# Create the parser.\u001b[39;00m\n\u001b[1;32m--> 462\u001b[0m parser \u001b[38;5;241m=\u001b[39m \u001b[43mTextFileReader\u001b[49m\u001b[43m(\u001b[49m\u001b[43mfilepath_or_buffer\u001b[49m\u001b[43m,\u001b[49m\u001b[43m \u001b[49m\u001b[38;5;241;43m*\u001b[39;49m\u001b[38;5;241;43m*\u001b[39;49m\u001b[43mkwds\u001b[49m\u001b[43m)\u001b[49m\n\u001b[0;32m    464\u001b[0m \u001b[38;5;28;01mif\u001b[39;00m chunksize \u001b[38;5;129;01mor\u001b[39;00m iterator:\n\u001b[0;32m    465\u001b[0m     \u001b[38;5;28;01mreturn\u001b[39;00m parser\n",
      "File \u001b[1;32m~\\Anaconda3\\lib\\site-packages\\pandas\\io\\parsers.py:819\u001b[0m, in \u001b[0;36mTextFileReader.__init__\u001b[1;34m(self, f, engine, **kwds)\u001b[0m\n\u001b[0;32m    816\u001b[0m \u001b[38;5;28;01mif\u001b[39;00m \u001b[38;5;124m\"\u001b[39m\u001b[38;5;124mhas_index_names\u001b[39m\u001b[38;5;124m\"\u001b[39m \u001b[38;5;129;01min\u001b[39;00m kwds:\n\u001b[0;32m    817\u001b[0m     \u001b[38;5;28mself\u001b[39m\u001b[38;5;241m.\u001b[39moptions[\u001b[38;5;124m\"\u001b[39m\u001b[38;5;124mhas_index_names\u001b[39m\u001b[38;5;124m\"\u001b[39m] \u001b[38;5;241m=\u001b[39m kwds[\u001b[38;5;124m\"\u001b[39m\u001b[38;5;124mhas_index_names\u001b[39m\u001b[38;5;124m\"\u001b[39m]\n\u001b[1;32m--> 819\u001b[0m \u001b[38;5;28mself\u001b[39m\u001b[38;5;241m.\u001b[39m_engine \u001b[38;5;241m=\u001b[39m \u001b[38;5;28;43mself\u001b[39;49m\u001b[38;5;241;43m.\u001b[39;49m\u001b[43m_make_engine\u001b[49m\u001b[43m(\u001b[49m\u001b[38;5;28;43mself\u001b[39;49m\u001b[38;5;241;43m.\u001b[39;49m\u001b[43mengine\u001b[49m\u001b[43m)\u001b[49m\n",
      "File \u001b[1;32m~\\Anaconda3\\lib\\site-packages\\pandas\\io\\parsers.py:1050\u001b[0m, in \u001b[0;36mTextFileReader._make_engine\u001b[1;34m(self, engine)\u001b[0m\n\u001b[0;32m   1046\u001b[0m     \u001b[38;5;28;01mraise\u001b[39;00m \u001b[38;5;167;01mValueError\u001b[39;00m(\n\u001b[0;32m   1047\u001b[0m         \u001b[38;5;124mf\u001b[39m\u001b[38;5;124m\"\u001b[39m\u001b[38;5;124mUnknown engine: \u001b[39m\u001b[38;5;132;01m{\u001b[39;00mengine\u001b[38;5;132;01m}\u001b[39;00m\u001b[38;5;124m (valid options are \u001b[39m\u001b[38;5;132;01m{\u001b[39;00mmapping\u001b[38;5;241m.\u001b[39mkeys()\u001b[38;5;132;01m}\u001b[39;00m\u001b[38;5;124m)\u001b[39m\u001b[38;5;124m\"\u001b[39m\n\u001b[0;32m   1048\u001b[0m     )\n\u001b[0;32m   1049\u001b[0m \u001b[38;5;66;03m# error: Too many arguments for \"ParserBase\"\u001b[39;00m\n\u001b[1;32m-> 1050\u001b[0m \u001b[38;5;28;01mreturn\u001b[39;00m \u001b[43mmapping\u001b[49m\u001b[43m[\u001b[49m\u001b[43mengine\u001b[49m\u001b[43m]\u001b[49m\u001b[43m(\u001b[49m\u001b[38;5;28;43mself\u001b[39;49m\u001b[38;5;241;43m.\u001b[39;49m\u001b[43mf\u001b[49m\u001b[43m,\u001b[49m\u001b[43m \u001b[49m\u001b[38;5;241;43m*\u001b[39;49m\u001b[38;5;241;43m*\u001b[39;49m\u001b[38;5;28;43mself\u001b[39;49m\u001b[38;5;241;43m.\u001b[39;49m\u001b[43moptions\u001b[49m\u001b[43m)\u001b[49m\n",
      "File \u001b[1;32m~\\Anaconda3\\lib\\site-packages\\pandas\\io\\parsers.py:1867\u001b[0m, in \u001b[0;36mCParserWrapper.__init__\u001b[1;34m(self, src, **kwds)\u001b[0m\n\u001b[0;32m   1864\u001b[0m kwds[\u001b[38;5;124m\"\u001b[39m\u001b[38;5;124musecols\u001b[39m\u001b[38;5;124m\"\u001b[39m] \u001b[38;5;241m=\u001b[39m \u001b[38;5;28mself\u001b[39m\u001b[38;5;241m.\u001b[39musecols\n\u001b[0;32m   1866\u001b[0m \u001b[38;5;66;03m# open handles\u001b[39;00m\n\u001b[1;32m-> 1867\u001b[0m \u001b[38;5;28;43mself\u001b[39;49m\u001b[38;5;241;43m.\u001b[39;49m\u001b[43m_open_handles\u001b[49m\u001b[43m(\u001b[49m\u001b[43msrc\u001b[49m\u001b[43m,\u001b[49m\u001b[43m \u001b[49m\u001b[43mkwds\u001b[49m\u001b[43m)\u001b[49m\n\u001b[0;32m   1868\u001b[0m \u001b[38;5;28;01massert\u001b[39;00m \u001b[38;5;28mself\u001b[39m\u001b[38;5;241m.\u001b[39mhandles \u001b[38;5;129;01mis\u001b[39;00m \u001b[38;5;129;01mnot\u001b[39;00m \u001b[38;5;28;01mNone\u001b[39;00m\n\u001b[0;32m   1869\u001b[0m \u001b[38;5;28;01mfor\u001b[39;00m key \u001b[38;5;129;01min\u001b[39;00m (\u001b[38;5;124m\"\u001b[39m\u001b[38;5;124mstorage_options\u001b[39m\u001b[38;5;124m\"\u001b[39m, \u001b[38;5;124m\"\u001b[39m\u001b[38;5;124mencoding\u001b[39m\u001b[38;5;124m\"\u001b[39m, \u001b[38;5;124m\"\u001b[39m\u001b[38;5;124mmemory_map\u001b[39m\u001b[38;5;124m\"\u001b[39m, \u001b[38;5;124m\"\u001b[39m\u001b[38;5;124mcompression\u001b[39m\u001b[38;5;124m\"\u001b[39m):\n",
      "File \u001b[1;32m~\\Anaconda3\\lib\\site-packages\\pandas\\io\\parsers.py:1362\u001b[0m, in \u001b[0;36mParserBase._open_handles\u001b[1;34m(self, src, kwds)\u001b[0m\n\u001b[0;32m   1358\u001b[0m \u001b[38;5;28;01mdef\u001b[39;00m \u001b[38;5;21m_open_handles\u001b[39m(\u001b[38;5;28mself\u001b[39m, src: FilePathOrBuffer, kwds: Dict[\u001b[38;5;28mstr\u001b[39m, Any]) \u001b[38;5;241m-\u001b[39m\u001b[38;5;241m>\u001b[39m \u001b[38;5;28;01mNone\u001b[39;00m:\n\u001b[0;32m   1359\u001b[0m \u001b[38;5;250m    \u001b[39m\u001b[38;5;124;03m\"\"\"\u001b[39;00m\n\u001b[0;32m   1360\u001b[0m \u001b[38;5;124;03m    Let the readers open IOHanldes after they are done with their potential raises.\u001b[39;00m\n\u001b[0;32m   1361\u001b[0m \u001b[38;5;124;03m    \"\"\"\u001b[39;00m\n\u001b[1;32m-> 1362\u001b[0m     \u001b[38;5;28mself\u001b[39m\u001b[38;5;241m.\u001b[39mhandles \u001b[38;5;241m=\u001b[39m \u001b[43mget_handle\u001b[49m\u001b[43m(\u001b[49m\n\u001b[0;32m   1363\u001b[0m \u001b[43m        \u001b[49m\u001b[43msrc\u001b[49m\u001b[43m,\u001b[49m\n\u001b[0;32m   1364\u001b[0m \u001b[43m        \u001b[49m\u001b[38;5;124;43m\"\u001b[39;49m\u001b[38;5;124;43mr\u001b[39;49m\u001b[38;5;124;43m\"\u001b[39;49m\u001b[43m,\u001b[49m\n\u001b[0;32m   1365\u001b[0m \u001b[43m        \u001b[49m\u001b[43mencoding\u001b[49m\u001b[38;5;241;43m=\u001b[39;49m\u001b[43mkwds\u001b[49m\u001b[38;5;241;43m.\u001b[39;49m\u001b[43mget\u001b[49m\u001b[43m(\u001b[49m\u001b[38;5;124;43m\"\u001b[39;49m\u001b[38;5;124;43mencoding\u001b[39;49m\u001b[38;5;124;43m\"\u001b[39;49m\u001b[43m,\u001b[49m\u001b[43m \u001b[49m\u001b[38;5;28;43;01mNone\u001b[39;49;00m\u001b[43m)\u001b[49m\u001b[43m,\u001b[49m\n\u001b[0;32m   1366\u001b[0m \u001b[43m        \u001b[49m\u001b[43mcompression\u001b[49m\u001b[38;5;241;43m=\u001b[39;49m\u001b[43mkwds\u001b[49m\u001b[38;5;241;43m.\u001b[39;49m\u001b[43mget\u001b[49m\u001b[43m(\u001b[49m\u001b[38;5;124;43m\"\u001b[39;49m\u001b[38;5;124;43mcompression\u001b[39;49m\u001b[38;5;124;43m\"\u001b[39;49m\u001b[43m,\u001b[49m\u001b[43m \u001b[49m\u001b[38;5;28;43;01mNone\u001b[39;49;00m\u001b[43m)\u001b[49m\u001b[43m,\u001b[49m\n\u001b[0;32m   1367\u001b[0m \u001b[43m        \u001b[49m\u001b[43mmemory_map\u001b[49m\u001b[38;5;241;43m=\u001b[39;49m\u001b[43mkwds\u001b[49m\u001b[38;5;241;43m.\u001b[39;49m\u001b[43mget\u001b[49m\u001b[43m(\u001b[49m\u001b[38;5;124;43m\"\u001b[39;49m\u001b[38;5;124;43mmemory_map\u001b[39;49m\u001b[38;5;124;43m\"\u001b[39;49m\u001b[43m,\u001b[49m\u001b[43m \u001b[49m\u001b[38;5;28;43;01mFalse\u001b[39;49;00m\u001b[43m)\u001b[49m\u001b[43m,\u001b[49m\n\u001b[0;32m   1368\u001b[0m \u001b[43m        \u001b[49m\u001b[43mstorage_options\u001b[49m\u001b[38;5;241;43m=\u001b[39;49m\u001b[43mkwds\u001b[49m\u001b[38;5;241;43m.\u001b[39;49m\u001b[43mget\u001b[49m\u001b[43m(\u001b[49m\u001b[38;5;124;43m\"\u001b[39;49m\u001b[38;5;124;43mstorage_options\u001b[39;49m\u001b[38;5;124;43m\"\u001b[39;49m\u001b[43m,\u001b[49m\u001b[43m \u001b[49m\u001b[38;5;28;43;01mNone\u001b[39;49;00m\u001b[43m)\u001b[49m\u001b[43m,\u001b[49m\n\u001b[0;32m   1369\u001b[0m \u001b[43m    \u001b[49m\u001b[43m)\u001b[49m\n",
      "File \u001b[1;32m~\\Anaconda3\\lib\\site-packages\\pandas\\io\\common.py:642\u001b[0m, in \u001b[0;36mget_handle\u001b[1;34m(path_or_buf, mode, encoding, compression, memory_map, is_text, errors, storage_options)\u001b[0m\n\u001b[0;32m    640\u001b[0m         errors \u001b[38;5;241m=\u001b[39m \u001b[38;5;124m\"\u001b[39m\u001b[38;5;124mreplace\u001b[39m\u001b[38;5;124m\"\u001b[39m\n\u001b[0;32m    641\u001b[0m     \u001b[38;5;66;03m# Encoding\u001b[39;00m\n\u001b[1;32m--> 642\u001b[0m     handle \u001b[38;5;241m=\u001b[39m \u001b[38;5;28;43mopen\u001b[39;49m\u001b[43m(\u001b[49m\n\u001b[0;32m    643\u001b[0m \u001b[43m        \u001b[49m\u001b[43mhandle\u001b[49m\u001b[43m,\u001b[49m\n\u001b[0;32m    644\u001b[0m \u001b[43m        \u001b[49m\u001b[43mioargs\u001b[49m\u001b[38;5;241;43m.\u001b[39;49m\u001b[43mmode\u001b[49m\u001b[43m,\u001b[49m\n\u001b[0;32m    645\u001b[0m \u001b[43m        \u001b[49m\u001b[43mencoding\u001b[49m\u001b[38;5;241;43m=\u001b[39;49m\u001b[43mioargs\u001b[49m\u001b[38;5;241;43m.\u001b[39;49m\u001b[43mencoding\u001b[49m\u001b[43m,\u001b[49m\n\u001b[0;32m    646\u001b[0m \u001b[43m        \u001b[49m\u001b[43merrors\u001b[49m\u001b[38;5;241;43m=\u001b[39;49m\u001b[43merrors\u001b[49m\u001b[43m,\u001b[49m\n\u001b[0;32m    647\u001b[0m \u001b[43m        \u001b[49m\u001b[43mnewline\u001b[49m\u001b[38;5;241;43m=\u001b[39;49m\u001b[38;5;124;43m\"\u001b[39;49m\u001b[38;5;124;43m\"\u001b[39;49m\u001b[43m,\u001b[49m\n\u001b[0;32m    648\u001b[0m \u001b[43m    \u001b[49m\u001b[43m)\u001b[49m\n\u001b[0;32m    649\u001b[0m \u001b[38;5;28;01melse\u001b[39;00m:\n\u001b[0;32m    650\u001b[0m     \u001b[38;5;66;03m# Binary mode\u001b[39;00m\n\u001b[0;32m    651\u001b[0m     handle \u001b[38;5;241m=\u001b[39m \u001b[38;5;28mopen\u001b[39m(handle, ioargs\u001b[38;5;241m.\u001b[39mmode)\n",
      "\u001b[1;31mFileNotFoundError\u001b[0m: [Errno 2] No such file or directory: '.\\\\data\\\\Full_Population_With_Markex_Index_Data.csv'"
     ]
    }
   ],
   "source": [
    "# giving directory name\n",
    "filename = input_path + '\\Full_Population_With_Markex_Index_Data.csv'\n",
    "\n",
    "df_Switches_tranche_2 = pd.read_csv(filename,dtype = {'ContractNumber': str,\n",
    "                                           'ProdCat': str,\n",
    "                                           'ProdCode': str,\n",
    "                                           'PolicyStatus': str,\n",
    "                                           'Switch_Flag': bool,\n",
    "                                           'ServicingBroker': str,\n",
    "                                           'InitialBroker': str,\n",
    "                                           'BrokerCategory': str,\n",
    "                                           'Policy_Fee_Type_Desc': str,      \n",
    "                                           'PricingVariant': int,\n",
    "                                           'PayFreq': int,\n",
    "                                           'VIPType': str,\n",
    "                                          'Nationality': str,\n",
    "#                                          'IsSmoker': bool,\n",
    "                                          'IsSmoker': str,\n",
    "                                          'PoliticallyExposed': str,\n",
    "                                          'BirthPlace': str,\n",
    "                                          'Gender': str,\n",
    "                                          'MaritalStatus': str,\n",
    "                                          'AddressCity': str,\n",
    "                                          'PartnerType': str,\n",
    "                                          'EUSanctioned': str,\n",
    "#                                          'EUSanctioned': bool,\n",
    "                                          'AddressDistrict': str,\n",
    "                                          'Postal_Code_Name': str,\n",
    "                                          'District': str,\n",
    "                                          'State': str,\n",
    "                                          'VN_MILIEU_CODE': str,\n",
    "                                          'VN_TARGET_GROUP_CODE': str,\n",
    "                                          'VN_MILIEU_DESCRIPTION': str,\n",
    "                                          'VP_MILIEU_DESCRIPTION': str,  \n",
    "# Tranche 1.                              'AnniversaryMth': int},low_memory=False, header=0, nrows=3100000)\n",
    "# Tranche 2. - 3086149\n",
    "                                           'AnniversaryMth': int},low_memory=False, header=0, skiprows=range(1, 3100000))\n",
    "\n",
    "\n",
    "# Fill NULLs\n",
    "df_Switches_tranche_2 = df_Switches_tranche_2.fillna(0)\n",
    "\n",
    "# Track runtime and encironment.\n",
    "print('==========================')\n",
    "now = datetime.now()\n",
    "print(now)\n",
    "print('==========================')\n",
    "print(psutil.virtual_memory())\n",
    "print('==========================')\n",
    "\n",
    "# print stats.\n",
    "print(len(df_Switches_tranche_2.index))\n",
    "print(df_Switches_tranche_2.dtypes)\n",
    "\n",
    "# Turn off dislays to protect PII\n",
    "#df_Switches_tranche_2.head(10)"
   ]
  },
  {
   "cell_type": "code",
   "execution_count": null,
   "id": "aee4720f",
   "metadata": {},
   "outputs": [],
   "source": [
    "df_Switches_table = df_Switches_tranche_2[['ContractNumber','Switch_Flag','Term_Passed','Term_Remaining','TermRemainingLTEQ_5',\n",
    "                                       'TermRemainingLTEQ_10','Age','AnniversaryMth','ProdCat','ProdCode','PolicyStatus',\n",
    "                                       'SnapshotDt','PolicyFeeType','PricingVariant','PayFreq','IndexationPercent',\n",
    "                                       'Premium','PremiumCalcMethod','ServicingBroker','InitialBroker','BrokerCategory',\n",
    "                                       'InitialRate','RenewalRate','VIPType','Nationality','IsSmoker','PoliticallyExposed',\n",
    "                                       'BirthPlace','Gender','MaritalStatus','PensionDisability','WOPDisability',\n",
    "                                       'AddressCity','PartnerType','EUSanctioned','AddressDistrict','Postal_Code',\n",
    "                                       'Postal_Code_Name','District','State','VN_MILIEU_CODE','VN_TARGET_GROUP_CODE',\n",
    "                                       'VN_MILIEU_DESCRIPTION','VP_MILIEU_DESCRIPTION','Term']]\n",
    "\n",
    "print('==========================')\n",
    "now = datetime.now()\n",
    "print(now)\n",
    "print('==========================')\n",
    "print(psutil.virtual_memory())\n",
    "print('==========================')\n",
    "\n",
    "# print stats.\n",
    "print(len(df_Switches_tranche_2.index))\n",
    "del df_Switches_tranche_2\n",
    "\n",
    "print(len(df_Switches_table.index))\n",
    "\n",
    "# Turn off dislays to protect PII\n",
    "#df_Switches_table.head(10)"
   ]
  },
  {
   "cell_type": "markdown",
   "id": "f7d69ded",
   "metadata": {},
   "source": [
    " # Look at the distribution of the target variable."
   ]
  },
  {
   "cell_type": "code",
   "execution_count": 5,
   "id": "8e4f50ac",
   "metadata": {},
   "outputs": [
    {
     "name": "stdout",
     "output_type": "stream",
     "text": [
      "False    3082121\n",
      "True        4029\n",
      "Name: Switch_Flag, dtype: int64\n"
     ]
    }
   ],
   "source": [
    "print(df_Switches_table['Switch_Flag'].value_counts())"
   ]
  },
  {
   "cell_type": "markdown",
   "id": "2a47a710",
   "metadata": {},
   "source": [
    "# 2. Generate single table metadata from the dataframe."
   ]
  },
  {
   "cell_type": "code",
   "execution_count": 6,
   "id": "aef7f50d",
   "metadata": {},
   "outputs": [
    {
     "name": "stdout",
     "output_type": "stream",
     "text": [
      "==========================\n",
      "2024-07-27 02:06:40.759653\n",
      "==========================\n",
      "svmem(total=16756752384, available=4876382208, percent=70.9, used=11880370176, free=4876382208)\n",
      "==========================\n",
      "metadata- {\n",
      "    \"METADATA_SPEC_VERSION\": \"SINGLE_TABLE_V1\"\n",
      "}\n"
     ]
    }
   ],
   "source": [
    "metadata = SingleTableMetadata()\n",
    "\n",
    "print('==========================')\n",
    "now = datetime.now()\n",
    "print(now)\n",
    "print('==========================')\n",
    "print(psutil.virtual_memory())\n",
    "print('==========================')\n",
    "\n",
    "#metadata\n",
    "print(\"metadata-\",metadata) "
   ]
  },
  {
   "cell_type": "markdown",
   "id": "03de7672",
   "metadata": {},
   "source": [
    "# 3. Auto detect metadata.\n",
    "## The real fund switch data comes with no pre-prepared metadata automatically detect and generate the metadata based on the real data. \n"
   ]
  },
  {
   "cell_type": "code",
   "execution_count": 7,
   "id": "36eabdb8",
   "metadata": {},
   "outputs": [
    {
     "name": "stdout",
     "output_type": "stream",
     "text": [
      "==========================\n",
      "2024-07-27 02:06:45.827300\n",
      "==========================\n",
      "svmem(total=16756752384, available=4819750912, percent=71.2, used=11937001472, free=4819750912)\n",
      "==========================\n",
      "metadata- {\n",
      "    \"METADATA_SPEC_VERSION\": \"SINGLE_TABLE_V1\",\n",
      "    \"columns\": {\n",
      "        \"ContractNumber\": {\n",
      "            \"sdtype\": \"categorical\"\n",
      "        },\n",
      "        \"Switch_Flag\": {\n",
      "            \"sdtype\": \"boolean\"\n",
      "        },\n",
      "        \"Term_Passed\": {\n",
      "            \"sdtype\": \"numerical\"\n",
      "        },\n",
      "        \"Term_Remaining\": {\n",
      "            \"sdtype\": \"numerical\"\n",
      "        },\n",
      "        \"TermRemainingLTEQ_5\": {\n",
      "            \"sdtype\": \"numerical\"\n",
      "        },\n",
      "        \"TermRemainingLTEQ_10\": {\n",
      "            \"sdtype\": \"numerical\"\n",
      "        },\n",
      "        \"Age\": {\n",
      "            \"sdtype\": \"numerical\"\n",
      "        },\n",
      "        \"AnniversaryMth\": {\n",
      "            \"sdtype\": \"numerical\"\n",
      "        },\n",
      "        \"ProdCat\": {\n",
      "            \"sdtype\": \"categorical\"\n",
      "        },\n",
      "        \"ProdCode\": {\n",
      "            \"sdtype\": \"categorical\"\n",
      "        },\n",
      "        \"PolicyStatus\": {\n",
      "            \"sdtype\": \"categorical\"\n",
      "        },\n",
      "        \"SnapshotDt\": {\n",
      "            \"sdtype\": \"categorical\"\n",
      "        },\n",
      "        \"PolicyFeeType\": {\n",
      "            \"sdtype\": \"categorical\"\n",
      "        },\n",
      "        \"PricingVariant\": {\n",
      "            \"sdtype\": \"numerical\"\n",
      "        },\n",
      "        \"PayFreq\": {\n",
      "            \"sdtype\": \"numerical\"\n",
      "        },\n",
      "        \"IndexationPercent\": {\n",
      "            \"sdtype\": \"numerical\"\n",
      "        },\n",
      "        \"Premium\": {\n",
      "            \"sdtype\": \"numerical\"\n",
      "        },\n",
      "        \"PremiumCalcMethod\": {\n",
      "            \"sdtype\": \"categorical\"\n",
      "        },\n",
      "        \"ServicingBroker\": {\n",
      "            \"sdtype\": \"categorical\"\n",
      "        },\n",
      "        \"InitialBroker\": {\n",
      "            \"sdtype\": \"categorical\"\n",
      "        },\n",
      "        \"BrokerCategory\": {\n",
      "            \"sdtype\": \"categorical\"\n",
      "        },\n",
      "        \"InitialRate\": {\n",
      "            \"sdtype\": \"numerical\"\n",
      "        },\n",
      "        \"RenewalRate\": {\n",
      "            \"sdtype\": \"numerical\"\n",
      "        },\n",
      "        \"VIPType\": {\n",
      "            \"sdtype\": \"categorical\"\n",
      "        },\n",
      "        \"Nationality\": {\n",
      "            \"sdtype\": \"categorical\"\n",
      "        },\n",
      "        \"IsSmoker\": {\n",
      "            \"sdtype\": \"categorical\"\n",
      "        },\n",
      "        \"PoliticallyExposed\": {\n",
      "            \"sdtype\": \"categorical\"\n",
      "        },\n",
      "        \"BirthPlace\": {\n",
      "            \"sdtype\": \"categorical\"\n",
      "        },\n",
      "        \"Gender\": {\n",
      "            \"sdtype\": \"categorical\"\n",
      "        },\n",
      "        \"MaritalStatus\": {\n",
      "            \"sdtype\": \"categorical\"\n",
      "        },\n",
      "        \"PensionDisability\": {\n",
      "            \"sdtype\": \"numerical\"\n",
      "        },\n",
      "        \"WOPDisability\": {\n",
      "            \"sdtype\": \"numerical\"\n",
      "        },\n",
      "        \"AddressCity\": {\n",
      "            \"sdtype\": \"categorical\"\n",
      "        },\n",
      "        \"PartnerType\": {\n",
      "            \"sdtype\": \"categorical\"\n",
      "        },\n",
      "        \"EUSanctioned\": {\n",
      "            \"sdtype\": \"categorical\"\n",
      "        },\n",
      "        \"AddressDistrict\": {\n",
      "            \"sdtype\": \"categorical\"\n",
      "        },\n",
      "        \"Postal_Code\": {\n",
      "            \"sdtype\": \"numerical\"\n",
      "        },\n",
      "        \"Postal_Code_Name\": {\n",
      "            \"sdtype\": \"categorical\"\n",
      "        },\n",
      "        \"District\": {\n",
      "            \"sdtype\": \"categorical\"\n",
      "        },\n",
      "        \"State\": {\n",
      "            \"sdtype\": \"categorical\"\n",
      "        },\n",
      "        \"VN_MILIEU_CODE\": {\n",
      "            \"sdtype\": \"categorical\"\n",
      "        },\n",
      "        \"VN_TARGET_GROUP_CODE\": {\n",
      "            \"sdtype\": \"categorical\"\n",
      "        },\n",
      "        \"VN_MILIEU_DESCRIPTION\": {\n",
      "            \"sdtype\": \"categorical\"\n",
      "        },\n",
      "        \"VP_MILIEU_DESCRIPTION\": {\n",
      "            \"sdtype\": \"categorical\"\n",
      "        },\n",
      "        \"Term\": {\n",
      "            \"sdtype\": \"numerical\"\n",
      "        }\n",
      "    }\n",
      "}\n"
     ]
    },
    {
     "data": {
      "text/plain": [
       "{\n",
       "    \"METADATA_SPEC_VERSION\": \"SINGLE_TABLE_V1\",\n",
       "    \"columns\": {\n",
       "        \"ContractNumber\": {\n",
       "            \"sdtype\": \"categorical\"\n",
       "        },\n",
       "        \"Switch_Flag\": {\n",
       "            \"sdtype\": \"boolean\"\n",
       "        },\n",
       "        \"Term_Passed\": {\n",
       "            \"sdtype\": \"numerical\"\n",
       "        },\n",
       "        \"Term_Remaining\": {\n",
       "            \"sdtype\": \"numerical\"\n",
       "        },\n",
       "        \"TermRemainingLTEQ_5\": {\n",
       "            \"sdtype\": \"numerical\"\n",
       "        },\n",
       "        \"TermRemainingLTEQ_10\": {\n",
       "            \"sdtype\": \"numerical\"\n",
       "        },\n",
       "        \"Age\": {\n",
       "            \"sdtype\": \"numerical\"\n",
       "        },\n",
       "        \"AnniversaryMth\": {\n",
       "            \"sdtype\": \"numerical\"\n",
       "        },\n",
       "        \"ProdCat\": {\n",
       "            \"sdtype\": \"categorical\"\n",
       "        },\n",
       "        \"ProdCode\": {\n",
       "            \"sdtype\": \"categorical\"\n",
       "        },\n",
       "        \"PolicyStatus\": {\n",
       "            \"sdtype\": \"categorical\"\n",
       "        },\n",
       "        \"SnapshotDt\": {\n",
       "            \"sdtype\": \"categorical\"\n",
       "        },\n",
       "        \"PolicyFeeType\": {\n",
       "            \"sdtype\": \"categorical\"\n",
       "        },\n",
       "        \"PricingVariant\": {\n",
       "            \"sdtype\": \"numerical\"\n",
       "        },\n",
       "        \"PayFreq\": {\n",
       "            \"sdtype\": \"numerical\"\n",
       "        },\n",
       "        \"IndexationPercent\": {\n",
       "            \"sdtype\": \"numerical\"\n",
       "        },\n",
       "        \"Premium\": {\n",
       "            \"sdtype\": \"numerical\"\n",
       "        },\n",
       "        \"PremiumCalcMethod\": {\n",
       "            \"sdtype\": \"categorical\"\n",
       "        },\n",
       "        \"ServicingBroker\": {\n",
       "            \"sdtype\": \"categorical\"\n",
       "        },\n",
       "        \"InitialBroker\": {\n",
       "            \"sdtype\": \"categorical\"\n",
       "        },\n",
       "        \"BrokerCategory\": {\n",
       "            \"sdtype\": \"categorical\"\n",
       "        },\n",
       "        \"InitialRate\": {\n",
       "            \"sdtype\": \"numerical\"\n",
       "        },\n",
       "        \"RenewalRate\": {\n",
       "            \"sdtype\": \"numerical\"\n",
       "        },\n",
       "        \"VIPType\": {\n",
       "            \"sdtype\": \"categorical\"\n",
       "        },\n",
       "        \"Nationality\": {\n",
       "            \"sdtype\": \"categorical\"\n",
       "        },\n",
       "        \"IsSmoker\": {\n",
       "            \"sdtype\": \"categorical\"\n",
       "        },\n",
       "        \"PoliticallyExposed\": {\n",
       "            \"sdtype\": \"categorical\"\n",
       "        },\n",
       "        \"BirthPlace\": {\n",
       "            \"sdtype\": \"categorical\"\n",
       "        },\n",
       "        \"Gender\": {\n",
       "            \"sdtype\": \"categorical\"\n",
       "        },\n",
       "        \"MaritalStatus\": {\n",
       "            \"sdtype\": \"categorical\"\n",
       "        },\n",
       "        \"PensionDisability\": {\n",
       "            \"sdtype\": \"numerical\"\n",
       "        },\n",
       "        \"WOPDisability\": {\n",
       "            \"sdtype\": \"numerical\"\n",
       "        },\n",
       "        \"AddressCity\": {\n",
       "            \"sdtype\": \"categorical\"\n",
       "        },\n",
       "        \"PartnerType\": {\n",
       "            \"sdtype\": \"categorical\"\n",
       "        },\n",
       "        \"EUSanctioned\": {\n",
       "            \"sdtype\": \"categorical\"\n",
       "        },\n",
       "        \"AddressDistrict\": {\n",
       "            \"sdtype\": \"categorical\"\n",
       "        },\n",
       "        \"Postal_Code\": {\n",
       "            \"sdtype\": \"numerical\"\n",
       "        },\n",
       "        \"Postal_Code_Name\": {\n",
       "            \"sdtype\": \"categorical\"\n",
       "        },\n",
       "        \"District\": {\n",
       "            \"sdtype\": \"categorical\"\n",
       "        },\n",
       "        \"State\": {\n",
       "            \"sdtype\": \"categorical\"\n",
       "        },\n",
       "        \"VN_MILIEU_CODE\": {\n",
       "            \"sdtype\": \"categorical\"\n",
       "        },\n",
       "        \"VN_TARGET_GROUP_CODE\": {\n",
       "            \"sdtype\": \"categorical\"\n",
       "        },\n",
       "        \"VN_MILIEU_DESCRIPTION\": {\n",
       "            \"sdtype\": \"categorical\"\n",
       "        },\n",
       "        \"VP_MILIEU_DESCRIPTION\": {\n",
       "            \"sdtype\": \"categorical\"\n",
       "        },\n",
       "        \"Term\": {\n",
       "            \"sdtype\": \"numerical\"\n",
       "        }\n",
       "    }\n",
       "}"
      ]
     },
     "execution_count": 7,
     "metadata": {},
     "output_type": "execute_result"
    }
   ],
   "source": [
    "metadata.detect_from_dataframe(data=df_Switches_table)\n",
    "\n",
    "print('==========================')\n",
    "now = datetime.now()\n",
    "print(now)\n",
    "print('==========================')\n",
    "print(psutil.virtual_memory())\n",
    "print('==========================')\n",
    "\n",
    "\n",
    "#metadata\n",
    "print(\"metadata-\",metadata) \n",
    "metadata"
   ]
  },
  {
   "cell_type": "code",
   "execution_count": 8,
   "id": "405513fb",
   "metadata": {
    "scrolled": false
   },
   "outputs": [
    {
     "name": "stdout",
     "output_type": "stream",
     "text": [
      "==========================\n",
      "2024-07-27 02:06:45.849252\n",
      "==========================\n",
      "svmem(total=16756752384, available=4819193856, percent=71.2, used=11937558528, free=4819193856)\n",
      "==========================\n"
     ]
    },
    {
     "data": {
      "text/plain": [
       "{\n",
       "    \"METADATA_SPEC_VERSION\": \"SINGLE_TABLE_V1\",\n",
       "    \"columns\": {\n",
       "        \"ContractNumber\": {\n",
       "            \"sdtype\": \"categorical\"\n",
       "        },\n",
       "        \"Switch_Flag\": {\n",
       "            \"sdtype\": \"boolean\"\n",
       "        },\n",
       "        \"Term_Passed\": {\n",
       "            \"sdtype\": \"numerical\"\n",
       "        },\n",
       "        \"Term_Remaining\": {\n",
       "            \"sdtype\": \"numerical\"\n",
       "        },\n",
       "        \"TermRemainingLTEQ_5\": {\n",
       "            \"sdtype\": \"numerical\"\n",
       "        },\n",
       "        \"TermRemainingLTEQ_10\": {\n",
       "            \"sdtype\": \"numerical\"\n",
       "        },\n",
       "        \"Age\": {\n",
       "            \"sdtype\": \"numerical\"\n",
       "        },\n",
       "        \"AnniversaryMth\": {\n",
       "            \"sdtype\": \"numerical\"\n",
       "        },\n",
       "        \"ProdCat\": {\n",
       "            \"sdtype\": \"categorical\"\n",
       "        },\n",
       "        \"ProdCode\": {\n",
       "            \"sdtype\": \"categorical\"\n",
       "        },\n",
       "        \"PolicyStatus\": {\n",
       "            \"sdtype\": \"categorical\"\n",
       "        },\n",
       "        \"SnapshotDt\": {\n",
       "            \"sdtype\": \"datetime\",\n",
       "            \"datetime_format\": \"%Y-%m-%d\"\n",
       "        },\n",
       "        \"PolicyFeeType\": {\n",
       "            \"sdtype\": \"categorical\"\n",
       "        },\n",
       "        \"PricingVariant\": {\n",
       "            \"sdtype\": \"numerical\"\n",
       "        },\n",
       "        \"PayFreq\": {\n",
       "            \"sdtype\": \"numerical\"\n",
       "        },\n",
       "        \"IndexationPercent\": {\n",
       "            \"sdtype\": \"numerical\"\n",
       "        },\n",
       "        \"Premium\": {\n",
       "            \"sdtype\": \"numerical\"\n",
       "        },\n",
       "        \"PremiumCalcMethod\": {\n",
       "            \"sdtype\": \"categorical\"\n",
       "        },\n",
       "        \"ServicingBroker\": {\n",
       "            \"sdtype\": \"categorical\"\n",
       "        },\n",
       "        \"InitialBroker\": {\n",
       "            \"sdtype\": \"categorical\"\n",
       "        },\n",
       "        \"BrokerCategory\": {\n",
       "            \"sdtype\": \"categorical\"\n",
       "        },\n",
       "        \"InitialRate\": {\n",
       "            \"sdtype\": \"numerical\"\n",
       "        },\n",
       "        \"RenewalRate\": {\n",
       "            \"sdtype\": \"numerical\"\n",
       "        },\n",
       "        \"VIPType\": {\n",
       "            \"sdtype\": \"categorical\"\n",
       "        },\n",
       "        \"Nationality\": {\n",
       "            \"sdtype\": \"categorical\"\n",
       "        },\n",
       "        \"IsSmoker\": {\n",
       "            \"sdtype\": \"categorical\"\n",
       "        },\n",
       "        \"PoliticallyExposed\": {\n",
       "            \"sdtype\": \"categorical\"\n",
       "        },\n",
       "        \"BirthPlace\": {\n",
       "            \"sdtype\": \"categorical\"\n",
       "        },\n",
       "        \"Gender\": {\n",
       "            \"sdtype\": \"categorical\"\n",
       "        },\n",
       "        \"MaritalStatus\": {\n",
       "            \"sdtype\": \"categorical\"\n",
       "        },\n",
       "        \"PensionDisability\": {\n",
       "            \"sdtype\": \"numerical\"\n",
       "        },\n",
       "        \"WOPDisability\": {\n",
       "            \"sdtype\": \"numerical\"\n",
       "        },\n",
       "        \"AddressCity\": {\n",
       "            \"sdtype\": \"categorical\"\n",
       "        },\n",
       "        \"PartnerType\": {\n",
       "            \"sdtype\": \"categorical\"\n",
       "        },\n",
       "        \"EUSanctioned\": {\n",
       "            \"sdtype\": \"categorical\"\n",
       "        },\n",
       "        \"AddressDistrict\": {\n",
       "            \"sdtype\": \"categorical\"\n",
       "        },\n",
       "        \"Postal_Code\": {\n",
       "            \"sdtype\": \"numerical\"\n",
       "        },\n",
       "        \"Postal_Code_Name\": {\n",
       "            \"sdtype\": \"categorical\"\n",
       "        },\n",
       "        \"District\": {\n",
       "            \"sdtype\": \"categorical\"\n",
       "        },\n",
       "        \"State\": {\n",
       "            \"sdtype\": \"categorical\"\n",
       "        },\n",
       "        \"VN_MILIEU_CODE\": {\n",
       "            \"sdtype\": \"categorical\"\n",
       "        },\n",
       "        \"VN_TARGET_GROUP_CODE\": {\n",
       "            \"sdtype\": \"categorical\"\n",
       "        },\n",
       "        \"VN_MILIEU_DESCRIPTION\": {\n",
       "            \"sdtype\": \"categorical\"\n",
       "        },\n",
       "        \"VP_MILIEU_DESCRIPTION\": {\n",
       "            \"sdtype\": \"categorical\"\n",
       "        },\n",
       "        \"Term\": {\n",
       "            \"sdtype\": \"numerical\"\n",
       "        }\n",
       "    }\n",
       "}"
      ]
     },
     "execution_count": 8,
     "metadata": {},
     "output_type": "execute_result"
    }
   ],
   "source": [
    "metadata.update_column(\n",
    "    column_name='SnapshotDt',\n",
    "    sdtype='datetime',\n",
    "    datetime_format='%Y-%m-%d')\n",
    "\n",
    "print('==========================')\n",
    "now = datetime.now()\n",
    "print(now)\n",
    "print('==========================')\n",
    "print(psutil.virtual_memory())\n",
    "print('==========================')\n",
    "\n",
    "metadata"
   ]
  },
  {
   "cell_type": "markdown",
   "id": "caba1b01",
   "metadata": {},
   "source": [
    "# Create a synthesizer\n",
    "\n",
    "\n"
   ]
  },
  {
   "cell_type": "markdown",
   "id": "e47fdc4d",
   "metadata": {},
   "source": [
    "## Now reload this synthesiser from the pickle file to use on the real data."
   ]
  },
  {
   "cell_type": "code",
   "execution_count": 9,
   "id": "27a11c6d",
   "metadata": {},
   "outputs": [
    {
     "name": "stdout",
     "output_type": "stream",
     "text": [
      "==========================\n",
      "2024-07-27 02:06:46.020674\n",
      "==========================\n",
      "svmem(total=16756752384, available=4780642304, percent=71.5, used=11976110080, free=4780642304)\n",
      "==========================\n"
     ]
    }
   ],
   "source": [
    "synthesizer = GaussianCopulaSynthesizer.load(\n",
    "    filepath=home_folder + '\\switch_data_synthesizer.pkl'\n",
    ")\n",
    "\n",
    "print('==========================')\n",
    "now = datetime.now()\n",
    "print(now)\n",
    "print('==========================')\n",
    "print(psutil.virtual_memory())\n",
    "print('==========================')"
   ]
  },
  {
   "cell_type": "markdown",
   "id": "ec9b7b3a",
   "metadata": {},
   "source": [
    "## Create the synthetic data from the synthesiser."
   ]
  },
  {
   "cell_type": "code",
   "execution_count": 10,
   "id": "060f662b",
   "metadata": {},
   "outputs": [
    {
     "name": "stdout",
     "output_type": "stream",
     "text": [
      "==========================\n",
      "2024-07-27 02:14:14.100538\n",
      "==========================\n",
      "svmem(total=16756752384, available=8145747968, percent=51.4, used=8611004416, free=8145747968)\n",
      "==========================\n",
      "synthetic_data- "
     ]
    },
    {
     "name": "stderr",
     "output_type": "stream",
     "text": [
      "IOPub data rate exceeded.\n",
      "The notebook server will temporarily stop sending output\n",
      "to the client in order to avoid crashing it.\n",
      "To change this limit, set the config variable\n",
      "`--NotebookApp.iopub_data_rate_limit`.\n",
      "\n",
      "Current values:\n",
      "NotebookApp.iopub_data_rate_limit=1000000.0 (bytes/sec)\n",
      "NotebookApp.rate_limit_window=3.0 (secs)\n",
      "\n"
     ]
    }
   ],
   "source": [
    "synthetic_data = synthesizer.sample(num_rows=3100000)\n",
    "\n",
    "print('==========================')\n",
    "now = datetime.now()\n",
    "print(now)\n",
    "print('==========================')\n",
    "print(psutil.virtual_memory())\n",
    "print('==========================')\n",
    "\n",
    "#synthetic_data\n",
    "print(\"synthetic_data-\",synthetic_data) "
   ]
  },
  {
   "cell_type": "markdown",
   "id": "484d7caf",
   "metadata": {},
   "source": [
    "## Save the syntheised data to file."
   ]
  },
  {
   "cell_type": "code",
   "execution_count": 11,
   "id": "4818636b",
   "metadata": {},
   "outputs": [
    {
     "name": "stdout",
     "output_type": "stream",
     "text": [
      "==========================\n",
      "2024-07-27 02:33:55.876193\n",
      "==========================\n",
      "svmem(total=16756752384, available=10393202688, percent=38.0, used=6363549696, free=10393202688)\n",
      "==========================\n",
      "3100000\n"
     ]
    }
   ],
   "source": [
    "# save the data as a CSV\n",
    "synthetic_data.to_csv('data/synthetic_data_tranche2.csv', index=False)\n",
    "\n",
    "print('==========================')\n",
    "now = datetime.now()\n",
    "print(now)\n",
    "print('==========================')\n",
    "print(psutil.virtual_memory())\n",
    "print('==========================')\n",
    "\n",
    "print(len(synthetic_data.index))"
   ]
  },
  {
   "cell_type": "code",
   "execution_count": 12,
   "id": "a4951875",
   "metadata": {},
   "outputs": [
    {
     "name": "stdout",
     "output_type": "stream",
     "text": [
      "3100000\n"
     ]
    }
   ],
   "source": [
    "print(len(synthetic_data.index))"
   ]
  },
  {
   "cell_type": "code",
   "execution_count": 13,
   "id": "f371e07a",
   "metadata": {},
   "outputs": [
    {
     "name": "stdout",
     "output_type": "stream",
     "text": [
      "Variable            Type         Data/Info\n",
      "------------------------------------------\n",
      "df_Switches_table   DataFrame            ContractNumber  S<...>086150 rows x 45 columns]\n",
      "synthetic_data      DataFrame            ContractNumber  S<...>100000 rows x 45 columns]\n"
     ]
    }
   ],
   "source": [
    "%whos DataFrame"
   ]
  },
  {
   "cell_type": "code",
   "execution_count": 14,
   "id": "e9977ae7",
   "metadata": {},
   "outputs": [],
   "source": [
    "del df_Switches_table"
   ]
  },
  {
   "cell_type": "markdown",
   "id": "7290ae54",
   "metadata": {},
   "source": [
    "## Create a Python dictionary that corresponds to the metadata."
   ]
  },
  {
   "cell_type": "code",
   "execution_count": 15,
   "id": "8c3c10cf",
   "metadata": {},
   "outputs": [
    {
     "data": {
      "text/plain": [
       "{'METADATA_SPEC_VERSION': 'SINGLE_TABLE_V1',\n",
       " 'columns': {'ContractNumber': {'sdtype': 'categorical'},\n",
       "  'Switch_Flag': {'sdtype': 'boolean'},\n",
       "  'Term_Passed': {'sdtype': 'numerical'},\n",
       "  'Term_Remaining': {'sdtype': 'numerical'},\n",
       "  'TermRemainingLTEQ_5': {'sdtype': 'numerical'},\n",
       "  'TermRemainingLTEQ_10': {'sdtype': 'numerical'},\n",
       "  'Age': {'sdtype': 'numerical'},\n",
       "  'AnniversaryMth': {'sdtype': 'numerical'},\n",
       "  'ProdCat': {'sdtype': 'categorical'},\n",
       "  'ProdCode': {'sdtype': 'categorical'},\n",
       "  'PolicyStatus': {'sdtype': 'categorical'},\n",
       "  'SnapshotDt': {'sdtype': 'datetime', 'datetime_format': '%Y-%m-%d'},\n",
       "  'PolicyFeeType': {'sdtype': 'categorical'},\n",
       "  'PricingVariant': {'sdtype': 'numerical'},\n",
       "  'PayFreq': {'sdtype': 'numerical'},\n",
       "  'IndexationPercent': {'sdtype': 'numerical'},\n",
       "  'Premium': {'sdtype': 'numerical'},\n",
       "  'PremiumCalcMethod': {'sdtype': 'categorical'},\n",
       "  'ServicingBroker': {'sdtype': 'categorical'},\n",
       "  'InitialBroker': {'sdtype': 'categorical'},\n",
       "  'BrokerCategory': {'sdtype': 'categorical'},\n",
       "  'InitialRate': {'sdtype': 'numerical'},\n",
       "  'RenewalRate': {'sdtype': 'numerical'},\n",
       "  'VIPType': {'sdtype': 'categorical'},\n",
       "  'Nationality': {'sdtype': 'categorical'},\n",
       "  'IsSmoker': {'sdtype': 'categorical'},\n",
       "  'PoliticallyExposed': {'sdtype': 'categorical'},\n",
       "  'BirthPlace': {'sdtype': 'categorical'},\n",
       "  'Gender': {'sdtype': 'categorical'},\n",
       "  'MaritalStatus': {'sdtype': 'categorical'},\n",
       "  'PensionDisability': {'sdtype': 'numerical'},\n",
       "  'WOPDisability': {'sdtype': 'numerical'},\n",
       "  'AddressCity': {'sdtype': 'categorical'},\n",
       "  'PartnerType': {'sdtype': 'categorical'},\n",
       "  'EUSanctioned': {'sdtype': 'categorical'},\n",
       "  'AddressDistrict': {'sdtype': 'categorical'},\n",
       "  'Postal_Code': {'sdtype': 'numerical'},\n",
       "  'Postal_Code_Name': {'sdtype': 'categorical'},\n",
       "  'District': {'sdtype': 'categorical'},\n",
       "  'State': {'sdtype': 'categorical'},\n",
       "  'VN_MILIEU_CODE': {'sdtype': 'categorical'},\n",
       "  'VN_TARGET_GROUP_CODE': {'sdtype': 'categorical'},\n",
       "  'VN_MILIEU_DESCRIPTION': {'sdtype': 'categorical'},\n",
       "  'VP_MILIEU_DESCRIPTION': {'sdtype': 'categorical'},\n",
       "  'Term': {'sdtype': 'numerical'}}}"
      ]
     },
     "execution_count": 15,
     "metadata": {},
     "output_type": "execute_result"
    }
   ],
   "source": [
    "python_dict = metadata.to_dict()\n",
    "python_dict"
   ]
  },
  {
   "cell_type": "code",
   "execution_count": null,
   "id": "fafaab44",
   "metadata": {},
   "outputs": [],
   "source": []
  },
  {
   "cell_type": "code",
   "execution_count": null,
   "id": "c24d8f75",
   "metadata": {},
   "outputs": [],
   "source": []
  },
  {
   "cell_type": "code",
   "execution_count": 16,
   "id": "bd6ad1a0",
   "metadata": {},
   "outputs": [
    {
     "ename": "NameError",
     "evalue": "name 'df_Switches_table' is not defined",
     "output_type": "error",
     "traceback": [
      "\u001b[1;31m---------------------------------------------------------------------------\u001b[0m",
      "\u001b[1;31mNameError\u001b[0m                                 Traceback (most recent call last)",
      "Cell \u001b[1;32mIn[16], line 4\u001b[0m\n\u001b[0;32m      1\u001b[0m \u001b[38;5;66;03m#from sdv.evaluation.single_table import evaluate_quality\u001b[39;00m\n\u001b[0;32m      3\u001b[0m quality_report \u001b[38;5;241m=\u001b[39m evaluate_quality(\n\u001b[1;32m----> 4\u001b[0m     real_data\u001b[38;5;241m=\u001b[39m\u001b[43mdf_Switches_table\u001b[49m,\n\u001b[0;32m      5\u001b[0m     synthetic_data\u001b[38;5;241m=\u001b[39msynthetic_data,\n\u001b[0;32m      6\u001b[0m     metadata\u001b[38;5;241m=\u001b[39mmetadata)\n",
      "\u001b[1;31mNameError\u001b[0m: name 'df_Switches_table' is not defined"
     ]
    }
   ],
   "source": [
    "#from sdv.evaluation.single_table import evaluate_quality\n",
    "\n",
    "quality_report = evaluate_quality(\n",
    "    real_data=df_Switches_table,\n",
    "    synthetic_data=synthetic_data,\n",
    "    metadata=metadata)"
   ]
  },
  {
   "cell_type": "code",
   "execution_count": null,
   "id": "571ad6e5",
   "metadata": {},
   "outputs": [],
   "source": [
    "diagnostic_report = run_diagnostic(\n",
    "    real_data=df_Switches_table,\n",
    "    synthetic_data=synthetic_data,\n",
    "    metadata=metadata)"
   ]
  },
  {
   "cell_type": "markdown",
   "id": "f876d994",
   "metadata": {},
   "source": []
  },
  {
   "cell_type": "code",
   "execution_count": null,
   "id": "ca3a2f4a",
   "metadata": {},
   "outputs": [],
   "source": []
  },
  {
   "cell_type": "code",
   "execution_count": null,
   "id": "913ed803",
   "metadata": {},
   "outputs": [],
   "source": []
  },
  {
   "cell_type": "markdown",
   "id": "cb3b337d",
   "metadata": {},
   "source": [
    "# Diagnostics."
   ]
  },
  {
   "cell_type": "code",
   "execution_count": null,
   "id": "f4afffaf",
   "metadata": {},
   "outputs": [],
   "source": [
    "diagnostic_report = run_diagnostic(\n",
    "    real_data=df_Switches_table,\n",
    "    synthetic_data=synthetic_data,\n",
    "    metadata=metadata)"
   ]
  },
  {
   "cell_type": "markdown",
   "id": "b087777c",
   "metadata": {},
   "source": [
    "## Data Quality - checks for statistical similarity between the real and the synthetic data. Use this to discover which patterns the synthetic data has captured from the real data."
   ]
  },
  {
   "cell_type": "markdown",
   "id": "78605e4a",
   "metadata": {},
   "source": [
    "https://docs.sdv.dev/sdv/multi-table-data/evaluation/data-quality"
   ]
  },
  {
   "cell_type": "code",
   "execution_count": null,
   "id": "2ec9a8f8",
   "metadata": {},
   "outputs": [],
   "source": [
    "quality_report = evaluate_quality(\n",
    "    real_data=df_Switches_table,\n",
    "    synthetic_data=synthetic_data,\n",
    "    metadata=metadata)"
   ]
  },
  {
   "cell_type": "markdown",
   "id": "ff2312ec",
   "metadata": {},
   "source": [
    "##  Visualising the evaluation of the synthesisation model by comparing the original data and the synthetic data."
   ]
  },
  {
   "cell_type": "markdown",
   "id": "3e7a84fd",
   "metadata": {},
   "source": [
    "https://github.com/sdv-dev/SDMetrics"
   ]
  },
  {
   "cell_type": "code",
   "execution_count": 62,
   "id": "0bee20c2",
   "metadata": {},
   "outputs": [
    {
     "name": "stdout",
     "output_type": "stream",
     "text": [
      "Variable         Type         Data/Info\n",
      "---------------------------------------\n",
      "Switches_table   DataFrame              POL_NUMB  API_T<...>[102975 rows x 4 columns]\n",
      "synthetic_data   DataFrame          POL_NUMB           <...>18527.459563     202205  \n"
     ]
    }
   ],
   "source": [
    "%whos DataFrame"
   ]
  },
  {
   "cell_type": "code",
   "execution_count": 63,
   "id": "3a654038",
   "metadata": {},
   "outputs": [
    {
     "data": {
      "text/plain": [
       "27.75071840555521"
      ]
     },
     "execution_count": 63,
     "metadata": {},
     "output_type": "execute_result"
    }
   ],
   "source": [
    "psutil.virtual_memory().available * 100 / psutil.virtual_memory().total"
   ]
  },
  {
   "cell_type": "code",
   "execution_count": null,
   "id": "eedb528c",
   "metadata": {},
   "outputs": [],
   "source": []
  }
 ],
 "metadata": {
  "kernelspec": {
   "display_name": "Python 3 (ipykernel)",
   "language": "python",
   "name": "python3"
  },
  "language_info": {
   "codemirror_mode": {
    "name": "ipython",
    "version": 3
   },
   "file_extension": ".py",
   "mimetype": "text/x-python",
   "name": "python",
   "nbconvert_exporter": "python",
   "pygments_lexer": "ipython3",
   "version": "3.8.8"
  }
 },
 "nbformat": 4,
 "nbformat_minor": 5
}
