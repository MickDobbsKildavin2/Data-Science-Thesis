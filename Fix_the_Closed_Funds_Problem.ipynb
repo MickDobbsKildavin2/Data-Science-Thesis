{
 "cells": [
  {
   "cell_type": "markdown",
   "id": "a4c7540b",
   "metadata": {},
   "source": [
    "Import the libraries needed"
   ]
  },
  {
   "cell_type": "code",
   "execution_count": 1,
   "id": "96b7fd46",
   "metadata": {},
   "outputs": [
    {
     "name": "stderr",
     "output_type": "stream",
     "text": [
      "C:\\Users\\m033\\Anaconda3\\lib\\site-packages\\requests\\__init__.py:109: RequestsDependencyWarning: urllib3 (1.26.16) or chardet (3.0.0)/charset_normalizer (2.0.4) doesn't match a supported version!\n",
      "  warnings.warn(\n"
     ]
    }
   ],
   "source": [
    "import pandas as pd\n",
    "import numpy as np\n",
    "import os\n",
    "import pyodbc\n",
    "pyodbc.drivers()\n",
    "from datetime import datetime\n",
    "import psutil\n",
    "\n",
    "# For the Yahoo Finance api\n",
    "from pandas_datareader import data as pdr\n",
    "import yfinance as yf\n",
    "yf.pdr_override() # <== that's all it takes :-)\n",
    "\n",
    "# importing matplotlib module\n",
    "import matplotlib.pyplot as plt\n",
    "plt.style.use('default')"
   ]
  },
  {
   "cell_type": "code",
   "execution_count": 2,
   "id": "aabf903e",
   "metadata": {},
   "outputs": [
    {
     "name": "stdout",
     "output_type": "stream",
     "text": [
      "==========================\n",
      "2024-08-14 17:43:32.697832\n",
      "==========================\n",
      "svmem(total=16756752384, available=4995297280, percent=70.2, used=11761455104, free=4995297280)\n",
      "==========================\n"
     ]
    }
   ],
   "source": [
    "pd.set_option('max_row', None)\n",
    "#pd.options.display.max_rows = 1000\n",
    "\n",
    "# Set a value for the home folder.\n",
    "home_folder = \".\"\n",
    "\n",
    "# Set values for the various paths.\n",
    "input_path = home_folder + \"\\data\"\n",
    "\n",
    "print('==========================')\n",
    "now = datetime.now()\n",
    "print(now)\n",
    "print('==========================')\n",
    "print(psutil.virtual_memory())\n",
    "print('==========================')"
   ]
  },
  {
   "cell_type": "markdown",
   "id": "b0328df7",
   "metadata": {},
   "source": [
    "### All the data used has been provisined in Get_The_Data.ipynb"
   ]
  },
  {
   "cell_type": "markdown",
   "id": "77ebdb70",
   "metadata": {},
   "source": [
    "# Investigated the spike and it is downw to a fund closure on those dates."
   ]
  },
  {
   "cell_type": "code",
   "execution_count": 30,
   "id": "8b4dca43",
   "metadata": {},
   "outputs": [
    {
     "name": "stderr",
     "output_type": "stream",
     "text": [
      "'[Capture.PNG]' is not recognized as an internal or external command,\n",
      "operable program or batch file.\n"
     ]
    }
   ],
   "source": [
    "![Capture.PNG](attachment:Capture.PNG)"
   ]
  },
  {
   "cell_type": "markdown",
   "id": "430b32ee",
   "metadata": {},
   "source": [
    "# 1. Read back the dataset of all switches."
   ]
  },
  {
   "cell_type": "code",
   "execution_count": 3,
   "id": "06144a5d",
   "metadata": {},
   "outputs": [
    {
     "name": "stdout",
     "output_type": "stream",
     "text": [
      "202891\n",
      "index                              int64\n",
      "POLICY_NUMBER                     object\n",
      "LEGACY_FUND_CODE                  object\n",
      "PRODUCT                           object\n",
      "PROCESSING_DATE           datetime64[ns]\n",
      "EFFECTIVE_DATE                    object\n",
      "UNIT_TYPE                         object\n",
      "CHARGE_TYPE                       object\n",
      "CASH_VALUE                       float64\n",
      "RISK_COMMENCEMENT_DATE            object\n",
      "Servicing_Broker_Code             object\n",
      "Issue_Date                        object\n",
      "Cover_End_Date                    object\n",
      "Anniversary_Date                  object\n",
      "Source                            object\n",
      "SOURCE                            object\n",
      "dtype: object\n",
      "==========================\n",
      "2024-08-14 17:43:33.997121\n",
      "==========================\n",
      "svmem(total=16756752384, available=4947120128, percent=70.5, used=11809632256, free=4947120128)\n",
      "==========================\n"
     ]
    }
   ],
   "source": [
    "# giving directory name\n",
    "All_Switches = input_path + '\\All_Switches.csv'\n",
    "\n",
    "df_All_Switches = pd.read_csv(All_Switches, delimiter=',',low_memory=False, header=0)\n",
    "\n",
    "# Filter out old dates.\n",
    "df_All_Switches = df_All_Switches[df_All_Switches.PROCESSING_DATE > '20181231']\n",
    "\n",
    "# Make the processing date a real date.\n",
    "df_All_Switches['PROCESSING_DATE'] = pd.to_datetime(df_All_Switches['PROCESSING_DATE'])\n",
    "\n",
    "# print stats.\n",
    "print(len(df_All_Switches.index))\n",
    "print(df_All_Switches.dtypes)\n",
    "\n",
    "print('==========================')\n",
    "now = datetime.now()\n",
    "print(now)\n",
    "print('==========================')\n",
    "print(psutil.virtual_memory())\n",
    "print('==========================')\n",
    "\n",
    "# No displays to protect PII data\n",
    "#df_All_Switches.head(5)"
   ]
  },
  {
   "cell_type": "markdown",
   "id": "a1eb0f1e",
   "metadata": {},
   "source": [
    "# 2. Create a new dataframe with switches for the fund close date range."
   ]
  },
  {
   "cell_type": "code",
   "execution_count": 4,
   "id": "0bd37996",
   "metadata": {},
   "outputs": [
    {
     "name": "stdout",
     "output_type": "stream",
     "text": [
      "9893\n",
      "==========================\n",
      "2024-08-14 17:43:34.146892\n",
      "==========================\n",
      "svmem(total=16756752384, available=4945907712, percent=70.5, used=11810844672, free=4945907712)\n",
      "==========================\n"
     ]
    }
   ],
   "source": [
    "from_dt = '2022-04-01'\n",
    "to_dt   = '2022-07-31'\n",
    "df_Fund_Close_Period = df_All_Switches[(df_All_Switches['PROCESSING_DATE'] > from_dt) & (df_All_Switches['PROCESSING_DATE'] < to_dt)]\n",
    "\n",
    "print(len(df_Fund_Close_Period.index))\n",
    "\n",
    "print('==========================')\n",
    "now = datetime.now()\n",
    "print(now)\n",
    "print('==========================')\n",
    "print(psutil.virtual_memory())\n",
    "print('==========================')\n",
    "\n",
    "# No displays to protect PII data\n",
    "#df_Fund_Close_Period.head(5)"
   ]
  },
  {
   "cell_type": "markdown",
   "id": "c6f42d92",
   "metadata": {},
   "source": [
    "# 3. Get a list of policies that were involved in a fund closure."
   ]
  },
  {
   "cell_type": "code",
   "execution_count": 31,
   "id": "e33e459d",
   "metadata": {},
   "outputs": [
    {
     "name": "stdout",
     "output_type": "stream",
     "text": [
      "69\n",
      ".\\data\\Fund_Close_Unique_Pols.csv\n",
      "==========================\n",
      "2024-08-14 17:45:16.943810\n",
      "==========================\n",
      "svmem(total=16756752384, available=5398556672, percent=67.8, used=11358195712, free=5398556672)\n",
      "==========================\n"
     ]
    }
   ],
   "source": [
    "# These are the funds that were closed.\n",
    "close_funds = ['XSFFF6']\n",
    "\n",
    "#print('These are the funds that were closed.',close_funds)\n",
    "\n",
    "# Find the rows where this exists\n",
    "df_Fund_Close_Pols = df_Fund_Close_Period[df_Fund_Close_Period.LEGACY_FUND_CODE.isin(close_funds)]\n",
    "\n",
    "\n",
    "# Find the rows where this exists\n",
    "#df_Fund_Close_Pols = df_Fund_Close_Period[~df_Fund_Close_Period.LEGACY_FUND_CODE.isin(close_funds)]\n",
    "df_Fund_Close_Pols = df_Fund_Close_Period[df_Fund_Close_Period.LEGACY_FUND_CODE.isin(close_funds)]\n",
    "\n",
    "# Isolate teh policy number\n",
    "df_Fund_Close_Unique_Pols = df_Fund_Close_Pols[['POLICY_NUMBER']]\n",
    "\n",
    "# Drop duplicate policy numbers\n",
    "df_Fund_Close_Unique_Pols = df_Fund_Close_Unique_Pols.drop_duplicates(subset=['POLICY_NUMBER'], keep='first')\n",
    "\n",
    "df_Fund_Close_Unique_Pols = df_Fund_Close_Unique_Pols.rename(columns={\"POLICY_NUMBER\":\"Pols_To_Delete\"})\n",
    "df_Fund_Close_Unique_Pols.head(5)\n",
    "\n",
    "# Write out to a comma separated values file.\n",
    "filename = input_path + '\\Fund_Close_Unique_Pols.csv'\n",
    "df_Fund_Close_Unique_Pols.to_csv(filename, encoding='utf-8', index=False)  \n",
    "\n",
    "print(len(df_Fund_Close_Unique_Pols.index))\n",
    "print(filename)\n",
    "\n",
    "print('==========================')\n",
    "now = datetime.now()\n",
    "print(now)\n",
    "print('==========================')\n",
    "print(psutil.virtual_memory())\n",
    "print('==========================')\n",
    "\n",
    "# No displays to protect PII data\n",
    "#df_Fund_Close_Unique_Pols.head(5)"
   ]
  },
  {
   "cell_type": "markdown",
   "id": "de6fa6e8",
   "metadata": {},
   "source": [
    "# 4. Using the policy numbers from the list of policies that were involved in a fund closure, create a list of switches to delete."
   ]
  },
  {
   "cell_type": "code",
   "execution_count": 6,
   "id": "02183c63",
   "metadata": {},
   "outputs": [
    {
     "name": "stdout",
     "output_type": "stream",
     "text": [
      "9893\n",
      "69\n"
     ]
    }
   ],
   "source": [
    "print(len(df_Fund_Close_Period.index))\n",
    "print(len(df_Fund_Close_Unique_Pols.index))\n"
   ]
  },
  {
   "cell_type": "code",
   "execution_count": 7,
   "id": "83858db9",
   "metadata": {},
   "outputs": [
    {
     "name": "stdout",
     "output_type": "stream",
     "text": [
      "9893\n",
      ".\\data\\df_LEFT_A.csv\n",
      "==========================\n",
      "2024-08-14 17:43:36.485844\n",
      "==========================\n",
      "svmem(total=16756752384, available=4926275584, percent=70.6, used=11830476800, free=4926275584)\n",
      "==========================\n"
     ]
    }
   ],
   "source": [
    "df_LEFT_A = pd.merge(df_Fund_Close_Period, df_Fund_Close_Unique_Pols, left_on = ['POLICY_NUMBER'], right_on = ['Pols_To_Delete'] , how = 'left') \n",
    "print(len(df_LEFT_A.index))\n",
    "\n",
    "# Write out to a comma separated values file.\n",
    "filename = input_path + '\\df_LEFT_A.csv'\n",
    "df_LEFT_A.to_csv(filename, encoding='utf-8', index=False)  \n",
    "\n",
    "print(filename)\n",
    "\n",
    "print('==========================')\n",
    "now = datetime.now()\n",
    "print(now)\n",
    "print('==========================')\n",
    "print(psutil.virtual_memory())\n",
    "print('==========================')\n",
    "\n",
    "# No displays to protect PII data\n",
    "#df_LEFT_A.head(25)"
   ]
  },
  {
   "cell_type": "code",
   "execution_count": 8,
   "id": "a3209687",
   "metadata": {},
   "outputs": [
    {
     "name": "stdout",
     "output_type": "stream",
     "text": [
      "9893\n",
      "69\n",
      "9893\n"
     ]
    }
   ],
   "source": [
    "print(len(df_Fund_Close_Period.index))\n",
    "print(len(df_Fund_Close_Unique_Pols.index))\n",
    "print(len(df_LEFT_A.index))"
   ]
  },
  {
   "cell_type": "markdown",
   "id": "203feeed",
   "metadata": {},
   "source": [
    "# 5. Delete the fund closure switches."
   ]
  },
  {
   "cell_type": "code",
   "execution_count": 9,
   "id": "10eda5ad",
   "metadata": {},
   "outputs": [
    {
     "name": "stdout",
     "output_type": "stream",
     "text": [
      "9893\n"
     ]
    }
   ],
   "source": [
    "# nOW DELETE ALL ROWS WHERE Pols_To_Delete is not NULL\n",
    "print(len(df_LEFT_A.index))"
   ]
  },
  {
   "cell_type": "code",
   "execution_count": 10,
   "id": "7d20a324",
   "metadata": {},
   "outputs": [
    {
     "name": "stdout",
     "output_type": "stream",
     "text": [
      "6978\n"
     ]
    }
   ],
   "source": [
    "#df = df_LEFT_A[df_LEFT_A.Pols_To_Delete != 'NaN']\n",
    "df_LEFT_A = df_LEFT_A[df_LEFT_A.Pols_To_Delete.isnull()]\n",
    "print(len(df_LEFT_A.index))\n"
   ]
  },
  {
   "cell_type": "code",
   "execution_count": 11,
   "id": "305f1625",
   "metadata": {},
   "outputs": [
    {
     "name": "stdout",
     "output_type": "stream",
     "text": [
      "6978\n",
      "6978\n"
     ]
    }
   ],
   "source": [
    "df_Closed_Funds_Policies_Removed = df_LEFT_A.drop(['index','Pols_To_Delete'],axis=1)\n",
    "print(len(df_Closed_Funds_Policies_Removed.index))\n",
    "print(len(df_LEFT_A.index))"
   ]
  },
  {
   "cell_type": "code",
   "execution_count": 12,
   "id": "9987d49f",
   "metadata": {},
   "outputs": [
    {
     "name": "stdout",
     "output_type": "stream",
     "text": [
      "6978\n",
      "6978\n"
     ]
    }
   ],
   "source": [
    "#df = df_LEFT_A[df_LEFT_A.Pols_To_Delete != 'NaN']\n",
    "#df_Closed_Funds_Policies_Removed = df_LEFT_A[df_LEFT_A.Pols_To_Delete.isnull()]\n",
    "print(len(df_Closed_Funds_Policies_Removed.index))\n",
    "print(len(df_LEFT_A.index))"
   ]
  },
  {
   "cell_type": "code",
   "execution_count": 13,
   "id": "c4edc90c",
   "metadata": {},
   "outputs": [
    {
     "name": "stdout",
     "output_type": "stream",
     "text": [
      "6978\n",
      "9893\n",
      ".\\data\\Closed_Funds_Policies_Removed.csv\n",
      "==========================\n",
      "2024-08-14 17:43:39.394051\n",
      "==========================\n",
      "svmem(total=16756752384, available=4960862208, percent=70.4, used=11795890176, free=4960862208)\n",
      "==========================\n"
     ]
    }
   ],
   "source": [
    "# Write out to a comma separated values file.\n",
    "filename = input_path + '\\Closed_Funds_Policies_Removed.csv'\n",
    "df_Closed_Funds_Policies_Removed.to_csv(filename, encoding='utf-8', index=False)  \n",
    "\n",
    "print(len(df_Closed_Funds_Policies_Removed.index))\n",
    "print(len(df_Fund_Close_Period.index))\n",
    "\n",
    "print(filename)\n",
    "\n",
    "print('==========================')\n",
    "now = datetime.now()\n",
    "print(now)\n",
    "print('==========================')\n",
    "print(psutil.virtual_memory())\n",
    "print('==========================')\n",
    "\n",
    "# No displays to protect PII data\n",
    "#df_Closed_Funds_Policies_Removed.head(25)"
   ]
  },
  {
   "cell_type": "markdown",
   "id": "381b8327",
   "metadata": {},
   "source": [
    "# 6. Create a dataframe with all other dates, outside teh fund closure period."
   ]
  },
  {
   "cell_type": "code",
   "execution_count": 14,
   "id": "560c2491",
   "metadata": {},
   "outputs": [
    {
     "name": "stdout",
     "output_type": "stream",
     "text": [
      "192949\n",
      ".\\data\\Fund_NON_Close_Period.csv\n",
      "==========================\n",
      "2024-08-14 17:43:43.334450\n",
      "==========================\n",
      "svmem(total=16756752384, available=4912447488, percent=70.7, used=11844304896, free=4912447488)\n",
      "==========================\n"
     ]
    }
   ],
   "source": [
    "# Create a dataframe with all other dates.\n",
    "from_dt = '2022-04-01'\n",
    "to_dt = '2022-07-31'\n",
    "df_Fund_NON_Close_Period = df_All_Switches[(df_All_Switches['PROCESSING_DATE'] < from_dt) | (df_All_Switches['PROCESSING_DATE'] > to_dt)]\n",
    "\n",
    "\n",
    "# Write out to a comma separated values file.\n",
    "filename = input_path + '\\Fund_NON_Close_Period.csv'\n",
    "df_Fund_NON_Close_Period.to_csv(filename, encoding='utf-8', index=False)  \n",
    "\n",
    "print(len(df_Fund_NON_Close_Period.index))\n",
    "\n",
    "print(filename)\n",
    "\n",
    "print('==========================')\n",
    "now = datetime.now()\n",
    "print(now)\n",
    "print('==========================')\n",
    "print(psutil.virtual_memory())\n",
    "print('==========================')\n",
    "\n",
    "# No displays to protect PII data\n",
    "#df_Fund_NON_Close_Period.head(5)"
   ]
  },
  {
   "cell_type": "markdown",
   "id": "57138af6",
   "metadata": {},
   "source": [
    "# 7. Merge them back to get a dataframe that has the full set of switches, MINUS switches for policies involved in the fund closure."
   ]
  },
  {
   "cell_type": "code",
   "execution_count": 15,
   "id": "b2ea7b5b",
   "metadata": {},
   "outputs": [
    {
     "name": "stdout",
     "output_type": "stream",
     "text": [
      "==========================\n",
      "2024-08-14 17:43:43.414002\n",
      "==========================\n",
      "svmem(total=16756752384, available=4882300928, percent=70.9, used=11874451456, free=4882300928)\n",
      "==========================\n"
     ]
    }
   ],
   "source": [
    "# Merge the dataframes.\n",
    "df_All_Switches_Without_Fund_Close= df_Closed_Funds_Policies_Removed.append(df_Fund_NON_Close_Period)\n",
    "#df_Switches_Without_Fund_Close = df_Switches_Without_Fund_Close.drop(['Pols_To_Delete','level_0','index'],axis=1)\n",
    "\n",
    "\n",
    "print('==========================')\n",
    "now = datetime.now()\n",
    "print(now)\n",
    "print('==========================')\n",
    "print(psutil.virtual_memory())\n",
    "print('==========================')\n",
    "\n",
    "# No displays to protect PII data\n",
    "#df_All_Switches_Without_Fund_Close.head(5)"
   ]
  },
  {
   "cell_type": "code",
   "execution_count": 16,
   "id": "5c1fbd0b",
   "metadata": {},
   "outputs": [
    {
     "name": "stdout",
     "output_type": "stream",
     "text": [
      "df_Fund_Close_Period             : 9893\n",
      "df_Closed_Funds_Policies_Removed : 6978\n",
      "df_Fund_NON_Close_Period         : 192949\n",
      "df_All_Switches                  : 202891\n"
     ]
    }
   ],
   "source": [
    "print(\"df_Fund_Close_Period             :\",len(df_Fund_Close_Period.index))\n",
    "print('df_Closed_Funds_Policies_Removed :',len(df_Closed_Funds_Policies_Removed.index))\n",
    "print('df_Fund_NON_Close_Period         :',len(df_Fund_NON_Close_Period.index))\n",
    "print('df_All_Switches                  :',len(df_All_Switches.index))\n"
   ]
  },
  {
   "cell_type": "code",
   "execution_count": 17,
   "id": "bd102fb8",
   "metadata": {},
   "outputs": [
    {
     "data": {
      "text/plain": [
       "POLICY_NUMBER                     object\n",
       "LEGACY_FUND_CODE                  object\n",
       "PRODUCT                           object\n",
       "PROCESSING_DATE           datetime64[ns]\n",
       "EFFECTIVE_DATE                    object\n",
       "UNIT_TYPE                         object\n",
       "CHARGE_TYPE                       object\n",
       "CASH_VALUE                       float64\n",
       "RISK_COMMENCEMENT_DATE            object\n",
       "Servicing_Broker_Code             object\n",
       "Issue_Date                        object\n",
       "Cover_End_Date                    object\n",
       "Anniversary_Date                  object\n",
       "Source                            object\n",
       "SOURCE                            object\n",
       "index                            float64\n",
       "dtype: object"
      ]
     },
     "execution_count": 17,
     "metadata": {},
     "output_type": "execute_result"
    }
   ],
   "source": [
    "df_All_Switches_Without_Fund_Close.dtypes"
   ]
  },
  {
   "cell_type": "markdown",
   "id": "671ba6a1",
   "metadata": {},
   "source": [
    "# 8. Re-sort by policy number and processing date and write out file."
   ]
  },
  {
   "cell_type": "code",
   "execution_count": 18,
   "id": "07346b17",
   "metadata": {},
   "outputs": [
    {
     "name": "stdout",
     "output_type": "stream",
     "text": [
      "199927\n"
     ]
    },
    {
     "name": "stderr",
     "output_type": "stream",
     "text": [
      "C:\\Users\\m033\\Anaconda3\\lib\\site-packages\\pandas\\core\\internals\\blocks.py:2106: RuntimeWarning: invalid value encountered in cast\n",
      "  values = values.astype(str)\n"
     ]
    },
    {
     "name": "stdout",
     "output_type": "stream",
     "text": [
      ".\\data\\All_Switches_Without_Fund_Close.csv\n",
      "==========================\n",
      "2024-08-14 17:43:47.123725\n",
      "==========================\n",
      "svmem(total=16756752384, available=4833099776, percent=71.2, used=11923652608, free=4833099776)\n",
      "==========================\n"
     ]
    }
   ],
   "source": [
    "# Soryt by policy number and processing date.\n",
    "#df_All_Switches_Without_Fund_Close = df_All_Switches_Without_Fund_Close.sort_values(['PROCESSING_DATE','POLICY_NUMBER','SOURCE']).reset_index(drop=False)\n",
    "df_All_Switches_Without_Fund_Close = df_All_Switches_Without_Fund_Close.sort_values(['PROCESSING_DATE','POLICY_NUMBER','SOURCE'])\n",
    "\n",
    "print(len(df_All_Switches_Without_Fund_Close.index))\n",
    "\n",
    "# Write out to a comma separated values file.\n",
    "filename = input_path + '\\All_Switches_Without_Fund_Close.csv'\n",
    "df_All_Switches_Without_Fund_Close.to_csv(filename, encoding='utf-8', index=False)      \n",
    "\n",
    "print(filename)\n",
    "\n",
    "print('==========================')\n",
    "now = datetime.now()\n",
    "print(now)\n",
    "print('==========================')\n",
    "print(psutil.virtual_memory())\n",
    "print('==========================')\n",
    "\n",
    "# No displays to protect PII data\n",
    "#df_All_Switches_Without_Fund_Close.head(10)"
   ]
  },
  {
   "cell_type": "markdown",
   "id": "ff676320",
   "metadata": {},
   "source": [
    "# 9. Get the switchable funds/switch counts."
   ]
  },
  {
   "cell_type": "code",
   "execution_count": 19,
   "id": "d38fa783",
   "metadata": {},
   "outputs": [
    {
     "name": "stdout",
     "output_type": "stream",
     "text": [
      "66\n",
      ".\\data\\Full_Population_Count.csv\n",
      "==========================\n",
      "2024-08-14 17:43:47.157793\n",
      "==========================\n",
      "svmem(total=16756752384, available=4827107328, percent=71.2, used=11929645056, free=4827107328)\n",
      "==========================\n"
     ]
    }
   ],
   "source": [
    "filename = input_path + '\\Full_Population_Count.csv'\n",
    "df_Full_Population_Count = pd.read_csv(filename, delimiter=',',low_memory=False, header=0)\n",
    "print(len(df_Full_Population_Count.index))\n",
    "\n",
    "print(filename)\n",
    "\n",
    "print('==========================')\n",
    "now = datetime.now()\n",
    "print(now)\n",
    "print('==========================')\n",
    "print(psutil.virtual_memory())\n",
    "print('==========================')\n",
    "\n",
    "# No displays to protect PII data\n",
    "#df_Full_Population_Count.head(5)"
   ]
  },
  {
   "cell_type": "markdown",
   "id": "23d5faf7",
   "metadata": {},
   "source": [
    "# 10. Create the Fund Switch Count dataframe."
   ]
  },
  {
   "cell_type": "code",
   "execution_count": 20,
   "id": "dddb9c42",
   "metadata": {},
   "outputs": [
    {
     "data": {
      "text/plain": [
       "POLICY_NUMBER                     object\n",
       "LEGACY_FUND_CODE                  object\n",
       "PRODUCT                           object\n",
       "PROCESSING_DATE           datetime64[ns]\n",
       "EFFECTIVE_DATE                    object\n",
       "UNIT_TYPE                         object\n",
       "CHARGE_TYPE                       object\n",
       "CASH_VALUE                       float64\n",
       "RISK_COMMENCEMENT_DATE            object\n",
       "Servicing_Broker_Code             object\n",
       "Issue_Date                        object\n",
       "Cover_End_Date                    object\n",
       "Anniversary_Date                  object\n",
       "Source                            object\n",
       "SOURCE                            object\n",
       "index                            float64\n",
       "dtype: object"
      ]
     },
     "execution_count": 20,
     "metadata": {},
     "output_type": "execute_result"
    }
   ],
   "source": [
    "df_All_Switches_Without_Fund_Close.dtypes"
   ]
  },
  {
   "cell_type": "code",
   "execution_count": 21,
   "id": "d2f6c048",
   "metadata": {},
   "outputs": [
    {
     "name": "stdout",
     "output_type": "stream",
     "text": [
      "199927\n",
      "==========================\n",
      "2024-08-14 17:43:49.149839\n",
      "==========================\n",
      "svmem(total=16756752384, available=4837449728, percent=71.1, used=11919302656, free=4837449728)\n",
      "==========================\n"
     ]
    },
    {
     "name": "stderr",
     "output_type": "stream",
     "text": [
      "C:\\Users\\m033\\AppData\\Local\\Temp\\ipykernel_24988\\315763259.py:3: SettingWithCopyWarning: \n",
      "A value is trying to be set on a copy of a slice from a DataFrame.\n",
      "Try using .loc[row_indexer,col_indexer] = value instead\n",
      "\n",
      "See the caveats in the documentation: https://pandas.pydata.org/pandas-docs/stable/user_guide/indexing.html#returning-a-view-versus-a-copy\n",
      "  df_Switches_Count['ProcessingtDt'] = df_Switches_Count['PROCESSING_DATE'].dt.strftime('%Y%m')\n"
     ]
    }
   ],
   "source": [
    "df_Switches_Count = df_All_Switches_Without_Fund_Close[['POLICY_NUMBER','PROCESSING_DATE']]\n",
    "#df_All_Switches['PROCESSING_DATE'] = pd.to_datetime(df_All_Switches['PROCESSING_DATE'].str.strip(), format='%Y/%m/%d')\n",
    "df_Switches_Count['ProcessingtDt'] = df_Switches_Count['PROCESSING_DATE'].dt.strftime('%Y%m')\n",
    "\n",
    "# Drop obsolete columns.\n",
    "#df_Switches_Count = df_All_Switches.drop(['LEGACY_FUND_CODE','PRODUCT','EFFECTIVE_DATE','UNIT_TYPE',\n",
    "#                                          'CHARGE_TYPE','CASH_VALUE','RISK_COMMENCEMENT_DATE','Cover_End_Date',\n",
    "#                                         'index','Servicing_Broker_Code','Issue_Date','Anniversary_Date','SOURCE',\n",
    "#                                          'PROCESSING_DATE','level_0','Pols_To_Delete'],axis=1)\n",
    "\n",
    "# Stats\n",
    "print(len(df_Switches_Count.index))\n",
    "\n",
    "print('==========================')\n",
    "now = datetime.now()\n",
    "print(now)\n",
    "print('==========================')\n",
    "print(psutil.virtual_memory())\n",
    "print('==========================')\n",
    "\n",
    "# No displays to protect PII data\n",
    "#df_Switches_Count.head(5)"
   ]
  },
  {
   "cell_type": "markdown",
   "id": "8a08be94",
   "metadata": {},
   "source": [
    "# 11. Drop duplicate policy numbers"
   ]
  },
  {
   "cell_type": "code",
   "execution_count": 22,
   "id": "57c66e56",
   "metadata": {},
   "outputs": [
    {
     "name": "stdout",
     "output_type": "stream",
     "text": [
      "7811\n",
      "==========================\n",
      "2024-08-14 17:43:49.280023\n",
      "==========================\n",
      "svmem(total=16756752384, available=4829941760, percent=71.2, used=11926810624, free=4829941760)\n",
      "==========================\n"
     ]
    }
   ],
   "source": [
    "# Drop duplicate policy numbers\n",
    "df_Switches_Count = df_Switches_Count.drop_duplicates(subset=['POLICY_NUMBER','ProcessingtDt'], keep='first')\n",
    "df_Switches_Count = df_Switches_Count.drop(['POLICY_NUMBER'],axis=1)\n",
    "\n",
    "# print stats.\n",
    "print(len(df_Switches_Count.index))\n",
    "\n",
    "print('==========================')\n",
    "now = datetime.now()\n",
    "print(now)\n",
    "print('==========================')\n",
    "print(psutil.virtual_memory())\n",
    "print('==========================')\n",
    "\n",
    "# No displays to protect PII data\n",
    "#df_Switches_Count.head(5)"
   ]
  },
  {
   "cell_type": "code",
   "execution_count": 23,
   "id": "7f38f55d",
   "metadata": {},
   "outputs": [
    {
     "name": "stdout",
     "output_type": "stream",
     "text": [
      "68\n",
      "==========================\n",
      "2024-08-14 17:43:49.312001\n",
      "==========================\n",
      "svmem(total=16756752384, available=4834721792, percent=71.1, used=11922030592, free=4834721792)\n",
      "==========================\n"
     ]
    }
   ],
   "source": [
    "# Reset teh index on count\n",
    "df_Switches_Count=df_Switches_Count[['ProcessingtDt']].value_counts().reset_index(name='counts')\n",
    "\n",
    "# Sort by ProcessingtDt\n",
    "df_Switches_Count = df_Switches_Count.sort_values(by=['ProcessingtDt'])\n",
    "\n",
    "print(len(df_Switches_Count.index))\n",
    "\n",
    "print('==========================')\n",
    "now = datetime.now()\n",
    "print(now)\n",
    "print('==========================')\n",
    "print(psutil.virtual_memory())\n",
    "print('==========================')\n",
    "\n",
    "# No displays to protect PII data\n",
    "#df_Switches_Count.head(5)"
   ]
  },
  {
   "cell_type": "code",
   "execution_count": 24,
   "id": "ab959bc3",
   "metadata": {},
   "outputs": [
    {
     "data": {
      "text/plain": [
       "POLICY_NUMBER                     object\n",
       "LEGACY_FUND_CODE                  object\n",
       "PRODUCT                           object\n",
       "PROCESSING_DATE           datetime64[ns]\n",
       "EFFECTIVE_DATE                    object\n",
       "UNIT_TYPE                         object\n",
       "CHARGE_TYPE                       object\n",
       "CASH_VALUE                       float64\n",
       "RISK_COMMENCEMENT_DATE            object\n",
       "Servicing_Broker_Code             object\n",
       "Issue_Date                        object\n",
       "Cover_End_Date                    object\n",
       "Anniversary_Date                  object\n",
       "Source                            object\n",
       "SOURCE                            object\n",
       "index                            float64\n",
       "dtype: object"
      ]
     },
     "execution_count": 24,
     "metadata": {},
     "output_type": "execute_result"
    }
   ],
   "source": [
    "df_All_Switches_Without_Fund_Close.dtypes"
   ]
  },
  {
   "cell_type": "markdown",
   "id": "6242092a",
   "metadata": {},
   "source": [
    "## Create the Fund Switch Count dataframe."
   ]
  },
  {
   "cell_type": "code",
   "execution_count": 25,
   "id": "1a42cd17",
   "metadata": {},
   "outputs": [
    {
     "name": "stdout",
     "output_type": "stream",
     "text": [
      "68\n",
      "==========================\n",
      "2024-08-14 17:43:51.755722\n",
      "==========================\n",
      "svmem(total=16756752384, available=4893585408, percent=70.8, used=11863166976, free=4893585408)\n",
      "==========================\n"
     ]
    }
   ],
   "source": [
    "df_All_Switches = df_All_Switches_Without_Fund_Close\n",
    "#df_All_Switches['PROCESSING_DATE'] = pd.to_datetime(df_All_Switches['PROCESSING_DATE'].str.strip(), format='%Y/%m/%d')\n",
    "df_All_Switches['ProcessingtDt'] = df_All_Switches['PROCESSING_DATE'].dt.strftime('%Y%m')\n",
    "\n",
    "# Drop obsolete columns.\n",
    "df_Switches_Count = df_All_Switches.drop(['POLICY_NUMBER','LEGACY_FUND_CODE','PRODUCT','EFFECTIVE_DATE','UNIT_TYPE',\n",
    "                                          'CHARGE_TYPE','CASH_VALUE','RISK_COMMENCEMENT_DATE','Cover_End_Date',\n",
    "                                         'index','Servicing_Broker_Code','Issue_Date','Anniversary_Date','SOURCE','PROCESSING_DATE'],axis=1)\n",
    "\n",
    "# Reset teh index on count\n",
    "df_Switches_Count=df_Switches_Count[['ProcessingtDt']].value_counts().reset_index(name='counts')\n",
    "\n",
    "# Sort by ProcessingtDt\n",
    "df_Switches_Count = df_Switches_Count.sort_values(by=['ProcessingtDt'])\n",
    "\n",
    "print(len(df_Switches_Count.index))\n",
    "\n",
    "print('==========================')\n",
    "now = datetime.now()\n",
    "print(now)\n",
    "print('==========================')\n",
    "print(psutil.virtual_memory())\n",
    "print('==========================')\n",
    "\n",
    "# No displays to protect PII data\n",
    "#df_Switches_Count.head(5)"
   ]
  },
  {
   "cell_type": "markdown",
   "id": "b80a040e",
   "metadata": {},
   "source": [
    "## Now remove all instances of these policies in the close fund period."
   ]
  },
  {
   "cell_type": "code",
   "execution_count": 32,
   "id": "5f262507",
   "metadata": {},
   "outputs": [
    {
     "name": "stdout",
     "output_type": "stream",
     "text": [
      "9893\n",
      ".\\data\\Fund_Close_Period.csv\n"
     ]
    }
   ],
   "source": [
    "print(len(df_Fund_Close_Period.index))\n",
    "#print(df_Fund_Close_Period.head(5))\n",
    "#print(df_Fund_Close_Period.tail(5))\n",
    "\n",
    "\n",
    "# Write out to a comma separated values file.\n",
    "filename = input_path + '\\Fund_Close_Period.csv'\n",
    "#df_Fund_Close_Period.to_csv(filename, encoding='utf-8', index=False)  \n",
    "\n",
    "print(filename)"
   ]
  },
  {
   "cell_type": "code",
   "execution_count": 27,
   "id": "67404d00",
   "metadata": {},
   "outputs": [
    {
     "name": "stdout",
     "output_type": "stream",
     "text": [
      "69\n",
      "==========================\n",
      "2024-08-14 17:43:51.816905\n",
      "==========================\n",
      "svmem(total=16756752384, available=4884467712, percent=70.9, used=11872284672, free=4884467712)\n",
      "==========================\n"
     ]
    }
   ],
   "source": [
    "print(len(df_Fund_Close_Unique_Pols.index))\n",
    "\n",
    "print('==========================')\n",
    "now = datetime.now()\n",
    "print(now)\n",
    "print('==========================')\n",
    "print(psutil.virtual_memory())\n",
    "print('==========================')\n",
    "\n",
    "# No displays to protect PII data\n",
    "#df_Fund_Close_Unique_Pols.head(5)"
   ]
  },
  {
   "cell_type": "markdown",
   "id": "cb2a646a",
   "metadata": {},
   "source": [
    "## Remove close fund pols from the full list from that period."
   ]
  },
  {
   "cell_type": "code",
   "execution_count": 28,
   "id": "0e9709f7",
   "metadata": {},
   "outputs": [
    {
     "name": "stdout",
     "output_type": "stream",
     "text": [
      "==========================\n",
      "2024-08-14 17:43:51.833971\n",
      "==========================\n",
      "svmem(total=16756752384, available=4885299200, percent=70.8, used=11871453184, free=4885299200)\n",
      "==========================\n"
     ]
    }
   ],
   "source": [
    "close_fund_pols = df_Fund_Close_Unique_Pols.values.tolist()\n",
    "\n",
    "# Stata\n",
    "\n",
    "print('==========================')\n",
    "now = datetime.now()\n",
    "print(now)\n",
    "print('==========================')\n",
    "print(psutil.virtual_memory())\n",
    "print('==========================')\n",
    "\n",
    "# No displays to protect PII data\n",
    "#close_fund_pols"
   ]
  },
  {
   "cell_type": "code",
   "execution_count": 34,
   "id": "caccafe2",
   "metadata": {},
   "outputs": [
    {
     "name": "stdout",
     "output_type": "stream",
     "text": [
      "==========================\n",
      "2024-08-14 17:46:40.363535\n",
      "==========================\n",
      "svmem(total=16756752384, available=5382082560, percent=67.9, used=11374669824, free=5382082560)\n",
      "==========================\n"
     ]
    }
   ],
   "source": [
    "df_Fund_Close_Period_New = df_Fund_Close_Period[df_Fund_Close_Period.POLICY_NUMBER.isin(close_fund_pols)]\n",
    "\n",
    "print(len(df_Fund_Close_Period_New.index))\n",
    "\n",
    "print('==========================')\n",
    "now = datetime.now()\n",
    "print(now)\n",
    "print('==========================')\n",
    "print(psutil.virtual_memory())\n",
    "print('==========================')\n",
    "\n",
    "# No displays to protect PII data\n",
    "#df_Fund_Close_Period_New.head(5)"
   ]
  },
  {
   "cell_type": "code",
   "execution_count": null,
   "id": "ea314fbe",
   "metadata": {},
   "outputs": [],
   "source": [
    "print(len(df_Fund_Close_Period.index))\n",
    "\n",
    "print('==========================')\n",
    "now = datetime.now()\n",
    "print(now)\n",
    "print('==========================')\n",
    "print(psutil.virtual_memory())\n",
    "print('==========================')\n",
    "\n",
    "# No displays to protect PII data\n",
    "#df_Fund_Close_Period.head(5)"
   ]
  },
  {
   "cell_type": "code",
   "execution_count": null,
   "id": "2824d794",
   "metadata": {},
   "outputs": [],
   "source": [
    "%who_ls DataFrame "
   ]
  },
  {
   "cell_type": "code",
   "execution_count": null,
   "id": "f98149cd",
   "metadata": {},
   "outputs": [],
   "source": [
    "del df_All_Switches\n",
    "del df_All_Switches_Without_Fund_Close\n",
    "del df_Closed_Funds_Policies_Removed\n",
    "del df_Full_Population_Count\n",
    "del df_Fund_Close_Period\n",
    "del df_Fund_Close_Period_New\n",
    "del df_Fund_Close_Pols\n",
    "del df_Fund_Close_Unique_Pols\n",
    "del df_Fund_NON_Close_Period\n",
    "del df_LEFT_A\n",
    "del df_Switches_Count\n",
    "\n",
    "print('==========================')\n",
    "now = datetime.now()\n",
    "print(now)\n",
    "print('==========================')\n",
    "print(psutil.virtual_memory())\n",
    "print('==========================')"
   ]
  },
  {
   "cell_type": "code",
   "execution_count": null,
   "id": "6343ebc3",
   "metadata": {},
   "outputs": [],
   "source": []
  },
  {
   "cell_type": "code",
   "execution_count": null,
   "id": "a717a318",
   "metadata": {},
   "outputs": [],
   "source": []
  },
  {
   "cell_type": "code",
   "execution_count": null,
   "id": "6c174e11",
   "metadata": {},
   "outputs": [],
   "source": []
  }
 ],
 "metadata": {
  "kernelspec": {
   "display_name": "Python 3 (ipykernel)",
   "language": "python",
   "name": "python3"
  },
  "language_info": {
   "codemirror_mode": {
    "name": "ipython",
    "version": 3
   },
   "file_extension": ".py",
   "mimetype": "text/x-python",
   "name": "python",
   "nbconvert_exporter": "python",
   "pygments_lexer": "ipython3",
   "version": "3.8.8"
  }
 },
 "nbformat": 4,
 "nbformat_minor": 5
}
