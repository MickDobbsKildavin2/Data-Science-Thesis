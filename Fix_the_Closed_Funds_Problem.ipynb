{
 "cells": [
  {
   "cell_type": "markdown",
   "id": "a4c7540b",
   "metadata": {},
   "source": [
    "Import the libraries needed"
   ]
  },
  {
   "cell_type": "code",
   "execution_count": 1,
   "id": "96b7fd46",
   "metadata": {},
   "outputs": [
    {
     "name": "stderr",
     "output_type": "stream",
     "text": [
      "C:\\Users\\m033\\Anaconda3\\lib\\site-packages\\requests\\__init__.py:109: RequestsDependencyWarning: urllib3 (1.26.16) or chardet (3.0.0)/charset_normalizer (2.0.4) doesn't match a supported version!\n",
      "  warnings.warn(\n"
     ]
    }
   ],
   "source": [
    "import pandas as pd\n",
    "import numpy as np\n",
    "import os\n",
    "import pyodbc\n",
    "pyodbc.drivers()\n",
    "from datetime import datetime\n",
    "import psutil\n",
    "\n",
    "# For the Yahoo Finance api\n",
    "from pandas_datareader import data as pdr\n",
    "import yfinance as yf\n",
    "yf.pdr_override() # <== that's all it takes :-)\n",
    "\n",
    "# importing matplotlib module\n",
    "import matplotlib.pyplot as plt\n",
    "plt.style.use('default')"
   ]
  },
  {
   "cell_type": "code",
   "execution_count": 2,
   "id": "aabf903e",
   "metadata": {},
   "outputs": [
    {
     "name": "stdout",
     "output_type": "stream",
     "text": [
      "==========================\n",
      "2024-08-05 21:46:04.562979\n",
      "==========================\n",
      "svmem(total=16756752384, available=8852185088, percent=47.2, used=7904567296, free=8852185088)\n",
      "==========================\n"
     ]
    }
   ],
   "source": [
    "pd.set_option('max_row', None)\n",
    "#pd.options.display.max_rows = 1000\n",
    "\n",
    "# Set a value for the home folder.\n",
    "home_folder = \".\"\n",
    "\n",
    "# Set values for the various paths.\n",
    "input_path = home_folder + \"\\data\"\n",
    "\n",
    "print('==========================')\n",
    "now = datetime.now()\n",
    "print(now)\n",
    "print('==========================')\n",
    "print(psutil.virtual_memory())\n",
    "print('==========================')"
   ]
  },
  {
   "cell_type": "markdown",
   "id": "b0328df7",
   "metadata": {},
   "source": [
    "### All the data used has been provisined in Get_The_Data.ipynb"
   ]
  },
  {
   "cell_type": "markdown",
   "id": "77ebdb70",
   "metadata": {},
   "source": [
    "# Investigated the spike and it is downw to a fund closure on those dates."
   ]
  },
  {
   "attachments": {
    "Capture.PNG": {
     "image/png": "[encoded data removed]"
    }
   },
   "cell_type": "markdown",
   "id": "d849ca6d",
   "metadata": {},
   "source": [
    "![Capture.PNG](attachment:Capture.PNG)"
   ]
  },
  {
   "cell_type": "markdown",
   "id": "430b32ee",
   "metadata": {},
   "source": [
    "# 1. Read back the dataset of all switches."
   ]
  },
  {
   "cell_type": "code",
   "execution_count": 5,
   "id": "06144a5d",
   "metadata": {},
   "outputs": [
    {
     "name": "stdout",
     "output_type": "stream",
     "text": [
      "201805\n",
      "index                              int64\n",
      "POLICY_NUMBER                     object\n",
      "LEGACY_FUND_CODE                  object\n",
      "PRODUCT                           object\n",
      "PROCESSING_DATE           datetime64[ns]\n",
      "EFFECTIVE_DATE                    object\n",
      "UNIT_TYPE                         object\n",
      "CHARGE_TYPE                       object\n",
      "CASH_VALUE                       float64\n",
      "RISK_COMMENCEMENT_DATE            object\n",
      "Servicing_Broker_Code             object\n",
      "Issue_Date                        object\n",
      "Cover_End_Date                    object\n",
      "Anniversary_Date                  object\n",
      "Source                            object\n",
      "SOURCE                            object\n",
      "dtype: object\n",
      "==========================\n",
      "2024-08-05 21:46:49.928583\n",
      "==========================\n",
      "svmem(total=16756752384, available=10141782016, percent=39.5, used=6614970368, free=10141782016)\n",
      "==========================\n"
     ]
    }
   ],
   "source": [
    "# giving directory name\n",
    "All_Switches = input_path + '\\All_Switches.csv'\n",
    "\n",
    "df_All_Switches = pd.read_csv(All_Switches, delimiter=',',low_memory=False, header=0)\n",
    "\n",
    "# Filter out old dates.\n",
    "df_All_Switches = df_All_Switches[df_All_Switches.PROCESSING_DATE > '20181231']\n",
    "\n",
    "# Make the processing date a real date.\n",
    "df_All_Switches['PROCESSING_DATE'] = pd.to_datetime(df_All_Switches['PROCESSING_DATE'])\n",
    "\n",
    "# print stats.\n",
    "print(len(df_All_Switches.index))\n",
    "print(df_All_Switches.dtypes)\n",
    "\n",
    "print('==========================')\n",
    "now = datetime.now()\n",
    "print(now)\n",
    "print('==========================')\n",
    "print(psutil.virtual_memory())\n",
    "print('==========================')\n",
    "\n",
    "# No displays to protect PII data\n",
    "#df_All_Switches.head(5)"
   ]
  },
  {
   "cell_type": "markdown",
   "id": "a1eb0f1e",
   "metadata": {},
   "source": [
    "# 2. Create a new dataframe with switches for the fund close date range."
   ]
  },
  {
   "cell_type": "code",
   "execution_count": 6,
   "id": "0bd37996",
   "metadata": {},
   "outputs": [
    {
     "name": "stdout",
     "output_type": "stream",
     "text": [
      "9893\n",
      "==========================\n",
      "2024-08-05 21:47:11.146118\n",
      "==========================\n",
      "svmem(total=16756752384, available=10128609280, percent=39.6, used=6628143104, free=10128609280)\n",
      "==========================\n"
     ]
    }
   ],
   "source": [
    "from_dt = '2022-04-01'\n",
    "to_dt   = '2022-07-31'\n",
    "df_Fund_Close_Period = df_All_Switches[(df_All_Switches['PROCESSING_DATE'] > from_dt) & (df_All_Switches['PROCESSING_DATE'] < to_dt)]\n",
    "\n",
    "print(len(df_Fund_Close_Period.index))\n",
    "\n",
    "print('==========================')\n",
    "now = datetime.now()\n",
    "print(now)\n",
    "print('==========================')\n",
    "print(psutil.virtual_memory())\n",
    "print('==========================')\n",
    "\n",
    "# No displays to protect PII data\n",
    "#df_Fund_Close_Period.head(5)"
   ]
  },
  {
   "cell_type": "markdown",
   "id": "c6f42d92",
   "metadata": {},
   "source": [
    "# 3. Get a list of policies that were involved in a fund closure."
   ]
  },
  {
   "cell_type": "code",
   "execution_count": 7,
   "id": "e33e459d",
   "metadata": {},
   "outputs": [
    {
     "name": "stdout",
     "output_type": "stream",
     "text": [
      "These are the funds that were closed. ['XSKN7', 'XSKN1', 'XSK10', 'XAERA', 'XSKN8', 'XUKA1', 'XWBTP', 'XSKN2', 'XSKN9', 'XSKN6', 'TUSK1', 'TSSK1', 'SUSK1', 'SSSK1', 'TUSK6', 'TSSK6', 'SUSK6', 'SSSK6']\n",
      "69\n",
      ".\\data\\Fund_Close_Unique_Pols.csv\n",
      "==========================\n",
      "2024-08-05 21:47:17.450136\n",
      "==========================\n",
      "svmem(total=16756752384, available=10107330560, percent=39.7, used=6649421824, free=10107330560)\n",
      "==========================\n"
     ]
    }
   ],
   "source": [
    "# These are the funds that were closed.\n",
    "close_funds = ['XSKN7','XSKN1','XSK10','XAERA','XSKN8','XUKA1','XWBTP','XSKN2','XSKN9',\n",
    "               'XSKN6','TUSK1','TSSK1','SUSK1','SSSK1','TUSK6','TSSK6','SUSK6','SSSK6']\n",
    "\n",
    "print('These are the funds that were closed.',close_funds)\n",
    "\n",
    "# Find the rows where this exists\n",
    "df_Fund_Close_Pols = df_Fund_Close_Period[df_Fund_Close_Period.LEGACY_FUND_CODE.isin(close_funds)]\n",
    "\n",
    "\n",
    "# Find the rows where this exists\n",
    "#df_Fund_Close_Pols = df_Fund_Close_Period[~df_Fund_Close_Period.LEGACY_FUND_CODE.isin(close_funds)]\n",
    "df_Fund_Close_Pols = df_Fund_Close_Period[df_Fund_Close_Period.LEGACY_FUND_CODE.isin(close_funds)]\n",
    "\n",
    "# Isolate teh policy number\n",
    "df_Fund_Close_Unique_Pols = df_Fund_Close_Pols[['POLICY_NUMBER']]\n",
    "\n",
    "# Drop duplicate policy numbers\n",
    "df_Fund_Close_Unique_Pols = df_Fund_Close_Unique_Pols.drop_duplicates(subset=['POLICY_NUMBER'], keep='first')\n",
    "\n",
    "df_Fund_Close_Unique_Pols = df_Fund_Close_Unique_Pols.rename(columns={\"POLICY_NUMBER\":\"Pols_To_Delete\"})\n",
    "df_Fund_Close_Unique_Pols.head(5)\n",
    "\n",
    "# Write out to a comma separated values file.\n",
    "filename = input_path + '\\Fund_Close_Unique_Pols.csv'\n",
    "df_Fund_Close_Unique_Pols.to_csv(filename, encoding='utf-8', index=False)  \n",
    "\n",
    "print(len(df_Fund_Close_Unique_Pols.index))\n",
    "print(filename)\n",
    "\n",
    "print('==========================')\n",
    "now = datetime.now()\n",
    "print(now)\n",
    "print('==========================')\n",
    "print(psutil.virtual_memory())\n",
    "print('==========================')\n",
    "\n",
    "# No displays to protect PII data\n",
    "#df_Fund_Close_Unique_Pols.head(5)"
   ]
  },
  {
   "cell_type": "markdown",
   "id": "de6fa6e8",
   "metadata": {},
   "source": [
    "# 4. Using the policy numbers from the list of policies that were involved in a fund closure, create a list of switches to delete."
   ]
  },
  {
   "cell_type": "code",
   "execution_count": 8,
   "id": "02183c63",
   "metadata": {},
   "outputs": [
    {
     "name": "stdout",
     "output_type": "stream",
     "text": [
      "9893\n",
      "69\n"
     ]
    }
   ],
   "source": [
    "print(len(df_Fund_Close_Period.index))\n",
    "print(len(df_Fund_Close_Unique_Pols.index))\n"
   ]
  },
  {
   "cell_type": "code",
   "execution_count": 9,
   "id": "83858db9",
   "metadata": {},
   "outputs": [
    {
     "name": "stdout",
     "output_type": "stream",
     "text": [
      "9893\n",
      ".\\data\\df_LEFT_A.csv\n",
      "==========================\n",
      "2024-08-05 21:47:27.880984\n",
      "==========================\n",
      "svmem(total=16756752384, available=10250813440, percent=38.8, used=6505938944, free=10250813440)\n",
      "==========================\n"
     ]
    }
   ],
   "source": [
    "df_LEFT_A = pd.merge(df_Fund_Close_Period, df_Fund_Close_Unique_Pols, left_on = ['POLICY_NUMBER'], right_on = ['Pols_To_Delete'] , how = 'left') \n",
    "print(len(df_LEFT_A.index))\n",
    "\n",
    "# Write out to a comma separated values file.\n",
    "filename = input_path + '\\df_LEFT_A.csv'\n",
    "df_LEFT_A.to_csv(filename, encoding='utf-8', index=False)  \n",
    "\n",
    "print(filename)\n",
    "\n",
    "print('==========================')\n",
    "now = datetime.now()\n",
    "print(now)\n",
    "print('==========================')\n",
    "print(psutil.virtual_memory())\n",
    "print('==========================')\n",
    "\n",
    "# No displays to protect PII data\n",
    "#df_LEFT_A.head(25)"
   ]
  },
  {
   "cell_type": "code",
   "execution_count": 10,
   "id": "a3209687",
   "metadata": {},
   "outputs": [
    {
     "name": "stdout",
     "output_type": "stream",
     "text": [
      "9893\n",
      "69\n",
      "9893\n"
     ]
    }
   ],
   "source": [
    "print(len(df_Fund_Close_Period.index))\n",
    "print(len(df_Fund_Close_Unique_Pols.index))\n",
    "print(len(df_LEFT_A.index))"
   ]
  },
  {
   "cell_type": "markdown",
   "id": "203feeed",
   "metadata": {},
   "source": [
    "# 5. Delete the fund closure switches."
   ]
  },
  {
   "cell_type": "code",
   "execution_count": 11,
   "id": "10eda5ad",
   "metadata": {},
   "outputs": [
    {
     "name": "stdout",
     "output_type": "stream",
     "text": [
      "9893\n"
     ]
    }
   ],
   "source": [
    "# nOW DELETE ALL ROWS WHERE Pols_To_Delete is not NULL\n",
    "print(len(df_LEFT_A.index))"
   ]
  },
  {
   "cell_type": "code",
   "execution_count": 12,
   "id": "7d20a324",
   "metadata": {},
   "outputs": [
    {
     "name": "stdout",
     "output_type": "stream",
     "text": [
      "6978\n"
     ]
    }
   ],
   "source": [
    "#df = df_LEFT_A[df_LEFT_A.Pols_To_Delete != 'NaN']\n",
    "df_LEFT_A = df_LEFT_A[df_LEFT_A.Pols_To_Delete.isnull()]\n",
    "print(len(df_LEFT_A.index))\n"
   ]
  },
  {
   "cell_type": "code",
   "execution_count": 13,
   "id": "305f1625",
   "metadata": {},
   "outputs": [
    {
     "name": "stdout",
     "output_type": "stream",
     "text": [
      "6978\n",
      "6978\n"
     ]
    }
   ],
   "source": [
    "df_Closed_Funds_Policies_Removed = df_LEFT_A.drop(['index','Pols_To_Delete'],axis=1)\n",
    "print(len(df_Closed_Funds_Policies_Removed.index))\n",
    "print(len(df_LEFT_A.index))"
   ]
  },
  {
   "cell_type": "code",
   "execution_count": 14,
   "id": "9987d49f",
   "metadata": {},
   "outputs": [
    {
     "name": "stdout",
     "output_type": "stream",
     "text": [
      "6978\n",
      "6978\n"
     ]
    }
   ],
   "source": [
    "#df = df_LEFT_A[df_LEFT_A.Pols_To_Delete != 'NaN']\n",
    "#df_Closed_Funds_Policies_Removed = df_LEFT_A[df_LEFT_A.Pols_To_Delete.isnull()]\n",
    "print(len(df_Closed_Funds_Policies_Removed.index))\n",
    "print(len(df_LEFT_A.index))"
   ]
  },
  {
   "cell_type": "code",
   "execution_count": 15,
   "id": "c4edc90c",
   "metadata": {},
   "outputs": [
    {
     "name": "stdout",
     "output_type": "stream",
     "text": [
      "6978\n",
      "9893\n",
      ".\\data\\Closed_Funds_Policies_Removed.csv\n",
      "==========================\n",
      "2024-08-05 21:48:02.401505\n",
      "==========================\n",
      "svmem(total=16756752384, available=10197200896, percent=39.1, used=6559551488, free=10197200896)\n",
      "==========================\n"
     ]
    }
   ],
   "source": [
    "# Write out to a comma separated values file.\n",
    "filename = input_path + '\\Closed_Funds_Policies_Removed.csv'\n",
    "df_Closed_Funds_Policies_Removed.to_csv(filename, encoding='utf-8', index=False)  \n",
    "\n",
    "print(len(df_Closed_Funds_Policies_Removed.index))\n",
    "print(len(df_Fund_Close_Period.index))\n",
    "\n",
    "print(filename)\n",
    "\n",
    "print('==========================')\n",
    "now = datetime.now()\n",
    "print(now)\n",
    "print('==========================')\n",
    "print(psutil.virtual_memory())\n",
    "print('==========================')\n",
    "\n",
    "# No displays to protect PII data\n",
    "#df_Closed_Funds_Policies_Removed.head(25)"
   ]
  },
  {
   "cell_type": "markdown",
   "id": "381b8327",
   "metadata": {},
   "source": [
    "# 6. Create a dataframe with all other dates, outside teh fund closure period."
   ]
  },
  {
   "cell_type": "code",
   "execution_count": 16,
   "id": "560c2491",
   "metadata": {},
   "outputs": [
    {
     "name": "stdout",
     "output_type": "stream",
     "text": [
      "191863\n",
      ".\\data\\Fund_NON_Close_Period.csv\n",
      "==========================\n",
      "2024-08-05 21:48:14.050540\n",
      "==========================\n",
      "svmem(total=16756752384, available=10235625472, percent=38.9, used=6521126912, free=10235625472)\n",
      "==========================\n"
     ]
    }
   ],
   "source": [
    "# Create a dataframe with all other dates.\n",
    "from_dt = '2022-04-01'\n",
    "to_dt = '2022-07-31'\n",
    "df_Fund_NON_Close_Period = df_All_Switches[(df_All_Switches['PROCESSING_DATE'] < from_dt) | (df_All_Switches['PROCESSING_DATE'] > to_dt)]\n",
    "\n",
    "\n",
    "# Write out to a comma separated values file.\n",
    "filename = input_path + '\\Fund_NON_Close_Period.csv'\n",
    "df_Fund_NON_Close_Period.to_csv(filename, encoding='utf-8', index=False)  \n",
    "\n",
    "print(len(df_Fund_NON_Close_Period.index))\n",
    "\n",
    "print(filename)\n",
    "\n",
    "print('==========================')\n",
    "now = datetime.now()\n",
    "print(now)\n",
    "print('==========================')\n",
    "print(psutil.virtual_memory())\n",
    "print('==========================')\n",
    "\n",
    "# No displays to protect PII data\n",
    "#df_Fund_NON_Close_Period.head(5)"
   ]
  },
  {
   "cell_type": "markdown",
   "id": "57138af6",
   "metadata": {},
   "source": [
    "# 7. Merge them back to get a dataframe that has the full set of switches, MINUS switches for policies involved in the fund closure."
   ]
  },
  {
   "cell_type": "code",
   "execution_count": 17,
   "id": "b2ea7b5b",
   "metadata": {},
   "outputs": [
    {
     "name": "stdout",
     "output_type": "stream",
     "text": [
      "==========================\n",
      "2024-08-05 21:48:27.133665\n",
      "==========================\n",
      "svmem(total=16756752384, available=10220535808, percent=39.0, used=6536216576, free=10220535808)\n",
      "==========================\n"
     ]
    }
   ],
   "source": [
    "# Merge the dataframes.\n",
    "df_All_Switches_Without_Fund_Close= df_Closed_Funds_Policies_Removed.append(df_Fund_NON_Close_Period)\n",
    "#df_Switches_Without_Fund_Close = df_Switches_Without_Fund_Close.drop(['Pols_To_Delete','level_0','index'],axis=1)\n",
    "\n",
    "\n",
    "print('==========================')\n",
    "now = datetime.now()\n",
    "print(now)\n",
    "print('==========================')\n",
    "print(psutil.virtual_memory())\n",
    "print('==========================')\n",
    "\n",
    "# No displays to protect PII data\n",
    "#df_All_Switches_Without_Fund_Close.head(5)"
   ]
  },
  {
   "cell_type": "code",
   "execution_count": 18,
   "id": "5c1fbd0b",
   "metadata": {},
   "outputs": [
    {
     "name": "stdout",
     "output_type": "stream",
     "text": [
      "df_Fund_Close_Period             : 9893\n",
      "df_Closed_Funds_Policies_Removed : 6978\n",
      "df_Fund_NON_Close_Period         : 191863\n",
      "df_All_Switches                  : 201805\n"
     ]
    }
   ],
   "source": [
    "print(\"df_Fund_Close_Period             :\",len(df_Fund_Close_Period.index))\n",
    "print('df_Closed_Funds_Policies_Removed :',len(df_Closed_Funds_Policies_Removed.index))\n",
    "print('df_Fund_NON_Close_Period         :',len(df_Fund_NON_Close_Period.index))\n",
    "print('df_All_Switches                  :',len(df_All_Switches.index))\n"
   ]
  },
  {
   "cell_type": "code",
   "execution_count": 19,
   "id": "bd102fb8",
   "metadata": {},
   "outputs": [
    {
     "data": {
      "text/plain": [
       "POLICY_NUMBER                     object\n",
       "LEGACY_FUND_CODE                  object\n",
       "PRODUCT                           object\n",
       "PROCESSING_DATE           datetime64[ns]\n",
       "EFFECTIVE_DATE                    object\n",
       "UNIT_TYPE                         object\n",
       "CHARGE_TYPE                       object\n",
       "CASH_VALUE                       float64\n",
       "RISK_COMMENCEMENT_DATE            object\n",
       "Servicing_Broker_Code             object\n",
       "Issue_Date                        object\n",
       "Cover_End_Date                    object\n",
       "Anniversary_Date                  object\n",
       "Source                            object\n",
       "SOURCE                            object\n",
       "index                            float64\n",
       "dtype: object"
      ]
     },
     "execution_count": 19,
     "metadata": {},
     "output_type": "execute_result"
    }
   ],
   "source": [
    "df_All_Switches_Without_Fund_Close.dtypes"
   ]
  },
  {
   "cell_type": "markdown",
   "id": "671ba6a1",
   "metadata": {},
   "source": [
    "# 8. Re-sort by policy number and processing date and write out file."
   ]
  },
  {
   "cell_type": "code",
   "execution_count": 20,
   "id": "07346b17",
   "metadata": {},
   "outputs": [
    {
     "name": "stdout",
     "output_type": "stream",
     "text": [
      "198841\n"
     ]
    },
    {
     "name": "stderr",
     "output_type": "stream",
     "text": [
      "C:\\Users\\m033\\Anaconda3\\lib\\site-packages\\pandas\\core\\internals\\blocks.py:2106: RuntimeWarning: invalid value encountered in cast\n",
      "  values = values.astype(str)\n"
     ]
    },
    {
     "name": "stdout",
     "output_type": "stream",
     "text": [
      ".\\data\\All_Switches_Without_Fund_Close.csv\n",
      "==========================\n",
      "2024-08-05 21:48:42.426494\n",
      "==========================\n",
      "svmem(total=16756752384, available=10215571456, percent=39.0, used=6541180928, free=10215571456)\n",
      "==========================\n"
     ]
    }
   ],
   "source": [
    "# Soryt by policy number and processing date.\n",
    "#df_All_Switches_Without_Fund_Close = df_All_Switches_Without_Fund_Close.sort_values(['PROCESSING_DATE','POLICY_NUMBER','SOURCE']).reset_index(drop=False)\n",
    "df_All_Switches_Without_Fund_Close = df_All_Switches_Without_Fund_Close.sort_values(['PROCESSING_DATE','POLICY_NUMBER','SOURCE'])\n",
    "\n",
    "print(len(df_All_Switches_Without_Fund_Close.index))\n",
    "\n",
    "# Write out to a comma separated values file.\n",
    "filename = input_path + '\\All_Switches_Without_Fund_Close.csv'\n",
    "df_All_Switches_Without_Fund_Close.to_csv(filename, encoding='utf-8', index=False)      \n",
    "\n",
    "print(filename)\n",
    "\n",
    "print('==========================')\n",
    "now = datetime.now()\n",
    "print(now)\n",
    "print('==========================')\n",
    "print(psutil.virtual_memory())\n",
    "print('==========================')\n",
    "\n",
    "# No displays to protect PII data\n",
    "#df_All_Switches_Without_Fund_Close.head(10)"
   ]
  },
  {
   "cell_type": "markdown",
   "id": "ff676320",
   "metadata": {},
   "source": [
    "# 9. Get the switchable funds/switch counts."
   ]
  },
  {
   "cell_type": "code",
   "execution_count": 21,
   "id": "d38fa783",
   "metadata": {},
   "outputs": [
    {
     "ename": "FileNotFoundError",
     "evalue": "[Errno 2] No such file or directory: '.\\\\data\\\\Full_Population_Count.csv'",
     "output_type": "error",
     "traceback": [
      "\u001b[1;31m---------------------------------------------------------------------------\u001b[0m",
      "\u001b[1;31mFileNotFoundError\u001b[0m                         Traceback (most recent call last)",
      "Cell \u001b[1;32mIn[21], line 2\u001b[0m\n\u001b[0;32m      1\u001b[0m filename \u001b[38;5;241m=\u001b[39m input_path \u001b[38;5;241m+\u001b[39m \u001b[38;5;124m'\u001b[39m\u001b[38;5;124m\\\u001b[39m\u001b[38;5;124mFull_Population_Count.csv\u001b[39m\u001b[38;5;124m'\u001b[39m\n\u001b[1;32m----> 2\u001b[0m df_Full_Population_Count \u001b[38;5;241m=\u001b[39m \u001b[43mpd\u001b[49m\u001b[38;5;241;43m.\u001b[39;49m\u001b[43mread_csv\u001b[49m\u001b[43m(\u001b[49m\u001b[43mfilename\u001b[49m\u001b[43m,\u001b[49m\u001b[43m \u001b[49m\u001b[43mdelimiter\u001b[49m\u001b[38;5;241;43m=\u001b[39;49m\u001b[38;5;124;43m'\u001b[39;49m\u001b[38;5;124;43m,\u001b[39;49m\u001b[38;5;124;43m'\u001b[39;49m\u001b[43m,\u001b[49m\u001b[43mlow_memory\u001b[49m\u001b[38;5;241;43m=\u001b[39;49m\u001b[38;5;28;43;01mFalse\u001b[39;49;00m\u001b[43m,\u001b[49m\u001b[43m \u001b[49m\u001b[43mheader\u001b[49m\u001b[38;5;241;43m=\u001b[39;49m\u001b[38;5;241;43m0\u001b[39;49m\u001b[43m)\u001b[49m\n\u001b[0;32m      3\u001b[0m \u001b[38;5;28mprint\u001b[39m(\u001b[38;5;28mlen\u001b[39m(df_Full_Population_Count\u001b[38;5;241m.\u001b[39mindex))\n\u001b[0;32m      5\u001b[0m \u001b[38;5;28mprint\u001b[39m(filename)\n",
      "File \u001b[1;32m~\\Anaconda3\\lib\\site-packages\\pandas\\io\\parsers.py:610\u001b[0m, in \u001b[0;36mread_csv\u001b[1;34m(filepath_or_buffer, sep, delimiter, header, names, index_col, usecols, squeeze, prefix, mangle_dupe_cols, dtype, engine, converters, true_values, false_values, skipinitialspace, skiprows, skipfooter, nrows, na_values, keep_default_na, na_filter, verbose, skip_blank_lines, parse_dates, infer_datetime_format, keep_date_col, date_parser, dayfirst, cache_dates, iterator, chunksize, compression, thousands, decimal, lineterminator, quotechar, quoting, doublequote, escapechar, comment, encoding, dialect, error_bad_lines, warn_bad_lines, delim_whitespace, low_memory, memory_map, float_precision, storage_options)\u001b[0m\n\u001b[0;32m    605\u001b[0m kwds_defaults \u001b[38;5;241m=\u001b[39m _refine_defaults_read(\n\u001b[0;32m    606\u001b[0m     dialect, delimiter, delim_whitespace, engine, sep, defaults\u001b[38;5;241m=\u001b[39m{\u001b[38;5;124m\"\u001b[39m\u001b[38;5;124mdelimiter\u001b[39m\u001b[38;5;124m\"\u001b[39m: \u001b[38;5;124m\"\u001b[39m\u001b[38;5;124m,\u001b[39m\u001b[38;5;124m\"\u001b[39m}\n\u001b[0;32m    607\u001b[0m )\n\u001b[0;32m    608\u001b[0m kwds\u001b[38;5;241m.\u001b[39mupdate(kwds_defaults)\n\u001b[1;32m--> 610\u001b[0m \u001b[38;5;28;01mreturn\u001b[39;00m \u001b[43m_read\u001b[49m\u001b[43m(\u001b[49m\u001b[43mfilepath_or_buffer\u001b[49m\u001b[43m,\u001b[49m\u001b[43m \u001b[49m\u001b[43mkwds\u001b[49m\u001b[43m)\u001b[49m\n",
      "File \u001b[1;32m~\\Anaconda3\\lib\\site-packages\\pandas\\io\\parsers.py:462\u001b[0m, in \u001b[0;36m_read\u001b[1;34m(filepath_or_buffer, kwds)\u001b[0m\n\u001b[0;32m    459\u001b[0m _validate_names(kwds\u001b[38;5;241m.\u001b[39mget(\u001b[38;5;124m\"\u001b[39m\u001b[38;5;124mnames\u001b[39m\u001b[38;5;124m\"\u001b[39m, \u001b[38;5;28;01mNone\u001b[39;00m))\n\u001b[0;32m    461\u001b[0m \u001b[38;5;66;03m# Create the parser.\u001b[39;00m\n\u001b[1;32m--> 462\u001b[0m parser \u001b[38;5;241m=\u001b[39m \u001b[43mTextFileReader\u001b[49m\u001b[43m(\u001b[49m\u001b[43mfilepath_or_buffer\u001b[49m\u001b[43m,\u001b[49m\u001b[43m \u001b[49m\u001b[38;5;241;43m*\u001b[39;49m\u001b[38;5;241;43m*\u001b[39;49m\u001b[43mkwds\u001b[49m\u001b[43m)\u001b[49m\n\u001b[0;32m    464\u001b[0m \u001b[38;5;28;01mif\u001b[39;00m chunksize \u001b[38;5;129;01mor\u001b[39;00m iterator:\n\u001b[0;32m    465\u001b[0m     \u001b[38;5;28;01mreturn\u001b[39;00m parser\n",
      "File \u001b[1;32m~\\Anaconda3\\lib\\site-packages\\pandas\\io\\parsers.py:819\u001b[0m, in \u001b[0;36mTextFileReader.__init__\u001b[1;34m(self, f, engine, **kwds)\u001b[0m\n\u001b[0;32m    816\u001b[0m \u001b[38;5;28;01mif\u001b[39;00m \u001b[38;5;124m\"\u001b[39m\u001b[38;5;124mhas_index_names\u001b[39m\u001b[38;5;124m\"\u001b[39m \u001b[38;5;129;01min\u001b[39;00m kwds:\n\u001b[0;32m    817\u001b[0m     \u001b[38;5;28mself\u001b[39m\u001b[38;5;241m.\u001b[39moptions[\u001b[38;5;124m\"\u001b[39m\u001b[38;5;124mhas_index_names\u001b[39m\u001b[38;5;124m\"\u001b[39m] \u001b[38;5;241m=\u001b[39m kwds[\u001b[38;5;124m\"\u001b[39m\u001b[38;5;124mhas_index_names\u001b[39m\u001b[38;5;124m\"\u001b[39m]\n\u001b[1;32m--> 819\u001b[0m \u001b[38;5;28mself\u001b[39m\u001b[38;5;241m.\u001b[39m_engine \u001b[38;5;241m=\u001b[39m \u001b[38;5;28;43mself\u001b[39;49m\u001b[38;5;241;43m.\u001b[39;49m\u001b[43m_make_engine\u001b[49m\u001b[43m(\u001b[49m\u001b[38;5;28;43mself\u001b[39;49m\u001b[38;5;241;43m.\u001b[39;49m\u001b[43mengine\u001b[49m\u001b[43m)\u001b[49m\n",
      "File \u001b[1;32m~\\Anaconda3\\lib\\site-packages\\pandas\\io\\parsers.py:1050\u001b[0m, in \u001b[0;36mTextFileReader._make_engine\u001b[1;34m(self, engine)\u001b[0m\n\u001b[0;32m   1046\u001b[0m     \u001b[38;5;28;01mraise\u001b[39;00m \u001b[38;5;167;01mValueError\u001b[39;00m(\n\u001b[0;32m   1047\u001b[0m         \u001b[38;5;124mf\u001b[39m\u001b[38;5;124m\"\u001b[39m\u001b[38;5;124mUnknown engine: \u001b[39m\u001b[38;5;132;01m{\u001b[39;00mengine\u001b[38;5;132;01m}\u001b[39;00m\u001b[38;5;124m (valid options are \u001b[39m\u001b[38;5;132;01m{\u001b[39;00mmapping\u001b[38;5;241m.\u001b[39mkeys()\u001b[38;5;132;01m}\u001b[39;00m\u001b[38;5;124m)\u001b[39m\u001b[38;5;124m\"\u001b[39m\n\u001b[0;32m   1048\u001b[0m     )\n\u001b[0;32m   1049\u001b[0m \u001b[38;5;66;03m# error: Too many arguments for \"ParserBase\"\u001b[39;00m\n\u001b[1;32m-> 1050\u001b[0m \u001b[38;5;28;01mreturn\u001b[39;00m \u001b[43mmapping\u001b[49m\u001b[43m[\u001b[49m\u001b[43mengine\u001b[49m\u001b[43m]\u001b[49m\u001b[43m(\u001b[49m\u001b[38;5;28;43mself\u001b[39;49m\u001b[38;5;241;43m.\u001b[39;49m\u001b[43mf\u001b[49m\u001b[43m,\u001b[49m\u001b[43m \u001b[49m\u001b[38;5;241;43m*\u001b[39;49m\u001b[38;5;241;43m*\u001b[39;49m\u001b[38;5;28;43mself\u001b[39;49m\u001b[38;5;241;43m.\u001b[39;49m\u001b[43moptions\u001b[49m\u001b[43m)\u001b[49m\n",
      "File \u001b[1;32m~\\Anaconda3\\lib\\site-packages\\pandas\\io\\parsers.py:1867\u001b[0m, in \u001b[0;36mCParserWrapper.__init__\u001b[1;34m(self, src, **kwds)\u001b[0m\n\u001b[0;32m   1864\u001b[0m kwds[\u001b[38;5;124m\"\u001b[39m\u001b[38;5;124musecols\u001b[39m\u001b[38;5;124m\"\u001b[39m] \u001b[38;5;241m=\u001b[39m \u001b[38;5;28mself\u001b[39m\u001b[38;5;241m.\u001b[39musecols\n\u001b[0;32m   1866\u001b[0m \u001b[38;5;66;03m# open handles\u001b[39;00m\n\u001b[1;32m-> 1867\u001b[0m \u001b[38;5;28;43mself\u001b[39;49m\u001b[38;5;241;43m.\u001b[39;49m\u001b[43m_open_handles\u001b[49m\u001b[43m(\u001b[49m\u001b[43msrc\u001b[49m\u001b[43m,\u001b[49m\u001b[43m \u001b[49m\u001b[43mkwds\u001b[49m\u001b[43m)\u001b[49m\n\u001b[0;32m   1868\u001b[0m \u001b[38;5;28;01massert\u001b[39;00m \u001b[38;5;28mself\u001b[39m\u001b[38;5;241m.\u001b[39mhandles \u001b[38;5;129;01mis\u001b[39;00m \u001b[38;5;129;01mnot\u001b[39;00m \u001b[38;5;28;01mNone\u001b[39;00m\n\u001b[0;32m   1869\u001b[0m \u001b[38;5;28;01mfor\u001b[39;00m key \u001b[38;5;129;01min\u001b[39;00m (\u001b[38;5;124m\"\u001b[39m\u001b[38;5;124mstorage_options\u001b[39m\u001b[38;5;124m\"\u001b[39m, \u001b[38;5;124m\"\u001b[39m\u001b[38;5;124mencoding\u001b[39m\u001b[38;5;124m\"\u001b[39m, \u001b[38;5;124m\"\u001b[39m\u001b[38;5;124mmemory_map\u001b[39m\u001b[38;5;124m\"\u001b[39m, \u001b[38;5;124m\"\u001b[39m\u001b[38;5;124mcompression\u001b[39m\u001b[38;5;124m\"\u001b[39m):\n",
      "File \u001b[1;32m~\\Anaconda3\\lib\\site-packages\\pandas\\io\\parsers.py:1362\u001b[0m, in \u001b[0;36mParserBase._open_handles\u001b[1;34m(self, src, kwds)\u001b[0m\n\u001b[0;32m   1358\u001b[0m \u001b[38;5;28;01mdef\u001b[39;00m \u001b[38;5;21m_open_handles\u001b[39m(\u001b[38;5;28mself\u001b[39m, src: FilePathOrBuffer, kwds: Dict[\u001b[38;5;28mstr\u001b[39m, Any]) \u001b[38;5;241m-\u001b[39m\u001b[38;5;241m>\u001b[39m \u001b[38;5;28;01mNone\u001b[39;00m:\n\u001b[0;32m   1359\u001b[0m \u001b[38;5;250m    \u001b[39m\u001b[38;5;124;03m\"\"\"\u001b[39;00m\n\u001b[0;32m   1360\u001b[0m \u001b[38;5;124;03m    Let the readers open IOHanldes after they are done with their potential raises.\u001b[39;00m\n\u001b[0;32m   1361\u001b[0m \u001b[38;5;124;03m    \"\"\"\u001b[39;00m\n\u001b[1;32m-> 1362\u001b[0m     \u001b[38;5;28mself\u001b[39m\u001b[38;5;241m.\u001b[39mhandles \u001b[38;5;241m=\u001b[39m \u001b[43mget_handle\u001b[49m\u001b[43m(\u001b[49m\n\u001b[0;32m   1363\u001b[0m \u001b[43m        \u001b[49m\u001b[43msrc\u001b[49m\u001b[43m,\u001b[49m\n\u001b[0;32m   1364\u001b[0m \u001b[43m        \u001b[49m\u001b[38;5;124;43m\"\u001b[39;49m\u001b[38;5;124;43mr\u001b[39;49m\u001b[38;5;124;43m\"\u001b[39;49m\u001b[43m,\u001b[49m\n\u001b[0;32m   1365\u001b[0m \u001b[43m        \u001b[49m\u001b[43mencoding\u001b[49m\u001b[38;5;241;43m=\u001b[39;49m\u001b[43mkwds\u001b[49m\u001b[38;5;241;43m.\u001b[39;49m\u001b[43mget\u001b[49m\u001b[43m(\u001b[49m\u001b[38;5;124;43m\"\u001b[39;49m\u001b[38;5;124;43mencoding\u001b[39;49m\u001b[38;5;124;43m\"\u001b[39;49m\u001b[43m,\u001b[49m\u001b[43m \u001b[49m\u001b[38;5;28;43;01mNone\u001b[39;49;00m\u001b[43m)\u001b[49m\u001b[43m,\u001b[49m\n\u001b[0;32m   1366\u001b[0m \u001b[43m        \u001b[49m\u001b[43mcompression\u001b[49m\u001b[38;5;241;43m=\u001b[39;49m\u001b[43mkwds\u001b[49m\u001b[38;5;241;43m.\u001b[39;49m\u001b[43mget\u001b[49m\u001b[43m(\u001b[49m\u001b[38;5;124;43m\"\u001b[39;49m\u001b[38;5;124;43mcompression\u001b[39;49m\u001b[38;5;124;43m\"\u001b[39;49m\u001b[43m,\u001b[49m\u001b[43m \u001b[49m\u001b[38;5;28;43;01mNone\u001b[39;49;00m\u001b[43m)\u001b[49m\u001b[43m,\u001b[49m\n\u001b[0;32m   1367\u001b[0m \u001b[43m        \u001b[49m\u001b[43mmemory_map\u001b[49m\u001b[38;5;241;43m=\u001b[39;49m\u001b[43mkwds\u001b[49m\u001b[38;5;241;43m.\u001b[39;49m\u001b[43mget\u001b[49m\u001b[43m(\u001b[49m\u001b[38;5;124;43m\"\u001b[39;49m\u001b[38;5;124;43mmemory_map\u001b[39;49m\u001b[38;5;124;43m\"\u001b[39;49m\u001b[43m,\u001b[49m\u001b[43m \u001b[49m\u001b[38;5;28;43;01mFalse\u001b[39;49;00m\u001b[43m)\u001b[49m\u001b[43m,\u001b[49m\n\u001b[0;32m   1368\u001b[0m \u001b[43m        \u001b[49m\u001b[43mstorage_options\u001b[49m\u001b[38;5;241;43m=\u001b[39;49m\u001b[43mkwds\u001b[49m\u001b[38;5;241;43m.\u001b[39;49m\u001b[43mget\u001b[49m\u001b[43m(\u001b[49m\u001b[38;5;124;43m\"\u001b[39;49m\u001b[38;5;124;43mstorage_options\u001b[39;49m\u001b[38;5;124;43m\"\u001b[39;49m\u001b[43m,\u001b[49m\u001b[43m \u001b[49m\u001b[38;5;28;43;01mNone\u001b[39;49;00m\u001b[43m)\u001b[49m\u001b[43m,\u001b[49m\n\u001b[0;32m   1369\u001b[0m \u001b[43m    \u001b[49m\u001b[43m)\u001b[49m\n",
      "File \u001b[1;32m~\\Anaconda3\\lib\\site-packages\\pandas\\io\\common.py:642\u001b[0m, in \u001b[0;36mget_handle\u001b[1;34m(path_or_buf, mode, encoding, compression, memory_map, is_text, errors, storage_options)\u001b[0m\n\u001b[0;32m    640\u001b[0m         errors \u001b[38;5;241m=\u001b[39m \u001b[38;5;124m\"\u001b[39m\u001b[38;5;124mreplace\u001b[39m\u001b[38;5;124m\"\u001b[39m\n\u001b[0;32m    641\u001b[0m     \u001b[38;5;66;03m# Encoding\u001b[39;00m\n\u001b[1;32m--> 642\u001b[0m     handle \u001b[38;5;241m=\u001b[39m \u001b[38;5;28;43mopen\u001b[39;49m\u001b[43m(\u001b[49m\n\u001b[0;32m    643\u001b[0m \u001b[43m        \u001b[49m\u001b[43mhandle\u001b[49m\u001b[43m,\u001b[49m\n\u001b[0;32m    644\u001b[0m \u001b[43m        \u001b[49m\u001b[43mioargs\u001b[49m\u001b[38;5;241;43m.\u001b[39;49m\u001b[43mmode\u001b[49m\u001b[43m,\u001b[49m\n\u001b[0;32m    645\u001b[0m \u001b[43m        \u001b[49m\u001b[43mencoding\u001b[49m\u001b[38;5;241;43m=\u001b[39;49m\u001b[43mioargs\u001b[49m\u001b[38;5;241;43m.\u001b[39;49m\u001b[43mencoding\u001b[49m\u001b[43m,\u001b[49m\n\u001b[0;32m    646\u001b[0m \u001b[43m        \u001b[49m\u001b[43merrors\u001b[49m\u001b[38;5;241;43m=\u001b[39;49m\u001b[43merrors\u001b[49m\u001b[43m,\u001b[49m\n\u001b[0;32m    647\u001b[0m \u001b[43m        \u001b[49m\u001b[43mnewline\u001b[49m\u001b[38;5;241;43m=\u001b[39;49m\u001b[38;5;124;43m\"\u001b[39;49m\u001b[38;5;124;43m\"\u001b[39;49m\u001b[43m,\u001b[49m\n\u001b[0;32m    648\u001b[0m \u001b[43m    \u001b[49m\u001b[43m)\u001b[49m\n\u001b[0;32m    649\u001b[0m \u001b[38;5;28;01melse\u001b[39;00m:\n\u001b[0;32m    650\u001b[0m     \u001b[38;5;66;03m# Binary mode\u001b[39;00m\n\u001b[0;32m    651\u001b[0m     handle \u001b[38;5;241m=\u001b[39m \u001b[38;5;28mopen\u001b[39m(handle, ioargs\u001b[38;5;241m.\u001b[39mmode)\n",
      "\u001b[1;31mFileNotFoundError\u001b[0m: [Errno 2] No such file or directory: '.\\\\data\\\\Full_Population_Count.csv'"
     ]
    }
   ],
   "source": [
    "filename = input_path + '\\Full_Population_Count.csv'\n",
    "df_Full_Population_Count = pd.read_csv(filename, delimiter=',',low_memory=False, header=0)\n",
    "print(len(df_Full_Population_Count.index))\n",
    "\n",
    "print(filename)\n",
    "\n",
    "print('==========================')\n",
    "now = datetime.now()\n",
    "print(now)\n",
    "print('==========================')\n",
    "print(psutil.virtual_memory())\n",
    "print('==========================')\n",
    "\n",
    "# No displays to protect PII data\n",
    "#df_Full_Population_Count.head(5)"
   ]
  },
  {
   "cell_type": "markdown",
   "id": "23d5faf7",
   "metadata": {},
   "source": [
    "# 10. Create the Fund Switch Count dataframe."
   ]
  },
  {
   "cell_type": "code",
   "execution_count": null,
   "id": "dddb9c42",
   "metadata": {},
   "outputs": [],
   "source": [
    "df_All_Switches_Without_Fund_Close.dtypes"
   ]
  },
  {
   "cell_type": "code",
   "execution_count": 22,
   "id": "d2f6c048",
   "metadata": {},
   "outputs": [
    {
     "name": "stdout",
     "output_type": "stream",
     "text": [
      "198841\n",
      "==========================\n",
      "2024-08-05 21:48:51.862071\n",
      "==========================\n",
      "svmem(total=16756752384, available=10194132992, percent=39.2, used=6562619392, free=10194132992)\n",
      "==========================\n"
     ]
    },
    {
     "name": "stderr",
     "output_type": "stream",
     "text": [
      "C:\\Users\\m033\\AppData\\Local\\Temp\\ipykernel_13760\\315763259.py:3: SettingWithCopyWarning: \n",
      "A value is trying to be set on a copy of a slice from a DataFrame.\n",
      "Try using .loc[row_indexer,col_indexer] = value instead\n",
      "\n",
      "See the caveats in the documentation: https://pandas.pydata.org/pandas-docs/stable/user_guide/indexing.html#returning-a-view-versus-a-copy\n",
      "  df_Switches_Count['ProcessingtDt'] = df_Switches_Count['PROCESSING_DATE'].dt.strftime('%Y%m')\n"
     ]
    }
   ],
   "source": [
    "df_Switches_Count = df_All_Switches_Without_Fund_Close[['POLICY_NUMBER','PROCESSING_DATE']]\n",
    "#df_All_Switches['PROCESSING_DATE'] = pd.to_datetime(df_All_Switches['PROCESSING_DATE'].str.strip(), format='%Y/%m/%d')\n",
    "df_Switches_Count['ProcessingtDt'] = df_Switches_Count['PROCESSING_DATE'].dt.strftime('%Y%m')\n",
    "\n",
    "# Drop obsolete columns.\n",
    "#df_Switches_Count = df_All_Switches.drop(['LEGACY_FUND_CODE','PRODUCT','EFFECTIVE_DATE','UNIT_TYPE',\n",
    "#                                          'CHARGE_TYPE','CASH_VALUE','RISK_COMMENCEMENT_DATE','Cover_End_Date',\n",
    "#                                         'index','Servicing_Broker_Code','Issue_Date','Anniversary_Date','SOURCE',\n",
    "#                                          'PROCESSING_DATE','level_0','Pols_To_Delete'],axis=1)\n",
    "\n",
    "# Stats\n",
    "print(len(df_Switches_Count.index))\n",
    "\n",
    "print('==========================')\n",
    "now = datetime.now()\n",
    "print(now)\n",
    "print('==========================')\n",
    "print(psutil.virtual_memory())\n",
    "print('==========================')\n",
    "\n",
    "# No displays to protect PII data\n",
    "#df_Switches_Count.head(5)"
   ]
  },
  {
   "cell_type": "markdown",
   "id": "8a08be94",
   "metadata": {},
   "source": [
    "# 11. Drop duplicate policy numbers"
   ]
  },
  {
   "cell_type": "code",
   "execution_count": 23,
   "id": "57c66e56",
   "metadata": {},
   "outputs": [
    {
     "name": "stdout",
     "output_type": "stream",
     "text": [
      "7738\n",
      "==========================\n",
      "2024-08-05 21:48:57.902424\n",
      "==========================\n",
      "svmem(total=16756752384, available=10193973248, percent=39.2, used=6562779136, free=10193973248)\n",
      "==========================\n"
     ]
    }
   ],
   "source": [
    "# Drop duplicate policy numbers\n",
    "df_Switches_Count = df_Switches_Count.drop_duplicates(subset=['POLICY_NUMBER','ProcessingtDt'], keep='first')\n",
    "df_Switches_Count = df_Switches_Count.drop(['POLICY_NUMBER'],axis=1)\n",
    "\n",
    "# print stats.\n",
    "print(len(df_Switches_Count.index))\n",
    "\n",
    "print('==========================')\n",
    "now = datetime.now()\n",
    "print(now)\n",
    "print('==========================')\n",
    "print(psutil.virtual_memory())\n",
    "print('==========================')\n",
    "\n",
    "# No displays to protect PII data\n",
    "#df_Switches_Count.head(5)"
   ]
  },
  {
   "cell_type": "code",
   "execution_count": 24,
   "id": "7f38f55d",
   "metadata": {},
   "outputs": [
    {
     "name": "stdout",
     "output_type": "stream",
     "text": [
      "67\n",
      "==========================\n",
      "2024-08-05 21:49:02.065527\n",
      "==========================\n",
      "svmem(total=16756752384, available=10169073664, percent=39.3, used=6587678720, free=10169073664)\n",
      "==========================\n"
     ]
    }
   ],
   "source": [
    "# Reset teh index on count\n",
    "df_Switches_Count=df_Switches_Count[['ProcessingtDt']].value_counts().reset_index(name='counts')\n",
    "\n",
    "# Sort by ProcessingtDt\n",
    "df_Switches_Count = df_Switches_Count.sort_values(by=['ProcessingtDt'])\n",
    "\n",
    "print(len(df_Switches_Count.index))\n",
    "\n",
    "print('==========================')\n",
    "now = datetime.now()\n",
    "print(now)\n",
    "print('==========================')\n",
    "print(psutil.virtual_memory())\n",
    "print('==========================')\n",
    "\n",
    "# No displays to protect PII data\n",
    "#df_Switches_Count.head(5)"
   ]
  },
  {
   "cell_type": "code",
   "execution_count": 25,
   "id": "ab959bc3",
   "metadata": {},
   "outputs": [
    {
     "data": {
      "text/plain": [
       "POLICY_NUMBER                     object\n",
       "LEGACY_FUND_CODE                  object\n",
       "PRODUCT                           object\n",
       "PROCESSING_DATE           datetime64[ns]\n",
       "EFFECTIVE_DATE                    object\n",
       "UNIT_TYPE                         object\n",
       "CHARGE_TYPE                       object\n",
       "CASH_VALUE                       float64\n",
       "RISK_COMMENCEMENT_DATE            object\n",
       "Servicing_Broker_Code             object\n",
       "Issue_Date                        object\n",
       "Cover_End_Date                    object\n",
       "Anniversary_Date                  object\n",
       "Source                            object\n",
       "SOURCE                            object\n",
       "index                            float64\n",
       "dtype: object"
      ]
     },
     "execution_count": 25,
     "metadata": {},
     "output_type": "execute_result"
    }
   ],
   "source": [
    "df_All_Switches_Without_Fund_Close.dtypes"
   ]
  },
  {
   "cell_type": "markdown",
   "id": "6242092a",
   "metadata": {},
   "source": [
    "## Create the Fund Switch Count dataframe."
   ]
  },
  {
   "cell_type": "code",
   "execution_count": 26,
   "id": "1a42cd17",
   "metadata": {},
   "outputs": [
    {
     "name": "stdout",
     "output_type": "stream",
     "text": [
      "67\n",
      "==========================\n",
      "2024-08-05 21:49:19.197588\n",
      "==========================\n",
      "svmem(total=16756752384, available=10142748672, percent=39.5, used=6614003712, free=10142748672)\n",
      "==========================\n"
     ]
    }
   ],
   "source": [
    "df_All_Switches = df_All_Switches_Without_Fund_Close\n",
    "#df_All_Switches['PROCESSING_DATE'] = pd.to_datetime(df_All_Switches['PROCESSING_DATE'].str.strip(), format='%Y/%m/%d')\n",
    "df_All_Switches['ProcessingtDt'] = df_All_Switches['PROCESSING_DATE'].dt.strftime('%Y%m')\n",
    "\n",
    "# Drop obsolete columns.\n",
    "df_Switches_Count = df_All_Switches.drop(['POLICY_NUMBER','LEGACY_FUND_CODE','PRODUCT','EFFECTIVE_DATE','UNIT_TYPE',\n",
    "                                          'CHARGE_TYPE','CASH_VALUE','RISK_COMMENCEMENT_DATE','Cover_End_Date',\n",
    "                                         'index','Servicing_Broker_Code','Issue_Date','Anniversary_Date','SOURCE','PROCESSING_DATE'],axis=1)\n",
    "\n",
    "# Reset teh index on count\n",
    "df_Switches_Count=df_Switches_Count[['ProcessingtDt']].value_counts().reset_index(name='counts')\n",
    "\n",
    "# Sort by ProcessingtDt\n",
    "df_Switches_Count = df_Switches_Count.sort_values(by=['ProcessingtDt'])\n",
    "\n",
    "print(len(df_Switches_Count.index))\n",
    "\n",
    "print('==========================')\n",
    "now = datetime.now()\n",
    "print(now)\n",
    "print('==========================')\n",
    "print(psutil.virtual_memory())\n",
    "print('==========================')\n",
    "\n",
    "# No displays to protect PII data\n",
    "#df_Switches_Count.head(5)"
   ]
  },
  {
   "cell_type": "markdown",
   "id": "b80a040e",
   "metadata": {},
   "source": [
    "## Now remove all instances of these policies in the close fund period."
   ]
  },
  {
   "cell_type": "code",
   "execution_count": 43,
   "id": "5f262507",
   "metadata": {},
   "outputs": [
    {
     "name": "stdout",
     "output_type": "stream",
     "text": [
      "9893\n",
      "       index POLICY_NUMBER LEGACY_FUND_CODE     PRODUCT PROCESSING_DATE  \\\n",
      "91377  90267      6141188W            SUDGB  XRP_2003V2      2022-04-04   \n",
      "91378  90268      6141188W            SUDGB  XRP_2003V2      2022-04-04   \n",
      "91379  90269      6141188W            SUDGB  XRP_2003V2      2022-04-04   \n",
      "91380  90270      6141188W            SUDGB  XRP_2003V2      2022-04-04   \n",
      "91381  90271      6141188W            SUDGB  XRP_2003V2      2022-04-04   \n",
      "\n",
      "      EFFECTIVE_DATE UNIT_TYPE CHARGE_TYPE  CASH_VALUE RISK_COMMENCEMENT_DATE  \\\n",
      "91377     2022-03-31         A           B   6052.3908             2004-12-01   \n",
      "91378     2022-03-31         A           B    175.2501             2004-12-01   \n",
      "91379     2022-03-31         A           B    157.6735             2004-12-01   \n",
      "91380     2022-03-31         A           B    142.0594             2004-12-01   \n",
      "91381     2022-03-31         A           B    125.2194             2004-12-01   \n",
      "\n",
      "      Servicing_Broker_Code  Issue_Date Cover_End_Date Anniversary_Date  \\\n",
      "91377                  5784  2004-11-18     1900-01-01       1900-01-01   \n",
      "91378                  5784  2004-11-18     1900-01-01       1900-01-01   \n",
      "91379                  5784  2004-11-18     1900-01-01       1900-01-01   \n",
      "91380                  5784  2004-11-18     1900-01-01       1900-01-01   \n",
      "91381                  5784  2004-11-18     1900-01-01       1900-01-01   \n",
      "\n",
      "      Source SOURCE  \n",
      "91377    NaN      P  \n",
      "91378    NaN      P  \n",
      "91379    NaN      P  \n",
      "91380    NaN      P  \n",
      "91381    NaN      P  \n",
      "        index POLICY_NUMBER LEGACY_FUND_CODE      PRODUCT PROCESSING_DATE  \\\n",
      "101265   1404      8036028W            XSETH  GNRP_2017V1      2022-07-29   \n",
      "101266   1405      8036028W            XSGRN  GNRP_2017V1      2022-07-29   \n",
      "101267   1406      8036028W            CUWP6  GNRP_2017V1      2022-07-29   \n",
      "101268   1407      8036028W            CUWP6  GNRP_2017V1      2022-07-29   \n",
      "101269   1408      8036028W            XSETH  GNRP_2017V1      2022-07-29   \n",
      "\n",
      "       EFFECTIVE_DATE UNIT_TYPE CHARGE_TYPE  CASH_VALUE  \\\n",
      "101265     2022-07-21         A         BID     1348.84   \n",
      "101266     2022-07-21         A         BID     1348.84   \n",
      "101267     2022-07-21         A         BID      -39.04   \n",
      "101268     2022-07-21         A         BID    -2751.49   \n",
      "101269     2022-07-21         A         BID       18.66   \n",
      "\n",
      "       RISK_COMMENCEMENT_DATE Servicing_Broker_Code  Issue_Date  \\\n",
      "101265             2020-10-01                  O735  2020-09-25   \n",
      "101266             2020-10-01                  O735  2020-09-25   \n",
      "101267             2020-10-01                  O735  2020-09-25   \n",
      "101268             2020-10-01                  O735  2020-09-25   \n",
      "101269             2020-10-01                  O735  2020-09-25   \n",
      "\n",
      "       Cover_End_Date Anniversary_Date Source SOURCE  \n",
      "101265     2045-06-01       2020-10-01      I    NaN  \n",
      "101266     2045-06-01       2020-10-01      I    NaN  \n",
      "101267     2045-06-01       2020-10-01      I    NaN  \n",
      "101268     2045-06-01       2020-10-01      I    NaN  \n",
      "101269     2045-06-01       2020-10-01      I    NaN  \n",
      ".\\data\\Fund_Close_Period.csv\n"
     ]
    }
   ],
   "source": [
    "print(len(df_Fund_Close_Period.index))\n",
    "print(df_Fund_Close_Period.head(5))\n",
    "print(df_Fund_Close_Period.tail(5))\n",
    "\n",
    "\n",
    "# Write out to a comma separated values file.\n",
    "filename = input_path + '\\Fund_Close_Period.csv'\n",
    "#df_Fund_Close_Period.to_csv(filename, encoding='utf-8', index=False)  \n",
    "\n",
    "print(filename)"
   ]
  },
  {
   "cell_type": "code",
   "execution_count": 27,
   "id": "67404d00",
   "metadata": {},
   "outputs": [
    {
     "name": "stdout",
     "output_type": "stream",
     "text": [
      "69\n",
      "==========================\n",
      "2024-08-05 21:49:43.669842\n",
      "==========================\n",
      "svmem(total=16756752384, available=10146836480, percent=39.4, used=6609915904, free=10146836480)\n",
      "==========================\n"
     ]
    }
   ],
   "source": [
    "print(len(df_Fund_Close_Unique_Pols.index))\n",
    "\n",
    "print('==========================')\n",
    "now = datetime.now()\n",
    "print(now)\n",
    "print('==========================')\n",
    "print(psutil.virtual_memory())\n",
    "print('==========================')\n",
    "\n",
    "# No displays to protect PII data\n",
    "#df_Fund_Close_Unique_Pols.head(5)"
   ]
  },
  {
   "cell_type": "markdown",
   "id": "cb2a646a",
   "metadata": {},
   "source": [
    "## Remove close fund pols from the full list from that period."
   ]
  },
  {
   "cell_type": "code",
   "execution_count": 30,
   "id": "0e9709f7",
   "metadata": {},
   "outputs": [
    {
     "name": "stdout",
     "output_type": "stream",
     "text": [
      "==========================\n",
      "2024-08-05 21:50:15.672614\n",
      "==========================\n",
      "svmem(total=16756752384, available=10113732608, percent=39.6, used=6643019776, free=10113732608)\n",
      "==========================\n"
     ]
    }
   ],
   "source": [
    "close_fund_pols = df_Fund_Close_Unique_Pols.values.tolist()\n",
    "\n",
    "# Stata\n",
    "\n",
    "print('==========================')\n",
    "now = datetime.now()\n",
    "print(now)\n",
    "print('==========================')\n",
    "print(psutil.virtual_memory())\n",
    "print('==========================')\n",
    "\n",
    "# No displays to protect PII data\n",
    "#close_fund_pols"
   ]
  },
  {
   "cell_type": "code",
   "execution_count": 31,
   "id": "caccafe2",
   "metadata": {},
   "outputs": [
    {
     "name": "stdout",
     "output_type": "stream",
     "text": [
      "0\n",
      "==========================\n",
      "2024-08-05 21:50:16.455240\n",
      "==========================\n",
      "svmem(total=16756752384, available=10107117568, percent=39.7, used=6649634816, free=10107117568)\n",
      "==========================\n"
     ]
    }
   ],
   "source": [
    "df_Fund_Close_Period_New = df_Fund_Close_Period[df_Fund_Close_Period.POLICY_NUMBER.isin(close_fund_pols)]\n",
    "\n",
    "print(len(df_Fund_Close_Period_New.index))\n",
    "\n",
    "print('==========================')\n",
    "now = datetime.now()\n",
    "print(now)\n",
    "print('==========================')\n",
    "print(psutil.virtual_memory())\n",
    "print('==========================')\n",
    "\n",
    "# No displays to protect PII data\n",
    "#df_Fund_Close_Period_New.head(5)"
   ]
  },
  {
   "cell_type": "code",
   "execution_count": 33,
   "id": "ea314fbe",
   "metadata": {},
   "outputs": [
    {
     "name": "stdout",
     "output_type": "stream",
     "text": [
      "9893\n",
      "==========================\n",
      "2024-08-05 21:50:21.983638\n",
      "==========================\n",
      "svmem(total=16756752384, available=10121023488, percent=39.6, used=6635728896, free=10121023488)\n",
      "==========================\n"
     ]
    }
   ],
   "source": [
    "print(len(df_Fund_Close_Period.index))\n",
    "\n",
    "print('==========================')\n",
    "now = datetime.now()\n",
    "print(now)\n",
    "print('==========================')\n",
    "print(psutil.virtual_memory())\n",
    "print('==========================')\n",
    "\n",
    "# No displays to protect PII data\n",
    "#df_Fund_Close_Period.head(5)"
   ]
  },
  {
   "cell_type": "code",
   "execution_count": 34,
   "id": "2824d794",
   "metadata": {},
   "outputs": [
    {
     "data": {
      "text/plain": [
       "['df_All_Switches',\n",
       " 'df_All_Switches_Without_Fund_Close',\n",
       " 'df_Closed_Funds_Policies_Removed',\n",
       " 'df_Fund_Close_Period',\n",
       " 'df_Fund_Close_Period_New',\n",
       " 'df_Fund_Close_Pols',\n",
       " 'df_Fund_Close_Unique_Pols',\n",
       " 'df_Fund_NON_Close_Period',\n",
       " 'df_LEFT_A',\n",
       " 'df_Switches_Count']"
      ]
     },
     "execution_count": 34,
     "metadata": {},
     "output_type": "execute_result"
    }
   ],
   "source": [
    "%who_ls DataFrame "
   ]
  },
  {
   "cell_type": "code",
   "execution_count": 35,
   "id": "f98149cd",
   "metadata": {},
   "outputs": [
    {
     "ename": "NameError",
     "evalue": "name 'df_Full_Population_Count' is not defined",
     "output_type": "error",
     "traceback": [
      "\u001b[1;31m---------------------------------------------------------------------------\u001b[0m",
      "\u001b[1;31mNameError\u001b[0m                                 Traceback (most recent call last)",
      "Cell \u001b[1;32mIn[35], line 4\u001b[0m\n\u001b[0;32m      2\u001b[0m \u001b[38;5;28;01mdel\u001b[39;00m df_All_Switches_Without_Fund_Close\n\u001b[0;32m      3\u001b[0m \u001b[38;5;28;01mdel\u001b[39;00m df_Closed_Funds_Policies_Removed\n\u001b[1;32m----> 4\u001b[0m \u001b[38;5;28;01mdel\u001b[39;00m df_Full_Population_Count\n\u001b[0;32m      5\u001b[0m \u001b[38;5;28;01mdel\u001b[39;00m df_Fund_Close_Period\n\u001b[0;32m      6\u001b[0m \u001b[38;5;28;01mdel\u001b[39;00m df_Fund_Close_Period_New\n",
      "\u001b[1;31mNameError\u001b[0m: name 'df_Full_Population_Count' is not defined"
     ]
    }
   ],
   "source": [
    "del df_All_Switches\n",
    "del df_All_Switches_Without_Fund_Close\n",
    "del df_Closed_Funds_Policies_Removed\n",
    "del df_Full_Population_Count\n",
    "del df_Fund_Close_Period\n",
    "del df_Fund_Close_Period_New\n",
    "del df_Fund_Close_Pols\n",
    "del df_Fund_Close_Unique_Pols\n",
    "del df_Fund_NON_Close_Period\n",
    "del df_LEFT_A\n",
    "del df_Switches_Count\n",
    "\n",
    "print('==========================')\n",
    "now = datetime.now()\n",
    "print(now)\n",
    "print('==========================')\n",
    "print(psutil.virtual_memory())\n",
    "print('==========================')"
   ]
  },
  {
   "cell_type": "code",
   "execution_count": null,
   "id": "6343ebc3",
   "metadata": {},
   "outputs": [],
   "source": []
  },
  {
   "cell_type": "code",
   "execution_count": null,
   "id": "a717a318",
   "metadata": {},
   "outputs": [],
   "source": []
  },
  {
   "cell_type": "code",
   "execution_count": null,
   "id": "6c174e11",
   "metadata": {},
   "outputs": [],
   "source": []
  }
 ],
 "metadata": {
  "kernelspec": {
   "display_name": "Python 3 (ipykernel)",
   "language": "python",
   "name": "python3"
  },
  "language_info": {
   "codemirror_mode": {
    "name": "ipython",
    "version": 3
   },
   "file_extension": ".py",
   "mimetype": "text/x-python",
   "name": "python",
   "nbconvert_exporter": "python",
   "pygments_lexer": "ipython3",
   "version": "3.8.8"
  }
 },
 "nbformat": 4,
 "nbformat_minor": 5
}
