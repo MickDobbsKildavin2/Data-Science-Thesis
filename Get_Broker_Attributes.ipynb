{
 "cells": [
  {
   "cell_type": "markdown",
   "id": "a4c7540b",
   "metadata": {},
   "source": [
    "Import the libraries needed"
   ]
  },
  {
   "cell_type": "code",
   "execution_count": 1,
   "id": "96b7fd46",
   "metadata": {},
   "outputs": [
    {
     "name": "stderr",
     "output_type": "stream",
     "text": [
      "C:\\Users\\m033\\Anaconda3\\lib\\site-packages\\requests\\__init__.py:109: RequestsDependencyWarning: urllib3 (1.26.16) or chardet (3.0.0)/charset_normalizer (2.0.4) doesn't match a supported version!\n",
      "  warnings.warn(\n"
     ]
    }
   ],
   "source": [
    "import pandas as pd\n",
    "#from pandas.compat import StringIO\n",
    "from pandas.tseries.offsets import DateOffset\n",
    "\n",
    "from datetime import datetime\n",
    "import psutil\n",
    "\n",
    "\n",
    "import numpy as np\n",
    "import os\n",
    "import pyodbc\n",
    "pyodbc.drivers()\n",
    "\n",
    "import csv\n",
    "\n",
    "from sklearn.preprocessing import StandardScaler\n",
    "import seaborn as sns\n",
    "\n",
    "pd.options.display.max_rows = 1000\n",
    "\n",
    "# For the Yahoo Finance api\n",
    "from pandas_datareader import data as pdr\n",
    "import yfinance as yf\n",
    "yf.pdr_override() \n"
   ]
  },
  {
   "cell_type": "markdown",
   "id": "a42969f9",
   "metadata": {},
   "source": [
    "### Database connections and SQL to retrieve the various data needed."
   ]
  },
  {
   "cell_type": "code",
   "execution_count": 2,
   "id": "b616bb0f",
   "metadata": {},
   "outputs": [
    {
     "name": "stdout",
     "output_type": "stream",
     "text": [
      "==========================\n",
      "2024-08-14 17:56:11.067438\n",
      "==========================\n",
      "svmem(total=16756752384, available=4337516544, percent=74.1, used=12419235840, free=4337516544)\n",
      "==========================\n"
     ]
    }
   ],
   "source": [
    "SQL_server = 'xxx\\yyy'\n",
    "Reporting_database = 'zzz'\n",
    "Reference_Data_database = 'aaa'\n",
    "\n",
    "\n",
    "pd.set_option('max_row', None)\n",
    "#pd.options.display.max_rows = 1000\n",
    "\n",
    "# Set a value for the home folder.\n",
    "home_folder = \".\"\n",
    "\n",
    "# Set values for the various paths.\n",
    "input_path = home_folder + \"\\data\"\n",
    "\n",
    "print('==========================')\n",
    "now = datetime.now()\n",
    "print(now)\n",
    "print('==========================')\n",
    "print(psutil.virtual_memory())\n",
    "print('==========================')"
   ]
  },
  {
   "cell_type": "markdown",
   "id": "45824292",
   "metadata": {},
   "source": [
    "# 1. Get Broker and Commissions features.\n",
    "\n",
    "  -  Identified in Lit Review.# 1. Read back the population with switches data."
   ]
  },
  {
   "cell_type": "code",
   "execution_count": 3,
   "id": "fd4ec6f7",
   "metadata": {},
   "outputs": [
    {
     "name": "stdout",
     "output_type": "stream",
     "text": [
      "69683\n",
      "2024-08-14 17:56:12.777567\n",
      "==========================\n",
      "ContractNumber      object\n",
      "ServicingBroker      int64\n",
      "InitialBroker        int64\n",
      "BrokerCategory      object\n",
      "InitialRate        float64\n",
      "RenewalRate        float64\n",
      "dtype: object\n"
     ]
    }
   ],
   "source": [
    "conn = pyodbc.connect(\n",
    "         'DRIVER={ODBC Driver 17 for SQL Server};'\n",
    "         'SERVER='+SQL_server+';'\n",
    "         'DATABASE='+Reporting_database+';'\n",
    "         'Trusted_Connection=yes;')\n",
    "\n",
    "broker_query = f\"\"\"SELECT pol.Policy_Number AS ContractNumber\n",
    "\t  ,pol.Servicing_Broker_Id AS ServicingBroker\n",
    "      ,pol.Initial_Broker_Id   AS InitialBroker\n",
    "      ,pb.Broker_Category_En AS BrokerCategory\n",
    "\t  ,AVG(cr.Initial_Rate) AS InitialRate\n",
    "\t  ,AVG(cr.renewal_Rate) AS RenewalRate\n",
    "FROM Policy pol\n",
    "INNER JOIN Product prd ON prd.Product_Id = pol.Product_Id\n",
    "INNER JOIN Policy_Broker pb ON pb.Statement_Broker_Id = pol.Servicing_Broker_Id\n",
    "INNER JOIN Commission_Rate cr ON cr.Policy_Broker_Id = pb.Policy_Broker_Type_Id --AND cr.Policy_Broker_Id = pb.Policy_Broker_Id\n",
    "WHERE prd.Product_Id = pol.Product_Id\n",
    "AND   prd.Product_Code IN ('FKP','GNPP_','GNRP')\n",
    "AND SUBSTRING(prd.Product_Category_Code,1,3) = SUBSTRING(cr.Commissions_Product_Group,1,3)\n",
    "GROUP BY pol.Policy_Number,pol.Servicing_Broker_Id,pol.Initial_Broker_Id,pb.Broker_Category_En;\"\"\"\n",
    "\n",
    "df_broker = pd.read_sql(broker_query, conn)\n",
    "\n",
    "# Types and row count\n",
    "# print stats.\n",
    "print(len(df_broker.index))\n",
    "now = datetime.now()\n",
    "print(now)\n",
    "print('==========================')\n",
    "\n",
    "\n",
    "print(df_broker.dtypes)\n",
    "\n",
    "# No displays to protect PII data\n",
    "#df_broker.head(5)"
   ]
  },
  {
   "cell_type": "markdown",
   "id": "c36731f1",
   "metadata": {},
   "source": [
    "## Drop obsolete or repeated features.\n",
    "\n",
    "## Check for nulls"
   ]
  },
  {
   "cell_type": "code",
   "execution_count": 4,
   "id": "752432d2",
   "metadata": {},
   "outputs": [
    {
     "data": {
      "text/plain": [
       "ContractNumber      object\n",
       "ServicingBroker      int64\n",
       "InitialBroker        int64\n",
       "BrokerCategory      object\n",
       "InitialRate        float64\n",
       "RenewalRate        float64\n",
       "dtype: object"
      ]
     },
     "execution_count": 4,
     "metadata": {},
     "output_type": "execute_result"
    }
   ],
   "source": [
    "df_broker.dtypes"
   ]
  },
  {
   "cell_type": "code",
   "execution_count": 5,
   "id": "07e8c49a",
   "metadata": {},
   "outputs": [
    {
     "data": {
      "text/plain": [
       "ContractNumber     False\n",
       "ServicingBroker    False\n",
       "InitialBroker      False\n",
       "BrokerCategory     False\n",
       "InitialRate        False\n",
       "RenewalRate        False\n",
       "dtype: bool"
      ]
     },
     "execution_count": 5,
     "metadata": {},
     "output_type": "execute_result"
    }
   ],
   "source": [
    "df_broker.isna().any()"
   ]
  },
  {
   "cell_type": "markdown",
   "id": "922680d7",
   "metadata": {},
   "source": [
    "## All features well distributed so write to csv."
   ]
  },
  {
   "cell_type": "code",
   "execution_count": 6,
   "id": "05a9f70e",
   "metadata": {},
   "outputs": [],
   "source": [
    "# Write out to a comma separated values file.\n",
    "\n",
    "# giving directory name\n",
    "filename = input_path + '\\Broker_and_Commission_data.csv'\n",
    "df_broker.to_csv(filename, encoding='utf-8', index=False)        \n",
    "\n",
    "# No displays to protect PII data\n",
    "#df_broker.head(10)"
   ]
  },
  {
   "cell_type": "code",
   "execution_count": 7,
   "id": "429258dc",
   "metadata": {},
   "outputs": [
    {
     "data": {
      "text/plain": [
       "['df_broker']"
      ]
     },
     "execution_count": 7,
     "metadata": {},
     "output_type": "execute_result"
    }
   ],
   "source": [
    "%who_ls DataFrame "
   ]
  },
  {
   "cell_type": "code",
   "execution_count": 8,
   "id": "c15d17b1",
   "metadata": {},
   "outputs": [],
   "source": [
    "del df_broker\n",
    "\n",
    "\n",
    "\n"
   ]
  },
  {
   "cell_type": "code",
   "execution_count": 9,
   "id": "74c166c3",
   "metadata": {},
   "outputs": [
    {
     "name": "stdout",
     "output_type": "stream",
     "text": [
      "==========================\n",
      "2024-08-14 17:56:13.186487\n",
      "==========================\n",
      "svmem(total=16756752384, available=4329365504, percent=74.2, used=12427386880, free=4329365504)\n",
      "==========================\n"
     ]
    }
   ],
   "source": [
    "print('==========================')\n",
    "now = datetime.now()\n",
    "print(now)\n",
    "print('==========================')\n",
    "print(psutil.virtual_memory())\n",
    "print('==========================')"
   ]
  },
  {
   "cell_type": "code",
   "execution_count": null,
   "id": "f7f2cd07",
   "metadata": {},
   "outputs": [],
   "source": []
  },
  {
   "cell_type": "code",
   "execution_count": null,
   "id": "fe36e692",
   "metadata": {},
   "outputs": [],
   "source": []
  },
  {
   "cell_type": "code",
   "execution_count": null,
   "id": "bc7248a8",
   "metadata": {},
   "outputs": [],
   "source": []
  }
 ],
 "metadata": {
  "kernelspec": {
   "display_name": "Python 3 (ipykernel)",
   "language": "python",
   "name": "python3"
  },
  "language_info": {
   "codemirror_mode": {
    "name": "ipython",
    "version": 3
   },
   "file_extension": ".py",
   "mimetype": "text/x-python",
   "name": "python",
   "nbconvert_exporter": "python",
   "pygments_lexer": "ipython3",
   "version": "3.8.8"
  }
 },
 "nbformat": 4,
 "nbformat_minor": 5
}
