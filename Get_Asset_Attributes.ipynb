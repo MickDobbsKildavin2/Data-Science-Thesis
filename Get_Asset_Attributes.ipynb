{
 "cells": [
  {
   "cell_type": "markdown",
   "id": "a4c7540b",
   "metadata": {},
   "source": [
    "Import the libraries needed"
   ]
  },
  {
   "cell_type": "code",
   "execution_count": 1,
   "id": "96b7fd46",
   "metadata": {},
   "outputs": [
    {
     "name": "stderr",
     "output_type": "stream",
     "text": [
      "C:\\Users\\m033\\Anaconda3\\lib\\site-packages\\requests\\__init__.py:109: RequestsDependencyWarning: urllib3 (1.26.16) or chardet (3.0.0)/charset_normalizer (2.0.4) doesn't match a supported version!\n",
      "  warnings.warn(\n"
     ]
    }
   ],
   "source": [
    "import pandas as pd\n",
    "#from pandas.compat import StringIO\n",
    "from pandas.tseries.offsets import DateOffset\n",
    "\n",
    "from datetime import datetime\n",
    "import psutil\n",
    "\n",
    "\n",
    "import numpy as np\n",
    "import os\n",
    "import pyodbc\n",
    "pyodbc.drivers()\n",
    "\n",
    "import csv\n",
    "\n",
    "from sklearn.preprocessing import StandardScaler\n",
    "import seaborn as sns\n",
    "\n",
    "pd.options.display.max_rows = 1000\n",
    "\n",
    "# For the Yahoo Finance api\n",
    "from pandas_datareader import data as pdr\n",
    "import yfinance as yf\n",
    "yf.pdr_override() \n"
   ]
  },
  {
   "cell_type": "markdown",
   "id": "a42969f9",
   "metadata": {},
   "source": [
    "### Database connections and SQL to retrieve the various data needed."
   ]
  },
  {
   "cell_type": "code",
   "execution_count": 2,
   "id": "b616bb0f",
   "metadata": {},
   "outputs": [
    {
     "name": "stdout",
     "output_type": "stream",
     "text": [
      "==========================\n",
      "2024-08-14 17:50:18.582765\n",
      "==========================\n",
      "svmem(total=16756752384, available=4369469440, percent=73.9, used=12387282944, free=4369469440)\n",
      "==========================\n"
     ]
    }
   ],
   "source": [
    "SQL_server = 'xxx\\yyy'\n",
    "Reporting_database = 'zzz'\n",
    "Reference_Data_database = 'aaa'\n",
    "\n",
    "pd.set_option('max_row', None)\n",
    "#pd.options.display.max_rows = 1000\n",
    "\n",
    "# Set a value for the home folder.\n",
    "home_folder = \".\"\n",
    "\n",
    "# Set values for the various paths.\n",
    "input_path = home_folder + \"\\data\"\n",
    "\n",
    "print('==========================')\n",
    "now = datetime.now()\n",
    "print(now)\n",
    "print('==========================')\n",
    "print(psutil.virtual_memory())\n",
    "print('==========================')"
   ]
  },
  {
   "cell_type": "markdown",
   "id": "45824292",
   "metadata": {},
   "source": [
    "# 1. Get supplementary Asset features.\n",
    "\n",
    "  -  Identified in Lit Review."
   ]
  },
  {
   "cell_type": "code",
   "execution_count": 3,
   "id": "2870d6d7",
   "metadata": {},
   "outputs": [
    {
     "name": "stdout",
     "output_type": "stream",
     "text": [
      "100309\n",
      "2024-08-14 17:51:28.984234\n",
      "==========================\n"
     ]
    }
   ],
   "source": [
    "conn = pyodbc.connect(\n",
    "         'DRIVER={ODBC Driver 17 for SQL Server};'\n",
    "         'SERVER='+SQL_server+';'\n",
    "         'DATABASE='+Reporting_database+';'\n",
    "         'Trusted_Connection=yes;')\n",
    "\n",
    "asset_query = f\"\"\"SELECT pol.Policy_Number         AS ContractNumber\n",
    "                        ,pol.Pricing_Variant_Id           AS PricingVariant\n",
    "                        ,CASE WHEN f.Asset_Type_Code = 'UW' THEN 1\n",
    "                             ELSE 0 \n",
    "                        END as Has_UWP\n",
    "                 FROM Policy pol\n",
    "                 INNER JOIN Product prd ON prd.Product_Id = pol.Product_Id\n",
    "                 INNER JOIN Policy_Fund_Values fv ON fv.Policy_Number = pol.Policy_Number and  fv.Valuation_Date = '2024-07-03' \n",
    "                 INNER JOIN Fund F ON fv.Fund_Name = f.Fund_Name AND f.Asset_Type_Code = 'UW'\n",
    "                 WHERE prd.Product_Code IN ('FKP','GNPP','GNRP')\n",
    "                 GROUP BY pol.Policy_Number  ,f.Asset_Type_Code ,Pricing_Variant_Id                          \n",
    "                 ORDER BY pol.Policy_Number;\"\"\"\n",
    "\n",
    "df_asset = pd.read_sql(asset_query, conn)\n",
    "\n",
    "# Types and row count\n",
    "# print stats.\n",
    "print(len(df_asset.index))\n",
    "now = datetime.now()\n",
    "print(now)\n",
    "print('==========================')\n",
    "\n",
    "# No displays to protect PII data\n",
    "#df_asset.head(5)"
   ]
  },
  {
   "cell_type": "markdown",
   "id": "16534ce4",
   "metadata": {},
   "source": [
    "## Drop obsolette or repeated features."
   ]
  },
  {
   "cell_type": "markdown",
   "id": "cc32f709",
   "metadata": {},
   "source": [
    "## Check for nulls"
   ]
  },
  {
   "cell_type": "code",
   "execution_count": 4,
   "id": "d9b71c8f",
   "metadata": {},
   "outputs": [
    {
     "data": {
      "text/plain": [
       "ContractNumber    False\n",
       "PricingVariant    False\n",
       "Has_UWP           False\n",
       "dtype: bool"
      ]
     },
     "execution_count": 4,
     "metadata": {},
     "output_type": "execute_result"
    }
   ],
   "source": [
    "df_asset.isna().any()"
   ]
  },
  {
   "cell_type": "markdown",
   "id": "4b4b4fc0",
   "metadata": {},
   "source": [
    "## Check the distributions of values for each column."
   ]
  },
  {
   "cell_type": "code",
   "execution_count": 5,
   "id": "ccdadb3d",
   "metadata": {},
   "outputs": [
    {
     "name": "stdout",
     "output_type": "stream",
     "text": [
      "PricingVariant :  6       94518\n",
      "4        1675\n",
      "5        1150\n",
      "4001      773\n",
      "4015      727\n",
      "4004      599\n",
      "4017      433\n",
      "4002      179\n",
      "4005      142\n",
      "4003      103\n",
      "4016        6\n",
      "4036        2\n",
      "4045        1\n",
      "4044        1\n",
      "Name: PricingVariant, dtype: int64\n",
      "Has_UWP        :  1    100309\n",
      "Name: Has_UWP, dtype: int64\n"
     ]
    }
   ],
   "source": [
    "print('PricingVariant : ',df_asset['PricingVariant'].value_counts())\n",
    "print('Has_UWP        : ',df_asset['Has_UWP'].value_counts())\n"
   ]
  },
  {
   "cell_type": "markdown",
   "id": "d64fea13",
   "metadata": {},
   "source": [
    "## Has_UWP is showing no diatribution across multiple values and is dropped."
   ]
  },
  {
   "cell_type": "markdown",
   "id": "893a8d22",
   "metadata": {},
   "source": [
    "## Drop all non predictive features and write to Excel"
   ]
  },
  {
   "cell_type": "code",
   "execution_count": 6,
   "id": "752432d2",
   "metadata": {},
   "outputs": [],
   "source": [
    "df_asset = df_asset.drop(['Has_UWP'],axis=1)\n",
    "\n",
    "# Write out to a comma separated values file.\n",
    "\n",
    "# giving directory name\n",
    "filename = input_path + '\\Asset_data.csv'\n",
    "df_asset.to_csv(filename, encoding='utf-8', index=False)        \n",
    "# No displays to protect PII data\n",
    "#df_asset.head(10)"
   ]
  },
  {
   "cell_type": "code",
   "execution_count": 7,
   "id": "b6109a98",
   "metadata": {},
   "outputs": [
    {
     "data": {
      "text/plain": [
       "['df_asset']"
      ]
     },
     "execution_count": 7,
     "metadata": {},
     "output_type": "execute_result"
    }
   ],
   "source": [
    "%who_ls DataFrame "
   ]
  },
  {
   "cell_type": "code",
   "execution_count": 8,
   "id": "94e02049",
   "metadata": {},
   "outputs": [
    {
     "name": "stdout",
     "output_type": "stream",
     "text": [
      "==========================\n",
      "2024-08-14 17:51:29.241345\n",
      "==========================\n",
      "svmem(total=16756752384, available=4251234304, percent=74.6, used=12505518080, free=4251234304)\n",
      "==========================\n"
     ]
    }
   ],
   "source": [
    "del df_asset\n",
    "\n",
    "print('==========================')\n",
    "now = datetime.now()\n",
    "print(now)\n",
    "print('==========================')\n",
    "print(psutil.virtual_memory())\n",
    "print('==========================')"
   ]
  },
  {
   "cell_type": "code",
   "execution_count": null,
   "id": "ab6716c6",
   "metadata": {},
   "outputs": [],
   "source": []
  }
 ],
 "metadata": {
  "kernelspec": {
   "display_name": "Python 3 (ipykernel)",
   "language": "python",
   "name": "python3"
  },
  "language_info": {
   "codemirror_mode": {
    "name": "ipython",
    "version": 3
   },
   "file_extension": ".py",
   "mimetype": "text/x-python",
   "name": "python",
   "nbconvert_exporter": "python",
   "pygments_lexer": "ipython3",
   "version": "3.8.8"
  }
 },
 "nbformat": 4,
 "nbformat_minor": 5
}
