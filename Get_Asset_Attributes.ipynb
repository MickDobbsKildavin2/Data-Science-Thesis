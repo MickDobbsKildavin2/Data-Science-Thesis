{
 "cells": [
  {
   "cell_type": "markdown",
   "id": "a4c7540b",
   "metadata": {},
   "source": [
    "Import the libraries needed"
   ]
  },
  {
   "cell_type": "code",
   "execution_count": 1,
   "id": "96b7fd46",
   "metadata": {},
   "outputs": [
    {
     "name": "stderr",
     "output_type": "stream",
     "text": [
      "C:\\Users\\m033\\Anaconda3\\lib\\site-packages\\requests\\__init__.py:109: RequestsDependencyWarning: urllib3 (1.26.16) or chardet (3.0.0)/charset_normalizer (2.0.4) doesn't match a supported version!\n",
      "  warnings.warn(\n"
     ]
    }
   ],
   "source": [
    "import pandas as pd\n",
    "#from pandas.compat import StringIO\n",
    "from pandas.tseries.offsets import DateOffset\n",
    "\n",
    "from datetime import datetime\n",
    "import psutil\n",
    "\n",
    "\n",
    "import numpy as np\n",
    "import os\n",
    "import pyodbc\n",
    "pyodbc.drivers()\n",
    "\n",
    "import csv\n",
    "\n",
    "from sklearn.preprocessing import StandardScaler\n",
    "import seaborn as sns\n",
    "\n",
    "pd.options.display.max_rows = 1000\n",
    "\n",
    "# For the Yahoo Finance api\n",
    "from pandas_datareader import data as pdr\n",
    "import yfinance as yf\n",
    "yf.pdr_override() \n"
   ]
  },
  {
   "cell_type": "markdown",
   "id": "a42969f9",
   "metadata": {},
   "source": [
    "### Database connections and SQL to retrieve the various data needed."
   ]
  },
  {
   "cell_type": "code",
   "execution_count": 2,
   "id": "b616bb0f",
   "metadata": {},
   "outputs": [
    {
     "name": "stdout",
     "output_type": "stream",
     "text": [
      "==========================\n",
      "2024-07-19 19:08:15.278437\n",
      "==========================\n",
      "svmem(total=16756752384, available=3544735744, percent=78.8, used=13212016640, free=3544735744)\n",
      "==========================\n"
     ]
    }
   ],
   "source": [
    "SQL_server = 'WINPRDAI1572\\CLESQLDW'\n",
    "Reporting_database = 'CLE_Reporting'\n",
    "Reference_Data_database = 'CLE_Reference_Data'\n",
    "\n",
    "pd.set_option('max_row', None)\n",
    "#pd.options.display.max_rows = 1000\n",
    "\n",
    "# Set a value for the home folder.\n",
    "home_folder = \".\"\n",
    "\n",
    "# Set values for the various paths.\n",
    "input_path = home_folder + \"\\data\"\n",
    "\n",
    "print('==========================')\n",
    "now = datetime.now()\n",
    "print(now)\n",
    "print('==========================')\n",
    "print(psutil.virtual_memory())\n",
    "print('==========================')"
   ]
  },
  {
   "cell_type": "markdown",
   "id": "45824292",
   "metadata": {},
   "source": [
    "# 1. Get supplementary Asset features.\n",
    "\n",
    "  -  Identified in Lit Review."
   ]
  },
  {
   "cell_type": "code",
   "execution_count": 3,
   "id": "2870d6d7",
   "metadata": {},
   "outputs": [
    {
     "name": "stdout",
     "output_type": "stream",
     "text": [
      "100309\n",
      "2024-07-19 19:09:18.950102\n",
      "==========================\n",
      "ContractNumber    object\n",
      "PricingVariant     int64\n",
      "Has_UWP            int64\n",
      "dtype: object\n"
     ]
    },
    {
     "data": {
      "text/html": [
       "<div>\n",
       "<style scoped>\n",
       "    .dataframe tbody tr th:only-of-type {\n",
       "        vertical-align: middle;\n",
       "    }\n",
       "\n",
       "    .dataframe tbody tr th {\n",
       "        vertical-align: top;\n",
       "    }\n",
       "\n",
       "    .dataframe thead th {\n",
       "        text-align: right;\n",
       "    }\n",
       "</style>\n",
       "<table border=\"1\" class=\"dataframe\">\n",
       "  <thead>\n",
       "    <tr style=\"text-align: right;\">\n",
       "      <th></th>\n",
       "      <th>ContractNumber</th>\n",
       "      <th>PricingVariant</th>\n",
       "      <th>Has_UWP</th>\n",
       "    </tr>\n",
       "  </thead>\n",
       "  <tbody>\n",
       "    <tr>\n",
       "      <th>0</th>\n",
       "      <td>6215812A</td>\n",
       "      <td>4015</td>\n",
       "      <td>1</td>\n",
       "    </tr>\n",
       "    <tr>\n",
       "      <th>1</th>\n",
       "      <td>6216004M</td>\n",
       "      <td>4015</td>\n",
       "      <td>1</td>\n",
       "    </tr>\n",
       "    <tr>\n",
       "      <th>2</th>\n",
       "      <td>6216180E</td>\n",
       "      <td>4015</td>\n",
       "      <td>1</td>\n",
       "    </tr>\n",
       "    <tr>\n",
       "      <th>3</th>\n",
       "      <td>6216746P</td>\n",
       "      <td>4015</td>\n",
       "      <td>1</td>\n",
       "    </tr>\n",
       "    <tr>\n",
       "      <th>4</th>\n",
       "      <td>6217141W</td>\n",
       "      <td>4015</td>\n",
       "      <td>1</td>\n",
       "    </tr>\n",
       "  </tbody>\n",
       "</table>\n",
       "</div>"
      ],
      "text/plain": [
       "  ContractNumber  PricingVariant  Has_UWP\n",
       "0       6215812A            4015        1\n",
       "1       6216004M            4015        1\n",
       "2       6216180E            4015        1\n",
       "3       6216746P            4015        1\n",
       "4       6217141W            4015        1"
      ]
     },
     "execution_count": 3,
     "metadata": {},
     "output_type": "execute_result"
    }
   ],
   "source": [
    "conn = pyodbc.connect(\n",
    "         'DRIVER={ODBC Driver 17 for SQL Server};'\n",
    "         'SERVER='+SQL_server+';'\n",
    "         'DATABASE='+Reporting_database+';'\n",
    "         'Trusted_Connection=yes;')\n",
    "\n",
    "asset_query = f\"\"\"SELECT pol.Policy_Number         AS ContractNumber\n",
    "                        ,pol.Pricing_Variant_Id           AS PricingVariant\n",
    "                        ,CASE WHEN f.Asset_Type_Code = 'UW' THEN 1\n",
    "                             ELSE 0 \n",
    "                        END as Has_UWP\n",
    "                 FROM CLT_Policy pol\n",
    "                 INNER JOIN CLE_Reporting.dbo.CLT_Product prd ON prd.Product_Id = pol.Product_Id\n",
    "                 INNER JOIN CLT_Policy_Fund_Values fv ON fv.Policy_Number = pol.Policy_Number and  fv.Valuation_Date = '2024-07-03' \n",
    "                 INNER JOIN CLE_Reporting.[user].CLV_Fund F ON fv.Fund_Name = f.Fund_Name AND f.Asset_Type_Code = 'UW'\n",
    "                 WHERE prd.Product_Code IN ('FKP_2006V1','FKP_2006V2','FKP_2008V1','FKP_2010V1','FKP_2012V1','FKP_2017V1',\n",
    "                                            'GNPP_2016V1','GNPP_2017V1','GNPP_2022V1','GNPP_2023V1',\n",
    "                                            'GNRP_2008V1','GNRP_2010V1','GNRP_2012V1','GNRP_2017V1','GNRP_2022V1',\n",
    "                                            'XRPP_2005V1','XRPP_2008V1','XRPP_2010V1','XRPP_2012V1','XRPP_2015V1')\n",
    "                 GROUP BY pol.Policy_Number  ,f.Asset_Type_Code ,Pricing_Variant_Id                          \n",
    "                 ORDER BY pol.Policy_Number;\"\"\"\n",
    "\n",
    "df_asset = pd.read_sql(asset_query, conn)\n",
    "\n",
    "# Types and row count\n",
    "# print stats.\n",
    "print(len(df_asset.index))\n",
    "now = datetime.now()\n",
    "print(now)\n",
    "print('==========================')\n",
    "\n",
    "print(df_asset.dtypes)\n",
    "df_asset.head(5)"
   ]
  },
  {
   "cell_type": "markdown",
   "id": "16534ce4",
   "metadata": {},
   "source": [
    "## Drop obsolette or repeated features."
   ]
  },
  {
   "cell_type": "markdown",
   "id": "cc32f709",
   "metadata": {},
   "source": [
    "## Check for nulls"
   ]
  },
  {
   "cell_type": "code",
   "execution_count": 4,
   "id": "d9b71c8f",
   "metadata": {},
   "outputs": [
    {
     "data": {
      "text/plain": [
       "ContractNumber    False\n",
       "PricingVariant    False\n",
       "Has_UWP           False\n",
       "dtype: bool"
      ]
     },
     "execution_count": 4,
     "metadata": {},
     "output_type": "execute_result"
    }
   ],
   "source": [
    "df_asset.isna().any()"
   ]
  },
  {
   "cell_type": "markdown",
   "id": "4b4b4fc0",
   "metadata": {},
   "source": [
    "## Check the distributions of values for each column."
   ]
  },
  {
   "cell_type": "code",
   "execution_count": 5,
   "id": "ccdadb3d",
   "metadata": {},
   "outputs": [
    {
     "name": "stdout",
     "output_type": "stream",
     "text": [
      "PricingVariant :  6       94518\n",
      "4        1675\n",
      "5        1150\n",
      "4001      773\n",
      "4015      727\n",
      "4004      599\n",
      "4017      433\n",
      "4002      179\n",
      "4005      142\n",
      "4003      103\n",
      "4016        6\n",
      "4036        2\n",
      "4045        1\n",
      "4044        1\n",
      "Name: PricingVariant, dtype: int64\n",
      "Has_UWP        :  1    100309\n",
      "Name: Has_UWP, dtype: int64\n"
     ]
    }
   ],
   "source": [
    "print('PricingVariant : ',df_asset['PricingVariant'].value_counts())\n",
    "print('Has_UWP        : ',df_asset['Has_UWP'].value_counts())\n"
   ]
  },
  {
   "cell_type": "markdown",
   "id": "d64fea13",
   "metadata": {},
   "source": [
    "## Has_UWP is showing no diatribution across multiple values and is dropped."
   ]
  },
  {
   "cell_type": "markdown",
   "id": "893a8d22",
   "metadata": {},
   "source": [
    "## Drop all non predictive features and write to Excel"
   ]
  },
  {
   "cell_type": "code",
   "execution_count": 6,
   "id": "752432d2",
   "metadata": {},
   "outputs": [
    {
     "data": {
      "text/html": [
       "<div>\n",
       "<style scoped>\n",
       "    .dataframe tbody tr th:only-of-type {\n",
       "        vertical-align: middle;\n",
       "    }\n",
       "\n",
       "    .dataframe tbody tr th {\n",
       "        vertical-align: top;\n",
       "    }\n",
       "\n",
       "    .dataframe thead th {\n",
       "        text-align: right;\n",
       "    }\n",
       "</style>\n",
       "<table border=\"1\" class=\"dataframe\">\n",
       "  <thead>\n",
       "    <tr style=\"text-align: right;\">\n",
       "      <th></th>\n",
       "      <th>ContractNumber</th>\n",
       "      <th>PricingVariant</th>\n",
       "    </tr>\n",
       "  </thead>\n",
       "  <tbody>\n",
       "    <tr>\n",
       "      <th>0</th>\n",
       "      <td>6215812A</td>\n",
       "      <td>4015</td>\n",
       "    </tr>\n",
       "    <tr>\n",
       "      <th>1</th>\n",
       "      <td>6216004M</td>\n",
       "      <td>4015</td>\n",
       "    </tr>\n",
       "    <tr>\n",
       "      <th>2</th>\n",
       "      <td>6216180E</td>\n",
       "      <td>4015</td>\n",
       "    </tr>\n",
       "    <tr>\n",
       "      <th>3</th>\n",
       "      <td>6216746P</td>\n",
       "      <td>4015</td>\n",
       "    </tr>\n",
       "    <tr>\n",
       "      <th>4</th>\n",
       "      <td>6217141W</td>\n",
       "      <td>4015</td>\n",
       "    </tr>\n",
       "    <tr>\n",
       "      <th>5</th>\n",
       "      <td>6217672P</td>\n",
       "      <td>4015</td>\n",
       "    </tr>\n",
       "    <tr>\n",
       "      <th>6</th>\n",
       "      <td>6218494M</td>\n",
       "      <td>4015</td>\n",
       "    </tr>\n",
       "    <tr>\n",
       "      <th>7</th>\n",
       "      <td>6218651L</td>\n",
       "      <td>4015</td>\n",
       "    </tr>\n",
       "    <tr>\n",
       "      <th>8</th>\n",
       "      <td>6218789F</td>\n",
       "      <td>4015</td>\n",
       "    </tr>\n",
       "    <tr>\n",
       "      <th>9</th>\n",
       "      <td>6218794A</td>\n",
       "      <td>4015</td>\n",
       "    </tr>\n",
       "  </tbody>\n",
       "</table>\n",
       "</div>"
      ],
      "text/plain": [
       "  ContractNumber  PricingVariant\n",
       "0       6215812A            4015\n",
       "1       6216004M            4015\n",
       "2       6216180E            4015\n",
       "3       6216746P            4015\n",
       "4       6217141W            4015\n",
       "5       6217672P            4015\n",
       "6       6218494M            4015\n",
       "7       6218651L            4015\n",
       "8       6218789F            4015\n",
       "9       6218794A            4015"
      ]
     },
     "execution_count": 6,
     "metadata": {},
     "output_type": "execute_result"
    }
   ],
   "source": [
    "df_asset = df_asset.drop(['Has_UWP'],axis=1)\n",
    "\n",
    "# Write out to a comma separated values file.\n",
    "\n",
    "# giving directory name\n",
    "filename = input_path + '\\Asset_data.csv'\n",
    "df_asset.to_csv(filename, encoding='utf-8', index=False)        \n",
    "df_asset.head(10)"
   ]
  },
  {
   "cell_type": "code",
   "execution_count": 7,
   "id": "b6109a98",
   "metadata": {},
   "outputs": [
    {
     "data": {
      "text/plain": [
       "['df_asset']"
      ]
     },
     "execution_count": 7,
     "metadata": {},
     "output_type": "execute_result"
    }
   ],
   "source": [
    "%who_ls DataFrame "
   ]
  },
  {
   "cell_type": "code",
   "execution_count": 8,
   "id": "94e02049",
   "metadata": {},
   "outputs": [
    {
     "name": "stdout",
     "output_type": "stream",
     "text": [
      "==========================\n",
      "2024-07-19 19:09:19.425092\n",
      "==========================\n",
      "svmem(total=16756752384, available=2924802048, percent=82.5, used=13831950336, free=2924802048)\n",
      "==========================\n"
     ]
    }
   ],
   "source": [
    "del df_asset\n",
    "\n",
    "print('==========================')\n",
    "now = datetime.now()\n",
    "print(now)\n",
    "print('==========================')\n",
    "print(psutil.virtual_memory())\n",
    "print('==========================')"
   ]
  },
  {
   "cell_type": "code",
   "execution_count": null,
   "id": "ab6716c6",
   "metadata": {},
   "outputs": [],
   "source": []
  }
 ],
 "metadata": {
  "kernelspec": {
   "display_name": "Python 3 (ipykernel)",
   "language": "python",
   "name": "python3"
  },
  "language_info": {
   "codemirror_mode": {
    "name": "ipython",
    "version": 3
   },
   "file_extension": ".py",
   "mimetype": "text/x-python",
   "name": "python",
   "nbconvert_exporter": "python",
   "pygments_lexer": "ipython3",
   "version": "3.8.8"
  }
 },
 "nbformat": 4,
 "nbformat_minor": 5
}
