{
 "cells": [
  {
   "cell_type": "markdown",
   "id": "a4c7540b",
   "metadata": {},
   "source": [
    "Import the libraries needed"
   ]
  },
  {
   "cell_type": "code",
   "execution_count": 1,
   "id": "96b7fd46",
   "metadata": {},
   "outputs": [
    {
     "name": "stderr",
     "output_type": "stream",
     "text": [
      "C:\\Users\\m033\\Anaconda3\\lib\\site-packages\\requests\\__init__.py:109: RequestsDependencyWarning: urllib3 (1.26.16) or chardet (3.0.0)/charset_normalizer (2.0.4) doesn't match a supported version!\n",
      "  warnings.warn(\n"
     ]
    }
   ],
   "source": [
    "import pandas as pd\n",
    "#from pandas.compat import StringIO\n",
    "from pandas.tseries.offsets import DateOffset\n",
    "\n",
    "from datetime import datetime\n",
    "import psutil\n",
    "\n",
    "\n",
    "import numpy as np\n",
    "import os\n",
    "import pyodbc\n",
    "pyodbc.drivers()\n",
    "\n",
    "import csv\n",
    "\n",
    "from sklearn.preprocessing import StandardScaler\n",
    "import seaborn as sns\n",
    "\n",
    "pd.options.display.max_rows = 1000\n",
    "\n",
    "# For the Yahoo Finance api\n",
    "from pandas_datareader import data as pdr\n",
    "import yfinance as yf\n",
    "yf.pdr_override() \n"
   ]
  },
  {
   "cell_type": "markdown",
   "id": "a42969f9",
   "metadata": {},
   "source": [
    "### Database connections and SQL to retrieve the various data needed."
   ]
  },
  {
   "cell_type": "code",
   "execution_count": 2,
   "id": "b616bb0f",
   "metadata": {},
   "outputs": [
    {
     "name": "stdout",
     "output_type": "stream",
     "text": [
      "==========================\n",
      "2024-08-05 22:05:30.834639\n",
      "==========================\n",
      "svmem(total=16756752384, available=8869765120, percent=47.1, used=7886987264, free=8869765120)\n",
      "==========================\n"
     ]
    }
   ],
   "source": [
    "SQL_server = 'xxx\\yyy'\n",
    "Reporting_database = 'zzz'\n",
    "\n",
    "pd.set_option('max_row', None)\n",
    "#pd.options.display.max_rows = 1000\n",
    "\n",
    "# Set a value for the home folder.\n",
    "home_folder = \".\"\n",
    "\n",
    "# Set values for the various paths.\n",
    "input_path = home_folder + \"\\data\"\n",
    "\n",
    "print('==========================')\n",
    "now = datetime.now()\n",
    "print(now)\n",
    "print('==========================')\n",
    "print(psutil.virtual_memory())\n",
    "print('==========================')"
   ]
  },
  {
   "cell_type": "markdown",
   "id": "b0328df7",
   "metadata": {},
   "source": [
    "# 1. Get supplementary policy features - Tax, Fees and Risk.\n",
    "\n",
    "  -  Identified in Lit Review."
   ]
  },
  {
   "cell_type": "code",
   "execution_count": 3,
   "id": "b02e27ea",
   "metadata": {},
   "outputs": [
    {
     "ename": "Error",
     "evalue": "('HY000', '[HY000] [Microsoft][ODBC Driver 17 for SQL Server]SQL Server Network Interfaces: The system cannot contact a domain controller to service the authentication request. Please try again later.\\r\\n (-2146892976) (SQLDriverConnect); [HY000] [Microsoft][ODBC Driver 17 for SQL Server]Cannot generate SSPI context (-2146892976); [HY000] [Microsoft][ODBC Driver 17 for SQL Server]SQL Server Network Interfaces: The system cannot contact a domain controller to service the authentication request. Please try again later.\\r\\n (-2146892976); [HY000] [Microsoft][ODBC Driver 17 for SQL Server]Cannot generate SSPI context (-2146892976)')",
     "output_type": "error",
     "traceback": [
      "\u001b[1;31m---------------------------------------------------------------------------\u001b[0m",
      "\u001b[1;31mError\u001b[0m                                     Traceback (most recent call last)",
      "Cell \u001b[1;32mIn[3], line 1\u001b[0m\n\u001b[1;32m----> 1\u001b[0m conn \u001b[38;5;241m=\u001b[39m \u001b[43mpyodbc\u001b[49m\u001b[38;5;241;43m.\u001b[39;49m\u001b[43mconnect\u001b[49m\u001b[43m(\u001b[49m\n\u001b[0;32m      2\u001b[0m \u001b[43m         \u001b[49m\u001b[38;5;124;43m'\u001b[39;49m\u001b[38;5;124;43mDRIVER=\u001b[39;49m\u001b[38;5;124;43m{\u001b[39;49m\u001b[38;5;124;43mODBC Driver 17 for SQL Server};\u001b[39;49m\u001b[38;5;124;43m'\u001b[39;49m\n\u001b[0;32m      3\u001b[0m \u001b[43m         \u001b[49m\u001b[38;5;124;43m'\u001b[39;49m\u001b[38;5;124;43mSERVER=\u001b[39;49m\u001b[38;5;124;43m'\u001b[39;49m\u001b[38;5;241;43m+\u001b[39;49m\u001b[43mSQL_server\u001b[49m\u001b[38;5;241;43m+\u001b[39;49m\u001b[38;5;124;43m'\u001b[39;49m\u001b[38;5;124;43m;\u001b[39;49m\u001b[38;5;124;43m'\u001b[39;49m\n\u001b[0;32m      4\u001b[0m \u001b[43m         \u001b[49m\u001b[38;5;124;43m'\u001b[39;49m\u001b[38;5;124;43mDATABASE=\u001b[39;49m\u001b[38;5;124;43m'\u001b[39;49m\u001b[38;5;241;43m+\u001b[39;49m\u001b[43mReporting_database\u001b[49m\u001b[38;5;241;43m+\u001b[39;49m\u001b[38;5;124;43m'\u001b[39;49m\u001b[38;5;124;43m;\u001b[39;49m\u001b[38;5;124;43m'\u001b[39;49m\n\u001b[0;32m      5\u001b[0m \u001b[43m         \u001b[49m\u001b[38;5;124;43m'\u001b[39;49m\u001b[38;5;124;43mTrusted_Connection=yes;\u001b[39;49m\u001b[38;5;124;43m'\u001b[39;49m\u001b[43m)\u001b[49m\n\u001b[0;32m      7\u001b[0m tax_query \u001b[38;5;241m=\u001b[39m \u001b[38;5;124mf\u001b[39m\u001b[38;5;124m\"\"\"\u001b[39m\u001b[38;5;124mSELECT pol.Policy_Number         AS ContractNumber\u001b[39m\n\u001b[0;32m      8\u001b[0m \u001b[38;5;124m                       ,CASE WHEN pol.Is_Lump_Sum_Taxation IS NULL THEN 0\u001b[39m\n\u001b[0;32m      9\u001b[0m \u001b[38;5;124m                             ELSE pol.Is_Lump_Sum_Taxation \u001b[39m\n\u001b[1;32m   (...)\u001b[0m\n\u001b[0;32m     23\u001b[0m \u001b[38;5;124m                                            \u001b[39m\u001b[38;5;124m'\u001b[39m\u001b[38;5;124mXRPP_2005V1\u001b[39m\u001b[38;5;124m'\u001b[39m\u001b[38;5;124m,\u001b[39m\u001b[38;5;124m'\u001b[39m\u001b[38;5;124mXRPP_2008V1\u001b[39m\u001b[38;5;124m'\u001b[39m\u001b[38;5;124m,\u001b[39m\u001b[38;5;124m'\u001b[39m\u001b[38;5;124mXRPP_2010V1\u001b[39m\u001b[38;5;124m'\u001b[39m\u001b[38;5;124m,\u001b[39m\u001b[38;5;124m'\u001b[39m\u001b[38;5;124mXRPP_2012V1\u001b[39m\u001b[38;5;124m'\u001b[39m\u001b[38;5;124m,\u001b[39m\u001b[38;5;124m'\u001b[39m\u001b[38;5;124mXRPP_2015V1\u001b[39m\u001b[38;5;124m'\u001b[39m\u001b[38;5;124m)\u001b[39m\n\u001b[0;32m     24\u001b[0m \u001b[38;5;124m                 ORDER BY pol.Policy_Number;\u001b[39m\u001b[38;5;124m\"\"\"\u001b[39m\n\u001b[0;32m     26\u001b[0m df_tax \u001b[38;5;241m=\u001b[39m pd\u001b[38;5;241m.\u001b[39mread_sql(tax_query, conn)\n",
      "\u001b[1;31mError\u001b[0m: ('HY000', '[HY000] [Microsoft][ODBC Driver 17 for SQL Server]SQL Server Network Interfaces: The system cannot contact a domain controller to service the authentication request. Please try again later.\\r\\n (-2146892976) (SQLDriverConnect); [HY000] [Microsoft][ODBC Driver 17 for SQL Server]Cannot generate SSPI context (-2146892976); [HY000] [Microsoft][ODBC Driver 17 for SQL Server]SQL Server Network Interfaces: The system cannot contact a domain controller to service the authentication request. Please try again later.\\r\\n (-2146892976); [HY000] [Microsoft][ODBC Driver 17 for SQL Server]Cannot generate SSPI context (-2146892976)')"
     ]
    }
   ],
   "source": [
    "conn = pyodbc.connect(\n",
    "         'DRIVER={ODBC Driver 17 for SQL Server};'\n",
    "         'SERVER='+SQL_server+';'\n",
    "         'DATABASE='+Reporting_database+';'\n",
    "         'Trusted_Connection=yes;')\n",
    "\n",
    "tax_query = f\"\"\"SELECT pol.Policy_Number         AS ContractNumber\n",
    "                       ,CASE WHEN pol.Is_Lump_Sum_Taxation IS NULL THEN 0\n",
    "                             ELSE pol.Is_Lump_Sum_Taxation \n",
    "                        END AS Lump_Sum_Taxation\n",
    "                       ,pol.Tax_Notification_Type\n",
    "                       ,pol.Insurance_Tax_Type\n",
    "                       ,pol.Main_Tax_Country\n",
    "                       ,pol.Secondary_Tax_Country\n",
    "                       ,pol.Taxed_Retirement_Income\n",
    "                       ,pol.Policy_Fee_Type_Desc\n",
    "                       ,pol.Future_Risk\n",
    "                 FROM CLT_Policy pol\n",
    "                 INNER JOIN CLE_Reporting.dbo.CLT_Product prd ON prd.Product_Id = pol.Product_Id\n",
    "                 WHERE prd.Product_Code IN ('FKP_2006V1','FKP_2006V2','FKP_2008V1','FKP_2010V1','FKP_2012V1','FKP_2017V1',\n",
    "                                            'GNPP_2016V1','GNPP_2017V1','GNPP_2022V1','GNPP_2023V1',\n",
    "                                            'GNRP_2008V1','GNRP_2010V1','GNRP_2012V1','GNRP_2017V1','GNRP_2022V1',\n",
    "                                            'XRPP_2005V1','XRPP_2008V1','XRPP_2010V1','XRPP_2012V1','XRPP_2015V1')\n",
    "                 ORDER BY pol.Policy_Number;\"\"\"\n",
    "\n",
    "df_tax = pd.read_sql(tax_query, conn)\n",
    "\n",
    "# Types and row count\n",
    "# print stats.\n",
    "print(len(df_tax.index))\n",
    "now = datetime.now()\n",
    "print(now)\n",
    "print('==========================')\n",
    "\n",
    "print(df_tax.dtypes)\n",
    "\n",
    "# Turn off dislays to protect PII\n",
    "#df_tax.head(5)"
   ]
  },
  {
   "cell_type": "markdown",
   "id": "d109641c",
   "metadata": {},
   "source": [
    "## Drop obsolette or repeated features.\n",
    "\n",
    "## Check for nulls"
   ]
  },
  {
   "cell_type": "code",
   "execution_count": null,
   "id": "43cddca5",
   "metadata": {},
   "outputs": [],
   "source": [
    "df_tax.isna().any()"
   ]
  },
  {
   "cell_type": "markdown",
   "id": "aee40e87",
   "metadata": {},
   "source": [
    "## Replace any nulls before checking the distributions of values for each column."
   ]
  },
  {
   "cell_type": "code",
   "execution_count": null,
   "id": "bb44a4d7",
   "metadata": {},
   "outputs": [],
   "source": [
    "df_tax['Tax_Notification_Type'] = df_tax['Tax_Notification_Type'].astype(str)\n",
    "df_tax['Insurance_Tax_Type'] = df_tax['Insurance_Tax_Type'].fillna(0).apply(np.int64)\n",
    "df_tax['Insurance_Tax_Type'] = df_tax['Insurance_Tax_Type'].fillna(0).apply(np.int64)\n",
    "\n"
   ]
  },
  {
   "cell_type": "markdown",
   "id": "a10ad98f",
   "metadata": {},
   "source": [
    "## Check the distributions of values for each column."
   ]
  },
  {
   "cell_type": "code",
   "execution_count": null,
   "id": "3437edd4",
   "metadata": {},
   "outputs": [],
   "source": [
    "#df_Horizon_All_Features['Lump_Sum_Taxation'] = df_Horizon_All_Features['Lump_Sum_Taxation'].fillna(0).apply(np.int64)\n",
    "print('Lump_Sum_Taxation       : ',df_tax['Lump_Sum_Taxation'].value_counts())\n",
    "print('Tax_Notification_Type   : ',df_tax['Tax_Notification_Type'].value_counts())\n",
    "print('Insurance_Tax_Type      : ',df_tax['Insurance_Tax_Type'].value_counts())\n",
    "print('Main_Tax_Country        : ',df_tax['Main_Tax_Country'].value_counts())\n",
    "print('Secondary_Tax_Country   : ',df_tax['Secondary_Tax_Country'].value_counts())\n",
    "print('Taxed_Retirement_Income : ',df_tax['Taxed_Retirement_Income'].value_counts())\n",
    "print('Policy_Fee_Type_Desc    : ',df_tax['Policy_Fee_Type_Desc'].value_counts())\n",
    "print('Future_Risk             : ',df_tax['Future_Risk'].value_counts())\n",
    "\n",
    "\n"
   ]
  },
  {
   "cell_type": "markdown",
   "id": "b04c697e",
   "metadata": {},
   "source": [
    "## Policy_Fee_Type_Desc is the only feature showing a distribution across multiple values and is the only feature with potential predictive attributes."
   ]
  },
  {
   "cell_type": "markdown",
   "id": "ba0db3ea",
   "metadata": {},
   "source": [
    "## Drop all non predictive features and write to Excel"
   ]
  },
  {
   "cell_type": "code",
   "execution_count": 4,
   "id": "a360908a",
   "metadata": {},
   "outputs": [
    {
     "ename": "NameError",
     "evalue": "name 'df_tax' is not defined",
     "output_type": "error",
     "traceback": [
      "\u001b[1;31m---------------------------------------------------------------------------\u001b[0m",
      "\u001b[1;31mNameError\u001b[0m                                 Traceback (most recent call last)",
      "Cell \u001b[1;32mIn[4], line 1\u001b[0m\n\u001b[1;32m----> 1\u001b[0m df_tax \u001b[38;5;241m=\u001b[39m \u001b[43mdf_tax\u001b[49m\u001b[38;5;241m.\u001b[39mdrop([\u001b[38;5;124m'\u001b[39m\u001b[38;5;124mLump_Sum_Taxation\u001b[39m\u001b[38;5;124m'\u001b[39m,\u001b[38;5;124m'\u001b[39m\u001b[38;5;124mTax_Notification_Type\u001b[39m\u001b[38;5;124m'\u001b[39m,\u001b[38;5;124m'\u001b[39m\u001b[38;5;124mInsurance_Tax_Type\u001b[39m\u001b[38;5;124m'\u001b[39m,\u001b[38;5;124m'\u001b[39m\u001b[38;5;124mMain_Tax_Country\u001b[39m\u001b[38;5;124m'\u001b[39m,\u001b[38;5;124m'\u001b[39m\u001b[38;5;124mSecondary_Tax_Country\u001b[39m\u001b[38;5;124m'\u001b[39m,\u001b[38;5;124m'\u001b[39m\u001b[38;5;124mTaxed_Retirement_Income\u001b[39m\u001b[38;5;124m'\u001b[39m,\u001b[38;5;124m'\u001b[39m\u001b[38;5;124mFuture_Risk\u001b[39m\u001b[38;5;124m'\u001b[39m],axis\u001b[38;5;241m=\u001b[39m\u001b[38;5;241m1\u001b[39m)\n\u001b[0;32m      3\u001b[0m \u001b[38;5;66;03m# Write out to a comma separated values file.\u001b[39;00m\n\u001b[0;32m      4\u001b[0m \n\u001b[0;32m      5\u001b[0m \u001b[38;5;66;03m# giving directory name\u001b[39;00m\n\u001b[0;32m      6\u001b[0m filename \u001b[38;5;241m=\u001b[39m input_path \u001b[38;5;241m+\u001b[39m \u001b[38;5;124m'\u001b[39m\u001b[38;5;124m\\\u001b[39m\u001b[38;5;124mTax_Fee_Risk_data.csv\u001b[39m\u001b[38;5;124m'\u001b[39m\n",
      "\u001b[1;31mNameError\u001b[0m: name 'df_tax' is not defined"
     ]
    }
   ],
   "source": [
    "df_tax = df_tax.drop(['Lump_Sum_Taxation','Tax_Notification_Type','Insurance_Tax_Type','Main_Tax_Country','Secondary_Tax_Country','Taxed_Retirement_Income','Future_Risk'],axis=1)\n",
    "\n",
    "# Write out to a comma separated values file.\n",
    "\n",
    "# giving directory name\n",
    "filename = input_path + '\\Tax_Fee_Risk_data.csv'\n",
    "df_tax.to_csv(filename, encoding='utf-8', index=False)        \n",
    "\n",
    "# Turn off dislays to protect PII\n",
    "#df_tax.head(10)"
   ]
  },
  {
   "cell_type": "code",
   "execution_count": 5,
   "id": "429258dc",
   "metadata": {},
   "outputs": [
    {
     "data": {
      "text/plain": [
       "[]"
      ]
     },
     "execution_count": 5,
     "metadata": {},
     "output_type": "execute_result"
    }
   ],
   "source": [
    "%who_ls DataFrame "
   ]
  },
  {
   "cell_type": "code",
   "execution_count": 6,
   "id": "d0fa8e66",
   "metadata": {},
   "outputs": [
    {
     "ename": "NameError",
     "evalue": "name 'df_tax' is not defined",
     "output_type": "error",
     "traceback": [
      "\u001b[1;31m---------------------------------------------------------------------------\u001b[0m",
      "\u001b[1;31mNameError\u001b[0m                                 Traceback (most recent call last)",
      "Cell \u001b[1;32mIn[6], line 1\u001b[0m\n\u001b[1;32m----> 1\u001b[0m \u001b[38;5;28;01mdel\u001b[39;00m df_tax\n",
      "\u001b[1;31mNameError\u001b[0m: name 'df_tax' is not defined"
     ]
    }
   ],
   "source": [
    "del df_tax\n",
    "\n"
   ]
  },
  {
   "cell_type": "code",
   "execution_count": 7,
   "id": "f159d596",
   "metadata": {},
   "outputs": [
    {
     "name": "stdout",
     "output_type": "stream",
     "text": [
      "==========================\n",
      "2024-08-05 22:06:57.768804\n",
      "==========================\n",
      "svmem(total=16756752384, available=8836472832, percent=47.3, used=7920279552, free=8836472832)\n",
      "==========================\n"
     ]
    }
   ],
   "source": [
    "print('==========================')\n",
    "now = datetime.now()\n",
    "print(now)\n",
    "print('==========================')\n",
    "print(psutil.virtual_memory())\n",
    "print('==========================')"
   ]
  },
  {
   "cell_type": "code",
   "execution_count": null,
   "id": "3206a966",
   "metadata": {},
   "outputs": [],
   "source": []
  }
 ],
 "metadata": {
  "kernelspec": {
   "display_name": "Python 3 (ipykernel)",
   "language": "python",
   "name": "python3"
  },
  "language_info": {
   "codemirror_mode": {
    "name": "ipython",
    "version": 3
   },
   "file_extension": ".py",
   "mimetype": "text/x-python",
   "name": "python",
   "nbconvert_exporter": "python",
   "pygments_lexer": "ipython3",
   "version": "3.8.8"
  }
 },
 "nbformat": 4,
 "nbformat_minor": 5
}
