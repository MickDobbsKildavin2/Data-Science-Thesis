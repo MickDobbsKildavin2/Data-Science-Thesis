{
 "cells": [
  {
   "cell_type": "markdown",
   "id": "a4c7540b",
   "metadata": {},
   "source": [
    "Import the libraries needed"
   ]
  },
  {
   "cell_type": "code",
   "execution_count": 2,
   "id": "96b7fd46",
   "metadata": {},
   "outputs": [
    {
     "name": "stderr",
     "output_type": "stream",
     "text": [
      "C:\\Users\\m033\\Anaconda3\\lib\\site-packages\\requests\\__init__.py:109: RequestsDependencyWarning: urllib3 (1.26.16) or chardet (3.0.0)/charset_normalizer (2.0.4) doesn't match a supported version!\n",
      "  warnings.warn(\n"
     ]
    }
   ],
   "source": [
    "import pandas as pd\n",
    "#from pandas.compat import StringIO\n",
    "from pandas.tseries.offsets import DateOffset\n",
    "\n",
    "from datetime import datetime\n",
    "import psutil\n",
    "\n",
    "\n",
    "import numpy as np\n",
    "import os\n",
    "import pyodbc\n",
    "pyodbc.drivers()\n",
    "\n",
    "import csv\n",
    "\n",
    "from sklearn.preprocessing import StandardScaler\n",
    "import seaborn as sns\n",
    "\n",
    "pd.options.display.max_rows = 1000\n",
    "\n",
    "# For the Yahoo Finance api\n",
    "from pandas_datareader import data as pdr\n",
    "import yfinance as yf\n",
    "yf.pdr_override() \n"
   ]
  },
  {
   "cell_type": "markdown",
   "id": "a42969f9",
   "metadata": {},
   "source": [
    "### Database connections and SQL to retrieve the various data needed."
   ]
  },
  {
   "cell_type": "code",
   "execution_count": 3,
   "id": "b616bb0f",
   "metadata": {},
   "outputs": [
    {
     "name": "stdout",
     "output_type": "stream",
     "text": [
      "==========================\n",
      "2024-08-14 17:48:48.573105\n",
      "==========================\n",
      "svmem(total=16756752384, available=4236488704, percent=74.7, used=12520263680, free=4236488704)\n",
      "==========================\n"
     ]
    }
   ],
   "source": [
    "SQL_server = 'xxx\\yyy'\n",
    "Reporting_database = 'zzz'\n",
    "Reference_Data_database = 'aaa'\n",
    "\n",
    "pd.set_option('max_row', None)\n",
    "#pd.options.display.max_rows = 1000\n",
    "\n",
    "# Set a value for the home folder.\n",
    "home_folder = \".\"\n",
    "\n",
    "# Set values for the various paths.\n",
    "input_path = home_folder + \"\\data\"\n",
    "\n",
    "print('==========================')\n",
    "now = datetime.now()\n",
    "print(now)\n",
    "print('==========================')\n",
    "print(psutil.virtual_memory())\n",
    "print('==========================')"
   ]
  },
  {
   "cell_type": "markdown",
   "id": "b0328df7",
   "metadata": {},
   "source": [
    "# 1. Get supplementary policy features - Tax, Fees and Risk.\n",
    "\n",
    "  -  Identified in Lit Review."
   ]
  },
  {
   "cell_type": "code",
   "execution_count": 4,
   "id": "b02e27ea",
   "metadata": {},
   "outputs": [
    {
     "name": "stdout",
     "output_type": "stream",
     "text": [
      "137245\n",
      "2024-08-14 17:49:06.244474\n",
      "==========================\n",
      "ContractNumber              object\n",
      "Lump_Sum_Taxation            int64\n",
      "Tax_Notification_Type       object\n",
      "Insurance_Tax_Type          object\n",
      "Main_Tax_Country            object\n",
      "Secondary_Tax_Country       object\n",
      "Taxed_Retirement_Income    float64\n",
      "Policy_Fee_Type_Desc        object\n",
      "Future_Risk                 object\n",
      "dtype: object\n"
     ]
    }
   ],
   "source": [
    "conn = pyodbc.connect(\n",
    "         'DRIVER={ODBC Driver 17 for SQL Server};'\n",
    "         'SERVER='+SQL_server+';'\n",
    "         'DATABASE='+Reporting_database+';'\n",
    "         'Trusted_Connection=yes;')\n",
    "\n",
    "tax_query = f\"\"\"SELECT pol.Policy_Number         AS ContractNumber\n",
    "                       ,CASE WHEN pol.Is_Lump_Sum_Taxation IS NULL THEN 0\n",
    "                             ELSE pol.Is_Lump_Sum_Taxation \n",
    "                        END AS Lump_Sum_Taxation\n",
    "                       ,pol.Tax_Notification_Type\n",
    "                       ,pol.Insurance_Tax_Type\n",
    "                       ,pol.Main_Tax_Country\n",
    "                       ,pol.Secondary_Tax_Country\n",
    "                       ,pol.Taxed_Retirement_Income\n",
    "                       ,pol.Policy_Fee_Type_Desc\n",
    "                       ,pol.Future_Risk\n",
    "                 FROM Policy pol\n",
    "                 INNER JOIN Product prd ON prd.Product_Id = pol.Product_Id\n",
    "                 WHERE prd.Product_Code IN ('FKP','GNPP',GNRP')\n",
    "                 ORDER BY pol.Policy_Number;\"\"\"\n",
    "\n",
    "df_tax = pd.read_sql(tax_query, conn)\n",
    "\n",
    "# Types and row count\n",
    "# print stats.\n",
    "print(len(df_tax.index))\n",
    "now = datetime.now()\n",
    "print(now)\n",
    "print('==========================')\n",
    "\n",
    "print(df_tax.dtypes)\n",
    "\n",
    "# Turn off dislays to protect PII\n",
    "#df_tax.head(5)"
   ]
  },
  {
   "cell_type": "markdown",
   "id": "d109641c",
   "metadata": {},
   "source": [
    "## Drop obsolette or repeated features.\n",
    "\n",
    "## Check for nulls"
   ]
  },
  {
   "cell_type": "code",
   "execution_count": 5,
   "id": "43cddca5",
   "metadata": {},
   "outputs": [
    {
     "data": {
      "text/plain": [
       "ContractNumber             False\n",
       "Lump_Sum_Taxation          False\n",
       "Tax_Notification_Type       True\n",
       "Insurance_Tax_Type          True\n",
       "Main_Tax_Country           False\n",
       "Secondary_Tax_Country      False\n",
       "Taxed_Retirement_Income     True\n",
       "Policy_Fee_Type_Desc       False\n",
       "Future_Risk                False\n",
       "dtype: bool"
      ]
     },
     "execution_count": 5,
     "metadata": {},
     "output_type": "execute_result"
    }
   ],
   "source": [
    "df_tax.isna().any()"
   ]
  },
  {
   "cell_type": "markdown",
   "id": "aee40e87",
   "metadata": {},
   "source": [
    "## Replace any nulls before checking the distributions of values for each column."
   ]
  },
  {
   "cell_type": "code",
   "execution_count": 6,
   "id": "bb44a4d7",
   "metadata": {},
   "outputs": [],
   "source": [
    "df_tax['Tax_Notification_Type'] = df_tax['Tax_Notification_Type'].astype(str)\n",
    "df_tax['Insurance_Tax_Type'] = df_tax['Insurance_Tax_Type'].fillna(0).apply(np.int64)\n",
    "df_tax['Insurance_Tax_Type'] = df_tax['Insurance_Tax_Type'].fillna(0).apply(np.int64)\n",
    "\n"
   ]
  },
  {
   "cell_type": "markdown",
   "id": "a10ad98f",
   "metadata": {},
   "source": [
    "## Check the distributions of values for each column."
   ]
  },
  {
   "cell_type": "code",
   "execution_count": 7,
   "id": "3437edd4",
   "metadata": {},
   "outputs": [
    {
     "name": "stdout",
     "output_type": "stream",
     "text": [
      "Lump_Sum_Taxation       :  0    137245\n",
      "Name: Lump_Sum_Taxation, dtype: int64\n",
      "Tax_Notification_Type   :  None    137245\n",
      "Name: Tax_Notification_Type, dtype: int64\n",
      "Insurance_Tax_Type      :  0    137245\n",
      "Name: Insurance_Tax_Type, dtype: int64\n",
      "Main_Tax_Country        :  Deutschland     137245\n",
      "Name: Main_Tax_Country, dtype: int64\n",
      "Secondary_Tax_Country   :  Deutschland     137245\n",
      "Name: Secondary_Tax_Country, dtype: int64\n",
      "Taxed_Retirement_Income :  0.0    118116\n",
      "Name: Taxed_Retirement_Income, dtype: int64\n",
      "Policy_Fee_Type_Desc    :  Ein               109572\n",
      "Aus                14947\n",
      "Nicht Relevant     10226\n",
      "Reduziert           2500\n",
      "Name: Policy_Fee_Type_Desc, dtype: int64\n",
      "Future_Risk             :  kein    137245\n",
      "Name: Future_Risk, dtype: int64\n"
     ]
    }
   ],
   "source": [
    "#df_Horizon_All_Features['Lump_Sum_Taxation'] = df_Horizon_All_Features['Lump_Sum_Taxation'].fillna(0).apply(np.int64)\n",
    "print('Lump_Sum_Taxation       : ',df_tax['Lump_Sum_Taxation'].value_counts())\n",
    "print('Tax_Notification_Type   : ',df_tax['Tax_Notification_Type'].value_counts())\n",
    "print('Insurance_Tax_Type      : ',df_tax['Insurance_Tax_Type'].value_counts())\n",
    "print('Main_Tax_Country        : ',df_tax['Main_Tax_Country'].value_counts())\n",
    "print('Secondary_Tax_Country   : ',df_tax['Secondary_Tax_Country'].value_counts())\n",
    "print('Taxed_Retirement_Income : ',df_tax['Taxed_Retirement_Income'].value_counts())\n",
    "print('Policy_Fee_Type_Desc    : ',df_tax['Policy_Fee_Type_Desc'].value_counts())\n",
    "print('Future_Risk             : ',df_tax['Future_Risk'].value_counts())\n",
    "\n",
    "\n"
   ]
  },
  {
   "cell_type": "markdown",
   "id": "b04c697e",
   "metadata": {},
   "source": [
    "## Policy_Fee_Type_Desc is the only feature showing a distribution across multiple values and is the only feature with potential predictive attributes."
   ]
  },
  {
   "cell_type": "markdown",
   "id": "ba0db3ea",
   "metadata": {},
   "source": [
    "## Drop all non predictive features and write to Excel"
   ]
  },
  {
   "cell_type": "code",
   "execution_count": 8,
   "id": "a360908a",
   "metadata": {},
   "outputs": [],
   "source": [
    "df_tax = df_tax.drop(['Lump_Sum_Taxation','Tax_Notification_Type','Insurance_Tax_Type','Main_Tax_Country','Secondary_Tax_Country','Taxed_Retirement_Income','Future_Risk'],axis=1)\n",
    "\n",
    "# Write out to a comma separated values file.\n",
    "\n",
    "# giving directory name\n",
    "filename = input_path + '\\Tax_Fee_Risk_data.csv'\n",
    "df_tax.to_csv(filename, encoding='utf-8', index=False)        \n",
    "\n",
    "# Turn off dislays to protect PII\n",
    "#df_tax.head(10)"
   ]
  },
  {
   "cell_type": "code",
   "execution_count": 9,
   "id": "429258dc",
   "metadata": {},
   "outputs": [
    {
     "data": {
      "text/plain": [
       "['df_tax']"
      ]
     },
     "execution_count": 9,
     "metadata": {},
     "output_type": "execute_result"
    }
   ],
   "source": [
    "%who_ls DataFrame "
   ]
  },
  {
   "cell_type": "code",
   "execution_count": 10,
   "id": "d0fa8e66",
   "metadata": {},
   "outputs": [],
   "source": [
    "del df_tax\n",
    "\n"
   ]
  },
  {
   "cell_type": "code",
   "execution_count": 11,
   "id": "f159d596",
   "metadata": {},
   "outputs": [
    {
     "name": "stdout",
     "output_type": "stream",
     "text": [
      "==========================\n",
      "2024-08-14 17:49:10.829355\n",
      "==========================\n",
      "svmem(total=16756752384, available=4549464064, percent=72.8, used=12207288320, free=4549464064)\n",
      "==========================\n"
     ]
    }
   ],
   "source": [
    "print('==========================')\n",
    "now = datetime.now()\n",
    "print(now)\n",
    "print('==========================')\n",
    "print(psutil.virtual_memory())\n",
    "print('==========================')"
   ]
  },
  {
   "cell_type": "code",
   "execution_count": null,
   "id": "3206a966",
   "metadata": {},
   "outputs": [],
   "source": []
  }
 ],
 "metadata": {
  "kernelspec": {
   "display_name": "Python 3 (ipykernel)",
   "language": "python",
   "name": "python3"
  },
  "language_info": {
   "codemirror_mode": {
    "name": "ipython",
    "version": 3
   },
   "file_extension": ".py",
   "mimetype": "text/x-python",
   "name": "python",
   "nbconvert_exporter": "python",
   "pygments_lexer": "ipython3",
   "version": "3.8.8"
  }
 },
 "nbformat": 4,
 "nbformat_minor": 5
}
