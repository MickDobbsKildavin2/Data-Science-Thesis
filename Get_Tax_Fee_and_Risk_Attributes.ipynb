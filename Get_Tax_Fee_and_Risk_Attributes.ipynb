{
 "cells": [
  {
   "cell_type": "markdown",
   "id": "a4c7540b",
   "metadata": {},
   "source": [
    "Import the libraries needed"
   ]
  },
  {
   "cell_type": "code",
   "execution_count": 1,
   "id": "96b7fd46",
   "metadata": {},
   "outputs": [
    {
     "name": "stderr",
     "output_type": "stream",
     "text": [
      "C:\\Users\\m033\\Anaconda3\\lib\\site-packages\\requests\\__init__.py:109: RequestsDependencyWarning: urllib3 (1.26.16) or chardet (3.0.0)/charset_normalizer (2.0.4) doesn't match a supported version!\n",
      "  warnings.warn(\n"
     ]
    }
   ],
   "source": [
    "import pandas as pd\n",
    "#from pandas.compat import StringIO\n",
    "from pandas.tseries.offsets import DateOffset\n",
    "\n",
    "from datetime import datetime\n",
    "import psutil\n",
    "\n",
    "\n",
    "import numpy as np\n",
    "import os\n",
    "import pyodbc\n",
    "pyodbc.drivers()\n",
    "\n",
    "import csv\n",
    "\n",
    "from sklearn.preprocessing import StandardScaler\n",
    "import seaborn as sns\n",
    "\n",
    "pd.options.display.max_rows = 1000\n",
    "\n",
    "# For the Yahoo Finance api\n",
    "from pandas_datareader import data as pdr\n",
    "import yfinance as yf\n",
    "yf.pdr_override() \n"
   ]
  },
  {
   "cell_type": "markdown",
   "id": "a42969f9",
   "metadata": {},
   "source": [
    "### Database connections and SQL to retrieve the various data needed."
   ]
  },
  {
   "cell_type": "code",
   "execution_count": 2,
   "id": "b616bb0f",
   "metadata": {},
   "outputs": [
    {
     "name": "stdout",
     "output_type": "stream",
     "text": [
      "==========================\n",
      "2024-07-19 19:07:46.127039\n",
      "==========================\n",
      "svmem(total=16756752384, available=3795890176, percent=77.3, used=12960862208, free=3795890176)\n",
      "==========================\n"
     ]
    }
   ],
   "source": [
    "SQL_server = 'WINPRDAI1572\\CLESQLDW'\n",
    "Reporting_database = 'CLE_Reporting'\n",
    "Reference_Data_database = 'CLE_Reference_Data'\n",
    "\n",
    "pd.set_option('max_row', None)\n",
    "#pd.options.display.max_rows = 1000\n",
    "\n",
    "# Set a value for the home folder.\n",
    "home_folder = \".\"\n",
    "\n",
    "# Set values for the various paths.\n",
    "input_path = home_folder + \"\\data\"\n",
    "\n",
    "print('==========================')\n",
    "now = datetime.now()\n",
    "print(now)\n",
    "print('==========================')\n",
    "print(psutil.virtual_memory())\n",
    "print('==========================')"
   ]
  },
  {
   "cell_type": "markdown",
   "id": "b0328df7",
   "metadata": {},
   "source": [
    "# 1. Get supplementary policy features - Tax, Fees and Risk.\n",
    "\n",
    "  -  Identified in Lit Review."
   ]
  },
  {
   "cell_type": "code",
   "execution_count": 3,
   "id": "b02e27ea",
   "metadata": {},
   "outputs": [
    {
     "name": "stdout",
     "output_type": "stream",
     "text": [
      "136827\n",
      "2024-07-19 19:07:54.330072\n",
      "==========================\n",
      "ContractNumber              object\n",
      "Lump_Sum_Taxation            int64\n",
      "Tax_Notification_Type       object\n",
      "Insurance_Tax_Type          object\n",
      "Main_Tax_Country            object\n",
      "Secondary_Tax_Country       object\n",
      "Taxed_Retirement_Income    float64\n",
      "Policy_Fee_Type_Desc        object\n",
      "Future_Risk                 object\n",
      "dtype: object\n"
     ]
    },
    {
     "data": {
      "text/html": [
       "<div>\n",
       "<style scoped>\n",
       "    .dataframe tbody tr th:only-of-type {\n",
       "        vertical-align: middle;\n",
       "    }\n",
       "\n",
       "    .dataframe tbody tr th {\n",
       "        vertical-align: top;\n",
       "    }\n",
       "\n",
       "    .dataframe thead th {\n",
       "        text-align: right;\n",
       "    }\n",
       "</style>\n",
       "<table border=\"1\" class=\"dataframe\">\n",
       "  <thead>\n",
       "    <tr style=\"text-align: right;\">\n",
       "      <th></th>\n",
       "      <th>ContractNumber</th>\n",
       "      <th>Lump_Sum_Taxation</th>\n",
       "      <th>Tax_Notification_Type</th>\n",
       "      <th>Insurance_Tax_Type</th>\n",
       "      <th>Main_Tax_Country</th>\n",
       "      <th>Secondary_Tax_Country</th>\n",
       "      <th>Taxed_Retirement_Income</th>\n",
       "      <th>Policy_Fee_Type_Desc</th>\n",
       "      <th>Future_Risk</th>\n",
       "    </tr>\n",
       "  </thead>\n",
       "  <tbody>\n",
       "    <tr>\n",
       "      <th>0</th>\n",
       "      <td>6074160W</td>\n",
       "      <td>0</td>\n",
       "      <td>None</td>\n",
       "      <td>None</td>\n",
       "      <td>Deutschland</td>\n",
       "      <td>Deutschland</td>\n",
       "      <td>0.0</td>\n",
       "      <td>Ein</td>\n",
       "      <td>kein</td>\n",
       "    </tr>\n",
       "    <tr>\n",
       "      <th>1</th>\n",
       "      <td>6074937L</td>\n",
       "      <td>0</td>\n",
       "      <td>None</td>\n",
       "      <td>None</td>\n",
       "      <td>Deutschland</td>\n",
       "      <td>Deutschland</td>\n",
       "      <td>0.0</td>\n",
       "      <td>Ein</td>\n",
       "      <td>kein</td>\n",
       "    </tr>\n",
       "    <tr>\n",
       "      <th>2</th>\n",
       "      <td>6074962M</td>\n",
       "      <td>0</td>\n",
       "      <td>None</td>\n",
       "      <td>None</td>\n",
       "      <td>Deutschland</td>\n",
       "      <td>Deutschland</td>\n",
       "      <td>0.0</td>\n",
       "      <td>Ein</td>\n",
       "      <td>kein</td>\n",
       "    </tr>\n",
       "    <tr>\n",
       "      <th>3</th>\n",
       "      <td>6075850C</td>\n",
       "      <td>0</td>\n",
       "      <td>None</td>\n",
       "      <td>None</td>\n",
       "      <td>Deutschland</td>\n",
       "      <td>Deutschland</td>\n",
       "      <td>0.0</td>\n",
       "      <td>Ein</td>\n",
       "      <td>kein</td>\n",
       "    </tr>\n",
       "    <tr>\n",
       "      <th>4</th>\n",
       "      <td>6100638P</td>\n",
       "      <td>0</td>\n",
       "      <td>None</td>\n",
       "      <td>None</td>\n",
       "      <td>Deutschland</td>\n",
       "      <td>Deutschland</td>\n",
       "      <td>0.0</td>\n",
       "      <td>Ein</td>\n",
       "      <td>kein</td>\n",
       "    </tr>\n",
       "  </tbody>\n",
       "</table>\n",
       "</div>"
      ],
      "text/plain": [
       "  ContractNumber  Lump_Sum_Taxation Tax_Notification_Type Insurance_Tax_Type  \\\n",
       "0       6074160W                  0                  None               None   \n",
       "1       6074937L                  0                  None               None   \n",
       "2       6074962M                  0                  None               None   \n",
       "3       6075850C                  0                  None               None   \n",
       "4       6100638P                  0                  None               None   \n",
       "\n",
       "  Main_Tax_Country Secondary_Tax_Country  Taxed_Retirement_Income  \\\n",
       "0     Deutschland           Deutschland                       0.0   \n",
       "1     Deutschland           Deutschland                       0.0   \n",
       "2     Deutschland           Deutschland                       0.0   \n",
       "3     Deutschland           Deutschland                       0.0   \n",
       "4     Deutschland           Deutschland                       0.0   \n",
       "\n",
       "  Policy_Fee_Type_Desc Future_Risk  \n",
       "0                  Ein        kein  \n",
       "1                  Ein        kein  \n",
       "2                  Ein        kein  \n",
       "3                  Ein        kein  \n",
       "4                  Ein        kein  "
      ]
     },
     "execution_count": 3,
     "metadata": {},
     "output_type": "execute_result"
    }
   ],
   "source": [
    "conn = pyodbc.connect(\n",
    "         'DRIVER={ODBC Driver 17 for SQL Server};'\n",
    "         'SERVER='+SQL_server+';'\n",
    "         'DATABASE='+Reporting_database+';'\n",
    "         'Trusted_Connection=yes;')\n",
    "\n",
    "tax_query = f\"\"\"SELECT pol.Policy_Number         AS ContractNumber\n",
    "                       ,CASE WHEN pol.Is_Lump_Sum_Taxation IS NULL THEN 0\n",
    "                             ELSE pol.Is_Lump_Sum_Taxation \n",
    "                        END AS Lump_Sum_Taxation\n",
    "                       ,pol.Tax_Notification_Type\n",
    "                       ,pol.Insurance_Tax_Type\n",
    "                       ,pol.Main_Tax_Country\n",
    "                       ,pol.Secondary_Tax_Country\n",
    "                       ,pol.Taxed_Retirement_Income\n",
    "                       ,pol.Policy_Fee_Type_Desc\n",
    "                       ,pol.Future_Risk\n",
    "                 FROM CLT_Policy pol\n",
    "                 INNER JOIN CLE_Reporting.dbo.CLT_Product prd ON prd.Product_Id = pol.Product_Id\n",
    "                 WHERE prd.Product_Code IN ('FKP_2006V1','FKP_2006V2','FKP_2008V1','FKP_2010V1','FKP_2012V1','FKP_2017V1',\n",
    "                                            'GNPP_2016V1','GNPP_2017V1','GNPP_2022V1','GNPP_2023V1',\n",
    "                                            'GNRP_2008V1','GNRP_2010V1','GNRP_2012V1','GNRP_2017V1','GNRP_2022V1',\n",
    "                                            'XRPP_2005V1','XRPP_2008V1','XRPP_2010V1','XRPP_2012V1','XRPP_2015V1')\n",
    "                 ORDER BY pol.Policy_Number;\"\"\"\n",
    "\n",
    "df_tax = pd.read_sql(tax_query, conn)\n",
    "\n",
    "# Types and row count\n",
    "# print stats.\n",
    "print(len(df_tax.index))\n",
    "now = datetime.now()\n",
    "print(now)\n",
    "print('==========================')\n",
    "\n",
    "print(df_tax.dtypes)\n",
    "df_tax.head(5)"
   ]
  },
  {
   "cell_type": "markdown",
   "id": "d109641c",
   "metadata": {},
   "source": [
    "## Drop obsolette or repeated features.\n",
    "\n",
    "## Check for nulls"
   ]
  },
  {
   "cell_type": "code",
   "execution_count": 4,
   "id": "43cddca5",
   "metadata": {},
   "outputs": [
    {
     "data": {
      "text/plain": [
       "ContractNumber             False\n",
       "Lump_Sum_Taxation          False\n",
       "Tax_Notification_Type       True\n",
       "Insurance_Tax_Type          True\n",
       "Main_Tax_Country           False\n",
       "Secondary_Tax_Country      False\n",
       "Taxed_Retirement_Income     True\n",
       "Policy_Fee_Type_Desc       False\n",
       "Future_Risk                False\n",
       "dtype: bool"
      ]
     },
     "execution_count": 4,
     "metadata": {},
     "output_type": "execute_result"
    }
   ],
   "source": [
    "df_tax.isna().any()"
   ]
  },
  {
   "cell_type": "markdown",
   "id": "aee40e87",
   "metadata": {},
   "source": [
    "## Replace any nulls before checking the distributions of values for each column."
   ]
  },
  {
   "cell_type": "code",
   "execution_count": 5,
   "id": "bb44a4d7",
   "metadata": {},
   "outputs": [],
   "source": [
    "df_tax['Tax_Notification_Type'] = df_tax['Tax_Notification_Type'].astype(str)\n",
    "df_tax['Insurance_Tax_Type'] = df_tax['Insurance_Tax_Type'].fillna(0).apply(np.int64)\n",
    "df_tax['Insurance_Tax_Type'] = df_tax['Insurance_Tax_Type'].fillna(0).apply(np.int64)\n",
    "\n"
   ]
  },
  {
   "cell_type": "markdown",
   "id": "a10ad98f",
   "metadata": {},
   "source": [
    "## Check the distributions of values for each column."
   ]
  },
  {
   "cell_type": "code",
   "execution_count": 6,
   "id": "3437edd4",
   "metadata": {},
   "outputs": [
    {
     "name": "stdout",
     "output_type": "stream",
     "text": [
      "Lump_Sum_Taxation       :  0    136827\n",
      "Name: Lump_Sum_Taxation, dtype: int64\n",
      "Tax_Notification_Type   :  None    136827\n",
      "Name: Tax_Notification_Type, dtype: int64\n",
      "Insurance_Tax_Type      :  0    136827\n",
      "Name: Insurance_Tax_Type, dtype: int64\n",
      "Main_Tax_Country        :  Deutschland     136827\n",
      "Name: Main_Tax_Country, dtype: int64\n",
      "Secondary_Tax_Country   :  Deutschland     136827\n",
      "Name: Secondary_Tax_Country, dtype: int64\n",
      "Taxed_Retirement_Income :  0.0    117619\n",
      "Name: Taxed_Retirement_Income, dtype: int64\n",
      "Policy_Fee_Type_Desc    :  Ein               109210\n",
      "Aus                14946\n",
      "Nicht Relevant     10174\n",
      "Reduziert           2497\n",
      "Name: Policy_Fee_Type_Desc, dtype: int64\n",
      "Future_Risk             :  kein    136827\n",
      "Name: Future_Risk, dtype: int64\n"
     ]
    }
   ],
   "source": [
    "#df_Horizon_All_Features['Lump_Sum_Taxation'] = df_Horizon_All_Features['Lump_Sum_Taxation'].fillna(0).apply(np.int64)\n",
    "print('Lump_Sum_Taxation       : ',df_tax['Lump_Sum_Taxation'].value_counts())\n",
    "print('Tax_Notification_Type   : ',df_tax['Tax_Notification_Type'].value_counts())\n",
    "print('Insurance_Tax_Type      : ',df_tax['Insurance_Tax_Type'].value_counts())\n",
    "print('Main_Tax_Country        : ',df_tax['Main_Tax_Country'].value_counts())\n",
    "print('Secondary_Tax_Country   : ',df_tax['Secondary_Tax_Country'].value_counts())\n",
    "print('Taxed_Retirement_Income : ',df_tax['Taxed_Retirement_Income'].value_counts())\n",
    "print('Policy_Fee_Type_Desc    : ',df_tax['Policy_Fee_Type_Desc'].value_counts())\n",
    "print('Future_Risk             : ',df_tax['Future_Risk'].value_counts())\n",
    "\n",
    "\n"
   ]
  },
  {
   "cell_type": "markdown",
   "id": "b04c697e",
   "metadata": {},
   "source": [
    "## Policy_Fee_Type_Desc is the only feature showing a distribution across multiple values and is the only feature with potential predictive attributes."
   ]
  },
  {
   "cell_type": "markdown",
   "id": "ba0db3ea",
   "metadata": {},
   "source": [
    "## Drop all non predictive features and write to Excel"
   ]
  },
  {
   "cell_type": "code",
   "execution_count": 7,
   "id": "a360908a",
   "metadata": {},
   "outputs": [
    {
     "data": {
      "text/html": [
       "<div>\n",
       "<style scoped>\n",
       "    .dataframe tbody tr th:only-of-type {\n",
       "        vertical-align: middle;\n",
       "    }\n",
       "\n",
       "    .dataframe tbody tr th {\n",
       "        vertical-align: top;\n",
       "    }\n",
       "\n",
       "    .dataframe thead th {\n",
       "        text-align: right;\n",
       "    }\n",
       "</style>\n",
       "<table border=\"1\" class=\"dataframe\">\n",
       "  <thead>\n",
       "    <tr style=\"text-align: right;\">\n",
       "      <th></th>\n",
       "      <th>ContractNumber</th>\n",
       "      <th>Policy_Fee_Type_Desc</th>\n",
       "    </tr>\n",
       "  </thead>\n",
       "  <tbody>\n",
       "    <tr>\n",
       "      <th>0</th>\n",
       "      <td>6074160W</td>\n",
       "      <td>Ein</td>\n",
       "    </tr>\n",
       "    <tr>\n",
       "      <th>1</th>\n",
       "      <td>6074937L</td>\n",
       "      <td>Ein</td>\n",
       "    </tr>\n",
       "    <tr>\n",
       "      <th>2</th>\n",
       "      <td>6074962M</td>\n",
       "      <td>Ein</td>\n",
       "    </tr>\n",
       "    <tr>\n",
       "      <th>3</th>\n",
       "      <td>6075850C</td>\n",
       "      <td>Ein</td>\n",
       "    </tr>\n",
       "    <tr>\n",
       "      <th>4</th>\n",
       "      <td>6100638P</td>\n",
       "      <td>Ein</td>\n",
       "    </tr>\n",
       "    <tr>\n",
       "      <th>5</th>\n",
       "      <td>6100746E</td>\n",
       "      <td>Ein</td>\n",
       "    </tr>\n",
       "    <tr>\n",
       "      <th>6</th>\n",
       "      <td>6214246Y</td>\n",
       "      <td>Ein</td>\n",
       "    </tr>\n",
       "    <tr>\n",
       "      <th>7</th>\n",
       "      <td>6215630F</td>\n",
       "      <td>Ein</td>\n",
       "    </tr>\n",
       "    <tr>\n",
       "      <th>8</th>\n",
       "      <td>6215740Y</td>\n",
       "      <td>Ein</td>\n",
       "    </tr>\n",
       "    <tr>\n",
       "      <th>9</th>\n",
       "      <td>6215812A</td>\n",
       "      <td>Ein</td>\n",
       "    </tr>\n",
       "  </tbody>\n",
       "</table>\n",
       "</div>"
      ],
      "text/plain": [
       "  ContractNumber Policy_Fee_Type_Desc\n",
       "0       6074160W                  Ein\n",
       "1       6074937L                  Ein\n",
       "2       6074962M                  Ein\n",
       "3       6075850C                  Ein\n",
       "4       6100638P                  Ein\n",
       "5       6100746E                  Ein\n",
       "6       6214246Y                  Ein\n",
       "7       6215630F                  Ein\n",
       "8       6215740Y                  Ein\n",
       "9       6215812A                  Ein"
      ]
     },
     "execution_count": 7,
     "metadata": {},
     "output_type": "execute_result"
    }
   ],
   "source": [
    "df_tax = df_tax.drop(['Lump_Sum_Taxation','Tax_Notification_Type','Insurance_Tax_Type','Main_Tax_Country','Secondary_Tax_Country','Taxed_Retirement_Income','Future_Risk'],axis=1)\n",
    "\n",
    "# Write out to a comma separated values file.\n",
    "\n",
    "# giving directory name\n",
    "filename = input_path + '\\Tax_Fee_Risk_data.csv'\n",
    "df_tax.to_csv(filename, encoding='utf-8', index=False)        \n",
    "df_tax.head(10)"
   ]
  },
  {
   "cell_type": "code",
   "execution_count": 8,
   "id": "429258dc",
   "metadata": {},
   "outputs": [
    {
     "data": {
      "text/plain": [
       "['df_tax']"
      ]
     },
     "execution_count": 8,
     "metadata": {},
     "output_type": "execute_result"
    }
   ],
   "source": [
    "%who_ls DataFrame "
   ]
  },
  {
   "cell_type": "code",
   "execution_count": 9,
   "id": "d0fa8e66",
   "metadata": {},
   "outputs": [
    {
     "name": "stdout",
     "output_type": "stream",
     "text": [
      "==========================\n",
      "2024-07-19 19:07:55.504190\n",
      "==========================\n",
      "svmem(total=16756752384, available=3683540992, percent=78.0, used=13073211392, free=3683540992)\n",
      "==========================\n"
     ]
    }
   ],
   "source": [
    "del df_tax\n",
    "\n",
    "print('==========================')\n",
    "now = datetime.now()\n",
    "print(now)\n",
    "print('==========================')\n",
    "print(psutil.virtual_memory())\n",
    "print('==========================')"
   ]
  },
  {
   "cell_type": "code",
   "execution_count": null,
   "id": "f159d596",
   "metadata": {},
   "outputs": [],
   "source": []
  }
 ],
 "metadata": {
  "kernelspec": {
   "display_name": "Python 3 (ipykernel)",
   "language": "python",
   "name": "python3"
  },
  "language_info": {
   "codemirror_mode": {
    "name": "ipython",
    "version": 3
   },
   "file_extension": ".py",
   "mimetype": "text/x-python",
   "name": "python",
   "nbconvert_exporter": "python",
   "pygments_lexer": "ipython3",
   "version": "3.8.8"
  }
 },
 "nbformat": 4,
 "nbformat_minor": 5
}
