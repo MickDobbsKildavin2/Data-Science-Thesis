{
 "cells": [
  {
   "cell_type": "markdown",
   "id": "a4c7540b",
   "metadata": {},
   "source": [
    "Import the libraries needed"
   ]
  },
  {
   "cell_type": "code",
   "execution_count": 1,
   "id": "96b7fd46",
   "metadata": {},
   "outputs": [
    {
     "name": "stderr",
     "output_type": "stream",
     "text": [
      "C:\\Users\\m033\\Anaconda3\\lib\\site-packages\\requests\\__init__.py:109: RequestsDependencyWarning: urllib3 (1.26.16) or chardet (3.0.0)/charset_normalizer (2.0.4) doesn't match a supported version!\n",
      "  warnings.warn(\n"
     ]
    }
   ],
   "source": [
    "import pandas as pd\n",
    "import numpy as np\n",
    "import os\n",
    "import pyodbc\n",
    "pyodbc.drivers()\n",
    "\n",
    "from datetime import datetime\n",
    "import psutil\n",
    "\n",
    "# For the Yahoo Finance api\n",
    "from pandas_datareader import data as pdr\n",
    "import yfinance as yf\n",
    "yf.pdr_override() # <== that's all it takes :-)"
   ]
  },
  {
   "cell_type": "markdown",
   "id": "b0328df7",
   "metadata": {},
   "source": [
    "### All the data used has been provisined in Get_The_Data.ipynb"
   ]
  },
  {
   "cell_type": "code",
   "execution_count": 2,
   "id": "2c2784d6",
   "metadata": {},
   "outputs": [
    {
     "name": "stdout",
     "output_type": "stream",
     "text": [
      "==========================\n",
      "2024-08-05 22:10:37.078179\n",
      "==========================\n",
      "svmem(total=16756752384, available=8607416320, percent=48.6, used=8149336064, free=8607416320)\n",
      "==========================\n"
     ]
    }
   ],
   "source": [
    "pd.set_option('max_row', None)\n",
    "#pd.options.display.max_rows = 1000\n",
    "\n",
    "# Set a value for the home folder.\n",
    "home_folder = \".\"\n",
    "\n",
    "# Set values for the various paths.\n",
    "input_path = home_folder + \"\\data\"\n",
    "\n",
    "print('==========================')\n",
    "now = datetime.now()\n",
    "print(now)\n",
    "print('==========================')\n",
    "print(psutil.virtual_memory())\n",
    "print('==========================')"
   ]
  },
  {
   "cell_type": "markdown",
   "id": "ff676320",
   "metadata": {},
   "source": [
    "# 1. Get all iSuite policies that can have switchable funds."
   ]
  },
  {
   "cell_type": "code",
   "execution_count": 3,
   "id": "d38fa783",
   "metadata": {},
   "outputs": [
    {
     "name": "stdout",
     "output_type": "stream",
     "text": [
      "8411354\n",
      ".\\data\\Full_Population.csv\n"
     ]
    }
   ],
   "source": [
    "filename = input_path + '\\Full_Population.csv'\n",
    "df_Full_Population = pd.read_csv(filename, delimiter=',',low_memory=False, header=0)\n",
    "print(len(df_Full_Population.index))\n",
    "\n",
    "print(filename)\n",
    "\n",
    "# Turn off dislays to protect PII\n",
    "#df_Full_Population.head(5)"
   ]
  },
  {
   "cell_type": "markdown",
   "id": "7e9b5f69",
   "metadata": {},
   "source": [
    "## Clean the data."
   ]
  },
  {
   "cell_type": "code",
   "execution_count": 4,
   "id": "5ff3e68c",
   "metadata": {
    "scrolled": true
   },
   "outputs": [
    {
     "name": "stdout",
     "output_type": "stream",
     "text": [
      "66\n",
      "SnapshotYrMth    int64\n",
      "counts           int64\n",
      "dtype: object\n",
      ".\\data\\Full_Population_Count.csv\n"
     ]
    }
   ],
   "source": [
    "# Drop rows where policies are not in force\n",
    "df_Count = df_Full_Population[df_Full_Population['PolicyStatus'] == 'I']\n",
    "\n",
    "# Drop obsolete rows\n",
    "df_Count = df_Count.drop(['ContractNumber'],axis=1)\n",
    "df_Count = df_Count.drop(['ProdCat'],axis=1)\n",
    "df_Count = df_Count.drop(['ProdCode'],axis=1)\n",
    "df_Count = df_Count.drop(['PolicyStatus'],axis=1)\n",
    "df_Count = df_Count.drop(['CoverEndDt'],axis=1)\n",
    "\n",
    "# Reset teh index on count\n",
    "df_Full_Population_Count=df_Count[['SnapshotYrMth']].value_counts().reset_index(name='counts')\n",
    "\n",
    "# Sort by Snapshot Date\n",
    "df_Full_Population_Count = df_Full_Population_Count.sort_values(by=['SnapshotYrMth'])\n",
    "\n",
    "# Filter out old dates.\n",
    "df_Full_Population_Count = df_Full_Population_Count[df_Full_Population_Count.SnapshotYrMth > 201812]\n",
    "\n",
    "print(len(df_Full_Population_Count.index))\n",
    "print(df_Full_Population_Count.dtypes)\n",
    "df_Full_Population_Count.head(5)\n",
    "\n",
    "# Write out to a comma separated values file.\n",
    "filename = input_path + '\\Full_Population_Count.csv'\n",
    "df_Full_Population_Count.to_csv(filename, encoding='utf-8', index=False)      \n",
    "\n",
    "print(filename)"
   ]
  },
  {
   "cell_type": "markdown",
   "id": "0255693b",
   "metadata": {},
   "source": [
    "# 2. Get all fund switch records."
   ]
  },
  {
   "cell_type": "code",
   "execution_count": 5,
   "id": "a032a1e9",
   "metadata": {},
   "outputs": [
    {
     "name": "stdout",
     "output_type": "stream",
     "text": [
      "201805\n",
      "==========================\n",
      "2024-08-05 22:11:26.311259\n",
      "==========================\n",
      "svmem(total=16756752384, available=7925149696, percent=52.7, used=8831602688, free=7925149696)\n",
      "==========================\n"
     ]
    }
   ],
   "source": [
    "# giving directory name\n",
    "All_Switches = input_path + '\\All_Switches.csv'\n",
    "\n",
    "df_All_Switches = pd.read_csv(All_Switches, delimiter=',',low_memory=False, header=0)\n",
    "\n",
    "# Filter out old dates.\n",
    "df_All_Switches = df_All_Switches[df_All_Switches.PROCESSING_DATE > '20181231']\n",
    "\n",
    "# print stats.\n",
    "print(len(df_All_Switches.index))\n",
    "\n",
    "print('==========================')\n",
    "now = datetime.now()\n",
    "print(now)\n",
    "print('==========================')\n",
    "print(psutil.virtual_memory())\n",
    "print('==========================')\n",
    "\n",
    "# Turn off dislays to protect PII\n",
    "#df_All_Switches.head(5)"
   ]
  },
  {
   "cell_type": "markdown",
   "id": "f15d24f7",
   "metadata": {},
   "source": [
    "## Create the Fund Switch Count dataframe."
   ]
  },
  {
   "cell_type": "code",
   "execution_count": 6,
   "id": "115177d7",
   "metadata": {},
   "outputs": [
    {
     "name": "stdout",
     "output_type": "stream",
     "text": [
      "201805\n",
      "==========================\n",
      "2024-08-05 22:11:33.171509\n",
      "==========================\n",
      "svmem(total=16756752384, available=7880830976, percent=53.0, used=8875921408, free=7880830976)\n",
      "==========================\n"
     ]
    }
   ],
   "source": [
    "df_All_Switches['PROCESSING_DATE'] = pd.to_datetime(df_All_Switches['PROCESSING_DATE'].str.strip(), format='%Y/%m/%d')\n",
    "df_All_Switches['ProcessingtDt'] = df_All_Switches['PROCESSING_DATE'].dt.strftime('%Y%m')\n",
    "\n",
    "# Drop obsolete columns.\n",
    "df_Switches_Count = df_All_Switches.drop(['LEGACY_FUND_CODE','PRODUCT','EFFECTIVE_DATE','UNIT_TYPE',\n",
    "                                          'CHARGE_TYPE','CASH_VALUE','RISK_COMMENCEMENT_DATE','Cover_End_Date',\n",
    "                                         'index','Servicing_Broker_Code','Issue_Date','Anniversary_Date','SOURCE','PROCESSING_DATE'],axis=1)\n",
    "\n",
    "# Stats\n",
    "print(len(df_Switches_Count.index))\n",
    "\n",
    "print('==========================')\n",
    "now = datetime.now()\n",
    "print(now)\n",
    "print('==========================')\n",
    "print(psutil.virtual_memory())\n",
    "print('==========================')\n",
    "\n",
    "# Turn off dislays to protect PII\n",
    "#df_Switches_Count.head(5)"
   ]
  },
  {
   "cell_type": "code",
   "execution_count": 7,
   "id": "b8aeaeb1",
   "metadata": {},
   "outputs": [
    {
     "name": "stdout",
     "output_type": "stream",
     "text": [
      "7820\n",
      "==========================\n",
      "2024-08-05 22:11:36.983044\n",
      "==========================\n",
      "svmem(total=16756752384, available=7882641408, percent=53.0, used=8874110976, free=7882641408)\n",
      "==========================\n"
     ]
    }
   ],
   "source": [
    "# Drop duplicate policy numbers\n",
    "df_Switches_Count = df_Switches_Count.drop_duplicates(subset=['POLICY_NUMBER','ProcessingtDt'], keep='first')\n",
    "df_Switches_Count = df_Switches_Count.drop(['POLICY_NUMBER'],axis=1)\n",
    "\n",
    "# print stats.\n",
    "print(len(df_Switches_Count.index))\n",
    "\n",
    "print('==========================')\n",
    "now = datetime.now()\n",
    "print(now)\n",
    "print('==========================')\n",
    "print(psutil.virtual_memory())\n",
    "print('==========================')\n",
    "\n",
    "# Turn off dislays to protect PII\n",
    "#df_Switches_Count.head(5)"
   ]
  },
  {
   "cell_type": "code",
   "execution_count": 8,
   "id": "9f95abe9",
   "metadata": {},
   "outputs": [
    {
     "name": "stdout",
     "output_type": "stream",
     "text": [
      "67\n",
      "==========================\n",
      "2024-08-05 22:11:40.875632\n",
      "==========================\n",
      "svmem(total=16756752384, available=7888547840, percent=52.9, used=8868204544, free=7888547840)\n",
      "==========================\n"
     ]
    }
   ],
   "source": [
    "# Reset teh index on count\n",
    "df_Switches_Count=df_Switches_Count[['ProcessingtDt']].value_counts().reset_index(name='counts')\n",
    "\n",
    "# Sort by ProcessingtDt\n",
    "df_Switches_Count = df_Switches_Count.sort_values(by=['ProcessingtDt'])\n",
    "\n",
    "print(len(df_Switches_Count.index))\n",
    "\n",
    "print('==========================')\n",
    "now = datetime.now()\n",
    "print(now)\n",
    "print('==========================')\n",
    "print(psutil.virtual_memory())\n",
    "print('==========================')\n",
    "\n",
    "# Turn off dislays to protect PII\n",
    "#df_Switches_Count.head(5)"
   ]
  },
  {
   "cell_type": "markdown",
   "id": "114c8634",
   "metadata": {},
   "source": [
    "## Merge the full population counts with the switch counts"
   ]
  },
  {
   "cell_type": "code",
   "execution_count": 9,
   "id": "95514619",
   "metadata": {},
   "outputs": [
    {
     "name": "stdout",
     "output_type": "stream",
     "text": [
      "66\n",
      "SnapshotYrMth    int64\n",
      "PopCount         int64\n",
      "dtype: object\n",
      "67\n",
      "ProcessingtDt    int64\n",
      "SwitchCount      int64\n",
      "dtype: object\n",
      "66\n",
      "SnapshotYrMth    int64\n",
      "PopCount         int64\n",
      "SwitchCount      int64\n",
      "dtype: object\n",
      "==========================\n",
      "2024-08-05 22:11:45.617531\n",
      "==========================\n",
      "svmem(total=16756752384, available=7889879040, percent=52.9, used=8866873344, free=7889879040)\n",
      "==========================\n"
     ]
    }
   ],
   "source": [
    "# Rename the columns\n",
    "df_Full_Population_Count.rename(columns = {'counts':'PopCount'}, inplace = True)\n",
    "df_Switches_Count.rename(columns = {'counts':'SwitchCount'}, inplace = True)\n",
    "\n",
    "#  Fill the NUL values\n",
    "df_Switches_Count['ProcessingtDt'] = pd.to_numeric(df_Switches_Count['ProcessingtDt'], errors=\"coerce\").fillna(0).astype('int64')\n",
    "\n",
    "\n",
    "df_Horizon_Switch_Counts = pd.merge(df_Full_Population_Count, df_Switches_Count, left_on = ['SnapshotYrMth'], right_on = ['ProcessingtDt'] , how = 'left') \n",
    "\n",
    "# Drop obsolete columns.\n",
    "df_Horizon_Switch_Counts = df_Horizon_Switch_Counts.drop(['ProcessingtDt'],axis=1)\n",
    "\n",
    "# Replavce NULLs\n",
    "df_Horizon_Switch_Counts['SwitchCount'] = df_Horizon_Switch_Counts['SwitchCount'].fillna(0)\n",
    "\n",
    "# Types and row count\n",
    "print(len(df_Full_Population_Count.index))\n",
    "print(df_Full_Population_Count.dtypes)\n",
    "print(len(df_Switches_Count.index))\n",
    "print(df_Switches_Count.dtypes)\n",
    "print(len(df_Horizon_Switch_Counts.index))\n",
    "print(df_Horizon_Switch_Counts.dtypes)\n",
    "\n",
    "\n",
    "print('==========================')\n",
    "now = datetime.now()\n",
    "print(now)\n",
    "print('==========================')\n",
    "print(psutil.virtual_memory())\n",
    "print('==========================')\n",
    "\n",
    "# Turn off dislays to protect PII\n",
    "#df_Horizon_Switch_Counts.head(5)"
   ]
  },
  {
   "cell_type": "markdown",
   "id": "50dbf747",
   "metadata": {},
   "source": [
    "## Save the data to file."
   ]
  },
  {
   "cell_type": "code",
   "execution_count": 10,
   "id": "2ad8bdfa",
   "metadata": {},
   "outputs": [
    {
     "name": "stdout",
     "output_type": "stream",
     "text": [
      ".\\data\\Horizon_Switch_Counts.csv\n",
      "66\n",
      "==========================\n",
      "2024-08-05 22:11:50.454841\n",
      "==========================\n",
      "svmem(total=16756752384, available=7896674304, percent=52.9, used=8860078080, free=7896674304)\n",
      "==========================\n"
     ]
    }
   ],
   "source": [
    "# Write out to a comma separated values file.\n",
    "filename = input_path + '\\Horizon_Switch_Counts.csv'\n",
    "df_Horizon_Switch_Counts.to_csv(filename, encoding='utf-8', index=False)        \n",
    "\n",
    "print(filename)\n",
    "\n",
    "# Types and row count\n",
    "print(len(df_Horizon_Switch_Counts.index))\n",
    "\n",
    "print('==========================')\n",
    "now = datetime.now()\n",
    "print(now)\n",
    "print('==========================')\n",
    "print(psutil.virtual_memory())\n",
    "print('==========================')\n",
    "\n",
    "# Turn off dislays to protect PII\n",
    "#df_Horizon_Switch_Counts.head(5)"
   ]
  },
  {
   "cell_type": "code",
   "execution_count": 11,
   "id": "42978de1",
   "metadata": {},
   "outputs": [
    {
     "data": {
      "text/plain": [
       "['df_All_Switches',\n",
       " 'df_Count',\n",
       " 'df_Full_Population',\n",
       " 'df_Full_Population_Count',\n",
       " 'df_Horizon_Switch_Counts',\n",
       " 'df_Switches_Count']"
      ]
     },
     "execution_count": 11,
     "metadata": {},
     "output_type": "execute_result"
    }
   ],
   "source": [
    "%who_ls DataFrame "
   ]
  },
  {
   "cell_type": "code",
   "execution_count": 12,
   "id": "b6d3cd24",
   "metadata": {},
   "outputs": [
    {
     "name": "stdout",
     "output_type": "stream",
     "text": [
      "==========================\n",
      "2024-08-05 22:11:54.655664\n",
      "==========================\n",
      "svmem(total=16756752384, available=8662839296, percent=48.3, used=8093913088, free=8662839296)\n",
      "==========================\n"
     ]
    }
   ],
   "source": [
    "del df_All_Switches\n",
    "del df_Count\n",
    "del df_Full_Population\n",
    "del df_Full_Population_Count\n",
    "del df_Horizon_Switch_Counts\n",
    "del df_Switches_Count\n",
    "\n",
    "print('==========================')\n",
    "now = datetime.now()\n",
    "print(now)\n",
    "print('==========================')\n",
    "print(psutil.virtual_memory())\n",
    "print('==========================')"
   ]
  },
  {
   "cell_type": "code",
   "execution_count": null,
   "id": "3e201188",
   "metadata": {},
   "outputs": [],
   "source": []
  },
  {
   "cell_type": "code",
   "execution_count": null,
   "id": "6c174e11",
   "metadata": {},
   "outputs": [],
   "source": []
  }
 ],
 "metadata": {
  "kernelspec": {
   "display_name": "Python 3 (ipykernel)",
   "language": "python",
   "name": "python3"
  },
  "language_info": {
   "codemirror_mode": {
    "name": "ipython",
    "version": 3
   },
   "file_extension": ".py",
   "mimetype": "text/x-python",
   "name": "python",
   "nbconvert_exporter": "python",
   "pygments_lexer": "ipython3",
   "version": "3.8.8"
  }
 },
 "nbformat": 4,
 "nbformat_minor": 5
}
