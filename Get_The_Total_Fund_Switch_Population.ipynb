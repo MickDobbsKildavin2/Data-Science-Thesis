{
 "cells": [
  {
   "cell_type": "markdown",
   "id": "a4c7540b",
   "metadata": {},
   "source": [
    "Import the libraries needed"
   ]
  },
  {
   "cell_type": "code",
   "execution_count": 1,
   "id": "96b7fd46",
   "metadata": {},
   "outputs": [
    {
     "name": "stderr",
     "output_type": "stream",
     "text": [
      "C:\\Users\\m033\\Anaconda3\\lib\\site-packages\\requests\\__init__.py:109: RequestsDependencyWarning: urllib3 (1.26.16) or chardet (3.0.0)/charset_normalizer (2.0.4) doesn't match a supported version!\n",
      "  warnings.warn(\n"
     ]
    }
   ],
   "source": [
    "import pandas as pd\n",
    "import numpy as np\n",
    "import os\n",
    "import pyodbc\n",
    "pyodbc.drivers()\n",
    "\n",
    "from datetime import datetime\n",
    "import psutil\n",
    "\n",
    "# For the Yahoo Finance api\n",
    "from pandas_datareader import data as pdr\n",
    "import yfinance as yf\n",
    "yf.pdr_override() # <== that's all it takes :-)"
   ]
  },
  {
   "cell_type": "markdown",
   "id": "b0328df7",
   "metadata": {},
   "source": [
    "### All the data used has been provisined in Get_The_Data.ipynb"
   ]
  },
  {
   "cell_type": "code",
   "execution_count": 2,
   "id": "2c2784d6",
   "metadata": {},
   "outputs": [
    {
     "name": "stdout",
     "output_type": "stream",
     "text": [
      "==========================\n",
      "2024-07-19 18:41:18.592498\n",
      "==========================\n",
      "svmem(total=16756752384, available=4477337600, percent=73.3, used=12279414784, free=4477337600)\n",
      "==========================\n"
     ]
    }
   ],
   "source": [
    "pd.set_option('max_row', None)\n",
    "#pd.options.display.max_rows = 1000\n",
    "\n",
    "# Set a value for the home folder.\n",
    "home_folder = \".\"\n",
    "\n",
    "# Set values for the various paths.\n",
    "input_path = home_folder + \"\\data\"\n",
    "\n",
    "print('==========================')\n",
    "now = datetime.now()\n",
    "print(now)\n",
    "print('==========================')\n",
    "print(psutil.virtual_memory())\n",
    "print('==========================')"
   ]
  },
  {
   "cell_type": "markdown",
   "id": "ff676320",
   "metadata": {},
   "source": [
    "# 1. Get all iSuite policies that can have switchable funds."
   ]
  },
  {
   "cell_type": "code",
   "execution_count": 3,
   "id": "d38fa783",
   "metadata": {},
   "outputs": [
    {
     "name": "stdout",
     "output_type": "stream",
     "text": [
      "8411354\n",
      ".\\data\\Full_Population.csv\n"
     ]
    },
    {
     "data": {
      "text/html": [
       "<div>\n",
       "<style scoped>\n",
       "    .dataframe tbody tr th:only-of-type {\n",
       "        vertical-align: middle;\n",
       "    }\n",
       "\n",
       "    .dataframe tbody tr th {\n",
       "        vertical-align: top;\n",
       "    }\n",
       "\n",
       "    .dataframe thead th {\n",
       "        text-align: right;\n",
       "    }\n",
       "</style>\n",
       "<table border=\"1\" class=\"dataframe\">\n",
       "  <thead>\n",
       "    <tr style=\"text-align: right;\">\n",
       "      <th></th>\n",
       "      <th>ContractNumber</th>\n",
       "      <th>ProdCat</th>\n",
       "      <th>ProdCode</th>\n",
       "      <th>PolicyStatus</th>\n",
       "      <th>CoverEndDt</th>\n",
       "      <th>SnapshotDt</th>\n",
       "      <th>SnapshotYrMth</th>\n",
       "    </tr>\n",
       "  </thead>\n",
       "  <tbody>\n",
       "    <tr>\n",
       "      <th>0</th>\n",
       "      <td>6074160W</td>\n",
       "      <td>XRPP</td>\n",
       "      <td>XRPP_2005V1</td>\n",
       "      <td>I</td>\n",
       "      <td>2028-12-01</td>\n",
       "      <td>2016-07-31</td>\n",
       "      <td>201607</td>\n",
       "    </tr>\n",
       "    <tr>\n",
       "      <th>1</th>\n",
       "      <td>6074937L</td>\n",
       "      <td>XRPP</td>\n",
       "      <td>XRPP_2005V1</td>\n",
       "      <td>I</td>\n",
       "      <td>2033-12-01</td>\n",
       "      <td>2016-07-31</td>\n",
       "      <td>201607</td>\n",
       "    </tr>\n",
       "    <tr>\n",
       "      <th>2</th>\n",
       "      <td>6074962M</td>\n",
       "      <td>XRPP</td>\n",
       "      <td>XRPP_2005V1</td>\n",
       "      <td>I</td>\n",
       "      <td>2042-12-01</td>\n",
       "      <td>2016-07-31</td>\n",
       "      <td>201607</td>\n",
       "    </tr>\n",
       "    <tr>\n",
       "      <th>3</th>\n",
       "      <td>6075850C</td>\n",
       "      <td>XRPP</td>\n",
       "      <td>XRPP_2005V1</td>\n",
       "      <td>I</td>\n",
       "      <td>2034-12-01</td>\n",
       "      <td>2016-07-31</td>\n",
       "      <td>201607</td>\n",
       "    </tr>\n",
       "    <tr>\n",
       "      <th>4</th>\n",
       "      <td>6100638P</td>\n",
       "      <td>XRPP</td>\n",
       "      <td>XRPP_2005V1</td>\n",
       "      <td>I</td>\n",
       "      <td>2046-04-01</td>\n",
       "      <td>2016-07-31</td>\n",
       "      <td>201607</td>\n",
       "    </tr>\n",
       "  </tbody>\n",
       "</table>\n",
       "</div>"
      ],
      "text/plain": [
       "  ContractNumber ProdCat     ProdCode PolicyStatus  CoverEndDt  SnapshotDt  \\\n",
       "0       6074160W    XRPP  XRPP_2005V1            I  2028-12-01  2016-07-31   \n",
       "1       6074937L    XRPP  XRPP_2005V1            I  2033-12-01  2016-07-31   \n",
       "2       6074962M    XRPP  XRPP_2005V1            I  2042-12-01  2016-07-31   \n",
       "3       6075850C    XRPP  XRPP_2005V1            I  2034-12-01  2016-07-31   \n",
       "4       6100638P    XRPP  XRPP_2005V1            I  2046-04-01  2016-07-31   \n",
       "\n",
       "   SnapshotYrMth  \n",
       "0         201607  \n",
       "1         201607  \n",
       "2         201607  \n",
       "3         201607  \n",
       "4         201607  "
      ]
     },
     "execution_count": 3,
     "metadata": {},
     "output_type": "execute_result"
    }
   ],
   "source": [
    "filename = input_path + '\\Full_Population.csv'\n",
    "df_Full_Population = pd.read_csv(filename, delimiter=',',low_memory=False, header=0)\n",
    "print(len(df_Full_Population.index))\n",
    "\n",
    "print(filename)\n",
    "df_Full_Population.head(5)"
   ]
  },
  {
   "cell_type": "markdown",
   "id": "7e9b5f69",
   "metadata": {},
   "source": [
    "## Clean the data."
   ]
  },
  {
   "cell_type": "code",
   "execution_count": 4,
   "id": "5ff3e68c",
   "metadata": {
    "scrolled": true
   },
   "outputs": [
    {
     "name": "stdout",
     "output_type": "stream",
     "text": [
      "66\n",
      "SnapshotYrMth    int64\n",
      "counts           int64\n",
      "dtype: object\n",
      ".\\data\\Full_Population_Count.csv\n"
     ]
    }
   ],
   "source": [
    "# Drop rows where policies are not in force\n",
    "df_Count = df_Full_Population[df_Full_Population['PolicyStatus'] == 'I']\n",
    "\n",
    "# Drop obsolete rows\n",
    "df_Count = df_Count.drop(['ContractNumber'],axis=1)\n",
    "df_Count = df_Count.drop(['ProdCat'],axis=1)\n",
    "df_Count = df_Count.drop(['ProdCode'],axis=1)\n",
    "df_Count = df_Count.drop(['PolicyStatus'],axis=1)\n",
    "df_Count = df_Count.drop(['CoverEndDt'],axis=1)\n",
    "\n",
    "# Reset teh index on count\n",
    "df_Full_Population_Count=df_Count[['SnapshotYrMth']].value_counts().reset_index(name='counts')\n",
    "\n",
    "# Sort by Snapshot Date\n",
    "df_Full_Population_Count = df_Full_Population_Count.sort_values(by=['SnapshotYrMth'])\n",
    "\n",
    "# Filter out old dates.\n",
    "df_Full_Population_Count = df_Full_Population_Count[df_Full_Population_Count.SnapshotYrMth > 201812]\n",
    "\n",
    "print(len(df_Full_Population_Count.index))\n",
    "print(df_Full_Population_Count.dtypes)\n",
    "df_Full_Population_Count.head(5)\n",
    "\n",
    "# Write out to a comma separated values file.\n",
    "filename = input_path + '\\Full_Population_Count.csv'\n",
    "df_Full_Population_Count.to_csv(filename, encoding='utf-8', index=False)      \n",
    "\n",
    "print(filename)"
   ]
  },
  {
   "cell_type": "markdown",
   "id": "0255693b",
   "metadata": {},
   "source": [
    "# 2. Get all fund switch records."
   ]
  },
  {
   "cell_type": "code",
   "execution_count": 5,
   "id": "a032a1e9",
   "metadata": {},
   "outputs": [
    {
     "name": "stdout",
     "output_type": "stream",
     "text": [
      "201805\n"
     ]
    },
    {
     "data": {
      "text/html": [
       "<div>\n",
       "<style scoped>\n",
       "    .dataframe tbody tr th:only-of-type {\n",
       "        vertical-align: middle;\n",
       "    }\n",
       "\n",
       "    .dataframe tbody tr th {\n",
       "        vertical-align: top;\n",
       "    }\n",
       "\n",
       "    .dataframe thead th {\n",
       "        text-align: right;\n",
       "    }\n",
       "</style>\n",
       "<table border=\"1\" class=\"dataframe\">\n",
       "  <thead>\n",
       "    <tr style=\"text-align: right;\">\n",
       "      <th></th>\n",
       "      <th>index</th>\n",
       "      <th>POLICY_NUMBER</th>\n",
       "      <th>LEGACY_FUND_CODE</th>\n",
       "      <th>PRODUCT</th>\n",
       "      <th>PROCESSING_DATE</th>\n",
       "      <th>EFFECTIVE_DATE</th>\n",
       "      <th>UNIT_TYPE</th>\n",
       "      <th>CHARGE_TYPE</th>\n",
       "      <th>CASH_VALUE</th>\n",
       "      <th>RISK_COMMENCEMENT_DATE</th>\n",
       "      <th>Servicing_Broker_Code</th>\n",
       "      <th>Issue_Date</th>\n",
       "      <th>Cover_End_Date</th>\n",
       "      <th>Anniversary_Date</th>\n",
       "      <th>Source</th>\n",
       "      <th>SOURCE</th>\n",
       "    </tr>\n",
       "  </thead>\n",
       "  <tbody>\n",
       "    <tr>\n",
       "      <th>0</th>\n",
       "      <td>0</td>\n",
       "      <td>6535239K</td>\n",
       "      <td>XMLEM</td>\n",
       "      <td>GNRP_2012V1</td>\n",
       "      <td>2019-01-02</td>\n",
       "      <td>2018-12-28</td>\n",
       "      <td>A</td>\n",
       "      <td>B</td>\n",
       "      <td>2763.7400</td>\n",
       "      <td>2013-12-19</td>\n",
       "      <td>A28E</td>\n",
       "      <td>2013-12-19</td>\n",
       "      <td>1900-01-01</td>\n",
       "      <td>1900-01-01</td>\n",
       "      <td>NaN</td>\n",
       "      <td>P</td>\n",
       "    </tr>\n",
       "    <tr>\n",
       "      <th>1</th>\n",
       "      <td>1</td>\n",
       "      <td>6535239K</td>\n",
       "      <td>XSK10</td>\n",
       "      <td>GNRP_2012V1</td>\n",
       "      <td>2019-01-02</td>\n",
       "      <td>2018-12-28</td>\n",
       "      <td>A</td>\n",
       "      <td>B</td>\n",
       "      <td>-5527.4800</td>\n",
       "      <td>2013-12-19</td>\n",
       "      <td>A28E</td>\n",
       "      <td>2013-12-19</td>\n",
       "      <td>1900-01-01</td>\n",
       "      <td>1900-01-01</td>\n",
       "      <td>NaN</td>\n",
       "      <td>P</td>\n",
       "    </tr>\n",
       "    <tr>\n",
       "      <th>2</th>\n",
       "      <td>2</td>\n",
       "      <td>6535239K</td>\n",
       "      <td>XSKN3</td>\n",
       "      <td>GNRP_2012V1</td>\n",
       "      <td>2019-01-02</td>\n",
       "      <td>2018-12-28</td>\n",
       "      <td>A</td>\n",
       "      <td>B</td>\n",
       "      <td>2763.7400</td>\n",
       "      <td>2013-12-19</td>\n",
       "      <td>A28E</td>\n",
       "      <td>2013-12-19</td>\n",
       "      <td>1900-01-01</td>\n",
       "      <td>1900-01-01</td>\n",
       "      <td>NaN</td>\n",
       "      <td>P</td>\n",
       "    </tr>\n",
       "    <tr>\n",
       "      <th>3</th>\n",
       "      <td>3</td>\n",
       "      <td>6562520M</td>\n",
       "      <td>XSDIV</td>\n",
       "      <td>GNRP_2012V1</td>\n",
       "      <td>2019-01-02</td>\n",
       "      <td>2018-12-27</td>\n",
       "      <td>A</td>\n",
       "      <td>B</td>\n",
       "      <td>10864.3901</td>\n",
       "      <td>2014-12-25</td>\n",
       "      <td>A947</td>\n",
       "      <td>2014-12-30</td>\n",
       "      <td>1900-01-01</td>\n",
       "      <td>1900-01-01</td>\n",
       "      <td>NaN</td>\n",
       "      <td>P</td>\n",
       "    </tr>\n",
       "    <tr>\n",
       "      <th>4</th>\n",
       "      <td>4</td>\n",
       "      <td>6562520M</td>\n",
       "      <td>XSEDD</td>\n",
       "      <td>GNRP_2012V1</td>\n",
       "      <td>2019-01-02</td>\n",
       "      <td>2018-12-27</td>\n",
       "      <td>A</td>\n",
       "      <td>B</td>\n",
       "      <td>-10864.3901</td>\n",
       "      <td>2014-12-25</td>\n",
       "      <td>A947</td>\n",
       "      <td>2014-12-30</td>\n",
       "      <td>1900-01-01</td>\n",
       "      <td>1900-01-01</td>\n",
       "      <td>NaN</td>\n",
       "      <td>P</td>\n",
       "    </tr>\n",
       "  </tbody>\n",
       "</table>\n",
       "</div>"
      ],
      "text/plain": [
       "   index POLICY_NUMBER LEGACY_FUND_CODE      PRODUCT PROCESSING_DATE  \\\n",
       "0      0      6535239K            XMLEM  GNRP_2012V1      2019-01-02   \n",
       "1      1      6535239K            XSK10  GNRP_2012V1      2019-01-02   \n",
       "2      2      6535239K            XSKN3  GNRP_2012V1      2019-01-02   \n",
       "3      3      6562520M            XSDIV  GNRP_2012V1      2019-01-02   \n",
       "4      4      6562520M            XSEDD  GNRP_2012V1      2019-01-02   \n",
       "\n",
       "  EFFECTIVE_DATE UNIT_TYPE CHARGE_TYPE  CASH_VALUE RISK_COMMENCEMENT_DATE  \\\n",
       "0     2018-12-28         A           B   2763.7400             2013-12-19   \n",
       "1     2018-12-28         A           B  -5527.4800             2013-12-19   \n",
       "2     2018-12-28         A           B   2763.7400             2013-12-19   \n",
       "3     2018-12-27         A           B  10864.3901             2014-12-25   \n",
       "4     2018-12-27         A           B -10864.3901             2014-12-25   \n",
       "\n",
       "  Servicing_Broker_Code  Issue_Date Cover_End_Date Anniversary_Date Source  \\\n",
       "0                  A28E  2013-12-19     1900-01-01       1900-01-01    NaN   \n",
       "1                  A28E  2013-12-19     1900-01-01       1900-01-01    NaN   \n",
       "2                  A28E  2013-12-19     1900-01-01       1900-01-01    NaN   \n",
       "3                  A947  2014-12-30     1900-01-01       1900-01-01    NaN   \n",
       "4                  A947  2014-12-30     1900-01-01       1900-01-01    NaN   \n",
       "\n",
       "  SOURCE  \n",
       "0      P  \n",
       "1      P  \n",
       "2      P  \n",
       "3      P  \n",
       "4      P  "
      ]
     },
     "execution_count": 5,
     "metadata": {},
     "output_type": "execute_result"
    }
   ],
   "source": [
    "# giving directory name\n",
    "All_Switches = input_path + '\\All_Switches.csv'\n",
    "\n",
    "df_All_Switches = pd.read_csv(All_Switches, delimiter=',',low_memory=False, header=0)\n",
    "\n",
    "# Filter out old dates.\n",
    "df_All_Switches = df_All_Switches[df_All_Switches.PROCESSING_DATE > '20181231']\n",
    "\n",
    "# print stats.\n",
    "print(len(df_All_Switches.index))\n",
    "df_All_Switches.head(5)"
   ]
  },
  {
   "cell_type": "markdown",
   "id": "f15d24f7",
   "metadata": {},
   "source": [
    "## Create the Fund Switch Count dataframe."
   ]
  },
  {
   "cell_type": "code",
   "execution_count": 6,
   "id": "115177d7",
   "metadata": {},
   "outputs": [
    {
     "name": "stdout",
     "output_type": "stream",
     "text": [
      "201805\n"
     ]
    },
    {
     "data": {
      "text/html": [
       "<div>\n",
       "<style scoped>\n",
       "    .dataframe tbody tr th:only-of-type {\n",
       "        vertical-align: middle;\n",
       "    }\n",
       "\n",
       "    .dataframe tbody tr th {\n",
       "        vertical-align: top;\n",
       "    }\n",
       "\n",
       "    .dataframe thead th {\n",
       "        text-align: right;\n",
       "    }\n",
       "</style>\n",
       "<table border=\"1\" class=\"dataframe\">\n",
       "  <thead>\n",
       "    <tr style=\"text-align: right;\">\n",
       "      <th></th>\n",
       "      <th>POLICY_NUMBER</th>\n",
       "      <th>Source</th>\n",
       "      <th>ProcessingtDt</th>\n",
       "    </tr>\n",
       "  </thead>\n",
       "  <tbody>\n",
       "    <tr>\n",
       "      <th>0</th>\n",
       "      <td>6535239K</td>\n",
       "      <td>NaN</td>\n",
       "      <td>201901</td>\n",
       "    </tr>\n",
       "    <tr>\n",
       "      <th>1</th>\n",
       "      <td>6535239K</td>\n",
       "      <td>NaN</td>\n",
       "      <td>201901</td>\n",
       "    </tr>\n",
       "    <tr>\n",
       "      <th>2</th>\n",
       "      <td>6535239K</td>\n",
       "      <td>NaN</td>\n",
       "      <td>201901</td>\n",
       "    </tr>\n",
       "    <tr>\n",
       "      <th>3</th>\n",
       "      <td>6562520M</td>\n",
       "      <td>NaN</td>\n",
       "      <td>201901</td>\n",
       "    </tr>\n",
       "    <tr>\n",
       "      <th>4</th>\n",
       "      <td>6562520M</td>\n",
       "      <td>NaN</td>\n",
       "      <td>201901</td>\n",
       "    </tr>\n",
       "  </tbody>\n",
       "</table>\n",
       "</div>"
      ],
      "text/plain": [
       "  POLICY_NUMBER Source ProcessingtDt\n",
       "0      6535239K    NaN        201901\n",
       "1      6535239K    NaN        201901\n",
       "2      6535239K    NaN        201901\n",
       "3      6562520M    NaN        201901\n",
       "4      6562520M    NaN        201901"
      ]
     },
     "execution_count": 6,
     "metadata": {},
     "output_type": "execute_result"
    }
   ],
   "source": [
    "df_All_Switches['PROCESSING_DATE'] = pd.to_datetime(df_All_Switches['PROCESSING_DATE'].str.strip(), format='%Y/%m/%d')\n",
    "df_All_Switches['ProcessingtDt'] = df_All_Switches['PROCESSING_DATE'].dt.strftime('%Y%m')\n",
    "\n",
    "# Drop obsolete columns.\n",
    "df_Switches_Count = df_All_Switches.drop(['LEGACY_FUND_CODE','PRODUCT','EFFECTIVE_DATE','UNIT_TYPE',\n",
    "                                          'CHARGE_TYPE','CASH_VALUE','RISK_COMMENCEMENT_DATE','Cover_End_Date',\n",
    "                                         'index','Servicing_Broker_Code','Issue_Date','Anniversary_Date','SOURCE','PROCESSING_DATE'],axis=1)\n",
    "\n",
    "# Stats\n",
    "print(len(df_Switches_Count.index))\n",
    "df_Switches_Count.head(5)"
   ]
  },
  {
   "cell_type": "code",
   "execution_count": 7,
   "id": "b8aeaeb1",
   "metadata": {},
   "outputs": [
    {
     "name": "stdout",
     "output_type": "stream",
     "text": [
      "7820\n"
     ]
    },
    {
     "data": {
      "text/html": [
       "<div>\n",
       "<style scoped>\n",
       "    .dataframe tbody tr th:only-of-type {\n",
       "        vertical-align: middle;\n",
       "    }\n",
       "\n",
       "    .dataframe tbody tr th {\n",
       "        vertical-align: top;\n",
       "    }\n",
       "\n",
       "    .dataframe thead th {\n",
       "        text-align: right;\n",
       "    }\n",
       "</style>\n",
       "<table border=\"1\" class=\"dataframe\">\n",
       "  <thead>\n",
       "    <tr style=\"text-align: right;\">\n",
       "      <th></th>\n",
       "      <th>Source</th>\n",
       "      <th>ProcessingtDt</th>\n",
       "    </tr>\n",
       "  </thead>\n",
       "  <tbody>\n",
       "    <tr>\n",
       "      <th>0</th>\n",
       "      <td>NaN</td>\n",
       "      <td>201901</td>\n",
       "    </tr>\n",
       "    <tr>\n",
       "      <th>3</th>\n",
       "      <td>NaN</td>\n",
       "      <td>201901</td>\n",
       "    </tr>\n",
       "    <tr>\n",
       "      <th>5</th>\n",
       "      <td>NaN</td>\n",
       "      <td>201901</td>\n",
       "    </tr>\n",
       "    <tr>\n",
       "      <th>9</th>\n",
       "      <td>NaN</td>\n",
       "      <td>201901</td>\n",
       "    </tr>\n",
       "    <tr>\n",
       "      <th>144</th>\n",
       "      <td>NaN</td>\n",
       "      <td>201901</td>\n",
       "    </tr>\n",
       "  </tbody>\n",
       "</table>\n",
       "</div>"
      ],
      "text/plain": [
       "    Source ProcessingtDt\n",
       "0      NaN        201901\n",
       "3      NaN        201901\n",
       "5      NaN        201901\n",
       "9      NaN        201901\n",
       "144    NaN        201901"
      ]
     },
     "execution_count": 7,
     "metadata": {},
     "output_type": "execute_result"
    }
   ],
   "source": [
    "# Drop duplicate policy numbers\n",
    "df_Switches_Count = df_Switches_Count.drop_duplicates(subset=['POLICY_NUMBER','ProcessingtDt'], keep='first')\n",
    "df_Switches_Count = df_Switches_Count.drop(['POLICY_NUMBER'],axis=1)\n",
    "\n",
    "# print stats.\n",
    "print(len(df_Switches_Count.index))\n",
    "df_Switches_Count.head(5)"
   ]
  },
  {
   "cell_type": "code",
   "execution_count": 8,
   "id": "9f95abe9",
   "metadata": {},
   "outputs": [
    {
     "name": "stdout",
     "output_type": "stream",
     "text": [
      "67\n"
     ]
    },
    {
     "data": {
      "text/html": [
       "<div>\n",
       "<style scoped>\n",
       "    .dataframe tbody tr th:only-of-type {\n",
       "        vertical-align: middle;\n",
       "    }\n",
       "\n",
       "    .dataframe tbody tr th {\n",
       "        vertical-align: top;\n",
       "    }\n",
       "\n",
       "    .dataframe thead th {\n",
       "        text-align: right;\n",
       "    }\n",
       "</style>\n",
       "<table border=\"1\" class=\"dataframe\">\n",
       "  <thead>\n",
       "    <tr style=\"text-align: right;\">\n",
       "      <th></th>\n",
       "      <th>ProcessingtDt</th>\n",
       "      <th>counts</th>\n",
       "    </tr>\n",
       "  </thead>\n",
       "  <tbody>\n",
       "    <tr>\n",
       "      <th>29</th>\n",
       "      <td>201901</td>\n",
       "      <td>75</td>\n",
       "    </tr>\n",
       "    <tr>\n",
       "      <th>63</th>\n",
       "      <td>201902</td>\n",
       "      <td>32</td>\n",
       "    </tr>\n",
       "    <tr>\n",
       "      <th>21</th>\n",
       "      <td>201903</td>\n",
       "      <td>91</td>\n",
       "    </tr>\n",
       "    <tr>\n",
       "      <th>48</th>\n",
       "      <td>201904</td>\n",
       "      <td>50</td>\n",
       "    </tr>\n",
       "    <tr>\n",
       "      <th>51</th>\n",
       "      <td>201905</td>\n",
       "      <td>48</td>\n",
       "    </tr>\n",
       "  </tbody>\n",
       "</table>\n",
       "</div>"
      ],
      "text/plain": [
       "   ProcessingtDt  counts\n",
       "29        201901      75\n",
       "63        201902      32\n",
       "21        201903      91\n",
       "48        201904      50\n",
       "51        201905      48"
      ]
     },
     "execution_count": 8,
     "metadata": {},
     "output_type": "execute_result"
    }
   ],
   "source": [
    "# Reset teh index on count\n",
    "df_Switches_Count=df_Switches_Count[['ProcessingtDt']].value_counts().reset_index(name='counts')\n",
    "\n",
    "# Sort by ProcessingtDt\n",
    "df_Switches_Count = df_Switches_Count.sort_values(by=['ProcessingtDt'])\n",
    "\n",
    "print(len(df_Switches_Count.index))\n",
    "df_Switches_Count.head(5)"
   ]
  },
  {
   "cell_type": "markdown",
   "id": "114c8634",
   "metadata": {},
   "source": [
    "## Merge the full population counts with the switch counts"
   ]
  },
  {
   "cell_type": "code",
   "execution_count": 9,
   "id": "95514619",
   "metadata": {},
   "outputs": [
    {
     "name": "stdout",
     "output_type": "stream",
     "text": [
      "66\n",
      "SnapshotYrMth    int64\n",
      "PopCount         int64\n",
      "dtype: object\n",
      "67\n",
      "ProcessingtDt    int64\n",
      "SwitchCount      int64\n",
      "dtype: object\n",
      "66\n",
      "SnapshotYrMth    int64\n",
      "PopCount         int64\n",
      "SwitchCount      int64\n",
      "dtype: object\n"
     ]
    },
    {
     "data": {
      "text/html": [
       "<div>\n",
       "<style scoped>\n",
       "    .dataframe tbody tr th:only-of-type {\n",
       "        vertical-align: middle;\n",
       "    }\n",
       "\n",
       "    .dataframe tbody tr th {\n",
       "        vertical-align: top;\n",
       "    }\n",
       "\n",
       "    .dataframe thead th {\n",
       "        text-align: right;\n",
       "    }\n",
       "</style>\n",
       "<table border=\"1\" class=\"dataframe\">\n",
       "  <thead>\n",
       "    <tr style=\"text-align: right;\">\n",
       "      <th></th>\n",
       "      <th>SnapshotYrMth</th>\n",
       "      <th>PopCount</th>\n",
       "      <th>SwitchCount</th>\n",
       "    </tr>\n",
       "  </thead>\n",
       "  <tbody>\n",
       "    <tr>\n",
       "      <th>0</th>\n",
       "      <td>201901</td>\n",
       "      <td>62801</td>\n",
       "      <td>75</td>\n",
       "    </tr>\n",
       "    <tr>\n",
       "      <th>1</th>\n",
       "      <td>201902</td>\n",
       "      <td>63720</td>\n",
       "      <td>32</td>\n",
       "    </tr>\n",
       "    <tr>\n",
       "      <th>2</th>\n",
       "      <td>201903</td>\n",
       "      <td>64775</td>\n",
       "      <td>91</td>\n",
       "    </tr>\n",
       "    <tr>\n",
       "      <th>3</th>\n",
       "      <td>201904</td>\n",
       "      <td>65713</td>\n",
       "      <td>50</td>\n",
       "    </tr>\n",
       "    <tr>\n",
       "      <th>4</th>\n",
       "      <td>201905</td>\n",
       "      <td>66774</td>\n",
       "      <td>48</td>\n",
       "    </tr>\n",
       "  </tbody>\n",
       "</table>\n",
       "</div>"
      ],
      "text/plain": [
       "   SnapshotYrMth  PopCount  SwitchCount\n",
       "0         201901     62801           75\n",
       "1         201902     63720           32\n",
       "2         201903     64775           91\n",
       "3         201904     65713           50\n",
       "4         201905     66774           48"
      ]
     },
     "execution_count": 9,
     "metadata": {},
     "output_type": "execute_result"
    }
   ],
   "source": [
    "# Rename the columns\n",
    "df_Full_Population_Count.rename(columns = {'counts':'PopCount'}, inplace = True)\n",
    "df_Switches_Count.rename(columns = {'counts':'SwitchCount'}, inplace = True)\n",
    "\n",
    "#  Fill the NUL values\n",
    "df_Switches_Count['ProcessingtDt'] = pd.to_numeric(df_Switches_Count['ProcessingtDt'], errors=\"coerce\").fillna(0).astype('int64')\n",
    "\n",
    "\n",
    "df_Horizon_Switch_Counts = pd.merge(df_Full_Population_Count, df_Switches_Count, left_on = ['SnapshotYrMth'], right_on = ['ProcessingtDt'] , how = 'left') \n",
    "\n",
    "# Drop obsolete columns.\n",
    "df_Horizon_Switch_Counts = df_Horizon_Switch_Counts.drop(['ProcessingtDt'],axis=1)\n",
    "\n",
    "# Replavce NULLs\n",
    "df_Horizon_Switch_Counts['SwitchCount'] = df_Horizon_Switch_Counts['SwitchCount'].fillna(0)\n",
    "\n",
    "# Types and row count\n",
    "print(len(df_Full_Population_Count.index))\n",
    "print(df_Full_Population_Count.dtypes)\n",
    "print(len(df_Switches_Count.index))\n",
    "print(df_Switches_Count.dtypes)\n",
    "print(len(df_Horizon_Switch_Counts.index))\n",
    "print(df_Horizon_Switch_Counts.dtypes)\n",
    "\n",
    "df_Horizon_Switch_Counts.head(5)"
   ]
  },
  {
   "cell_type": "markdown",
   "id": "50dbf747",
   "metadata": {},
   "source": [
    "## Save the data to file."
   ]
  },
  {
   "cell_type": "code",
   "execution_count": 10,
   "id": "2ad8bdfa",
   "metadata": {},
   "outputs": [
    {
     "name": "stdout",
     "output_type": "stream",
     "text": [
      ".\\data\\Horizon_Switch_Counts.csv\n",
      "66\n"
     ]
    },
    {
     "data": {
      "text/html": [
       "<div>\n",
       "<style scoped>\n",
       "    .dataframe tbody tr th:only-of-type {\n",
       "        vertical-align: middle;\n",
       "    }\n",
       "\n",
       "    .dataframe tbody tr th {\n",
       "        vertical-align: top;\n",
       "    }\n",
       "\n",
       "    .dataframe thead th {\n",
       "        text-align: right;\n",
       "    }\n",
       "</style>\n",
       "<table border=\"1\" class=\"dataframe\">\n",
       "  <thead>\n",
       "    <tr style=\"text-align: right;\">\n",
       "      <th></th>\n",
       "      <th>SnapshotYrMth</th>\n",
       "      <th>PopCount</th>\n",
       "      <th>SwitchCount</th>\n",
       "    </tr>\n",
       "  </thead>\n",
       "  <tbody>\n",
       "    <tr>\n",
       "      <th>0</th>\n",
       "      <td>201901</td>\n",
       "      <td>62801</td>\n",
       "      <td>75</td>\n",
       "    </tr>\n",
       "    <tr>\n",
       "      <th>1</th>\n",
       "      <td>201902</td>\n",
       "      <td>63720</td>\n",
       "      <td>32</td>\n",
       "    </tr>\n",
       "    <tr>\n",
       "      <th>2</th>\n",
       "      <td>201903</td>\n",
       "      <td>64775</td>\n",
       "      <td>91</td>\n",
       "    </tr>\n",
       "    <tr>\n",
       "      <th>3</th>\n",
       "      <td>201904</td>\n",
       "      <td>65713</td>\n",
       "      <td>50</td>\n",
       "    </tr>\n",
       "    <tr>\n",
       "      <th>4</th>\n",
       "      <td>201905</td>\n",
       "      <td>66774</td>\n",
       "      <td>48</td>\n",
       "    </tr>\n",
       "  </tbody>\n",
       "</table>\n",
       "</div>"
      ],
      "text/plain": [
       "   SnapshotYrMth  PopCount  SwitchCount\n",
       "0         201901     62801           75\n",
       "1         201902     63720           32\n",
       "2         201903     64775           91\n",
       "3         201904     65713           50\n",
       "4         201905     66774           48"
      ]
     },
     "execution_count": 10,
     "metadata": {},
     "output_type": "execute_result"
    }
   ],
   "source": [
    "# Write out to a comma separated values file.\n",
    "filename = input_path + '\\Horizon_Switch_Counts.csv'\n",
    "df_Horizon_Switch_Counts.to_csv(filename, encoding='utf-8', index=False)        \n",
    "\n",
    "print(filename)\n",
    "\n",
    "# Types and row count\n",
    "print(len(df_Horizon_Switch_Counts.index))\n",
    "df_Horizon_Switch_Counts.head(5)"
   ]
  },
  {
   "cell_type": "code",
   "execution_count": 11,
   "id": "42978de1",
   "metadata": {},
   "outputs": [
    {
     "data": {
      "text/plain": [
       "['df_All_Switches',\n",
       " 'df_Count',\n",
       " 'df_Full_Population',\n",
       " 'df_Full_Population_Count',\n",
       " 'df_Horizon_Switch_Counts',\n",
       " 'df_Switches_Count']"
      ]
     },
     "execution_count": 11,
     "metadata": {},
     "output_type": "execute_result"
    }
   ],
   "source": [
    "%who_ls DataFrame "
   ]
  },
  {
   "cell_type": "code",
   "execution_count": 12,
   "id": "b6d3cd24",
   "metadata": {},
   "outputs": [
    {
     "name": "stdout",
     "output_type": "stream",
     "text": [
      "==========================\n",
      "2024-07-19 18:42:33.001749\n",
      "==========================\n",
      "svmem(total=16756752384, available=4439175168, percent=73.5, used=12317577216, free=4439175168)\n",
      "==========================\n"
     ]
    }
   ],
   "source": [
    "del df_All_Switches\n",
    "del df_Count\n",
    "del df_Full_Population\n",
    "del df_Full_Population_Count\n",
    "del df_Horizon_Switch_Counts\n",
    "del df_Switches_Count\n",
    "\n",
    "print('==========================')\n",
    "now = datetime.now()\n",
    "print(now)\n",
    "print('==========================')\n",
    "print(psutil.virtual_memory())\n",
    "print('==========================')"
   ]
  },
  {
   "cell_type": "code",
   "execution_count": null,
   "id": "3e201188",
   "metadata": {},
   "outputs": [],
   "source": []
  },
  {
   "cell_type": "code",
   "execution_count": null,
   "id": "6c174e11",
   "metadata": {},
   "outputs": [],
   "source": []
  }
 ],
 "metadata": {
  "kernelspec": {
   "display_name": "Python 3 (ipykernel)",
   "language": "python",
   "name": "python3"
  },
  "language_info": {
   "codemirror_mode": {
    "name": "ipython",
    "version": 3
   },
   "file_extension": ".py",
   "mimetype": "text/x-python",
   "name": "python",
   "nbconvert_exporter": "python",
   "pygments_lexer": "ipython3",
   "version": "3.8.8"
  }
 },
 "nbformat": 4,
 "nbformat_minor": 5
}
