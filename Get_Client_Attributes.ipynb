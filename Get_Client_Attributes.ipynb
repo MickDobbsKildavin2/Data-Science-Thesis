{
 "cells": [
  {
   "cell_type": "markdown",
   "id": "a4c7540b",
   "metadata": {},
   "source": [
    "Import the libraries needed"
   ]
  },
  {
   "cell_type": "code",
   "execution_count": 1,
   "id": "96b7fd46",
   "metadata": {},
   "outputs": [
    {
     "name": "stderr",
     "output_type": "stream",
     "text": [
      "C:\\Users\\m033\\Anaconda3\\lib\\site-packages\\requests\\__init__.py:109: RequestsDependencyWarning: urllib3 (1.26.16) or chardet (3.0.0)/charset_normalizer (2.0.4) doesn't match a supported version!\n",
      "  warnings.warn(\n"
     ]
    }
   ],
   "source": [
    "import pandas as pd\n",
    "#from pandas.compat import StringIO\n",
    "from pandas.tseries.offsets import DateOffset\n",
    "\n",
    "from datetime import datetime\n",
    "import psutil\n",
    "\n",
    "import numpy as np\n",
    "import os\n",
    "import pyodbc\n",
    "pyodbc.drivers()\n",
    "\n",
    "import csv\n",
    "\n",
    "from sklearn.preprocessing import StandardScaler\n",
    "import seaborn as sns\n",
    "\n",
    "pd.options.display.max_rows = 1000\n",
    "\n",
    "# For the Yahoo Finance api\n",
    "from pandas_datareader import data as pdr\n",
    "import yfinance as yf\n",
    "yf.pdr_override() \n"
   ]
  },
  {
   "cell_type": "markdown",
   "id": "a42969f9",
   "metadata": {},
   "source": [
    "### Database connections and SQL to retrieve the various data needed."
   ]
  },
  {
   "cell_type": "code",
   "execution_count": 2,
   "id": "b616bb0f",
   "metadata": {},
   "outputs": [
    {
     "name": "stdout",
     "output_type": "stream",
     "text": [
      "==========================\n",
      "2024-08-05 21:59:15.340506\n",
      "==========================\n",
      "svmem(total=16756752384, available=9159553024, percent=45.3, used=7597199360, free=9159553024)\n",
      "==========================\n"
     ]
    },
    {
     "data": {
      "text/plain": [
       "'C:\\\\Users\\\\m033\\\\OneDrive - GWLE\\\\Documents\\\\GitHub\\\\Data-Science-Thesis'"
      ]
     },
     "execution_count": 2,
     "metadata": {},
     "output_type": "execute_result"
    }
   ],
   "source": [
    "SQL_server = 'xxx\\yyy'\n",
    "Reporting_database = 'zzz'\n",
    "\n",
    "pd.set_option('max_row', None)\n",
    "#pd.options.display.max_rows = 1000\n",
    "\n",
    "# Set a value for the home folder.\n",
    "home_folder = \".\"\n",
    "\n",
    "# Set values for the various paths.\n",
    "input_path = home_folder + \"\\data\"\n",
    "external_data = home_folder + \"\\external_data\"\n",
    "\n",
    "\n",
    "print('==========================')\n",
    "now = datetime.now()\n",
    "print(now)\n",
    "print('==========================')\n",
    "print(psutil.virtual_memory())\n",
    "print('==========================')\n",
    "os.path.abspath(os.getcwd())"
   ]
  },
  {
   "cell_type": "markdown",
   "id": "45824292",
   "metadata": {},
   "source": [
    "# 1. Get supplementary client features.\n",
    "\n",
    "  -  Identified in Lit Review.# 1. Read back the population with switches data."
   ]
  },
  {
   "cell_type": "code",
   "execution_count": 3,
   "id": "9eb0a436",
   "metadata": {},
   "outputs": [
    {
     "ename": "Error",
     "evalue": "('HY000', '[HY000] [Microsoft][ODBC Driver 17 for SQL Server]SQL Server Network Interfaces: The system cannot contact a domain controller to service the authentication request. Please try again later.\\r\\n (-2146892976) (SQLDriverConnect); [HY000] [Microsoft][ODBC Driver 17 for SQL Server]Cannot generate SSPI context (-2146892976); [HY000] [Microsoft][ODBC Driver 17 for SQL Server]SQL Server Network Interfaces: The system cannot contact a domain controller to service the authentication request. Please try again later.\\r\\n (-2146892976); [HY000] [Microsoft][ODBC Driver 17 for SQL Server]Cannot generate SSPI context (-2146892976)')",
     "output_type": "error",
     "traceback": [
      "\u001b[1;31m---------------------------------------------------------------------------\u001b[0m",
      "\u001b[1;31mError\u001b[0m                                     Traceback (most recent call last)",
      "Cell \u001b[1;32mIn[3], line 49\u001b[0m\n\u001b[0;32m      9\u001b[0m     query \u001b[38;5;241m=\u001b[39m \u001b[38;5;124m\"\"\"\u001b[39m\u001b[38;5;124mSELECT pol.Policy_Number\u001b[39m\n\u001b[0;32m     10\u001b[0m \u001b[38;5;124m      ,pol.Risk_Commencement_Date AS RiskCommDt\u001b[39m\n\u001b[0;32m     11\u001b[0m \u001b[38;5;124m--      ,pol.Cover_End_Date AS CoverEndDt\u001b[39m\n\u001b[1;32m   (...)\u001b[0m\n\u001b[0;32m     43\u001b[0m \u001b[38;5;124m                           \u001b[39m\u001b[38;5;124m'\u001b[39m\u001b[38;5;124mGNRP_2008V1\u001b[39m\u001b[38;5;124m'\u001b[39m\u001b[38;5;124m,\u001b[39m\u001b[38;5;124m'\u001b[39m\u001b[38;5;124mGNRP_2010V1\u001b[39m\u001b[38;5;124m'\u001b[39m\u001b[38;5;124m,\u001b[39m\u001b[38;5;124m'\u001b[39m\u001b[38;5;124mGNRP_2012V1\u001b[39m\u001b[38;5;124m'\u001b[39m\u001b[38;5;124m,\u001b[39m\u001b[38;5;124m'\u001b[39m\u001b[38;5;124mGNRP_2017V1\u001b[39m\u001b[38;5;124m'\u001b[39m\u001b[38;5;124m,\u001b[39m\u001b[38;5;124m'\u001b[39m\u001b[38;5;124mGNRP_2022V1\u001b[39m\u001b[38;5;124m'\u001b[39m\u001b[38;5;124m,\u001b[39m\n\u001b[0;32m     44\u001b[0m \u001b[38;5;124m                           \u001b[39m\u001b[38;5;124m'\u001b[39m\u001b[38;5;124mXRPP_2005V1\u001b[39m\u001b[38;5;124m'\u001b[39m\u001b[38;5;124m,\u001b[39m\u001b[38;5;124m'\u001b[39m\u001b[38;5;124mXRPP_2008V1\u001b[39m\u001b[38;5;124m'\u001b[39m\u001b[38;5;124m,\u001b[39m\u001b[38;5;124m'\u001b[39m\u001b[38;5;124mXRPP_2010V1\u001b[39m\u001b[38;5;124m'\u001b[39m\u001b[38;5;124m,\u001b[39m\u001b[38;5;124m'\u001b[39m\u001b[38;5;124mXRPP_2012V1\u001b[39m\u001b[38;5;124m'\u001b[39m\u001b[38;5;124m,\u001b[39m\u001b[38;5;124m'\u001b[39m\u001b[38;5;124mXRPP_2015V1\u001b[39m\u001b[38;5;124m'\u001b[39m\u001b[38;5;124m);\u001b[39m\u001b[38;5;124m\"\"\"\u001b[39m    \n\u001b[0;32m     47\u001b[0m     \u001b[38;5;28;01mreturn\u001b[39;00m pd\u001b[38;5;241m.\u001b[39mread_sql(query, conn)\n\u001b[1;32m---> 49\u001b[0m df_customer \u001b[38;5;241m=\u001b[39m \u001b[43mcustomer_data\u001b[49m\u001b[43m(\u001b[49m\u001b[43mSQL_server\u001b[49m\u001b[43m,\u001b[49m\u001b[43m \u001b[49m\u001b[43mReporting_database\u001b[49m\u001b[43m)\u001b[49m\n\u001b[0;32m     51\u001b[0m \u001b[38;5;66;03m# Types and row count\u001b[39;00m\n\u001b[0;32m     52\u001b[0m \u001b[38;5;66;03m# print stats.\u001b[39;00m\n\u001b[0;32m     53\u001b[0m \u001b[38;5;28mprint\u001b[39m(\u001b[38;5;28mlen\u001b[39m(df_customer\u001b[38;5;241m.\u001b[39mindex))\n",
      "Cell \u001b[1;32mIn[3], line 3\u001b[0m, in \u001b[0;36mcustomer_data\u001b[1;34m(server, database)\u001b[0m\n\u001b[0;32m      2\u001b[0m \u001b[38;5;28;01mdef\u001b[39;00m \u001b[38;5;21mcustomer_data\u001b[39m(server, database):\n\u001b[1;32m----> 3\u001b[0m     conn \u001b[38;5;241m=\u001b[39m \u001b[43mpyodbc\u001b[49m\u001b[38;5;241;43m.\u001b[39;49m\u001b[43mconnect\u001b[49m\u001b[43m(\u001b[49m\n\u001b[0;32m      4\u001b[0m \u001b[43m         \u001b[49m\u001b[38;5;124;43m'\u001b[39;49m\u001b[38;5;124;43mDRIVER=\u001b[39;49m\u001b[38;5;124;43m{\u001b[39;49m\u001b[38;5;124;43mODBC Driver 17 for SQL Server};\u001b[39;49m\u001b[38;5;124;43m'\u001b[39;49m\n\u001b[0;32m      5\u001b[0m \u001b[43m         \u001b[49m\u001b[38;5;124;43m'\u001b[39;49m\u001b[38;5;124;43mSERVER=\u001b[39;49m\u001b[38;5;124;43m'\u001b[39;49m\u001b[38;5;241;43m+\u001b[39;49m\u001b[43mserver\u001b[49m\u001b[38;5;241;43m+\u001b[39;49m\u001b[38;5;124;43m'\u001b[39;49m\u001b[38;5;124;43m;\u001b[39;49m\u001b[38;5;124;43m'\u001b[39;49m\n\u001b[0;32m      6\u001b[0m \u001b[43m         \u001b[49m\u001b[38;5;124;43m'\u001b[39;49m\u001b[38;5;124;43mDATABASE=\u001b[39;49m\u001b[38;5;124;43m'\u001b[39;49m\u001b[38;5;241;43m+\u001b[39;49m\u001b[43mdatabase\u001b[49m\u001b[38;5;241;43m+\u001b[39;49m\u001b[38;5;124;43m'\u001b[39;49m\u001b[38;5;124;43m;\u001b[39;49m\u001b[38;5;124;43m'\u001b[39;49m\n\u001b[0;32m      7\u001b[0m \u001b[43m         \u001b[49m\u001b[38;5;124;43m'\u001b[39;49m\u001b[38;5;124;43mTrusted_Connection=yes;\u001b[39;49m\u001b[38;5;124;43m'\u001b[39;49m\u001b[43m)\u001b[49m\n\u001b[0;32m      9\u001b[0m     query \u001b[38;5;241m=\u001b[39m \u001b[38;5;124m\"\"\"\u001b[39m\u001b[38;5;124mSELECT pol.Policy_Number\u001b[39m\n\u001b[0;32m     10\u001b[0m \u001b[38;5;124m      ,pol.Risk_Commencement_Date AS RiskCommDt\u001b[39m\n\u001b[0;32m     11\u001b[0m \u001b[38;5;124m--      ,pol.Cover_End_Date AS CoverEndDt\u001b[39m\n\u001b[1;32m   (...)\u001b[0m\n\u001b[0;32m     43\u001b[0m \u001b[38;5;124m                           \u001b[39m\u001b[38;5;124m'\u001b[39m\u001b[38;5;124mGNRP_2008V1\u001b[39m\u001b[38;5;124m'\u001b[39m\u001b[38;5;124m,\u001b[39m\u001b[38;5;124m'\u001b[39m\u001b[38;5;124mGNRP_2010V1\u001b[39m\u001b[38;5;124m'\u001b[39m\u001b[38;5;124m,\u001b[39m\u001b[38;5;124m'\u001b[39m\u001b[38;5;124mGNRP_2012V1\u001b[39m\u001b[38;5;124m'\u001b[39m\u001b[38;5;124m,\u001b[39m\u001b[38;5;124m'\u001b[39m\u001b[38;5;124mGNRP_2017V1\u001b[39m\u001b[38;5;124m'\u001b[39m\u001b[38;5;124m,\u001b[39m\u001b[38;5;124m'\u001b[39m\u001b[38;5;124mGNRP_2022V1\u001b[39m\u001b[38;5;124m'\u001b[39m\u001b[38;5;124m,\u001b[39m\n\u001b[0;32m     44\u001b[0m \u001b[38;5;124m                           \u001b[39m\u001b[38;5;124m'\u001b[39m\u001b[38;5;124mXRPP_2005V1\u001b[39m\u001b[38;5;124m'\u001b[39m\u001b[38;5;124m,\u001b[39m\u001b[38;5;124m'\u001b[39m\u001b[38;5;124mXRPP_2008V1\u001b[39m\u001b[38;5;124m'\u001b[39m\u001b[38;5;124m,\u001b[39m\u001b[38;5;124m'\u001b[39m\u001b[38;5;124mXRPP_2010V1\u001b[39m\u001b[38;5;124m'\u001b[39m\u001b[38;5;124m,\u001b[39m\u001b[38;5;124m'\u001b[39m\u001b[38;5;124mXRPP_2012V1\u001b[39m\u001b[38;5;124m'\u001b[39m\u001b[38;5;124m,\u001b[39m\u001b[38;5;124m'\u001b[39m\u001b[38;5;124mXRPP_2015V1\u001b[39m\u001b[38;5;124m'\u001b[39m\u001b[38;5;124m);\u001b[39m\u001b[38;5;124m\"\"\"\u001b[39m    \n\u001b[0;32m     47\u001b[0m     \u001b[38;5;28;01mreturn\u001b[39;00m pd\u001b[38;5;241m.\u001b[39mread_sql(query, conn)\n",
      "\u001b[1;31mError\u001b[0m: ('HY000', '[HY000] [Microsoft][ODBC Driver 17 for SQL Server]SQL Server Network Interfaces: The system cannot contact a domain controller to service the authentication request. Please try again later.\\r\\n (-2146892976) (SQLDriverConnect); [HY000] [Microsoft][ODBC Driver 17 for SQL Server]Cannot generate SSPI context (-2146892976); [HY000] [Microsoft][ODBC Driver 17 for SQL Server]SQL Server Network Interfaces: The system cannot contact a domain controller to service the authentication request. Please try again later.\\r\\n (-2146892976); [HY000] [Microsoft][ODBC Driver 17 for SQL Server]Cannot generate SSPI context (-2146892976)')"
     ]
    }
   ],
   "source": [
    "# READ IN directly from DW\n",
    "def customer_data(server, database):\n",
    "    conn = pyodbc.connect(\n",
    "         'DRIVER={ODBC Driver 17 for SQL Server};'\n",
    "         'SERVER='+server+';'\n",
    "         'DATABASE='+database+';'\n",
    "         'Trusted_Connection=yes;')\n",
    "  \n",
    "    query = \"\"\"SELECT pol.Policy_Number\n",
    "      ,pol.Risk_Commencement_Date AS RiskCommDt\n",
    "--      ,pol.Cover_End_Date AS CoverEndDt\n",
    "      ,pa.VIP_Type_Id          AS VIPType\n",
    "      ,pa.Nationality_Code     AS Nationality\n",
    "      ,CASE WHEN pa.Is_Smoker = 'True' THEN 1\n",
    "            ELSE 0 \n",
    "       END as IsSmoker\n",
    "      ,pa.Politically_Exposed_Id AS PoliticallyExposed\n",
    "      ,pa.Birth_Place               As BirthPlace\n",
    "      ,a.Postcode                   AS AddressPostcode\n",
    "\t  ,pa.Sex_Id                    AS Gender\n",
    "\t  ,pa.Marital_Status_Id         AS MaritalStatus\n",
    "\t  ,pla.Pension_Disability_Level AS PensionDisability\n",
    "\t  ,pla.WOP_Disability_Level     AS WOPDisability\n",
    "      ,a.City                       AS AddressCity\n",
    "\t  ,pa.Date_Of_Birth             AS DOB\n",
    "--      ,DATEDIFF(month, GETDATE(),pol.Cover_End_Date) AS TermRemainingMths\n",
    "--      ,DATEDIFF(month, GETDATE(),pol.Cover_End_Date) AS TermRemainingMths\n",
    "      ,pa.Partner_Type_De           AS PartnerType\n",
    "      ,pa.Is_EU_Sanctioned          AS EUSanctioned\n",
    "      ,a.District                   As AddressDistrict\n",
    "FROM CLT_Policy pol,\n",
    "\t\t CLT_Product prd,\n",
    "\t\t CLT_Policy_Life_Assured pla,\n",
    "\t  \t CLT_Partner pa,\n",
    "\t\t CLT_Address a\n",
    "WHERE prd.Product_Id = pol.Product_Id\n",
    "AND   pla.Policy_Id = pol.Policy_Id\n",
    "AND   pol.Policy_id = pla.Policy_Id\n",
    "AND   pla.Partner_Id = pa.Partner_Id\n",
    "AND   pa.Partner_Number = a.Partner_Number\n",
    "AND   prd.Product_Code IN ('FKP_2006V1','FKP_2006V2','FKP_2008V1','FKP_2010V1','FKP_2012V1','FKP_2017V1',\n",
    "                           'GNPP_2016V1','GNPP_2017V1','GNPP_2022V1','GNPP_2023V1',\n",
    "                           'GNRP_2008V1','GNRP_2010V1','GNRP_2012V1','GNRP_2017V1','GNRP_2022V1',\n",
    "                           'XRPP_2005V1','XRPP_2008V1','XRPP_2010V1','XRPP_2012V1','XRPP_2015V1');\"\"\"    \n",
    "    \n",
    "    \n",
    "    return pd.read_sql(query, conn)\n",
    "\n",
    "df_customer = customer_data(SQL_server, Reporting_database)\n",
    "\n",
    "# Types and row count\n",
    "# print stats.\n",
    "print(len(df_customer.index))\n",
    "now = datetime.now()\n",
    "print(now)\n",
    "print('==========================')\n",
    "\n",
    "print(df_customer.dtypes)\n",
    "\n",
    "# No displays to protect PII data\n",
    "#df_customer.head(5)"
   ]
  },
  {
   "cell_type": "markdown",
   "id": "99e2ac19",
   "metadata": {},
   "source": [
    "## Drop obsolete or repeated features.\n",
    "\n",
    "## Check for nulls"
   ]
  },
  {
   "cell_type": "code",
   "execution_count": null,
   "id": "530bb5be",
   "metadata": {},
   "outputs": [],
   "source": [
    "df_customer.dtypes"
   ]
  },
  {
   "cell_type": "code",
   "execution_count": null,
   "id": "5a74a891",
   "metadata": {},
   "outputs": [],
   "source": [
    "df_customer.isna().any()"
   ]
  },
  {
   "cell_type": "markdown",
   "id": "e1998d38",
   "metadata": {},
   "source": [
    "## Replace any nulls before checking the distributions of values for each column."
   ]
  },
  {
   "cell_type": "code",
   "execution_count": 4,
   "id": "dd3d27ef",
   "metadata": {},
   "outputs": [
    {
     "ename": "NameError",
     "evalue": "name 'df_customer' is not defined",
     "output_type": "error",
     "traceback": [
      "\u001b[1;31m---------------------------------------------------------------------------\u001b[0m",
      "\u001b[1;31mNameError\u001b[0m                                 Traceback (most recent call last)",
      "Cell \u001b[1;32mIn[4], line 1\u001b[0m\n\u001b[1;32m----> 1\u001b[0m df_customer[\u001b[38;5;124m'\u001b[39m\u001b[38;5;124mPensionDisability\u001b[39m\u001b[38;5;124m'\u001b[39m] \u001b[38;5;241m=\u001b[39m \u001b[43mdf_customer\u001b[49m[\u001b[38;5;124m'\u001b[39m\u001b[38;5;124mPensionDisability\u001b[39m\u001b[38;5;124m'\u001b[39m]\u001b[38;5;241m.\u001b[39mfillna(\u001b[38;5;241m0\u001b[39m)\u001b[38;5;241m.\u001b[39mapply(np\u001b[38;5;241m.\u001b[39mint64)\n\u001b[0;32m      2\u001b[0m df_customer[\u001b[38;5;124m'\u001b[39m\u001b[38;5;124mWOPDisability\u001b[39m\u001b[38;5;124m'\u001b[39m] \u001b[38;5;241m=\u001b[39m df_customer[\u001b[38;5;124m'\u001b[39m\u001b[38;5;124mWOPDisability\u001b[39m\u001b[38;5;124m'\u001b[39m]\u001b[38;5;241m.\u001b[39mfillna(\u001b[38;5;241m0\u001b[39m)\u001b[38;5;241m.\u001b[39mapply(np\u001b[38;5;241m.\u001b[39mint64)\n",
      "\u001b[1;31mNameError\u001b[0m: name 'df_customer' is not defined"
     ]
    }
   ],
   "source": [
    "df_customer['PensionDisability'] = df_customer['PensionDisability'].fillna(0).apply(np.int64)\n",
    "df_customer['WOPDisability'] = df_customer['WOPDisability'].fillna(0).apply(np.int64)\n"
   ]
  },
  {
   "cell_type": "markdown",
   "id": "fa0e14a5",
   "metadata": {},
   "source": [
    "## Set the Postcode to int to facilitate the join."
   ]
  },
  {
   "cell_type": "code",
   "execution_count": 5,
   "id": "b7fda3c3",
   "metadata": {},
   "outputs": [
    {
     "ename": "NameError",
     "evalue": "name 'df_customer' is not defined",
     "output_type": "error",
     "traceback": [
      "\u001b[1;31m---------------------------------------------------------------------------\u001b[0m",
      "\u001b[1;31mNameError\u001b[0m                                 Traceback (most recent call last)",
      "Cell \u001b[1;32mIn[5], line 2\u001b[0m\n\u001b[0;32m      1\u001b[0m df_customer[\u001b[38;5;124m'\u001b[39m\u001b[38;5;124mAddressPostcode\u001b[39m\u001b[38;5;124m'\u001b[39m] \u001b[38;5;241m=\u001b[39m (\n\u001b[1;32m----> 2\u001b[0m     pd\u001b[38;5;241m.\u001b[39mto_numeric(\u001b[43mdf_customer\u001b[49m[\u001b[38;5;124m'\u001b[39m\u001b[38;5;124mAddressPostcode\u001b[39m\u001b[38;5;124m'\u001b[39m],\n\u001b[0;32m      3\u001b[0m                   errors\u001b[38;5;241m=\u001b[39m\u001b[38;5;124m'\u001b[39m\u001b[38;5;124mcoerce\u001b[39m\u001b[38;5;124m'\u001b[39m)\n\u001b[0;32m      4\u001b[0m       \u001b[38;5;241m.\u001b[39mfillna(\u001b[38;5;241m0\u001b[39m)\n\u001b[0;32m      5\u001b[0m     )\n\u001b[0;32m      6\u001b[0m df_customer[\u001b[38;5;124m'\u001b[39m\u001b[38;5;124mAddressPostcode\u001b[39m\u001b[38;5;124m'\u001b[39m] \u001b[38;5;241m=\u001b[39m df_customer[\u001b[38;5;124m'\u001b[39m\u001b[38;5;124mAddressPostcode\u001b[39m\u001b[38;5;124m'\u001b[39m]\u001b[38;5;241m.\u001b[39mastype(\u001b[38;5;28mint\u001b[39m)\n\u001b[0;32m      7\u001b[0m df_customer\u001b[38;5;241m.\u001b[39mdtypes\n",
      "\u001b[1;31mNameError\u001b[0m: name 'df_customer' is not defined"
     ]
    }
   ],
   "source": [
    "df_customer['AddressPostcode'] = (\n",
    "    pd.to_numeric(df_customer['AddressPostcode'],\n",
    "                  errors='coerce')\n",
    "      .fillna(0)\n",
    "    )\n",
    "df_customer['AddressPostcode'] = df_customer['AddressPostcode'].astype(int)\n",
    "df_customer.dtypes"
   ]
  },
  {
   "cell_type": "markdown",
   "id": "249a6e38",
   "metadata": {},
   "source": [
    "# Read in the postcode data."
   ]
  },
  {
   "cell_type": "code",
   "execution_count": 6,
   "id": "63ace8dc",
   "metadata": {},
   "outputs": [
    {
     "name": "stdout",
     "output_type": "stream",
     "text": [
      "Postal_Code          int32\n",
      "Postal_Code_Name    object\n",
      "District            object\n",
      "State               object\n",
      "dtype: object\n"
     ]
    }
   ],
   "source": [
    "# giving directory name\n",
    "filename = external_data + '\\Postcode_State_Metadata.xlsx'\n",
    "\n",
    "#df_Postcode = pd.read_excel(filename,sheet_name='Tabelle1')\n",
    "df_Postcode = pd.read_csv(filename)\n",
    "df_Postcode['Postal_Code'] = df_Postcode['Postal_Code'].astype(int)\n",
    "\n",
    "print(df_Postcode.dtypes)\n",
    "\n",
    "# No displays to protect PII data\n",
    "#df_Postcode.head(2)"
   ]
  },
  {
   "cell_type": "markdown",
   "id": "71b4d474",
   "metadata": {},
   "source": [
    "# Merge the address and the external postcode data."
   ]
  },
  {
   "cell_type": "code",
   "execution_count": 7,
   "id": "12f9eda5",
   "metadata": {},
   "outputs": [
    {
     "ename": "NameError",
     "evalue": "name 'df_customer' is not defined",
     "output_type": "error",
     "traceback": [
      "\u001b[1;31m---------------------------------------------------------------------------\u001b[0m",
      "\u001b[1;31mNameError\u001b[0m                                 Traceback (most recent call last)",
      "Cell \u001b[1;32mIn[7], line 2\u001b[0m\n\u001b[0;32m      1\u001b[0m \u001b[38;5;66;03m# Left Join the list of campaign contract numbers to the main dataset.\u001b[39;00m\n\u001b[1;32m----> 2\u001b[0m df_customer \u001b[38;5;241m=\u001b[39m pd\u001b[38;5;241m.\u001b[39mmerge(\u001b[43mdf_customer\u001b[49m, df_Postcode, left_on \u001b[38;5;241m=\u001b[39m [\u001b[38;5;124m'\u001b[39m\u001b[38;5;124mAddressPostcode\u001b[39m\u001b[38;5;124m'\u001b[39m], right_on \u001b[38;5;241m=\u001b[39m [\u001b[38;5;124m'\u001b[39m\u001b[38;5;124mPostal_Code\u001b[39m\u001b[38;5;124m'\u001b[39m] , how \u001b[38;5;241m=\u001b[39m \u001b[38;5;124m'\u001b[39m\u001b[38;5;124mleft\u001b[39m\u001b[38;5;124m'\u001b[39m)\n\u001b[0;32m      4\u001b[0m \u001b[38;5;28mprint\u001b[39m(\u001b[38;5;124m'\u001b[39m\u001b[38;5;124m==========================\u001b[39m\u001b[38;5;124m'\u001b[39m)\n\u001b[0;32m      5\u001b[0m now \u001b[38;5;241m=\u001b[39m datetime\u001b[38;5;241m.\u001b[39mnow()\n",
      "\u001b[1;31mNameError\u001b[0m: name 'df_customer' is not defined"
     ]
    }
   ],
   "source": [
    "# Left Join the list of campaign contract numbers to the main dataset.\n",
    "df_customer = pd.merge(df_customer, df_Postcode, left_on = ['AddressPostcode'], right_on = ['Postal_Code'] , how = 'left')\n",
    "\n",
    "print('==========================')\n",
    "now = datetime.now()\n",
    "print(now)\n",
    "print('==========================')\n",
    "print(psutil.virtual_memory())\n",
    "print('==========================')\n",
    "\n",
    "# No displays to protect PII data\n",
    "#df_customer.head(5)"
   ]
  },
  {
   "cell_type": "markdown",
   "id": "a2c0e37f",
   "metadata": {},
   "source": [
    "# Merge in the sinus milieus data."
   ]
  },
  {
   "cell_type": "code",
   "execution_count": 8,
   "id": "665e7ae4",
   "metadata": {},
   "outputs": [
    {
     "name": "stdout",
     "output_type": "stream",
     "text": [
      "CONTRACT_NUMBER                 object\n",
      "DATA_VERSION                   float64\n",
      "POLICY_NUMBER                   object\n",
      "VN_MILIEU_CODE                  object\n",
      "VP_MILIEU_CODE                  object\n",
      "VN_TARGET_GROUP_CODE            object\n",
      "VP_TARGET_GROUP_CODE            object\n",
      "VN_MILIEU_DESCRIPTION           object\n",
      "VN_TARGET_GROUP_DESCRIPTION     object\n",
      "VP_MILIEU_DESCRIPTION           object\n",
      "VP_TARGET_GROUP_DESCRIPTION     object\n",
      "dtype: object\n"
     ]
    }
   ],
   "source": [
    "# giving directory name\n",
    "filename = external_data + '\\sinus_milieu.csv'\n",
    "\n",
    "\n",
    "df_Sinus_Milieus = pd.read_csv(filename)\n",
    "\n",
    "print(df_Sinus_Milieus.dtypes)\n",
    "\n",
    "# No displays to protect PII data\n",
    "#df_Sinus_Milieus.head(2)"
   ]
  },
  {
   "cell_type": "markdown",
   "id": "2af32f5f",
   "metadata": {},
   "source": [
    "# Merge in the Sinus data."
   ]
  },
  {
   "cell_type": "code",
   "execution_count": 9,
   "id": "9102998b",
   "metadata": {},
   "outputs": [
    {
     "ename": "NameError",
     "evalue": "name 'df_customer' is not defined",
     "output_type": "error",
     "traceback": [
      "\u001b[1;31m---------------------------------------------------------------------------\u001b[0m",
      "\u001b[1;31mNameError\u001b[0m                                 Traceback (most recent call last)",
      "Cell \u001b[1;32mIn[9], line 1\u001b[0m\n\u001b[1;32m----> 1\u001b[0m df_customer \u001b[38;5;241m=\u001b[39m pd\u001b[38;5;241m.\u001b[39mmerge(\u001b[43mdf_customer\u001b[49m, df_Sinus_Milieus, left_on \u001b[38;5;241m=\u001b[39m [\u001b[38;5;124m'\u001b[39m\u001b[38;5;124mPolicy_Number\u001b[39m\u001b[38;5;124m'\u001b[39m], right_on \u001b[38;5;241m=\u001b[39m [\u001b[38;5;124m'\u001b[39m\u001b[38;5;124mCONTRACT_NUMBER\u001b[39m\u001b[38;5;124m'\u001b[39m] , how \u001b[38;5;241m=\u001b[39m \u001b[38;5;124m'\u001b[39m\u001b[38;5;124mleft\u001b[39m\u001b[38;5;124m'\u001b[39m) \n\u001b[0;32m      3\u001b[0m \u001b[38;5;28mprint\u001b[39m(\u001b[38;5;124m'\u001b[39m\u001b[38;5;124m==========================\u001b[39m\u001b[38;5;124m'\u001b[39m)\n\u001b[0;32m      4\u001b[0m now \u001b[38;5;241m=\u001b[39m datetime\u001b[38;5;241m.\u001b[39mnow()\n",
      "\u001b[1;31mNameError\u001b[0m: name 'df_customer' is not defined"
     ]
    }
   ],
   "source": [
    "df_customer = pd.merge(df_customer, df_Sinus_Milieus, left_on = ['Policy_Number'], right_on = ['CONTRACT_NUMBER'] , how = 'left') \n",
    "\n",
    "print('==========================')\n",
    "now = datetime.now()\n",
    "print(now)\n",
    "print('==========================')\n",
    "print(psutil.virtual_memory())\n",
    "print('==========================')\n",
    "\n",
    "print(df_customer.dtypes)\n",
    "\n",
    "\n",
    "# No displays to protect PII data\n",
    "#df_customer.head(5)"
   ]
  },
  {
   "cell_type": "markdown",
   "id": "758164a6",
   "metadata": {},
   "source": []
  },
  {
   "cell_type": "code",
   "execution_count": null,
   "id": "edda30d7",
   "metadata": {},
   "outputs": [],
   "source": []
  },
  {
   "cell_type": "markdown",
   "id": "7c10c930",
   "metadata": {},
   "source": [
    "## Drop all non predictive features and write to Excel"
   ]
  },
  {
   "cell_type": "code",
   "execution_count": 10,
   "id": "eec5ec32",
   "metadata": {},
   "outputs": [
    {
     "ename": "NameError",
     "evalue": "name 'df_customer' is not defined",
     "output_type": "error",
     "traceback": [
      "\u001b[1;31m---------------------------------------------------------------------------\u001b[0m",
      "\u001b[1;31mNameError\u001b[0m                                 Traceback (most recent call last)",
      "Cell \u001b[1;32mIn[10], line 1\u001b[0m\n\u001b[1;32m----> 1\u001b[0m df_customer \u001b[38;5;241m=\u001b[39m \u001b[43mdf_customer\u001b[49m\u001b[38;5;241m.\u001b[39mdrop([\u001b[38;5;124m'\u001b[39m\u001b[38;5;124mAddressPostcode\u001b[39m\u001b[38;5;124m'\u001b[39m,\u001b[38;5;124m'\u001b[39m\u001b[38;5;124mCONTRACT_NUMBER\u001b[39m\u001b[38;5;124m'\u001b[39m],axis\u001b[38;5;241m=\u001b[39m\u001b[38;5;241m1\u001b[39m)\n\u001b[0;32m      3\u001b[0m \u001b[38;5;66;03m# Write out to a comma separated values file.\u001b[39;00m\n\u001b[0;32m      4\u001b[0m \n\u001b[0;32m      5\u001b[0m \u001b[38;5;66;03m# giving directory name\u001b[39;00m\n\u001b[0;32m      6\u001b[0m filename \u001b[38;5;241m=\u001b[39m input_path \u001b[38;5;241m+\u001b[39m \u001b[38;5;124m'\u001b[39m\u001b[38;5;124m\\\u001b[39m\u001b[38;5;124mClient_data.csv\u001b[39m\u001b[38;5;124m'\u001b[39m\n",
      "\u001b[1;31mNameError\u001b[0m: name 'df_customer' is not defined"
     ]
    }
   ],
   "source": [
    "df_customer = df_customer.drop(['AddressPostcode','CONTRACT_NUMBER'],axis=1)\n",
    "\n",
    "# Write out to a comma separated values file.\n",
    "\n",
    "# giving directory name\n",
    "filename = input_path + '\\Client_data.csv'\n",
    "df_customer.to_csv(filename, encoding='utf-8', index=False)        \n",
    "\n",
    "# No displays to protect PII data\n",
    "#df_customer.head(10)"
   ]
  },
  {
   "cell_type": "code",
   "execution_count": 11,
   "id": "c6b21368",
   "metadata": {},
   "outputs": [
    {
     "data": {
      "text/plain": [
       "['df_Postcode', 'df_Sinus_Milieus']"
      ]
     },
     "execution_count": 11,
     "metadata": {},
     "output_type": "execute_result"
    }
   ],
   "source": [
    "%who_ls DataFrame "
   ]
  },
  {
   "cell_type": "code",
   "execution_count": 12,
   "id": "d82e8059",
   "metadata": {},
   "outputs": [
    {
     "ename": "NameError",
     "evalue": "name 'df_customer' is not defined",
     "output_type": "error",
     "traceback": [
      "\u001b[1;31m---------------------------------------------------------------------------\u001b[0m",
      "\u001b[1;31mNameError\u001b[0m                                 Traceback (most recent call last)",
      "Cell \u001b[1;32mIn[12], line 3\u001b[0m\n\u001b[0;32m      1\u001b[0m \u001b[38;5;28;01mdel\u001b[39;00m df_Postcode\n\u001b[0;32m      2\u001b[0m \u001b[38;5;28;01mdel\u001b[39;00m df_Sinus_Milieus\n\u001b[1;32m----> 3\u001b[0m \u001b[38;5;28;01mdel\u001b[39;00m df_customer\n",
      "\u001b[1;31mNameError\u001b[0m: name 'df_customer' is not defined"
     ]
    }
   ],
   "source": [
    "del df_Postcode\n",
    "del df_Sinus_Milieus\n",
    "del df_customer\n",
    "\n"
   ]
  },
  {
   "cell_type": "code",
   "execution_count": 13,
   "id": "ae9f1bea",
   "metadata": {},
   "outputs": [
    {
     "name": "stdout",
     "output_type": "stream",
     "text": [
      "==========================\n",
      "2024-08-05 22:01:54.141409\n",
      "==========================\n",
      "svmem(total=16756752384, available=9268568064, percent=44.7, used=7488184320, free=9268568064)\n",
      "==========================\n"
     ]
    }
   ],
   "source": [
    "print('==========================')\n",
    "now = datetime.now()\n",
    "print(now)\n",
    "print('==========================')\n",
    "print(psutil.virtual_memory())\n",
    "print('==========================')"
   ]
  },
  {
   "cell_type": "code",
   "execution_count": null,
   "id": "4ade3c3d",
   "metadata": {},
   "outputs": [],
   "source": []
  }
 ],
 "metadata": {
  "kernelspec": {
   "display_name": "Python 3 (ipykernel)",
   "language": "python",
   "name": "python3"
  },
  "language_info": {
   "codemirror_mode": {
    "name": "ipython",
    "version": 3
   },
   "file_extension": ".py",
   "mimetype": "text/x-python",
   "name": "python",
   "nbconvert_exporter": "python",
   "pygments_lexer": "ipython3",
   "version": "3.8.8"
  }
 },
 "nbformat": 4,
 "nbformat_minor": 5
}
