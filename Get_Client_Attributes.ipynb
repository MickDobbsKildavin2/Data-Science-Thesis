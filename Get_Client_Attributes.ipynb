{
 "cells": [
  {
   "cell_type": "markdown",
   "id": "a4c7540b",
   "metadata": {},
   "source": [
    "Import the libraries needed"
   ]
  },
  {
   "cell_type": "code",
   "execution_count": 1,
   "id": "96b7fd46",
   "metadata": {},
   "outputs": [
    {
     "name": "stderr",
     "output_type": "stream",
     "text": [
      "C:\\Users\\m033\\Anaconda3\\lib\\site-packages\\requests\\__init__.py:109: RequestsDependencyWarning: urllib3 (1.26.16) or chardet (3.0.0)/charset_normalizer (2.0.4) doesn't match a supported version!\n",
      "  warnings.warn(\n"
     ]
    }
   ],
   "source": [
    "import pandas as pd\n",
    "#from pandas.compat import StringIO\n",
    "from pandas.tseries.offsets import DateOffset\n",
    "\n",
    "from datetime import datetime\n",
    "import psutil\n",
    "\n",
    "import numpy as np\n",
    "import os\n",
    "import pyodbc\n",
    "pyodbc.drivers()\n",
    "\n",
    "import csv\n",
    "\n",
    "from sklearn.preprocessing import StandardScaler\n",
    "import seaborn as sns\n",
    "\n",
    "pd.options.display.max_rows = 1000\n",
    "\n",
    "# For the Yahoo Finance api\n",
    "from pandas_datareader import data as pdr\n",
    "import yfinance as yf\n",
    "yf.pdr_override() \n"
   ]
  },
  {
   "cell_type": "markdown",
   "id": "a42969f9",
   "metadata": {},
   "source": [
    "### Database connections and SQL to retrieve the various data needed."
   ]
  },
  {
   "cell_type": "code",
   "execution_count": 2,
   "id": "b616bb0f",
   "metadata": {},
   "outputs": [
    {
     "name": "stdout",
     "output_type": "stream",
     "text": [
      "==========================\n",
      "2024-08-14 17:57:05.950433\n",
      "==========================\n",
      "svmem(total=16756752384, available=4684972032, percent=72.0, used=12071780352, free=4684972032)\n",
      "==========================\n"
     ]
    },
    {
     "data": {
      "text/plain": [
       "'C:\\\\Users\\\\m033\\\\OneDrive - GWLE\\\\Documents\\\\GitHub\\\\Data-Science-Thesis'"
      ]
     },
     "execution_count": 2,
     "metadata": {},
     "output_type": "execute_result"
    }
   ],
   "source": [
    "SQL_server = 'xxx\\yyy'\n",
    "Reporting_database = 'zzz'\n",
    "SQL_server = 'WINPRDAI1572\\CLESQLDW'\n",
    "Reporting_database = 'CLE_Reporting'\n",
    "Reference_Data_database = 'CLE_Reference_Data'\n",
    "\n",
    "pd.set_option('max_row', None)\n",
    "#pd.options.display.max_rows = 1000\n",
    "\n",
    "# Set a value for the home folder.\n",
    "home_folder = \".\"\n",
    "\n",
    "# Set values for the various paths.\n",
    "input_path = home_folder + \"\\data\"\n",
    "external_data = home_folder + \"\\external_data\"\n",
    "\n",
    "\n",
    "print('==========================')\n",
    "now = datetime.now()\n",
    "print(now)\n",
    "print('==========================')\n",
    "print(psutil.virtual_memory())\n",
    "print('==========================')\n",
    "os.path.abspath(os.getcwd())"
   ]
  },
  {
   "cell_type": "markdown",
   "id": "45824292",
   "metadata": {},
   "source": [
    "# 1. Get supplementary client features.\n",
    "\n",
    "  -  Identified in Lit Review.# 1. Read back the population with switches data."
   ]
  },
  {
   "cell_type": "code",
   "execution_count": 3,
   "id": "9eb0a436",
   "metadata": {},
   "outputs": [
    {
     "name": "stdout",
     "output_type": "stream",
     "text": [
      "137724\n",
      "2024-08-14 17:57:10.027516\n",
      "==========================\n",
      "Policy_Number          object\n",
      "RiskCommDt             object\n",
      "VIPType                 int64\n",
      "Nationality            object\n",
      "IsSmoker                int64\n",
      "PoliticallyExposed      int64\n",
      "BirthPlace             object\n",
      "AddressPostcode        object\n",
      "Gender                  int64\n",
      "MaritalStatus           int64\n",
      "PensionDisability     float64\n",
      "WOPDisability         float64\n",
      "AddressCity            object\n",
      "DOB                    object\n",
      "PartnerType            object\n",
      "EUSanctioned             bool\n",
      "AddressDistrict        object\n",
      "dtype: object\n"
     ]
    }
   ],
   "source": [
    "# READ IN directly from DW\n",
    "def customer_data(server, database):\n",
    "    conn = pyodbc.connect(\n",
    "         'DRIVER={ODBC Driver 17 for SQL Server};'\n",
    "         'SERVER='+server+';'\n",
    "         'DATABASE='+database+';'\n",
    "         'Trusted_Connection=yes;')\n",
    "  \n",
    "    query = \"\"\"SELECT pol.Policy_Number\n",
    "      ,pol.Risk_Commencement_Date AS RiskCommDt\n",
    "--      ,pol.Cover_End_Date AS CoverEndDt\n",
    "      ,pa.VIP_Type_Id          AS VIPType\n",
    "      ,pa.Nationality_Code     AS Nationality\n",
    "      ,CASE WHEN pa.Is_Smoker = 'True' THEN 1\n",
    "            ELSE 0 \n",
    "       END as IsSmoker\n",
    "      ,pa.Politically_Exposed_Id AS PoliticallyExposed\n",
    "      ,pa.Birth_Place               As BirthPlace\n",
    "      ,a.Postcode                   AS AddressPostcode\n",
    "\t  ,pa.Sex_Id                    AS Gender\n",
    "\t  ,pa.Marital_Status_Id         AS MaritalStatus\n",
    "\t  ,pla.Pension_Disability_Level AS PensionDisability\n",
    "\t  ,pla.WOP_Disability_Level     AS WOPDisability\n",
    "      ,a.City                       AS AddressCity\n",
    "\t  ,pa.Date_Of_Birth             AS DOB\n",
    "--      ,DATEDIFF(month, GETDATE(),pol.Cover_End_Date) AS TermRemainingMths\n",
    "--      ,DATEDIFF(month, GETDATE(),pol.Cover_End_Date) AS TermRemainingMths\n",
    "      ,pa.Partner_Type_De           AS PartnerType\n",
    "      ,pa.Is_EU_Sanctioned          AS EUSanctioned\n",
    "      ,a.District                   As AddressDistrict\n",
    "FROM CLT_Policy pol,\n",
    "\t\t CLT_Product prd,\n",
    "\t\t CLT_Policy_Life_Assured pla,\n",
    "\t  \t CLT_Partner pa,\n",
    "\t\t CLT_Address a\n",
    "WHERE prd.Product_Id = pol.Product_Id\n",
    "AND   pla.Policy_Id = pol.Policy_Id\n",
    "AND   pol.Policy_id = pla.Policy_Id\n",
    "AND   pla.Partner_Id = pa.Partner_Id\n",
    "AND   pa.Partner_Number = a.Partner_Number\n",
    "AND   prd.Product_Code IN ('FKP_','GNPP','GNRP','XRPP');\"\"\"    \n",
    "    \n",
    "    \n",
    "    return pd.read_sql(query, conn)\n",
    "\n",
    "df_customer = customer_data(SQL_server, Reporting_database)\n",
    "\n",
    "# Types and row count\n",
    "# print stats.\n",
    "print(len(df_customer.index))\n",
    "now = datetime.now()\n",
    "print(now)\n",
    "print('==========================')\n",
    "\n",
    "print(df_customer.dtypes)\n",
    "\n",
    "# No displays to protect PII data\n",
    "#df_customer.head(5)"
   ]
  },
  {
   "cell_type": "markdown",
   "id": "99e2ac19",
   "metadata": {},
   "source": [
    "## Drop obsolete or repeated features.\n",
    "\n",
    "## Check for nulls"
   ]
  },
  {
   "cell_type": "code",
   "execution_count": 4,
   "id": "530bb5be",
   "metadata": {},
   "outputs": [
    {
     "data": {
      "text/plain": [
       "Policy_Number          object\n",
       "RiskCommDt             object\n",
       "VIPType                 int64\n",
       "Nationality            object\n",
       "IsSmoker                int64\n",
       "PoliticallyExposed      int64\n",
       "BirthPlace             object\n",
       "AddressPostcode        object\n",
       "Gender                  int64\n",
       "MaritalStatus           int64\n",
       "PensionDisability     float64\n",
       "WOPDisability         float64\n",
       "AddressCity            object\n",
       "DOB                    object\n",
       "PartnerType            object\n",
       "EUSanctioned             bool\n",
       "AddressDistrict        object\n",
       "dtype: object"
      ]
     },
     "execution_count": 4,
     "metadata": {},
     "output_type": "execute_result"
    }
   ],
   "source": [
    "df_customer.dtypes"
   ]
  },
  {
   "cell_type": "code",
   "execution_count": 5,
   "id": "5a74a891",
   "metadata": {},
   "outputs": [
    {
     "data": {
      "text/plain": [
       "Policy_Number         False\n",
       "RiskCommDt            False\n",
       "VIPType               False\n",
       "Nationality           False\n",
       "IsSmoker              False\n",
       "PoliticallyExposed    False\n",
       "BirthPlace            False\n",
       "AddressPostcode       False\n",
       "Gender                False\n",
       "MaritalStatus         False\n",
       "PensionDisability      True\n",
       "WOPDisability          True\n",
       "AddressCity           False\n",
       "DOB                    True\n",
       "PartnerType           False\n",
       "EUSanctioned          False\n",
       "AddressDistrict       False\n",
       "dtype: bool"
      ]
     },
     "execution_count": 5,
     "metadata": {},
     "output_type": "execute_result"
    }
   ],
   "source": [
    "df_customer.isna().any()"
   ]
  },
  {
   "cell_type": "markdown",
   "id": "e1998d38",
   "metadata": {},
   "source": [
    "## Replace any nulls before checking the distributions of values for each column."
   ]
  },
  {
   "cell_type": "code",
   "execution_count": 6,
   "id": "dd3d27ef",
   "metadata": {},
   "outputs": [],
   "source": [
    "df_customer['PensionDisability'] = df_customer['PensionDisability'].fillna(0).apply(np.int64)\n",
    "df_customer['WOPDisability'] = df_customer['WOPDisability'].fillna(0).apply(np.int64)\n"
   ]
  },
  {
   "cell_type": "markdown",
   "id": "fa0e14a5",
   "metadata": {},
   "source": [
    "## Set the Postcode to int to facilitate the join."
   ]
  },
  {
   "cell_type": "code",
   "execution_count": 7,
   "id": "b7fda3c3",
   "metadata": {},
   "outputs": [
    {
     "data": {
      "text/plain": [
       "Policy_Number         object\n",
       "RiskCommDt            object\n",
       "VIPType                int64\n",
       "Nationality           object\n",
       "IsSmoker               int64\n",
       "PoliticallyExposed     int64\n",
       "BirthPlace            object\n",
       "AddressPostcode        int32\n",
       "Gender                 int64\n",
       "MaritalStatus          int64\n",
       "PensionDisability      int64\n",
       "WOPDisability          int64\n",
       "AddressCity           object\n",
       "DOB                   object\n",
       "PartnerType           object\n",
       "EUSanctioned            bool\n",
       "AddressDistrict       object\n",
       "dtype: object"
      ]
     },
     "execution_count": 7,
     "metadata": {},
     "output_type": "execute_result"
    }
   ],
   "source": [
    "df_customer['AddressPostcode'] = (\n",
    "    pd.to_numeric(df_customer['AddressPostcode'],\n",
    "                  errors='coerce')\n",
    "      .fillna(0)\n",
    "    )\n",
    "df_customer['AddressPostcode'] = df_customer['AddressPostcode'].astype(int)\n",
    "df_customer.dtypes"
   ]
  },
  {
   "cell_type": "markdown",
   "id": "249a6e38",
   "metadata": {},
   "source": [
    "# Read in the postcode data."
   ]
  },
  {
   "cell_type": "code",
   "execution_count": 8,
   "id": "63ace8dc",
   "metadata": {},
   "outputs": [
    {
     "name": "stdout",
     "output_type": "stream",
     "text": [
      "Postal_Code          int32\n",
      "Postal_Code_Name    object\n",
      "District            object\n",
      "State               object\n",
      "dtype: object\n"
     ]
    }
   ],
   "source": [
    "# giving directory name\n",
    "filename = external_data + '\\Postcode_State_Metadata.xlsx'\n",
    "\n",
    "#df_Postcode = pd.read_excel(filename,sheet_name='Tabelle1')\n",
    "df_Postcode = pd.read_csv(filename)\n",
    "df_Postcode['Postal_Code'] = df_Postcode['Postal_Code'].astype(int)\n",
    "\n",
    "print(df_Postcode.dtypes)\n",
    "\n",
    "# No displays to protect PII data\n",
    "#df_Postcode.head(2)"
   ]
  },
  {
   "cell_type": "markdown",
   "id": "71b4d474",
   "metadata": {},
   "source": [
    "# Merge the address and the external postcode data."
   ]
  },
  {
   "cell_type": "code",
   "execution_count": 9,
   "id": "12f9eda5",
   "metadata": {},
   "outputs": [
    {
     "name": "stdout",
     "output_type": "stream",
     "text": [
      "==========================\n",
      "2024-08-14 17:57:11.112712\n",
      "==========================\n",
      "svmem(total=16756752384, available=4574580736, percent=72.7, used=12182171648, free=4574580736)\n",
      "==========================\n"
     ]
    }
   ],
   "source": [
    "# Left Join the list of campaign contract numbers to the main dataset.\n",
    "df_customer = pd.merge(df_customer, df_Postcode, left_on = ['AddressPostcode'], right_on = ['Postal_Code'] , how = 'left')\n",
    "\n",
    "print('==========================')\n",
    "now = datetime.now()\n",
    "print(now)\n",
    "print('==========================')\n",
    "print(psutil.virtual_memory())\n",
    "print('==========================')\n",
    "\n",
    "# No displays to protect PII data\n",
    "#df_customer.head(5)"
   ]
  },
  {
   "cell_type": "markdown",
   "id": "a2c0e37f",
   "metadata": {},
   "source": [
    "# Merge in the sinus milieus data."
   ]
  },
  {
   "cell_type": "code",
   "execution_count": 10,
   "id": "665e7ae4",
   "metadata": {},
   "outputs": [
    {
     "name": "stdout",
     "output_type": "stream",
     "text": [
      "CONTRACT_NUMBER                 object\n",
      "DATA_VERSION                   float64\n",
      "POLICY_NUMBER                   object\n",
      "VN_MILIEU_CODE                  object\n",
      "VP_MILIEU_CODE                  object\n",
      "VN_TARGET_GROUP_CODE            object\n",
      "VP_TARGET_GROUP_CODE            object\n",
      "VN_MILIEU_DESCRIPTION           object\n",
      "VN_TARGET_GROUP_DESCRIPTION     object\n",
      "VP_MILIEU_DESCRIPTION           object\n",
      "VP_TARGET_GROUP_DESCRIPTION     object\n",
      "dtype: object\n"
     ]
    }
   ],
   "source": [
    "# giving directory name\n",
    "filename = external_data + '\\sinus_milieu.csv'\n",
    "\n",
    "\n",
    "df_Sinus_Milieus = pd.read_csv(filename)\n",
    "\n",
    "print(df_Sinus_Milieus.dtypes)\n",
    "\n",
    "# No displays to protect PII data\n",
    "#df_Sinus_Milieus.head(2)"
   ]
  },
  {
   "cell_type": "markdown",
   "id": "2af32f5f",
   "metadata": {},
   "source": [
    "# Merge in the Sinus data."
   ]
  },
  {
   "cell_type": "code",
   "execution_count": 11,
   "id": "9102998b",
   "metadata": {},
   "outputs": [
    {
     "name": "stdout",
     "output_type": "stream",
     "text": [
      "==========================\n",
      "2024-08-14 17:57:11.976745\n",
      "==========================\n",
      "svmem(total=16756752384, available=4552318976, percent=72.8, used=12204433408, free=4552318976)\n",
      "==========================\n",
      "Policy_Number                   object\n",
      "RiskCommDt                      object\n",
      "VIPType                          int64\n",
      "Nationality                     object\n",
      "IsSmoker                         int64\n",
      "PoliticallyExposed               int64\n",
      "BirthPlace                      object\n",
      "AddressPostcode                  int32\n",
      "Gender                           int64\n",
      "MaritalStatus                    int64\n",
      "PensionDisability                int64\n",
      "WOPDisability                    int64\n",
      "AddressCity                     object\n",
      "DOB                             object\n",
      "PartnerType                     object\n",
      "EUSanctioned                      bool\n",
      "AddressDistrict                 object\n",
      "Postal_Code                    float64\n",
      "Postal_Code_Name                object\n",
      "District                        object\n",
      "State                           object\n",
      "CONTRACT_NUMBER                 object\n",
      "DATA_VERSION                   float64\n",
      "POLICY_NUMBER                   object\n",
      "VN_MILIEU_CODE                  object\n",
      "VP_MILIEU_CODE                  object\n",
      "VN_TARGET_GROUP_CODE            object\n",
      "VP_TARGET_GROUP_CODE            object\n",
      "VN_MILIEU_DESCRIPTION           object\n",
      "VN_TARGET_GROUP_DESCRIPTION     object\n",
      "VP_MILIEU_DESCRIPTION           object\n",
      "VP_TARGET_GROUP_DESCRIPTION     object\n",
      "dtype: object\n"
     ]
    }
   ],
   "source": [
    "df_customer = pd.merge(df_customer, df_Sinus_Milieus, left_on = ['Policy_Number'], right_on = ['CONTRACT_NUMBER'] , how = 'left') \n",
    "\n",
    "print('==========================')\n",
    "now = datetime.now()\n",
    "print(now)\n",
    "print('==========================')\n",
    "print(psutil.virtual_memory())\n",
    "print('==========================')\n",
    "\n",
    "print(df_customer.dtypes)\n",
    "\n",
    "\n",
    "# No displays to protect PII data\n",
    "#df_customer.head(5)"
   ]
  },
  {
   "cell_type": "markdown",
   "id": "758164a6",
   "metadata": {},
   "source": []
  },
  {
   "cell_type": "code",
   "execution_count": null,
   "id": "edda30d7",
   "metadata": {},
   "outputs": [],
   "source": []
  },
  {
   "cell_type": "markdown",
   "id": "7c10c930",
   "metadata": {},
   "source": [
    "## Drop all non predictive features and write to Excel"
   ]
  },
  {
   "cell_type": "code",
   "execution_count": 12,
   "id": "eec5ec32",
   "metadata": {},
   "outputs": [
    {
     "name": "stderr",
     "output_type": "stream",
     "text": [
      "C:\\Users\\m033\\Anaconda3\\lib\\site-packages\\pandas\\core\\internals\\blocks.py:2106: RuntimeWarning: invalid value encountered in cast\n",
      "  values = values.astype(str)\n"
     ]
    }
   ],
   "source": [
    "df_customer = df_customer.drop(['AddressPostcode','CONTRACT_NUMBER'],axis=1)\n",
    "\n",
    "# Write out to a comma separated values file.\n",
    "\n",
    "# giving directory name\n",
    "filename = input_path + '\\Client_data.csv'\n",
    "df_customer.to_csv(filename, encoding='utf-8', index=False)        \n",
    "\n",
    "# No displays to protect PII data\n",
    "#df_customer.head(10)"
   ]
  },
  {
   "cell_type": "code",
   "execution_count": 13,
   "id": "c6b21368",
   "metadata": {},
   "outputs": [
    {
     "data": {
      "text/plain": [
       "['df_Postcode', 'df_Sinus_Milieus', 'df_customer']"
      ]
     },
     "execution_count": 13,
     "metadata": {},
     "output_type": "execute_result"
    }
   ],
   "source": [
    "%who_ls DataFrame "
   ]
  },
  {
   "cell_type": "code",
   "execution_count": 14,
   "id": "d82e8059",
   "metadata": {},
   "outputs": [],
   "source": [
    "del df_Postcode\n",
    "del df_Sinus_Milieus\n",
    "del df_customer\n",
    "\n"
   ]
  },
  {
   "cell_type": "code",
   "execution_count": 15,
   "id": "ae9f1bea",
   "metadata": {},
   "outputs": [
    {
     "name": "stdout",
     "output_type": "stream",
     "text": [
      "==========================\n",
      "2024-08-14 17:57:14.680309\n",
      "==========================\n",
      "svmem(total=16756752384, available=4627718144, percent=72.4, used=12129034240, free=4627718144)\n",
      "==========================\n"
     ]
    }
   ],
   "source": [
    "print('==========================')\n",
    "now = datetime.now()\n",
    "print(now)\n",
    "print('==========================')\n",
    "print(psutil.virtual_memory())\n",
    "print('==========================')"
   ]
  },
  {
   "cell_type": "code",
   "execution_count": null,
   "id": "4ade3c3d",
   "metadata": {},
   "outputs": [],
   "source": []
  }
 ],
 "metadata": {
  "kernelspec": {
   "display_name": "Python 3 (ipykernel)",
   "language": "python",
   "name": "python3"
  },
  "language_info": {
   "codemirror_mode": {
    "name": "ipython",
    "version": 3
   },
   "file_extension": ".py",
   "mimetype": "text/x-python",
   "name": "python",
   "nbconvert_exporter": "python",
   "pygments_lexer": "ipython3",
   "version": "3.8.8"
  }
 },
 "nbformat": 4,
 "nbformat_minor": 5
}
