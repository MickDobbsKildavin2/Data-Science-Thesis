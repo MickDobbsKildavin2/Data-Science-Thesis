{
 "cells": [
  {
   "cell_type": "markdown",
   "id": "a4c7540b",
   "metadata": {},
   "source": [
    "Import the libraries needed"
   ]
  },
  {
   "cell_type": "code",
   "execution_count": 1,
   "id": "96b7fd46",
   "metadata": {},
   "outputs": [
    {
     "name": "stderr",
     "output_type": "stream",
     "text": [
      "C:\\Users\\m033\\Anaconda3\\lib\\site-packages\\requests\\__init__.py:109: RequestsDependencyWarning: urllib3 (1.26.16) or chardet (3.0.0)/charset_normalizer (2.0.4) doesn't match a supported version!\n",
      "  warnings.warn(\n"
     ]
    }
   ],
   "source": [
    "import pandas as pd\n",
    "import numpy as np\n",
    "import os\n",
    "import pyodbc\n",
    "pyodbc.drivers()\n",
    "\n",
    "from datetime import datetime\n",
    "import psutil\n",
    "\n",
    "# For the Yahoo Finance api\n",
    "from pandas_datareader import data as pdr\n",
    "import yfinance as yf\n",
    "yf.pdr_override() # <== that's all it takes :-)"
   ]
  },
  {
   "cell_type": "markdown",
   "id": "b0328df7",
   "metadata": {},
   "source": [
    "Accessing the legacy Oracle database through a SQL Server linked server.  This is to cut down on intergration points.  The recent switch data will exist on SQl Server and a linked server exists on the same instance to the legacy Oracle data."
   ]
  },
  {
   "cell_type": "markdown",
   "id": "a42969f9",
   "metadata": {},
   "source": [
    "### Database connections and SQL to retrieve the various data needed."
   ]
  },
  {
   "cell_type": "code",
   "execution_count": 2,
   "id": "b616bb0f",
   "metadata": {},
   "outputs": [
    {
     "name": "stdout",
     "output_type": "stream",
     "text": [
      "==========================\n",
      "2024-08-05 22:07:42.160814\n",
      "==========================\n",
      "svmem(total=16756752384, available=8681152512, percent=48.2, used=8075599872, free=8681152512)\n",
      "==========================\n",
      ".\\data\\iSuite_Product_list.csv\n"
     ]
    }
   ],
   "source": [
    "SQL_server = 'xxx\\yyy'\n",
    "Reporting_database = 'zzz'\n",
    "\n",
    "pd.set_option('max_row', None)\n",
    "\n",
    "# Set a value for the home folder.\n",
    "home_folder = \".\"\n",
    "\n",
    "# Set values for the various paths.\n",
    "input_path = home_folder + \"\\data\"\n",
    "\n",
    "print('==========================')\n",
    "now = datetime.now()\n",
    "print(now)\n",
    "print('==========================')\n",
    "print(psutil.virtual_memory())\n",
    "print('==========================')\n",
    "\n",
    "filename = input_path + \"\\iSuite_Product_list.csv\"\n",
    "print(filename)"
   ]
  },
  {
   "cell_type": "markdown",
   "id": "ff676320",
   "metadata": {},
   "source": [
    "# 1. Get all iSuite policies that can have switchable funds.\n",
    "## - Start by determining what's the population of all policies that can possibly have a switch.\n",
    "##  - Get a list of products that have had a switch at some point.  \n",
    "## - This allows us to look for a list of all policies that can ever have, or may have had, a fund switch.\n",
    "## - This determines the list of products that allows us to determine the full switchable population at any time by identifying policies in force for any of the products found."
   ]
  },
  {
   "cell_type": "code",
   "execution_count": 3,
   "id": "d38fa783",
   "metadata": {},
   "outputs": [
    {
     "ename": "Error",
     "evalue": "('HY000', '[HY000] [Microsoft][ODBC Driver 17 for SQL Server]SQL Server Network Interfaces: The system cannot contact a domain controller to service the authentication request. Please try again later.\\r\\n (-2146892976) (SQLDriverConnect); [HY000] [Microsoft][ODBC Driver 17 for SQL Server]Cannot generate SSPI context (-2146892976); [HY000] [Microsoft][ODBC Driver 17 for SQL Server]SQL Server Network Interfaces: The system cannot contact a domain controller to service the authentication request. Please try again later.\\r\\n (-2146892976); [HY000] [Microsoft][ODBC Driver 17 for SQL Server]Cannot generate SSPI context (-2146892976)')",
     "output_type": "error",
     "traceback": [
      "\u001b[1;31m---------------------------------------------------------------------------\u001b[0m",
      "\u001b[1;31mError\u001b[0m                                     Traceback (most recent call last)",
      "Cell \u001b[1;32mIn[3], line 21\u001b[0m\n\u001b[0;32m     17\u001b[0m     \u001b[38;5;28;01mreturn\u001b[39;00m pd\u001b[38;5;241m.\u001b[39mread_sql(query, conn)\n\u001b[0;32m     19\u001b[0m \u001b[38;5;66;03m# Call the SQL proc to get a list of distinct iSuite product codes, \u001b[39;00m\n\u001b[0;32m     20\u001b[0m \u001b[38;5;66;03m# of products that have ever had a switch.\u001b[39;00m\n\u001b[1;32m---> 21\u001b[0m df_iSuite_Product_list \u001b[38;5;241m=\u001b[39m \u001b[43miSuite_Product_list\u001b[49m\u001b[43m(\u001b[49m\u001b[43mSQL_server\u001b[49m\u001b[43m,\u001b[49m\u001b[43m \u001b[49m\u001b[43mReporting_database\u001b[49m\u001b[43m)\u001b[49m\n\u001b[0;32m     23\u001b[0m \u001b[38;5;66;03m# Strip all blanks.\u001b[39;00m\n\u001b[0;32m     24\u001b[0m df_iSuite_Product_list \u001b[38;5;241m=\u001b[39m df_iSuite_Product_list\u001b[38;5;241m.\u001b[39mapplymap(\u001b[38;5;28;01mlambda\u001b[39;00m x: \u001b[38;5;124m\"\u001b[39m\u001b[38;5;124m \u001b[39m\u001b[38;5;124m\"\u001b[39m\u001b[38;5;241m.\u001b[39mjoin(x\u001b[38;5;241m.\u001b[39msplit()) \u001b[38;5;28;01mif\u001b[39;00m \u001b[38;5;28misinstance\u001b[39m(x, \u001b[38;5;28mstr\u001b[39m) \u001b[38;5;28;01melse\u001b[39;00m x)\n",
      "Cell \u001b[1;32mIn[3], line 3\u001b[0m, in \u001b[0;36miSuite_Product_list\u001b[1;34m(server, database)\u001b[0m\n\u001b[0;32m      2\u001b[0m \u001b[38;5;28;01mdef\u001b[39;00m \u001b[38;5;21miSuite_Product_list\u001b[39m(server, database):\n\u001b[1;32m----> 3\u001b[0m     conn \u001b[38;5;241m=\u001b[39m \u001b[43mpyodbc\u001b[49m\u001b[38;5;241;43m.\u001b[39;49m\u001b[43mconnect\u001b[49m\u001b[43m(\u001b[49m\n\u001b[0;32m      4\u001b[0m \u001b[43m         \u001b[49m\u001b[38;5;124;43m'\u001b[39;49m\u001b[38;5;124;43mDRIVER=\u001b[39;49m\u001b[38;5;124;43m{\u001b[39;49m\u001b[38;5;124;43mODBC Driver 17 for SQL Server};\u001b[39;49m\u001b[38;5;124;43m'\u001b[39;49m\n\u001b[0;32m      5\u001b[0m \u001b[43m         \u001b[49m\u001b[38;5;124;43m'\u001b[39;49m\u001b[38;5;124;43mSERVER=\u001b[39;49m\u001b[38;5;124;43m'\u001b[39;49m\u001b[38;5;241;43m+\u001b[39;49m\u001b[43mserver\u001b[49m\u001b[38;5;241;43m+\u001b[39;49m\u001b[38;5;124;43m'\u001b[39;49m\u001b[38;5;124;43m;\u001b[39;49m\u001b[38;5;124;43m'\u001b[39;49m\n\u001b[0;32m      6\u001b[0m \u001b[43m         \u001b[49m\u001b[38;5;124;43m'\u001b[39;49m\u001b[38;5;124;43mDATABASE=\u001b[39;49m\u001b[38;5;124;43m'\u001b[39;49m\u001b[38;5;241;43m+\u001b[39;49m\u001b[43mdatabase\u001b[49m\u001b[38;5;241;43m+\u001b[39;49m\u001b[38;5;124;43m'\u001b[39;49m\u001b[38;5;124;43m;\u001b[39;49m\u001b[38;5;124;43m'\u001b[39;49m\n\u001b[0;32m      7\u001b[0m \u001b[43m         \u001b[49m\u001b[38;5;124;43m'\u001b[39;49m\u001b[38;5;124;43mTrusted_Connection=yes;\u001b[39;49m\u001b[38;5;124;43m'\u001b[39;49m\u001b[43m)\u001b[49m\n\u001b[0;32m      9\u001b[0m     query \u001b[38;5;241m=\u001b[39m \u001b[38;5;124m\"\"\"\u001b[39m\u001b[38;5;124mSELECT DISTINCT pol.Product_Code\u001b[39m\n\u001b[0;32m     10\u001b[0m \u001b[38;5;124m\t\t    FROM [CLE_Reporting].[user].[CLV_GBS_Unit_Transactions] UT\u001b[39m\n\u001b[0;32m     11\u001b[0m \u001b[38;5;124m\t        INNER JOIN CLE_Reporting.[user].CLV_Fund F ON F.Fund_Code = UT.[Fund_Code]\u001b[39m\n\u001b[1;32m   (...)\u001b[0m\n\u001b[0;32m     14\u001b[0m \u001b[38;5;124m\t\t\tAND\t((F.Asset_Type = \u001b[39m\u001b[38;5;124m'\u001b[39m\u001b[38;5;124mUWP-Fonds\u001b[39m\u001b[38;5;124m'\u001b[39m\u001b[38;5;124m AND UWP_Type_Indicator = \u001b[39m\u001b[38;5;124m'\u001b[39m\u001b[38;5;124mS\u001b[39m\u001b[38;5;124m'\u001b[39m\u001b[38;5;124m) OR (F.Asset_Type <> \u001b[39m\u001b[38;5;124m'\u001b[39m\u001b[38;5;124mUWP-Fonds\u001b[39m\u001b[38;5;124m'\u001b[39m\u001b[38;5;124m AND UWP_Type_Indicator = \u001b[39m\u001b[38;5;124m'\u001b[39m\u001b[38;5;124mA\u001b[39m\u001b[38;5;124m'\u001b[39m\u001b[38;5;124m)) \u001b[39m\n\u001b[0;32m     15\u001b[0m \u001b[38;5;124m\t\t\tAND Reverse_Indicator = \u001b[39m\u001b[38;5;124m'\u001b[39m\u001b[38;5;124mN\u001b[39m\u001b[38;5;124m'\u001b[39m\u001b[38;5;124m\"\"\"\u001b[39m    \n\u001b[0;32m     17\u001b[0m     \u001b[38;5;28;01mreturn\u001b[39;00m pd\u001b[38;5;241m.\u001b[39mread_sql(query, conn)\n",
      "\u001b[1;31mError\u001b[0m: ('HY000', '[HY000] [Microsoft][ODBC Driver 17 for SQL Server]SQL Server Network Interfaces: The system cannot contact a domain controller to service the authentication request. Please try again later.\\r\\n (-2146892976) (SQLDriverConnect); [HY000] [Microsoft][ODBC Driver 17 for SQL Server]Cannot generate SSPI context (-2146892976); [HY000] [Microsoft][ODBC Driver 17 for SQL Server]SQL Server Network Interfaces: The system cannot contact a domain controller to service the authentication request. Please try again later.\\r\\n (-2146892976); [HY000] [Microsoft][ODBC Driver 17 for SQL Server]Cannot generate SSPI context (-2146892976)')"
     ]
    }
   ],
   "source": [
    "# READ IN directly from DW\n",
    "def iSuite_Product_list(server, database):\n",
    "    conn = pyodbc.connect(\n",
    "         'DRIVER={ODBC Driver 17 for SQL Server};'\n",
    "         'SERVER='+server+';'\n",
    "         'DATABASE='+database+';'\n",
    "         'Trusted_Connection=yes;')\n",
    "  \n",
    "    query = \"\"\"SELECT DISTINCT pol.Product_Code\n",
    "\t\t    FROM [CLE_Reporting].[user].[CLV_GBS_Unit_Transactions] UT\n",
    "\t        INNER JOIN CLE_Reporting.[user].CLV_Fund F ON F.Fund_Code = UT.[Fund_Code]\n",
    "\t        INNER JOIN CLE_Reporting.dbo.CLT_Policy pol ON pol.Policy_Number = UT.Policy_Number\n",
    "\t\t\tWHERE Transaction_Type = 'Funds Switch/Shift'\n",
    "\t\t\tAND\t((F.Asset_Type = 'UWP-Fonds' AND UWP_Type_Indicator = 'S') OR (F.Asset_Type <> 'UWP-Fonds' AND UWP_Type_Indicator = 'A')) \n",
    "\t\t\tAND Reverse_Indicator = 'N'\"\"\"    \n",
    "        \n",
    "    return pd.read_sql(query, conn)\n",
    "\n",
    "# Call the SQL proc to get a list of distinct iSuite product codes, \n",
    "# of products that have ever had a switch.\n",
    "df_iSuite_Product_list = iSuite_Product_list(SQL_server, Reporting_database)\n",
    "\n",
    "# Strip all blanks.\n",
    "df_iSuite_Product_list = df_iSuite_Product_list.applymap(lambda x: \" \".join(x.split()) if isinstance(x, str) else x)\n",
    "\n",
    "df_iSuite_Product_list.head(10)\n",
    "\n",
    "# Write out to a comma separated values file.\n",
    "filename = input_path + \"\\iSuite_Product_list.csv\"\n",
    "print(filename)\n",
    "\n",
    "df_iSuite_Product_list.to_csv(filename, encoding='utf-8', index=False)        \n",
    "\n",
    "# Turn off dislays to protect PII\n",
    "#df_iSuite_Product_list.head(5)"
   ]
  },
  {
   "cell_type": "markdown",
   "id": "44cb0049",
   "metadata": {},
   "source": [
    "# 2. Using the list of products which have had a switch, get details for all policies that can have switchable funds.\n",
    "## This is the population of policies that can possibly switch funds."
   ]
  },
  {
   "cell_type": "code",
   "execution_count": 4,
   "id": "a0429f29",
   "metadata": {},
   "outputs": [
    {
     "ename": "Error",
     "evalue": "('HY000', '[HY000] [Microsoft][ODBC Driver 17 for SQL Server]SQL Server Network Interfaces: The system cannot contact a domain controller to service the authentication request. Please try again later.\\r\\n (-2146892976) (SQLDriverConnect); [HY000] [Microsoft][ODBC Driver 17 for SQL Server]Cannot generate SSPI context (-2146892976); [HY000] [Microsoft][ODBC Driver 17 for SQL Server]SQL Server Network Interfaces: The system cannot contact a domain controller to service the authentication request. Please try again later.\\r\\n (-2146892976); [HY000] [Microsoft][ODBC Driver 17 for SQL Server]Cannot generate SSPI context (-2146892976)')",
     "output_type": "error",
     "traceback": [
      "\u001b[1;31m---------------------------------------------------------------------------\u001b[0m",
      "\u001b[1;31mError\u001b[0m                                     Traceback (most recent call last)",
      "Cell \u001b[1;32mIn[4], line 1\u001b[0m\n\u001b[1;32m----> 1\u001b[0m conn \u001b[38;5;241m=\u001b[39m \u001b[43mpyodbc\u001b[49m\u001b[38;5;241;43m.\u001b[39;49m\u001b[43mconnect\u001b[49m\u001b[43m(\u001b[49m\n\u001b[0;32m      2\u001b[0m \u001b[43m         \u001b[49m\u001b[38;5;124;43m'\u001b[39;49m\u001b[38;5;124;43mDRIVER=\u001b[39;49m\u001b[38;5;124;43m{\u001b[39;49m\u001b[38;5;124;43mODBC Driver 17 for SQL Server};\u001b[39;49m\u001b[38;5;124;43m'\u001b[39;49m\n\u001b[0;32m      3\u001b[0m \u001b[43m         \u001b[49m\u001b[38;5;124;43m'\u001b[39;49m\u001b[38;5;124;43mSERVER=\u001b[39;49m\u001b[38;5;124;43m'\u001b[39;49m\u001b[38;5;241;43m+\u001b[39;49m\u001b[43mSQL_server\u001b[49m\u001b[38;5;241;43m+\u001b[39;49m\u001b[38;5;124;43m'\u001b[39;49m\u001b[38;5;124;43m;\u001b[39;49m\u001b[38;5;124;43m'\u001b[39;49m\n\u001b[0;32m      4\u001b[0m \u001b[43m         \u001b[49m\u001b[38;5;124;43m'\u001b[39;49m\u001b[38;5;124;43mDATABASE=\u001b[39;49m\u001b[38;5;124;43m'\u001b[39;49m\u001b[38;5;241;43m+\u001b[39;49m\u001b[43mReporting_database\u001b[49m\u001b[38;5;241;43m+\u001b[39;49m\u001b[38;5;124;43m'\u001b[39;49m\u001b[38;5;124;43m;\u001b[39;49m\u001b[38;5;124;43m'\u001b[39;49m\n\u001b[0;32m      5\u001b[0m \u001b[43m         \u001b[49m\u001b[38;5;124;43m'\u001b[39;49m\u001b[38;5;124;43mTrusted_Connection=yes;\u001b[39;49m\u001b[38;5;124;43m'\u001b[39;49m\u001b[43m)\u001b[49m\n\u001b[0;32m      7\u001b[0m main_query \u001b[38;5;241m=\u001b[39m \u001b[38;5;124mf\u001b[39m\u001b[38;5;124m\"\"\"\u001b[39m\u001b[38;5;124mSELECT pol.Policy_Number         AS ContractNumber\u001b[39m\n\u001b[0;32m      8\u001b[0m \u001b[38;5;124m                       ,prd.Product_Category_Code AS ProdCat\u001b[39m\n\u001b[0;32m      9\u001b[0m \u001b[38;5;124m                       ,prd.Product_Code          AS ProdCode\u001b[39m\n\u001b[1;32m   (...)\u001b[0m\n\u001b[0;32m     20\u001b[0m \u001b[38;5;124m                                            \u001b[39m\u001b[38;5;124m'\u001b[39m\u001b[38;5;124mXRPP_2005V1\u001b[39m\u001b[38;5;124m'\u001b[39m\u001b[38;5;124m,\u001b[39m\u001b[38;5;124m'\u001b[39m\u001b[38;5;124mXRPP_2008V1\u001b[39m\u001b[38;5;124m'\u001b[39m\u001b[38;5;124m,\u001b[39m\u001b[38;5;124m'\u001b[39m\u001b[38;5;124mXRPP_2010V1\u001b[39m\u001b[38;5;124m'\u001b[39m\u001b[38;5;124m,\u001b[39m\u001b[38;5;124m'\u001b[39m\u001b[38;5;124mXRPP_2012V1\u001b[39m\u001b[38;5;124m'\u001b[39m\u001b[38;5;124m,\u001b[39m\u001b[38;5;124m'\u001b[39m\u001b[38;5;124mXRPP_2015V1\u001b[39m\u001b[38;5;124m'\u001b[39m\u001b[38;5;124m)\u001b[39m\n\u001b[0;32m     21\u001b[0m \u001b[38;5;124m                 ORDER BY psh.Snapshot_Date,pol.Policy_Number;\u001b[39m\u001b[38;5;124m\"\"\"\u001b[39m\n\u001b[0;32m     25\u001b[0m df_main \u001b[38;5;241m=\u001b[39m pd\u001b[38;5;241m.\u001b[39mread_sql(main_query, conn)\n",
      "\u001b[1;31mError\u001b[0m: ('HY000', '[HY000] [Microsoft][ODBC Driver 17 for SQL Server]SQL Server Network Interfaces: The system cannot contact a domain controller to service the authentication request. Please try again later.\\r\\n (-2146892976) (SQLDriverConnect); [HY000] [Microsoft][ODBC Driver 17 for SQL Server]Cannot generate SSPI context (-2146892976); [HY000] [Microsoft][ODBC Driver 17 for SQL Server]SQL Server Network Interfaces: The system cannot contact a domain controller to service the authentication request. Please try again later.\\r\\n (-2146892976); [HY000] [Microsoft][ODBC Driver 17 for SQL Server]Cannot generate SSPI context (-2146892976)')"
     ]
    }
   ],
   "source": [
    "conn = pyodbc.connect(\n",
    "         'DRIVER={ODBC Driver 17 for SQL Server};'\n",
    "         'SERVER='+SQL_server+';'\n",
    "         'DATABASE='+Reporting_database+';'\n",
    "         'Trusted_Connection=yes;')\n",
    "\n",
    "main_query = f\"\"\"SELECT pol.Policy_Number         AS ContractNumber\n",
    "                       ,prd.Product_Category_Code AS ProdCat\n",
    "                       ,prd.Product_Code          AS ProdCode\n",
    "                       ,psh.Policy_Status_Code    AS PolicyStatus\n",
    "                       ,pol.Cover_End_Date        AS CoverEndDt\n",
    "                       ,psh.Snapshot_Date         AS SnapshotDt\n",
    "                 FROM CLT_Policy pol\n",
    "                 INNER JOIN CLE_Reporting.dbo.CLT_Product prd ON prd.Product_Id = pol.Product_Id\n",
    "                 INNER JOIN CLT_Policy_Snapshot_Hist psh ON pol.Policy_Number = psh.Policy_Number \n",
    "                 WHERE prd.Product_Id = pol.Product_Id\n",
    "                 AND   prd.Product_Code IN ('FKP_2006V1','FKP_2006V2','FKP_2008V1','FKP_2010V1','FKP_2012V1','FKP_2017V1',\n",
    "                                            'GNPP_2016V1','GNPP_2017V1','GNPP_2022V1','GNPP_2023V1',\n",
    "                                            'GNRP_2008V1','GNRP_2010V1','GNRP_2012V1','GNRP_2017V1','GNRP_2022V1',\n",
    "                                            'XRPP_2005V1','XRPP_2008V1','XRPP_2010V1','XRPP_2012V1','XRPP_2015V1')\n",
    "                 ORDER BY psh.Snapshot_Date,pol.Policy_Number;\"\"\"\n",
    "\n",
    "\n",
    "\n",
    "df_main = pd.read_sql(main_query, conn)\n",
    "\n",
    "df_main['SnapshotDt'] = pd.to_datetime(df_main['SnapshotDt'])\n",
    "df_main['SnapshotYrMth'] = df_main['SnapshotDt'].dt.strftime('%Y%m')\n",
    "#df_main = df_main.drop(['SnapshotDt'],axis=1)\n",
    "\n",
    "# Types and row count\n",
    "print(len(df_main.index))\n",
    "print(df_main.dtypes)\n",
    "\n",
    "# Write out to a comma separated values file.\n",
    "filename = input_path + '\\Full_Population.csv'\n",
    "df_main.to_csv(filename, encoding='utf-8', index=False)        \n",
    "print(filename)\n",
    "\n",
    "# Turn off dislays to protect PII\n",
    "#df_main.head(10)"
   ]
  },
  {
   "cell_type": "markdown",
   "id": "5af5696e",
   "metadata": {},
   "source": [
    "# 3. Get the fund switch data."
   ]
  },
  {
   "cell_type": "markdown",
   "id": "4d22750a",
   "metadata": {},
   "source": [
    "## Get the Paxus fund switches¶"
   ]
  },
  {
   "cell_type": "code",
   "execution_count": 5,
   "id": "79a40335",
   "metadata": {},
   "outputs": [
    {
     "ename": "Error",
     "evalue": "('HY000', '[HY000] [Microsoft][ODBC Driver 17 for SQL Server]SQL Server Network Interfaces: The system cannot contact a domain controller to service the authentication request. Please try again later.\\r\\n (-2146892976) (SQLDriverConnect); [HY000] [Microsoft][ODBC Driver 17 for SQL Server]Cannot generate SSPI context (-2146892976); [HY000] [Microsoft][ODBC Driver 17 for SQL Server]SQL Server Network Interfaces: The system cannot contact a domain controller to service the authentication request. Please try again later.\\r\\n (-2146892976); [HY000] [Microsoft][ODBC Driver 17 for SQL Server]Cannot generate SSPI context (-2146892976)')",
     "output_type": "error",
     "traceback": [
      "\u001b[1;31m---------------------------------------------------------------------------\u001b[0m",
      "\u001b[1;31mError\u001b[0m                                     Traceback (most recent call last)",
      "Cell \u001b[1;32mIn[5], line 36\u001b[0m\n\u001b[0;32m     33\u001b[0m     \u001b[38;5;28;01mreturn\u001b[39;00m pd\u001b[38;5;241m.\u001b[39mread_sql(query, conn)\n\u001b[0;32m     35\u001b[0m \u001b[38;5;66;03m# Call the SQL process to retrieve the Paxus (old system) fund switch data.\u001b[39;00m\n\u001b[1;32m---> 36\u001b[0m df_All_Paxus_Switches \u001b[38;5;241m=\u001b[39m \u001b[43mGet_All_Paxus_Switches\u001b[49m\u001b[43m(\u001b[49m\u001b[43mSQL_server\u001b[49m\u001b[43m,\u001b[49m\u001b[43m \u001b[49m\u001b[43mReporting_database\u001b[49m\u001b[43m)\u001b[49m\n\u001b[0;32m     38\u001b[0m \u001b[38;5;66;03m# Types and row count\u001b[39;00m\n\u001b[0;32m     39\u001b[0m \u001b[38;5;28mprint\u001b[39m(\u001b[38;5;28mlen\u001b[39m(df_All_Paxus_Switches\u001b[38;5;241m.\u001b[39mindex))\n",
      "Cell \u001b[1;32mIn[5], line 3\u001b[0m, in \u001b[0;36mGet_All_Paxus_Switches\u001b[1;34m(server, database)\u001b[0m\n\u001b[0;32m      2\u001b[0m \u001b[38;5;28;01mdef\u001b[39;00m \u001b[38;5;21mGet_All_Paxus_Switches\u001b[39m(server, database):\n\u001b[1;32m----> 3\u001b[0m     conn \u001b[38;5;241m=\u001b[39m \u001b[43mpyodbc\u001b[49m\u001b[38;5;241;43m.\u001b[39;49m\u001b[43mconnect\u001b[49m\u001b[43m(\u001b[49m\n\u001b[0;32m      4\u001b[0m \u001b[43m         \u001b[49m\u001b[38;5;124;43m'\u001b[39;49m\u001b[38;5;124;43mDRIVER=\u001b[39;49m\u001b[38;5;124;43m{\u001b[39;49m\u001b[38;5;124;43mODBC Driver 17 for SQL Server};\u001b[39;49m\u001b[38;5;124;43m'\u001b[39;49m\n\u001b[0;32m      5\u001b[0m \u001b[43m         \u001b[49m\u001b[38;5;124;43m'\u001b[39;49m\u001b[38;5;124;43mSERVER=\u001b[39;49m\u001b[38;5;124;43m'\u001b[39;49m\u001b[38;5;241;43m+\u001b[39;49m\u001b[43mserver\u001b[49m\u001b[38;5;241;43m+\u001b[39;49m\u001b[38;5;124;43m'\u001b[39;49m\u001b[38;5;124;43m;\u001b[39;49m\u001b[38;5;124;43m'\u001b[39;49m\n\u001b[0;32m      6\u001b[0m \u001b[43m         \u001b[49m\u001b[38;5;124;43m'\u001b[39;49m\u001b[38;5;124;43mDATABASE=\u001b[39;49m\u001b[38;5;124;43m'\u001b[39;49m\u001b[38;5;241;43m+\u001b[39;49m\u001b[43mdatabase\u001b[49m\u001b[38;5;241;43m+\u001b[39;49m\u001b[38;5;124;43m'\u001b[39;49m\u001b[38;5;124;43m;\u001b[39;49m\u001b[38;5;124;43m'\u001b[39;49m\n\u001b[0;32m      7\u001b[0m \u001b[43m         \u001b[49m\u001b[38;5;124;43m'\u001b[39;49m\u001b[38;5;124;43mTrusted_Connection=yes;\u001b[39;49m\u001b[38;5;124;43m'\u001b[39;49m\n\u001b[0;32m      8\u001b[0m \u001b[43m         \u001b[49m\u001b[43m)\u001b[49m\n\u001b[0;32m     10\u001b[0m     query \u001b[38;5;241m=\u001b[39m \u001b[38;5;124m\"\"\"\u001b[39m\u001b[38;5;124mSELECT * FROM OPENQUERY(GERPDB,\u001b[39m\u001b[38;5;124m'\u001b[39m\n\u001b[0;32m     11\u001b[0m \u001b[38;5;124m    SELECT  p.policy            AS \u001b[39m\u001b[38;5;124m\"\u001b[39m\u001b[38;5;124mPOLICY_NUMBER\u001b[39m\u001b[38;5;124m\"\u001b[39m\u001b[38;5;124m,\u001b[39m\n\u001b[0;32m     12\u001b[0m \u001b[38;5;124m            u.fund              AS \u001b[39m\u001b[38;5;124m\"\u001b[39m\u001b[38;5;124mLEGACY_FUND_CODE\u001b[39m\u001b[38;5;124m\"\u001b[39m\u001b[38;5;124m,\u001b[39m\n\u001b[1;32m   (...)\u001b[0m\n\u001b[0;32m     29\u001b[0m \u001b[38;5;124m    order by PROC_DATE, p.policy, u.fund\u001b[39m\n\u001b[0;32m     30\u001b[0m \u001b[38;5;124m    \u001b[39m\u001b[38;5;124m'\u001b[39m\u001b[38;5;124m)\u001b[39m\u001b[38;5;124m\"\"\"\u001b[39m    \n\u001b[0;32m     33\u001b[0m     \u001b[38;5;28;01mreturn\u001b[39;00m pd\u001b[38;5;241m.\u001b[39mread_sql(query, conn)\n",
      "\u001b[1;31mError\u001b[0m: ('HY000', '[HY000] [Microsoft][ODBC Driver 17 for SQL Server]SQL Server Network Interfaces: The system cannot contact a domain controller to service the authentication request. Please try again later.\\r\\n (-2146892976) (SQLDriverConnect); [HY000] [Microsoft][ODBC Driver 17 for SQL Server]Cannot generate SSPI context (-2146892976); [HY000] [Microsoft][ODBC Driver 17 for SQL Server]SQL Server Network Interfaces: The system cannot contact a domain controller to service the authentication request. Please try again later.\\r\\n (-2146892976); [HY000] [Microsoft][ODBC Driver 17 for SQL Server]Cannot generate SSPI context (-2146892976)')"
     ]
    }
   ],
   "source": [
    "# READ IN directly from Paxus\n",
    "def Get_All_Paxus_Switches(server, database):\n",
    "    conn = pyodbc.connect(\n",
    "         'DRIVER={ODBC Driver 17 for SQL Server};'\n",
    "         'SERVER='+server+';'\n",
    "         'DATABASE='+database+';'\n",
    "         'Trusted_Connection=yes;'\n",
    "         )\n",
    "\n",
    "    query = \"\"\"SELECT * FROM OPENQUERY(GERPDB,'\n",
    "    SELECT  p.policy            AS \"POLICY_NUMBER\",\n",
    "            u.fund              AS \"LEGACY_FUND_CODE\",\n",
    "            p.cov_cobe          AS \"PRODUCT\",\n",
    "            to_date(u.proc_date,''YYYYMMDD'') AS \"PROCESSING_DATE\",\n",
    "            to_date(u.eff_date,''YYYYMMDD'')  AS \"EFFECTIVE_DATE\",\n",
    "            u.unit_type                       AS \"UNIT_TYPE\",\n",
    "            u.charge_type                     AS \"CHARGE_TYPE\",\n",
    "            u.units_posted_cash               AS \"CASH_VALUE\",\n",
    "            to_date(p.rcd,''YYYYMMDD'')       AS \"RISK_COMMENCEMENT_DATE\",\n",
    "            p.agent                             AS \"Servicing_Broker_Code\",\n",
    "            to_date(p.issued_date,''YYYYMMDD'') AS \"Issue_Date\",\n",
    "            to_date(''19000101'',''YYYYMMDD'')  AS \"Cover_End_Date\",\n",
    "            to_date(''19000101'',''YYYYMMDD'')  AS \"Anniversary_Date\",\n",
    "            ''P''                               AS \"Source\"\n",
    "    FROM GERPDBA.UNIT u,gerpdba.policy p \n",
    "    WHERE p.policy = u.policy \n",
    "    AND u.trans_code = ''P135'' \n",
    "    AND to_date(u.proc_date,''YYYYMMDD'') > ''2018-12-31''\n",
    "    order by PROC_DATE, p.policy, u.fund\n",
    "    ')\"\"\"    \n",
    "    \n",
    "    \n",
    "    return pd.read_sql(query, conn)\n",
    "\n",
    "# Call the SQL process to retrieve the Paxus (old system) fund switch data.\n",
    "df_All_Paxus_Switches = Get_All_Paxus_Switches(SQL_server, Reporting_database)\n",
    "\n",
    "# Types and row count\n",
    "print(len(df_All_Paxus_Switches.index))\n",
    "print(df_All_Paxus_Switches.dtypes)\n",
    "\n",
    "# Write out to a comma separated values file.\n",
    "filename = input_path + '\\All_Paxus_Switches.csv'\n",
    "df_All_Paxus_Switches.to_csv(filename, encoding='utf-8', index=False)        \n",
    "print(filename)\n",
    "\n",
    "# Turn off dislays to protect PII\n",
    "#df_All_Paxus_Switches.head(10)"
   ]
  },
  {
   "cell_type": "markdown",
   "id": "d4b25134",
   "metadata": {},
   "source": [
    "# 2. Get the iSuite fund switches."
   ]
  },
  {
   "cell_type": "code",
   "execution_count": 6,
   "id": "ab58a828",
   "metadata": {},
   "outputs": [
    {
     "ename": "Error",
     "evalue": "('HY000', '[HY000] [Microsoft][ODBC Driver 17 for SQL Server]SQL Server Network Interfaces: The system cannot contact a domain controller to service the authentication request. Please try again later.\\r\\n (-2146892976) (SQLDriverConnect); [HY000] [Microsoft][ODBC Driver 17 for SQL Server]Cannot generate SSPI context (-2146892976); [HY000] [Microsoft][ODBC Driver 17 for SQL Server]SQL Server Network Interfaces: The system cannot contact a domain controller to service the authentication request. Please try again later.\\r\\n (-2146892976); [HY000] [Microsoft][ODBC Driver 17 for SQL Server]Cannot generate SSPI context (-2146892976)')",
     "output_type": "error",
     "traceback": [
      "\u001b[1;31m---------------------------------------------------------------------------\u001b[0m",
      "\u001b[1;31mError\u001b[0m                                     Traceback (most recent call last)",
      "Cell \u001b[1;32mIn[6], line 46\u001b[0m\n\u001b[0;32m     43\u001b[0m     \u001b[38;5;28;01mreturn\u001b[39;00m pd\u001b[38;5;241m.\u001b[39mread_sql(query_201, conn)\n\u001b[0;32m     45\u001b[0m \u001b[38;5;66;03m# Call the SQL process to retrieve the Paxus (old system) fund switch data.\u001b[39;00m\n\u001b[1;32m---> 46\u001b[0m df_All_iSuite_Switches \u001b[38;5;241m=\u001b[39m \u001b[43mGet_All_iSuite_Switches\u001b[49m\u001b[43m(\u001b[49m\u001b[43mSQL_server\u001b[49m\u001b[43m,\u001b[49m\u001b[43m \u001b[49m\u001b[43mReporting_database\u001b[49m\u001b[43m)\u001b[49m\n\u001b[0;32m     48\u001b[0m \u001b[38;5;66;03m# Types and row count\u001b[39;00m\n\u001b[0;32m     49\u001b[0m \u001b[38;5;28mprint\u001b[39m(\u001b[38;5;28mlen\u001b[39m(df_All_iSuite_Switches\u001b[38;5;241m.\u001b[39mindex))\n",
      "Cell \u001b[1;32mIn[6], line 2\u001b[0m, in \u001b[0;36mGet_All_iSuite_Switches\u001b[1;34m(server, database)\u001b[0m\n\u001b[0;32m      1\u001b[0m \u001b[38;5;28;01mdef\u001b[39;00m \u001b[38;5;21mGet_All_iSuite_Switches\u001b[39m(server, database):\n\u001b[1;32m----> 2\u001b[0m     conn \u001b[38;5;241m=\u001b[39m \u001b[43mpyodbc\u001b[49m\u001b[38;5;241;43m.\u001b[39;49m\u001b[43mconnect\u001b[49m\u001b[43m(\u001b[49m\u001b[43m        \u001b[49m\u001b[38;5;124;43m'\u001b[39;49m\u001b[38;5;124;43mDRIVER=\u001b[39;49m\u001b[38;5;124;43m{\u001b[39;49m\u001b[38;5;124;43mODBC Driver 17 for SQL Server};\u001b[39;49m\u001b[38;5;124;43m'\u001b[39;49m\n\u001b[0;32m      3\u001b[0m \u001b[43m        \u001b[49m\u001b[38;5;124;43m'\u001b[39;49m\u001b[38;5;124;43mSERVER=\u001b[39;49m\u001b[38;5;124;43m'\u001b[39;49m\u001b[38;5;241;43m+\u001b[39;49m\u001b[43mserver\u001b[49m\u001b[38;5;241;43m+\u001b[39;49m\u001b[38;5;124;43m'\u001b[39;49m\u001b[38;5;124;43m;\u001b[39;49m\u001b[38;5;124;43m'\u001b[39;49m\n\u001b[0;32m      4\u001b[0m \u001b[43m        \u001b[49m\u001b[38;5;124;43m'\u001b[39;49m\u001b[38;5;124;43mDATABASE=\u001b[39;49m\u001b[38;5;124;43m'\u001b[39;49m\u001b[38;5;241;43m+\u001b[39;49m\u001b[43mdatabase\u001b[49m\u001b[38;5;241;43m+\u001b[39;49m\u001b[38;5;124;43m'\u001b[39;49m\u001b[38;5;124;43m;\u001b[39;49m\u001b[38;5;124;43m'\u001b[39;49m\n\u001b[0;32m      5\u001b[0m \u001b[43m        \u001b[49m\u001b[38;5;124;43m'\u001b[39;49m\u001b[38;5;124;43mTrusted_Connection=yes;\u001b[39;49m\u001b[38;5;124;43m'\u001b[39;49m\u001b[43m  \u001b[49m\u001b[43m)\u001b[49m\n\u001b[0;32m      7\u001b[0m     query_201 \u001b[38;5;241m=\u001b[39m \u001b[38;5;124m\"\"\"\u001b[39m\u001b[38;5;124mSelect \u001b[39m\n\u001b[0;32m      8\u001b[0m \u001b[38;5;124m\tFS_List.Policy_Number         AS \u001b[39m\u001b[38;5;124m\"\u001b[39m\u001b[38;5;124mPOLICY_NUMBER\u001b[39m\u001b[38;5;124m\"\u001b[39m\u001b[38;5;124m,\u001b[39m\n\u001b[0;32m      9\u001b[0m \u001b[38;5;124m\tLegacy_Fund_Code              AS \u001b[39m\u001b[38;5;124m\"\u001b[39m\u001b[38;5;124mLEGACY_FUND_CODE\u001b[39m\u001b[38;5;124m\"\u001b[39m\u001b[38;5;124m,\u001b[39m\n\u001b[1;32m   (...)\u001b[0m\n\u001b[0;32m     41\u001b[0m \u001b[38;5;124mORDER BY Processing_Date,Policy_Number\u001b[39m\n\u001b[0;32m     42\u001b[0m \u001b[38;5;124m    \u001b[39m\u001b[38;5;124m\"\"\"\u001b[39m\n\u001b[0;32m     43\u001b[0m     \u001b[38;5;28;01mreturn\u001b[39;00m pd\u001b[38;5;241m.\u001b[39mread_sql(query_201, conn)\n",
      "\u001b[1;31mError\u001b[0m: ('HY000', '[HY000] [Microsoft][ODBC Driver 17 for SQL Server]SQL Server Network Interfaces: The system cannot contact a domain controller to service the authentication request. Please try again later.\\r\\n (-2146892976) (SQLDriverConnect); [HY000] [Microsoft][ODBC Driver 17 for SQL Server]Cannot generate SSPI context (-2146892976); [HY000] [Microsoft][ODBC Driver 17 for SQL Server]SQL Server Network Interfaces: The system cannot contact a domain controller to service the authentication request. Please try again later.\\r\\n (-2146892976); [HY000] [Microsoft][ODBC Driver 17 for SQL Server]Cannot generate SSPI context (-2146892976)')"
     ]
    }
   ],
   "source": [
    "def Get_All_iSuite_Switches(server, database):\n",
    "    conn = pyodbc.connect(        'DRIVER={ODBC Driver 17 for SQL Server};'\n",
    "        'SERVER='+server+';'\n",
    "        'DATABASE='+database+';'\n",
    "        'Trusted_Connection=yes;'  )\n",
    "\n",
    "    query_201 = \"\"\"Select \n",
    "\tFS_List.Policy_Number         AS \"POLICY_NUMBER\",\n",
    "\tLegacy_Fund_Code              AS \"LEGACY_FUND_CODE\",\n",
    "    PC.Product_Code               AS \"PRODUCT\",\n",
    "\tFS_List.Processing_Date       AS \"PROCESSING_DATE\",\n",
    "\tFS_List.Effective_Date        AS \"EFFECTIVE_DATE\",\n",
    "\tFS_List.Unit_Type             AS \"UNIT_TYPE\",\n",
    "    FS_List.Charge_Type           AS \"CHARGE_TYPE\",\n",
    "    Cash_Value                    AS \"CASH_VALUE\",\n",
    "\tPC.Risk_Commencement_Date     AS \"RISK_COMMENCEMENT_DATE\",\n",
    "    Servicing_Broker_Code,\n",
    "\tIssue_Date,\n",
    "    Cover_End_Date,\n",
    "    Anniversary_Date,\n",
    "    'I'                         AS \"Source\"\n",
    "\n",
    "FROM [CLE_Reporting].[user].[CLV_Policy_Core] PC \n",
    "INNER JOIN (SELECT Policy_Number,\n",
    "\t\t           Transaction_Type,\n",
    "\t\t\t\t   UT.Processing_Date,\n",
    "\t\t\t\t   UT.Effective_Date,\n",
    "\t\t\t\t   UT.Unit_Type, \n",
    "\t\t\t\t   UT.Charge_Type,                    \n",
    "\t\t\t\t   Cash_Value,\n",
    "\t\t\t\t   F.Fund_Code,\n",
    "\t\t\t\t   F.Legacy_Fund_Code\n",
    "\t\t    FROM [CLE_Reporting].[user].[CLV_GBS_Unit_Transactions] UT\n",
    "\t        INNER JOIN CLE_Reporting.[user].CLV_Fund F \n",
    "\t\t\tON F.Fund_Code = UT.[Fund_Code]\n",
    "\t\t\tWHERE Transaction_Type = 'Funds Switch/Shift'\n",
    "\t\t\tAND\t((F.Asset_Type = 'UWP-Fonds' AND UWP_Type_Indicator = 'S') OR (F.Asset_Type <> 'UWP-Fonds' AND UWP_Type_Indicator = 'A')) \n",
    "\t\t\tAND Reverse_Indicator = 'N') FS_LIST\n",
    "ON FS_LIST.[Policy_Number] = PC.Policy_Number\n",
    "WHERE FS_List.Processing_Date > '2018-12-31'\n",
    "ORDER BY Processing_Date,Policy_Number\n",
    "    \"\"\"\n",
    "    return pd.read_sql(query_201, conn)\n",
    "\n",
    "# Call the SQL process to retrieve the Paxus (old system) fund switch data.\n",
    "df_All_iSuite_Switches = Get_All_iSuite_Switches(SQL_server, Reporting_database)\n",
    "\n",
    "# Types and row count\n",
    "print(len(df_All_iSuite_Switches.index))\n",
    "print(df_All_iSuite_Switches.dtypes)\n",
    "\n",
    "# Write out to a comma separated values file.\n",
    "filename = input_path + '\\All_iSuite_Switches.csv'\n",
    "df_All_iSuite_Switches.to_csv(filename, encoding='utf-8', index=False)      \n",
    "print(filename)\n",
    "\n",
    "# Turn off dislays to protect PII\n",
    "#df_All_iSuite_Switches.head(10)"
   ]
  },
  {
   "cell_type": "markdown",
   "id": "a894391c",
   "metadata": {},
   "source": [
    "# Convert Paxus Cobes to Product Name"
   ]
  },
  {
   "cell_type": "code",
   "execution_count": 7,
   "id": "ac8568e5",
   "metadata": {},
   "outputs": [
    {
     "ename": "NameError",
     "evalue": "name 'Reference_Data_database' is not defined",
     "output_type": "error",
     "traceback": [
      "\u001b[1;31m---------------------------------------------------------------------------\u001b[0m",
      "\u001b[1;31mNameError\u001b[0m                                 Traceback (most recent call last)",
      "Cell \u001b[1;32mIn[7], line 13\u001b[0m\n\u001b[0;32m     10\u001b[0m     \u001b[38;5;28;01mreturn\u001b[39;00m pd\u001b[38;5;241m.\u001b[39mread_sql(query_201, conn)\n\u001b[0;32m     12\u001b[0m \u001b[38;5;66;03m# Call the SQL to get Paxus to iSuite product mappings.\u001b[39;00m\n\u001b[1;32m---> 13\u001b[0m df_Product_Mapping \u001b[38;5;241m=\u001b[39m Get_Product_Mapping(SQL_server, \u001b[43mReference_Data_database\u001b[49m)  \n\u001b[0;32m     15\u001b[0m \u001b[38;5;66;03m# Strip all blanks.\u001b[39;00m\n\u001b[0;32m     16\u001b[0m df_Product_Mapping \u001b[38;5;241m=\u001b[39m df_Product_Mapping\u001b[38;5;241m.\u001b[39mapplymap(\u001b[38;5;28;01mlambda\u001b[39;00m x: \u001b[38;5;124m\"\u001b[39m\u001b[38;5;124m \u001b[39m\u001b[38;5;124m\"\u001b[39m\u001b[38;5;241m.\u001b[39mjoin(x\u001b[38;5;241m.\u001b[39msplit()) \u001b[38;5;28;01mif\u001b[39;00m \u001b[38;5;28misinstance\u001b[39m(x, \u001b[38;5;28mstr\u001b[39m) \u001b[38;5;28;01melse\u001b[39;00m x)\n",
      "\u001b[1;31mNameError\u001b[0m: name 'Reference_Data_database' is not defined"
     ]
    }
   ],
   "source": [
    "def Get_Product_Mapping(server, database):\n",
    "    conn = pyodbc.connect(\n",
    "        'DRIVER={ODBC Driver 17 for SQL Server};'\n",
    "        'SERVER='+server+';'\n",
    "        'DATABASE='+database+';'\n",
    "        'Trusted_Connection=yes;'\n",
    "        )\n",
    "\n",
    "    query_201 = \"Select * FROM CLT_Product_Mapping\"\n",
    "    return pd.read_sql(query_201, conn)\n",
    "\n",
    "# Call the SQL to get Paxus to iSuite product mappings.\n",
    "df_Product_Mapping = Get_Product_Mapping(SQL_server, Reference_Data_database)  \n",
    "\n",
    "# Strip all blanks.\n",
    "df_Product_Mapping = df_Product_Mapping.applymap(lambda x: \" \".join(x.split()) if isinstance(x, str) else x)\n",
    "\n",
    "# Turn off dislays to protect PII\n",
    "#df_Product_Mapping.head(99)"
   ]
  },
  {
   "cell_type": "markdown",
   "id": "4a4786b7",
   "metadata": {},
   "source": [
    "## Write out to a comma separated values file."
   ]
  },
  {
   "cell_type": "code",
   "execution_count": 8,
   "id": "182d16bd",
   "metadata": {},
   "outputs": [
    {
     "ename": "NameError",
     "evalue": "name 'df_Product_Mapping' is not defined",
     "output_type": "error",
     "traceback": [
      "\u001b[1;31m---------------------------------------------------------------------------\u001b[0m",
      "\u001b[1;31mNameError\u001b[0m                                 Traceback (most recent call last)",
      "Cell \u001b[1;32mIn[8], line 3\u001b[0m\n\u001b[0;32m      1\u001b[0m \u001b[38;5;66;03m# Write out to a comma separated values file.\u001b[39;00m\n\u001b[0;32m      2\u001b[0m filename \u001b[38;5;241m=\u001b[39m input_path \u001b[38;5;241m+\u001b[39m \u001b[38;5;124m'\u001b[39m\u001b[38;5;124m\\\u001b[39m\u001b[38;5;124mdf_Product_Mapping.csv\u001b[39m\u001b[38;5;124m'\u001b[39m\n\u001b[1;32m----> 3\u001b[0m \u001b[43mdf_Product_Mapping\u001b[49m\u001b[38;5;241m.\u001b[39mto_csv(filename, encoding\u001b[38;5;241m=\u001b[39m\u001b[38;5;124m'\u001b[39m\u001b[38;5;124mutf-8\u001b[39m\u001b[38;5;124m'\u001b[39m, index\u001b[38;5;241m=\u001b[39m\u001b[38;5;28;01mFalse\u001b[39;00m)       \n\u001b[0;32m      4\u001b[0m \u001b[38;5;28mprint\u001b[39m(filename)\n",
      "\u001b[1;31mNameError\u001b[0m: name 'df_Product_Mapping' is not defined"
     ]
    }
   ],
   "source": [
    "# Write out to a comma separated values file.\n",
    "filename = input_path + '\\df_Product_Mapping.csv'\n",
    "df_Product_Mapping.to_csv(filename, encoding='utf-8', index=False)       \n",
    "print(filename)\n",
    "\n",
    "# Turn off dislays to protect PII\n",
    "#df_Product_Mapping.head(10)"
   ]
  },
  {
   "cell_type": "markdown",
   "id": "5d9f723f",
   "metadata": {},
   "source": [
    "## Join the Paxus switch to teh Paxus product mapping to make it have the same mapping as iSuite."
   ]
  },
  {
   "cell_type": "code",
   "execution_count": 9,
   "id": "07517631",
   "metadata": {},
   "outputs": [
    {
     "ename": "NameError",
     "evalue": "name 'df_All_Paxus_Switches' is not defined",
     "output_type": "error",
     "traceback": [
      "\u001b[1;31m---------------------------------------------------------------------------\u001b[0m",
      "\u001b[1;31mNameError\u001b[0m                                 Traceback (most recent call last)",
      "Cell \u001b[1;32mIn[9], line 2\u001b[0m\n\u001b[0;32m      1\u001b[0m \u001b[38;5;66;03m# Strip the blanks from the product to allow them to join.\u001b[39;00m\n\u001b[1;32m----> 2\u001b[0m df_All_Paxus_Switches[\u001b[38;5;124m'\u001b[39m\u001b[38;5;124mPRODUCT\u001b[39m\u001b[38;5;124m'\u001b[39m] \u001b[38;5;241m=\u001b[39m \u001b[43mdf_All_Paxus_Switches\u001b[49m[\u001b[38;5;124m'\u001b[39m\u001b[38;5;124mPRODUCT\u001b[39m\u001b[38;5;124m'\u001b[39m]\u001b[38;5;241m.\u001b[39mstr\u001b[38;5;241m.\u001b[39mstrip()\n\u001b[0;32m      4\u001b[0m \u001b[38;5;66;03m# Join them\u001b[39;00m\n\u001b[0;32m      5\u001b[0m df_All_Paxus_Switches_With_Product_Name \u001b[38;5;241m=\u001b[39m pd\u001b[38;5;241m.\u001b[39mmerge(df_All_Paxus_Switches, df_Product_Mapping, left_on \u001b[38;5;241m=\u001b[39m [\u001b[38;5;124m'\u001b[39m\u001b[38;5;124mPRODUCT\u001b[39m\u001b[38;5;124m'\u001b[39m], right_on \u001b[38;5;241m=\u001b[39m [\u001b[38;5;124m'\u001b[39m\u001b[38;5;124mCobe_Code\u001b[39m\u001b[38;5;124m'\u001b[39m] , how \u001b[38;5;241m=\u001b[39m \u001b[38;5;124m'\u001b[39m\u001b[38;5;124mleft\u001b[39m\u001b[38;5;124m'\u001b[39m)\n",
      "\u001b[1;31mNameError\u001b[0m: name 'df_All_Paxus_Switches' is not defined"
     ]
    }
   ],
   "source": [
    "# Strip the blanks from the product to allow them to join.\n",
    "df_All_Paxus_Switches['PRODUCT'] = df_All_Paxus_Switches['PRODUCT'].str.strip()\n",
    "\n",
    "# Join them\n",
    "df_All_Paxus_Switches_With_Product_Name = pd.merge(df_All_Paxus_Switches, df_Product_Mapping, left_on = ['PRODUCT'], right_on = ['Cobe_Code'] , how = 'left') \n",
    "\n",
    "# Turn off dislays to protect PII\n",
    "#df_All_Paxus_Switches_With_Product_Name.head(5)"
   ]
  },
  {
   "cell_type": "markdown",
   "id": "81a5abc7",
   "metadata": {},
   "source": [
    "## Clean the data and write to file."
   ]
  },
  {
   "cell_type": "code",
   "execution_count": 10,
   "id": "2108c11e",
   "metadata": {},
   "outputs": [
    {
     "ename": "NameError",
     "evalue": "name 'df_All_Paxus_Switches_With_Product_Name' is not defined",
     "output_type": "error",
     "traceback": [
      "\u001b[1;31m---------------------------------------------------------------------------\u001b[0m",
      "\u001b[1;31mNameError\u001b[0m                                 Traceback (most recent call last)",
      "Cell \u001b[1;32mIn[10], line 2\u001b[0m\n\u001b[0;32m      1\u001b[0m \u001b[38;5;66;03m# Remove unused columns after merge.\u001b[39;00m\n\u001b[1;32m----> 2\u001b[0m df_All_Paxus_Switches_With_Product_Name \u001b[38;5;241m=\u001b[39m \u001b[43mdf_All_Paxus_Switches_With_Product_Name\u001b[49m\u001b[38;5;241m.\u001b[39mdrop([\u001b[38;5;124m'\u001b[39m\u001b[38;5;124mPRODUCT\u001b[39m\u001b[38;5;124m'\u001b[39m,\u001b[38;5;124m'\u001b[39m\u001b[38;5;124mCobe_Code\u001b[39m\u001b[38;5;124m'\u001b[39m], axis\u001b[38;5;241m=\u001b[39m\u001b[38;5;241m1\u001b[39m)\n\u001b[0;32m      4\u001b[0m \u001b[38;5;66;03m# Rename columns to match.\u001b[39;00m\n\u001b[0;32m      5\u001b[0m df_All_Paxus_Switches_With_Product_Name \u001b[38;5;241m=\u001b[39m df_All_Paxus_Switches_With_Product_Name\u001b[38;5;241m.\u001b[39mrename(columns\u001b[38;5;241m=\u001b[39m{\u001b[38;5;124m\"\u001b[39m\u001b[38;5;124mProduct_Code\u001b[39m\u001b[38;5;124m\"\u001b[39m:\u001b[38;5;124m\"\u001b[39m\u001b[38;5;124mPRODUCT\u001b[39m\u001b[38;5;124m\"\u001b[39m})\n",
      "\u001b[1;31mNameError\u001b[0m: name 'df_All_Paxus_Switches_With_Product_Name' is not defined"
     ]
    }
   ],
   "source": [
    "# Remove unused columns after merge.\n",
    "df_All_Paxus_Switches_With_Product_Name = df_All_Paxus_Switches_With_Product_Name.drop(['PRODUCT','Cobe_Code'], axis=1)\n",
    "\n",
    "# Rename columns to match.\n",
    "df_All_Paxus_Switches_With_Product_Name = df_All_Paxus_Switches_With_Product_Name.rename(columns={\"Product_Code\":\"PRODUCT\"})\n",
    "df_All_Paxus_Switches_With_Product_Name = df_All_Paxus_Switches_With_Product_Name.rename(columns={\"Source\"      :\"SOURCE\"})\n",
    "\n",
    "# Reorder the data before the merge.\n",
    "neworder = ['POLICY_NUMBER','LEGACY_FUND_CODE','PRODUCT','PROCESSING_DATE','EFFECTIVE_DATE','UNIT_TYPE','CHARGE_TYPE','CASH_VALUE','RISK_COMMENCEMENT_DATE','Servicing_Broker_Code','Issue_Date','Cover_End_Date','Anniversary_Date','SOURCE']\n",
    "df_All_Paxus_Switches_With_Product_Name=df_All_Paxus_Switches_With_Product_Name.reindex(columns=neworder)\n",
    "\n",
    "# Example 1: Convert datetype to string\n",
    "df_All_Paxus_Switches_With_Product_Name['PROCESSING_DATE']=df_All_Paxus_Switches_With_Product_Name['PROCESSING_DATE'].astype(str)\n",
    "df_All_Paxus_Switches_With_Product_Name['EFFECTIVE_DATE']=df_All_Paxus_Switches_With_Product_Name['EFFECTIVE_DATE'].astype(str)\n",
    "df_All_Paxus_Switches_With_Product_Name['RISK_COMMENCEMENT_DATE']=df_All_Paxus_Switches_With_Product_Name['RISK_COMMENCEMENT_DATE'].astype(str)\n",
    "df_All_Paxus_Switches_With_Product_Name['Issue_Date']=df_All_Paxus_Switches_With_Product_Name['Issue_Date'].astype(str)\n",
    "df_All_Paxus_Switches_With_Product_Name['Cover_End_Date']=df_All_Paxus_Switches_With_Product_Name['Cover_End_Date'].astype(str)\n",
    "df_All_Paxus_Switches_With_Product_Name['Anniversary_Date']=df_All_Paxus_Switches_With_Product_Name['Anniversary_Date'].astype(str)\n",
    "\n",
    "\n",
    "# Types and row count\n",
    "print(len(df_All_Paxus_Switches_With_Product_Name.index))\n",
    "print(df_All_Paxus_Switches_With_Product_Name.dtypes)\n",
    "\n",
    "# Write out to a comma separated values file.\n",
    "filename = input_path + '\\All_Paxus_Switches_With_Product_Name.csv'\n",
    "print(filename)\n",
    "df_All_Paxus_Switches_With_Product_Name.to_csv(filename, encoding='utf-8', index=False)        \n",
    "\n",
    "# Turn off dislays to protect PII\n",
    "#df_All_Paxus_Switches_With_Product_Name.head(10)\n"
   ]
  },
  {
   "cell_type": "markdown",
   "id": "28103376",
   "metadata": {},
   "source": [
    "# Merge all switches into one dataframe and write to file."
   ]
  },
  {
   "cell_type": "code",
   "execution_count": 12,
   "id": "9c78cd0d",
   "metadata": {},
   "outputs": [
    {
     "ename": "NameError",
     "evalue": "name 'df_All_iSuite_Switches' is not defined",
     "output_type": "error",
     "traceback": [
      "\u001b[1;31m---------------------------------------------------------------------------\u001b[0m",
      "\u001b[1;31mNameError\u001b[0m                                 Traceback (most recent call last)",
      "Cell \u001b[1;32mIn[12], line 2\u001b[0m\n\u001b[0;32m      1\u001b[0m \u001b[38;5;66;03m# Merge the Paxus and iSuite switch data.\u001b[39;00m\n\u001b[1;32m----> 2\u001b[0m df_All_Switches\u001b[38;5;241m=\u001b[39m \u001b[43mdf_All_iSuite_Switches\u001b[49m\u001b[38;5;241m.\u001b[39mappend(df_All_Paxus_Switches_With_Product_Name)\n\u001b[0;32m      4\u001b[0m \u001b[38;5;66;03m# Soryt by policy number and processing date.\u001b[39;00m\n\u001b[0;32m      5\u001b[0m df_All_Switches \u001b[38;5;241m=\u001b[39m df_All_Switches\u001b[38;5;241m.\u001b[39msort_values([\u001b[38;5;124m'\u001b[39m\u001b[38;5;124mPROCESSING_DATE\u001b[39m\u001b[38;5;124m'\u001b[39m,\u001b[38;5;124m'\u001b[39m\u001b[38;5;124mPOLICY_NUMBER\u001b[39m\u001b[38;5;124m'\u001b[39m,\u001b[38;5;124m'\u001b[39m\u001b[38;5;124mSOURCE\u001b[39m\u001b[38;5;124m'\u001b[39m])\u001b[38;5;241m.\u001b[39mreset_index(drop\u001b[38;5;241m=\u001b[39m\u001b[38;5;28;01mFalse\u001b[39;00m)\n",
      "\u001b[1;31mNameError\u001b[0m: name 'df_All_iSuite_Switches' is not defined"
     ]
    }
   ],
   "source": [
    "# Merge the Paxus and iSuite switch data.\n",
    "df_All_Switches= df_All_iSuite_Switches.append(df_All_Paxus_Switches_With_Product_Name)\n",
    "\n",
    "# Soryt by policy number and processing date.\n",
    "df_All_Switches = df_All_Switches.sort_values(['PROCESSING_DATE','POLICY_NUMBER','SOURCE']).reset_index(drop=False)\n",
    "\n",
    "# Types and row count\n",
    "print(len(df_All_Switches.index))\n",
    "print(df_All_Switches.dtypes)\n",
    "\n",
    "# Write out to a comma separated values file.\n",
    "filename = input_path + '\\All_Switches.csv'\n",
    "df_All_Switches.to_csv(filename, encoding='utf-8', index=False)       \n",
    "print(filename)\n",
    "\n",
    "# Turn off dislays to protect PII\n",
    "#df_All_Switches.head(10)"
   ]
  },
  {
   "cell_type": "code",
   "execution_count": 13,
   "id": "c9bc6940",
   "metadata": {},
   "outputs": [
    {
     "data": {
      "text/plain": [
       "[]"
      ]
     },
     "execution_count": 13,
     "metadata": {},
     "output_type": "execute_result"
    }
   ],
   "source": [
    "%who_ls DataFrame "
   ]
  },
  {
   "cell_type": "code",
   "execution_count": 14,
   "id": "5fc53119",
   "metadata": {},
   "outputs": [
    {
     "ename": "NameError",
     "evalue": "name 'df_All_Paxus_Switches' is not defined",
     "output_type": "error",
     "traceback": [
      "\u001b[1;31m---------------------------------------------------------------------------\u001b[0m",
      "\u001b[1;31mNameError\u001b[0m                                 Traceback (most recent call last)",
      "Cell \u001b[1;32mIn[14], line 1\u001b[0m\n\u001b[1;32m----> 1\u001b[0m \u001b[38;5;28;01mdel\u001b[39;00m df_All_Paxus_Switches\n\u001b[0;32m      2\u001b[0m \u001b[38;5;28;01mdel\u001b[39;00m df_All_Paxus_Switches_With_Product_Name\n\u001b[0;32m      3\u001b[0m \u001b[38;5;28;01mdel\u001b[39;00m df_All_Switches\n",
      "\u001b[1;31mNameError\u001b[0m: name 'df_All_Paxus_Switches' is not defined"
     ]
    }
   ],
   "source": [
    "del df_All_Paxus_Switches\n",
    "del df_All_Paxus_Switches_With_Product_Name\n",
    "del df_All_Switches\n",
    "del df_All_iSuite_Switches\n",
    "del df_Product_Mapping\n",
    "del df_iSuite_Product_list\n",
    "del df_main\n",
    "\n"
   ]
  },
  {
   "cell_type": "code",
   "execution_count": 15,
   "id": "0c6fbff9",
   "metadata": {},
   "outputs": [
    {
     "name": "stdout",
     "output_type": "stream",
     "text": [
      "==========================\n",
      "2024-08-05 22:09:57.197903\n",
      "==========================\n",
      "svmem(total=16756752384, available=8700919808, percent=48.1, used=8055832576, free=8700919808)\n",
      "==========================\n"
     ]
    }
   ],
   "source": [
    "print('==========================')\n",
    "now = datetime.now()\n",
    "print(now)\n",
    "print('==========================')\n",
    "print(psutil.virtual_memory())\n",
    "print('==========================')"
   ]
  },
  {
   "cell_type": "code",
   "execution_count": null,
   "id": "6c174e11",
   "metadata": {},
   "outputs": [],
   "source": []
  }
 ],
 "metadata": {
  "kernelspec": {
   "display_name": "Python 3 (ipykernel)",
   "language": "python",
   "name": "python3"
  },
  "language_info": {
   "codemirror_mode": {
    "name": "ipython",
    "version": 3
   },
   "file_extension": ".py",
   "mimetype": "text/x-python",
   "name": "python",
   "nbconvert_exporter": "python",
   "pygments_lexer": "ipython3",
   "version": "3.8.8"
  }
 },
 "nbformat": 4,
 "nbformat_minor": 5
}
