{
 "cells": [
  {
   "cell_type": "code",
   "execution_count": 1,
   "id": "7ad32299",
   "metadata": {},
   "outputs": [
    {
     "name": "stderr",
     "output_type": "stream",
     "text": [
      "C:\\Users\\m033\\Anaconda3\\lib\\site-packages\\rdt\\transformers\\base.py:132: FutureWarning: Future versions of RDT will not support the 'model_missing_values' parameter. Please switch to using the 'missing_value_generation' parameter to select your strategy.\n",
      "  warnings.warn(\n",
      "C:\\Users\\m033\\Anaconda3\\lib\\site-packages\\requests\\__init__.py:109: RequestsDependencyWarning: urllib3 (1.26.16) or chardet (3.0.0)/charset_normalizer (2.0.4) doesn't match a supported version!\n",
      "  warnings.warn(\n"
     ]
    }
   ],
   "source": [
    "import pandas as pd\n",
    "from datetime import datetime\n",
    "import psutil\n",
    "import os\n",
    "import gc\n",
    "\n",
    "from sdv.datasets.local import load_csvs\n",
    "from sdv.metadata import SingleTableMetadata\n",
    "from sdv.single_table import GaussianCopulaSynthesizer\n",
    "from sdv.single_table import CTGANSynthesizer\n",
    "from sdv.evaluation.single_table import get_column_plot\n",
    "from sdv.evaluation.single_table import evaluate_quality\n",
    "from sdv.evaluation.single_table import run_diagnostic\n",
    "\n",
    "# importing matplotlib module\n",
    "import matplotlib.pyplot as plt\n",
    "plt.style.use('default')\n",
    "# %matplotlib inline: only draw static\n",
    "# images in the notebook\n",
    "%matplotlib inline"
   ]
  },
  {
   "cell_type": "markdown",
   "id": "56de1133",
   "metadata": {},
   "source": [
    "# Global settings"
   ]
  },
  {
   "cell_type": "code",
   "execution_count": 2,
   "id": "0fe8a02c",
   "metadata": {},
   "outputs": [
    {
     "name": "stdout",
     "output_type": "stream",
     "text": [
      "==========================\n",
      "2024-08-05 22:17:06.760729\n",
      "==========================\n",
      "svmem(total=16756752384, available=4645416960, percent=72.3, used=12111335424, free=4645416960)\n",
      "==========================\n"
     ]
    },
    {
     "data": {
      "text/plain": [
       "'C:\\\\Users\\\\m033\\\\OneDrive - GWLE\\\\Documents\\\\GitHub\\\\Data-Science-Thesis'"
      ]
     },
     "execution_count": 2,
     "metadata": {},
     "output_type": "execute_result"
    }
   ],
   "source": [
    "\n",
    "pd.set_option('max_row', None)\n",
    "#pd.options.display.max_rows = 1000\n",
    "\n",
    "# Set a value for the home folder.\n",
    "home_folder = \".\"\n",
    "\n",
    "# Set values for the various paths.\n",
    "input_path = home_folder + \"\\data\"\n",
    "\n",
    "print('==========================')\n",
    "now = datetime.now()\n",
    "print(now)\n",
    "print('==========================')\n",
    "print(psutil.virtual_memory())\n",
    "print('==========================')\n",
    "os.path.abspath(os.getcwd())"
   ]
  },
  {
   "cell_type": "markdown",
   "id": "ac8ac87c",
   "metadata": {},
   "source": [
    "# Use SDV - Synthetic Data Vault\n",
    "This is a Python package to generate synthetic data based on the dataset provided. The generated data could be single-table, multi-table, or time-series, depending on the scheme provided in the environment. Also, the generated data would have the same format properties and statistics as the provided dataset.¶\n",
    "\n",
    "SDV generates synthetic data by applying mathematical techniques and machine learning models such as the deep learning model. Even if the data contain multiple data types and missing data, SDV will handle it, so we only need to provide the data (and the metadata when required).¶\n",
    "\n",
    "The SDV creates synthetic data using machine learning. A synthesizer is an object that you can use to accomplish this task.¶\n",
    "1.  You'll start by creating a synthesizer based on your metadata\n",
    "2.  Next, you'll train the synthesizer using real data. In this phase, the synthesizer will learn patterns from the real data.\n",
    "3.  Once your synthesizer is trained, you can use it to generate new, synthetic data.\n",
    "\n",
    "Of the original data, only the contract number needs to synthesised as everything else is either a boolean that already has obfuscated the fund data or is a calculation based on PII data with the PII data removed."
   ]
  },
  {
   "cell_type": "markdown",
   "id": "ded1375e",
   "metadata": {},
   "source": [
    "https://docs.sdv.dev/sdv/single-table-data/data-preparation/single-table-metadata-api"
   ]
  },
  {
   "cell_type": "markdown",
   "id": "86184e85",
   "metadata": {},
   "source": [
    "# 1. Read back the first half of the full set of data.  There are 6,186,149 records so this tranche will synthesise the first 3,100,000.\n",
    "\n",
    "# The next tranche will synthesise 3,086,149.\n",
    "\n",
    "# This is done to reduce a memory constraint on the runtime environment, which cannot be virtualised because of the sensitive nature of the data."
   ]
  },
  {
   "cell_type": "code",
   "execution_count": 3,
   "id": "a83a3c9b",
   "metadata": {},
   "outputs": [
    {
     "name": "stdout",
     "output_type": "stream",
     "text": [
      "==========================\n",
      "2024-08-05 22:18:33.342376\n",
      "==========================\n",
      "svmem(total=16756752384, available=5896814592, percent=64.8, used=10859937792, free=5896814592)\n",
      "==========================\n",
      "3100000\n",
      "ContractNumber            object\n",
      "Switch_Flag                 bool\n",
      "SnapshotDt                object\n",
      "Term_Passed              float64\n",
      "Term_Remaining           float64\n",
      "TermRemainingLTEQ_5        int64\n",
      "TermRemainingLTEQ_10       int64\n",
      "Age                      float64\n",
      "AnniversaryMth             int32\n",
      "ProdCat                   object\n",
      "ProdCode                  object\n",
      "PolicyStatus              object\n",
      "PolicyFeeType             object\n",
      "PricingVariant             int32\n",
      "PayFreq                    int32\n",
      "IndexationPercent          int64\n",
      "Premium                  float64\n",
      "PremiumCalcMethod         object\n",
      "ServicingBroker           object\n",
      "InitialBroker             object\n",
      "BrokerCategory            object\n",
      "InitialRate              float64\n",
      "RenewalRate              float64\n",
      "VIPType                   object\n",
      "Nationality               object\n",
      "IsSmoker                  object\n",
      "PoliticallyExposed        object\n",
      "BirthPlace                object\n",
      "Gender                    object\n",
      "MaritalStatus             object\n",
      "PensionDisability        float64\n",
      "WOPDisability            float64\n",
      "AddressCity               object\n",
      "PartnerType               object\n",
      "EUSanctioned              object\n",
      "AddressDistrict           object\n",
      "Postal_Code              float64\n",
      "Postal_Code_Name          object\n",
      "District                  object\n",
      "State                     object\n",
      "VN_MILIEU_CODE            object\n",
      "VN_TARGET_GROUP_CODE      object\n",
      "VN_MILIEU_DESCRIPTION     object\n",
      "VP_MILIEU_DESCRIPTION     object\n",
      "Term                     float64\n",
      "Index_Date                object\n",
      "Gold                     float64\n",
      "CrudeOil                 float64\n",
      "NaturalGas               float64\n",
      "EurUsd                   float64\n",
      "EurGbp                   float64\n",
      "UsdGbp                   float64\n",
      "CoreMsciETF              float64\n",
      "MsciEmergingETF          float64\n",
      "BloomBond                float64\n",
      "VixxVol                  float64\n",
      "S&P 500 Futures          float64\n",
      "NASDAQ Futures           float64\n",
      "Dow Futures              float64\n",
      "dtype: object\n"
     ]
    }
   ],
   "source": [
    "# giving directory name\n",
    "filename = input_path + '\\Full_Population_With_Market_Index_Data.csv'\n",
    "\n",
    "df_Switches_tranche_1 = pd.read_csv(filename,dtype = {'ContractNumber': str,\n",
    "                                           'ProdCat': str,\n",
    "                                           'ProdCode': str,\n",
    "                                           'PolicyStatus': str,\n",
    "                                           'Switch_Flag': bool,\n",
    "                                           'ServicingBroker': str,\n",
    "                                           'InitialBroker': str,\n",
    "                                           'BrokerCategory': str,\n",
    "                                           'Policy_Fee_Type_Desc': str,      \n",
    "                                           'PricingVariant': int,\n",
    "                                           'PayFreq': int,\n",
    "                                           'VIPType': str,\n",
    "                                          'Nationality': str,\n",
    "#                                          'IsSmoker': bool,\n",
    "                                          'IsSmoker': str,\n",
    "                                          'PoliticallyExposed': str,\n",
    "                                          'BirthPlace': str,\n",
    "                                          'Gender': str,\n",
    "                                          'MaritalStatus': str,\n",
    "                                          'AddressCity': str,\n",
    "                                          'PartnerType': str,\n",
    "                                          'EUSanctioned': str,\n",
    "#                                          'EUSanctioned': bool,\n",
    "                                          'AddressDistrict': str,\n",
    "                                          'Postal_Code_Name': str,\n",
    "                                          'District': str,\n",
    "                                          'State': str,\n",
    "                                          'VN_MILIEU_CODE': str,\n",
    "                                          'VN_TARGET_GROUP_CODE': str,\n",
    "                                          'VN_MILIEU_DESCRIPTION': str,\n",
    "                                          'VP_MILIEU_DESCRIPTION': str,  \n",
    "# Tranche 1.\n",
    "                                          'AnniversaryMth': int},low_memory=False, header=0, nrows=3100000)\n",
    "# Tranche 2.                              'AnniversaryMth': int},low_memory=False, header=0, nrows=3086149)\n",
    "\n",
    "# Fill NULLs\n",
    "df_Switches_tranche_1 = df_Switches_tranche_1.fillna(0)\n",
    "\n",
    "# Track runtime and encironment.\n",
    "print('==========================')\n",
    "now = datetime.now()\n",
    "print(now)\n",
    "print('==========================')\n",
    "print(psutil.virtual_memory())\n",
    "print('==========================')\n",
    "\n",
    "# print stats.\n",
    "print(len(df_Switches_tranche_1.index))\n",
    "print(df_Switches_tranche_1.dtypes)\n",
    "\n",
    "# Turn off dislays to protect PII\n",
    "#df_Switches_tranche_1.head(10)"
   ]
  },
  {
   "cell_type": "code",
   "execution_count": 4,
   "id": "aee4720f",
   "metadata": {},
   "outputs": [
    {
     "name": "stdout",
     "output_type": "stream",
     "text": [
      "==========================\n",
      "2024-08-05 22:18:35.384662\n",
      "==========================\n",
      "svmem(total=16756752384, available=4819005440, percent=71.2, used=11937746944, free=4819005440)\n",
      "==========================\n",
      "3100000\n",
      "3100000\n"
     ]
    }
   ],
   "source": [
    "df_Switches_table = df_Switches_tranche_1[['ContractNumber','Switch_Flag','Term_Passed','Term_Remaining','TermRemainingLTEQ_5',\n",
    "                                       'TermRemainingLTEQ_10','Age','AnniversaryMth','ProdCat','ProdCode','PolicyStatus',\n",
    "                                       'SnapshotDt','PolicyFeeType','PricingVariant','PayFreq','IndexationPercent',\n",
    "                                       'Premium','PremiumCalcMethod','ServicingBroker','InitialBroker','BrokerCategory',\n",
    "                                       'InitialRate','RenewalRate','VIPType','Nationality','IsSmoker','PoliticallyExposed',\n",
    "                                       'BirthPlace','Gender','MaritalStatus','PensionDisability','WOPDisability',\n",
    "                                       'AddressCity','PartnerType','EUSanctioned','AddressDistrict','Postal_Code',\n",
    "                                       'Postal_Code_Name','District','State','VN_MILIEU_CODE','VN_TARGET_GROUP_CODE',\n",
    "                                       'VN_MILIEU_DESCRIPTION','VP_MILIEU_DESCRIPTION','Term']]\n",
    "\n",
    "print('==========================')\n",
    "now = datetime.now()\n",
    "print(now)\n",
    "print('==========================')\n",
    "print(psutil.virtual_memory())\n",
    "print('==========================')\n",
    "\n",
    "# print stats.\n",
    "print(len(df_Switches_tranche_1.index))\n",
    "del df_Switches_tranche_1\n",
    "\n",
    "print(len(df_Switches_table.index))\n",
    "\n",
    "# Turn off dislays to protect PII\n",
    "#df_Switches_table.head(10)"
   ]
  },
  {
   "cell_type": "markdown",
   "id": "f7d69ded",
   "metadata": {},
   "source": [
    " # Look at the distribution of the target variable."
   ]
  },
  {
   "cell_type": "code",
   "execution_count": 5,
   "id": "a98d9f5f",
   "metadata": {},
   "outputs": [
    {
     "name": "stdout",
     "output_type": "stream",
     "text": [
      "False    0.999331\n",
      "True     0.000669\n",
      "Name: Switch_Flag, dtype: float64\n"
     ]
    }
   ],
   "source": [
    "print(df_Switches_table.Switch_Flag.value_counts(normalize=True))"
   ]
  },
  {
   "cell_type": "code",
   "execution_count": 6,
   "id": "8e4f50ac",
   "metadata": {},
   "outputs": [
    {
     "name": "stdout",
     "output_type": "stream",
     "text": [
      "False    0.999331\n",
      "True     0.000669\n",
      "Name: Switch_Flag, dtype: float64\n"
     ]
    },
    {
     "data": {
      "image/png": "[encoded data removed]",
      "text/plain": [
       "<Figure size 640x480 with 1 Axes>"
      ]
     },
     "metadata": {},
     "output_type": "display_data"
    }
   ],
   "source": [
    "# Count and print the values. \n",
    "print(df_Switches_table.Switch_Flag.value_counts(normalize=True))\n",
    "\n",
    "# plot value_counts of Series\n",
    "ax = df_Switches_table['Switch_Flag'].value_counts(normalize=True).plot(kind='barh')\n",
    "\n",
    "# Set axis headings.\n",
    "ax.set(xlabel='Distribution of Policies with a Fund Switch', ylabel='Past Fund Switch')\n",
    "ax.set_xscale('log')\n",
    "\n",
    "ax.figure.savefig('Distribution of Policies with a Fund Switch.png')  # saves the current figure"
   ]
  },
  {
   "cell_type": "markdown",
   "id": "2a47a710",
   "metadata": {},
   "source": [
    "# 2. Generate single table metadata from the dataframe."
   ]
  },
  {
   "cell_type": "code",
   "execution_count": 7,
   "id": "aef7f50d",
   "metadata": {},
   "outputs": [
    {
     "name": "stdout",
     "output_type": "stream",
     "text": [
      "==========================\n",
      "2024-08-05 22:18:36.833071\n",
      "==========================\n",
      "svmem(total=16756752384, available=6128754688, percent=63.4, used=10627997696, free=6128754688)\n",
      "==========================\n",
      "metadata- {\n",
      "    \"METADATA_SPEC_VERSION\": \"SINGLE_TABLE_V1\"\n",
      "}\n"
     ]
    }
   ],
   "source": [
    "metadata = SingleTableMetadata()\n",
    "\n",
    "print('==========================')\n",
    "now = datetime.now()\n",
    "print(now)\n",
    "print('==========================')\n",
    "print(psutil.virtual_memory())\n",
    "print('==========================')\n",
    "\n",
    "#metadata\n",
    "print(\"metadata-\",metadata) "
   ]
  },
  {
   "cell_type": "markdown",
   "id": "03de7672",
   "metadata": {},
   "source": [
    "# 3. Auto detect metadata.\n",
    "## The real fund switch data comes with no pre-prepared metadata automatically detect and generate the metadata based on the real data. \n"
   ]
  },
  {
   "cell_type": "code",
   "execution_count": 8,
   "id": "36eabdb8",
   "metadata": {},
   "outputs": [
    {
     "name": "stdout",
     "output_type": "stream",
     "text": [
      "==========================\n",
      "2024-08-05 22:18:41.246544\n",
      "==========================\n",
      "svmem(total=16756752384, available=6095409152, percent=63.6, used=10661343232, free=6095409152)\n",
      "==========================\n",
      "metadata- {\n",
      "    \"METADATA_SPEC_VERSION\": \"SINGLE_TABLE_V1\",\n",
      "    \"columns\": {\n",
      "        \"ContractNumber\": {\n",
      "            \"sdtype\": \"categorical\"\n",
      "        },\n",
      "        \"Switch_Flag\": {\n",
      "            \"sdtype\": \"boolean\"\n",
      "        },\n",
      "        \"Term_Passed\": {\n",
      "            \"sdtype\": \"numerical\"\n",
      "        },\n",
      "        \"Term_Remaining\": {\n",
      "            \"sdtype\": \"numerical\"\n",
      "        },\n",
      "        \"TermRemainingLTEQ_5\": {\n",
      "            \"sdtype\": \"numerical\"\n",
      "        },\n",
      "        \"TermRemainingLTEQ_10\": {\n",
      "            \"sdtype\": \"numerical\"\n",
      "        },\n",
      "        \"Age\": {\n",
      "            \"sdtype\": \"numerical\"\n",
      "        },\n",
      "        \"AnniversaryMth\": {\n",
      "            \"sdtype\": \"numerical\"\n",
      "        },\n",
      "        \"ProdCat\": {\n",
      "            \"sdtype\": \"categorical\"\n",
      "        },\n",
      "        \"ProdCode\": {\n",
      "            \"sdtype\": \"categorical\"\n",
      "        },\n",
      "        \"PolicyStatus\": {\n",
      "            \"sdtype\": \"categorical\"\n",
      "        },\n",
      "        \"SnapshotDt\": {\n",
      "            \"sdtype\": \"categorical\"\n",
      "        },\n",
      "        \"PolicyFeeType\": {\n",
      "            \"sdtype\": \"categorical\"\n",
      "        },\n",
      "        \"PricingVariant\": {\n",
      "            \"sdtype\": \"numerical\"\n",
      "        },\n",
      "        \"PayFreq\": {\n",
      "            \"sdtype\": \"numerical\"\n",
      "        },\n",
      "        \"IndexationPercent\": {\n",
      "            \"sdtype\": \"numerical\"\n",
      "        },\n",
      "        \"Premium\": {\n",
      "            \"sdtype\": \"numerical\"\n",
      "        },\n",
      "        \"PremiumCalcMethod\": {\n",
      "            \"sdtype\": \"categorical\"\n",
      "        },\n",
      "        \"ServicingBroker\": {\n",
      "            \"sdtype\": \"categorical\"\n",
      "        },\n",
      "        \"InitialBroker\": {\n",
      "            \"sdtype\": \"categorical\"\n",
      "        },\n",
      "        \"BrokerCategory\": {\n",
      "            \"sdtype\": \"categorical\"\n",
      "        },\n",
      "        \"InitialRate\": {\n",
      "            \"sdtype\": \"numerical\"\n",
      "        },\n",
      "        \"RenewalRate\": {\n",
      "            \"sdtype\": \"numerical\"\n",
      "        },\n",
      "        \"VIPType\": {\n",
      "            \"sdtype\": \"categorical\"\n",
      "        },\n",
      "        \"Nationality\": {\n",
      "            \"sdtype\": \"categorical\"\n",
      "        },\n",
      "        \"IsSmoker\": {\n",
      "            \"sdtype\": \"categorical\"\n",
      "        },\n",
      "        \"PoliticallyExposed\": {\n",
      "            \"sdtype\": \"categorical\"\n",
      "        },\n",
      "        \"BirthPlace\": {\n",
      "            \"sdtype\": \"categorical\"\n",
      "        },\n",
      "        \"Gender\": {\n",
      "            \"sdtype\": \"categorical\"\n",
      "        },\n",
      "        \"MaritalStatus\": {\n",
      "            \"sdtype\": \"categorical\"\n",
      "        },\n",
      "        \"PensionDisability\": {\n",
      "            \"sdtype\": \"numerical\"\n",
      "        },\n",
      "        \"WOPDisability\": {\n",
      "            \"sdtype\": \"numerical\"\n",
      "        },\n",
      "        \"AddressCity\": {\n",
      "            \"sdtype\": \"categorical\"\n",
      "        },\n",
      "        \"PartnerType\": {\n",
      "            \"sdtype\": \"categorical\"\n",
      "        },\n",
      "        \"EUSanctioned\": {\n",
      "            \"sdtype\": \"categorical\"\n",
      "        },\n",
      "        \"AddressDistrict\": {\n",
      "            \"sdtype\": \"categorical\"\n",
      "        },\n",
      "        \"Postal_Code\": {\n",
      "            \"sdtype\": \"numerical\"\n",
      "        },\n",
      "        \"Postal_Code_Name\": {\n",
      "            \"sdtype\": \"categorical\"\n",
      "        },\n",
      "        \"District\": {\n",
      "            \"sdtype\": \"categorical\"\n",
      "        },\n",
      "        \"State\": {\n",
      "            \"sdtype\": \"categorical\"\n",
      "        },\n",
      "        \"VN_MILIEU_CODE\": {\n",
      "            \"sdtype\": \"categorical\"\n",
      "        },\n",
      "        \"VN_TARGET_GROUP_CODE\": {\n",
      "            \"sdtype\": \"categorical\"\n",
      "        },\n",
      "        \"VN_MILIEU_DESCRIPTION\": {\n",
      "            \"sdtype\": \"categorical\"\n",
      "        },\n",
      "        \"VP_MILIEU_DESCRIPTION\": {\n",
      "            \"sdtype\": \"categorical\"\n",
      "        },\n",
      "        \"Term\": {\n",
      "            \"sdtype\": \"numerical\"\n",
      "        }\n",
      "    }\n",
      "}\n"
     ]
    },
    {
     "data": {
      "text/plain": [
       "{\n",
       "    \"METADATA_SPEC_VERSION\": \"SINGLE_TABLE_V1\",\n",
       "    \"columns\": {\n",
       "        \"ContractNumber\": {\n",
       "            \"sdtype\": \"categorical\"\n",
       "        },\n",
       "        \"Switch_Flag\": {\n",
       "            \"sdtype\": \"boolean\"\n",
       "        },\n",
       "        \"Term_Passed\": {\n",
       "            \"sdtype\": \"numerical\"\n",
       "        },\n",
       "        \"Term_Remaining\": {\n",
       "            \"sdtype\": \"numerical\"\n",
       "        },\n",
       "        \"TermRemainingLTEQ_5\": {\n",
       "            \"sdtype\": \"numerical\"\n",
       "        },\n",
       "        \"TermRemainingLTEQ_10\": {\n",
       "            \"sdtype\": \"numerical\"\n",
       "        },\n",
       "        \"Age\": {\n",
       "            \"sdtype\": \"numerical\"\n",
       "        },\n",
       "        \"AnniversaryMth\": {\n",
       "            \"sdtype\": \"numerical\"\n",
       "        },\n",
       "        \"ProdCat\": {\n",
       "            \"sdtype\": \"categorical\"\n",
       "        },\n",
       "        \"ProdCode\": {\n",
       "            \"sdtype\": \"categorical\"\n",
       "        },\n",
       "        \"PolicyStatus\": {\n",
       "            \"sdtype\": \"categorical\"\n",
       "        },\n",
       "        \"SnapshotDt\": {\n",
       "            \"sdtype\": \"categorical\"\n",
       "        },\n",
       "        \"PolicyFeeType\": {\n",
       "            \"sdtype\": \"categorical\"\n",
       "        },\n",
       "        \"PricingVariant\": {\n",
       "            \"sdtype\": \"numerical\"\n",
       "        },\n",
       "        \"PayFreq\": {\n",
       "            \"sdtype\": \"numerical\"\n",
       "        },\n",
       "        \"IndexationPercent\": {\n",
       "            \"sdtype\": \"numerical\"\n",
       "        },\n",
       "        \"Premium\": {\n",
       "            \"sdtype\": \"numerical\"\n",
       "        },\n",
       "        \"PremiumCalcMethod\": {\n",
       "            \"sdtype\": \"categorical\"\n",
       "        },\n",
       "        \"ServicingBroker\": {\n",
       "            \"sdtype\": \"categorical\"\n",
       "        },\n",
       "        \"InitialBroker\": {\n",
       "            \"sdtype\": \"categorical\"\n",
       "        },\n",
       "        \"BrokerCategory\": {\n",
       "            \"sdtype\": \"categorical\"\n",
       "        },\n",
       "        \"InitialRate\": {\n",
       "            \"sdtype\": \"numerical\"\n",
       "        },\n",
       "        \"RenewalRate\": {\n",
       "            \"sdtype\": \"numerical\"\n",
       "        },\n",
       "        \"VIPType\": {\n",
       "            \"sdtype\": \"categorical\"\n",
       "        },\n",
       "        \"Nationality\": {\n",
       "            \"sdtype\": \"categorical\"\n",
       "        },\n",
       "        \"IsSmoker\": {\n",
       "            \"sdtype\": \"categorical\"\n",
       "        },\n",
       "        \"PoliticallyExposed\": {\n",
       "            \"sdtype\": \"categorical\"\n",
       "        },\n",
       "        \"BirthPlace\": {\n",
       "            \"sdtype\": \"categorical\"\n",
       "        },\n",
       "        \"Gender\": {\n",
       "            \"sdtype\": \"categorical\"\n",
       "        },\n",
       "        \"MaritalStatus\": {\n",
       "            \"sdtype\": \"categorical\"\n",
       "        },\n",
       "        \"PensionDisability\": {\n",
       "            \"sdtype\": \"numerical\"\n",
       "        },\n",
       "        \"WOPDisability\": {\n",
       "            \"sdtype\": \"numerical\"\n",
       "        },\n",
       "        \"AddressCity\": {\n",
       "            \"sdtype\": \"categorical\"\n",
       "        },\n",
       "        \"PartnerType\": {\n",
       "            \"sdtype\": \"categorical\"\n",
       "        },\n",
       "        \"EUSanctioned\": {\n",
       "            \"sdtype\": \"categorical\"\n",
       "        },\n",
       "        \"AddressDistrict\": {\n",
       "            \"sdtype\": \"categorical\"\n",
       "        },\n",
       "        \"Postal_Code\": {\n",
       "            \"sdtype\": \"numerical\"\n",
       "        },\n",
       "        \"Postal_Code_Name\": {\n",
       "            \"sdtype\": \"categorical\"\n",
       "        },\n",
       "        \"District\": {\n",
       "            \"sdtype\": \"categorical\"\n",
       "        },\n",
       "        \"State\": {\n",
       "            \"sdtype\": \"categorical\"\n",
       "        },\n",
       "        \"VN_MILIEU_CODE\": {\n",
       "            \"sdtype\": \"categorical\"\n",
       "        },\n",
       "        \"VN_TARGET_GROUP_CODE\": {\n",
       "            \"sdtype\": \"categorical\"\n",
       "        },\n",
       "        \"VN_MILIEU_DESCRIPTION\": {\n",
       "            \"sdtype\": \"categorical\"\n",
       "        },\n",
       "        \"VP_MILIEU_DESCRIPTION\": {\n",
       "            \"sdtype\": \"categorical\"\n",
       "        },\n",
       "        \"Term\": {\n",
       "            \"sdtype\": \"numerical\"\n",
       "        }\n",
       "    }\n",
       "}"
      ]
     },
     "execution_count": 8,
     "metadata": {},
     "output_type": "execute_result"
    }
   ],
   "source": [
    "metadata.detect_from_dataframe(data=df_Switches_table)\n",
    "\n",
    "print('==========================')\n",
    "now = datetime.now()\n",
    "print(now)\n",
    "print('==========================')\n",
    "print(psutil.virtual_memory())\n",
    "print('==========================')\n",
    "\n",
    "\n",
    "#metadata\n",
    "print(\"metadata-\",metadata) \n",
    "metadata"
   ]
  },
  {
   "cell_type": "code",
   "execution_count": 9,
   "id": "405513fb",
   "metadata": {
    "scrolled": false
   },
   "outputs": [
    {
     "name": "stdout",
     "output_type": "stream",
     "text": [
      "==========================\n",
      "2024-08-05 22:18:41.266126\n",
      "==========================\n",
      "svmem(total=16756752384, available=6095462400, percent=63.6, used=10661289984, free=6095462400)\n",
      "==========================\n"
     ]
    },
    {
     "data": {
      "text/plain": [
       "{\n",
       "    \"METADATA_SPEC_VERSION\": \"SINGLE_TABLE_V1\",\n",
       "    \"columns\": {\n",
       "        \"ContractNumber\": {\n",
       "            \"sdtype\": \"categorical\"\n",
       "        },\n",
       "        \"Switch_Flag\": {\n",
       "            \"sdtype\": \"boolean\"\n",
       "        },\n",
       "        \"Term_Passed\": {\n",
       "            \"sdtype\": \"numerical\"\n",
       "        },\n",
       "        \"Term_Remaining\": {\n",
       "            \"sdtype\": \"numerical\"\n",
       "        },\n",
       "        \"TermRemainingLTEQ_5\": {\n",
       "            \"sdtype\": \"numerical\"\n",
       "        },\n",
       "        \"TermRemainingLTEQ_10\": {\n",
       "            \"sdtype\": \"numerical\"\n",
       "        },\n",
       "        \"Age\": {\n",
       "            \"sdtype\": \"numerical\"\n",
       "        },\n",
       "        \"AnniversaryMth\": {\n",
       "            \"sdtype\": \"numerical\"\n",
       "        },\n",
       "        \"ProdCat\": {\n",
       "            \"sdtype\": \"categorical\"\n",
       "        },\n",
       "        \"ProdCode\": {\n",
       "            \"sdtype\": \"categorical\"\n",
       "        },\n",
       "        \"PolicyStatus\": {\n",
       "            \"sdtype\": \"categorical\"\n",
       "        },\n",
       "        \"SnapshotDt\": {\n",
       "            \"sdtype\": \"datetime\",\n",
       "            \"datetime_format\": \"%Y-%m-%d\"\n",
       "        },\n",
       "        \"PolicyFeeType\": {\n",
       "            \"sdtype\": \"categorical\"\n",
       "        },\n",
       "        \"PricingVariant\": {\n",
       "            \"sdtype\": \"numerical\"\n",
       "        },\n",
       "        \"PayFreq\": {\n",
       "            \"sdtype\": \"numerical\"\n",
       "        },\n",
       "        \"IndexationPercent\": {\n",
       "            \"sdtype\": \"numerical\"\n",
       "        },\n",
       "        \"Premium\": {\n",
       "            \"sdtype\": \"numerical\"\n",
       "        },\n",
       "        \"PremiumCalcMethod\": {\n",
       "            \"sdtype\": \"categorical\"\n",
       "        },\n",
       "        \"ServicingBroker\": {\n",
       "            \"sdtype\": \"categorical\"\n",
       "        },\n",
       "        \"InitialBroker\": {\n",
       "            \"sdtype\": \"categorical\"\n",
       "        },\n",
       "        \"BrokerCategory\": {\n",
       "            \"sdtype\": \"categorical\"\n",
       "        },\n",
       "        \"InitialRate\": {\n",
       "            \"sdtype\": \"numerical\"\n",
       "        },\n",
       "        \"RenewalRate\": {\n",
       "            \"sdtype\": \"numerical\"\n",
       "        },\n",
       "        \"VIPType\": {\n",
       "            \"sdtype\": \"categorical\"\n",
       "        },\n",
       "        \"Nationality\": {\n",
       "            \"sdtype\": \"categorical\"\n",
       "        },\n",
       "        \"IsSmoker\": {\n",
       "            \"sdtype\": \"categorical\"\n",
       "        },\n",
       "        \"PoliticallyExposed\": {\n",
       "            \"sdtype\": \"categorical\"\n",
       "        },\n",
       "        \"BirthPlace\": {\n",
       "            \"sdtype\": \"categorical\"\n",
       "        },\n",
       "        \"Gender\": {\n",
       "            \"sdtype\": \"categorical\"\n",
       "        },\n",
       "        \"MaritalStatus\": {\n",
       "            \"sdtype\": \"categorical\"\n",
       "        },\n",
       "        \"PensionDisability\": {\n",
       "            \"sdtype\": \"numerical\"\n",
       "        },\n",
       "        \"WOPDisability\": {\n",
       "            \"sdtype\": \"numerical\"\n",
       "        },\n",
       "        \"AddressCity\": {\n",
       "            \"sdtype\": \"categorical\"\n",
       "        },\n",
       "        \"PartnerType\": {\n",
       "            \"sdtype\": \"categorical\"\n",
       "        },\n",
       "        \"EUSanctioned\": {\n",
       "            \"sdtype\": \"categorical\"\n",
       "        },\n",
       "        \"AddressDistrict\": {\n",
       "            \"sdtype\": \"categorical\"\n",
       "        },\n",
       "        \"Postal_Code\": {\n",
       "            \"sdtype\": \"numerical\"\n",
       "        },\n",
       "        \"Postal_Code_Name\": {\n",
       "            \"sdtype\": \"categorical\"\n",
       "        },\n",
       "        \"District\": {\n",
       "            \"sdtype\": \"categorical\"\n",
       "        },\n",
       "        \"State\": {\n",
       "            \"sdtype\": \"categorical\"\n",
       "        },\n",
       "        \"VN_MILIEU_CODE\": {\n",
       "            \"sdtype\": \"categorical\"\n",
       "        },\n",
       "        \"VN_TARGET_GROUP_CODE\": {\n",
       "            \"sdtype\": \"categorical\"\n",
       "        },\n",
       "        \"VN_MILIEU_DESCRIPTION\": {\n",
       "            \"sdtype\": \"categorical\"\n",
       "        },\n",
       "        \"VP_MILIEU_DESCRIPTION\": {\n",
       "            \"sdtype\": \"categorical\"\n",
       "        },\n",
       "        \"Term\": {\n",
       "            \"sdtype\": \"numerical\"\n",
       "        }\n",
       "    }\n",
       "}"
      ]
     },
     "execution_count": 9,
     "metadata": {},
     "output_type": "execute_result"
    }
   ],
   "source": [
    "metadata.update_column(\n",
    "    column_name='SnapshotDt',\n",
    "    sdtype='datetime',\n",
    "    datetime_format='%Y-%m-%d')\n",
    "\n",
    "print('==========================')\n",
    "now = datetime.now()\n",
    "print(now)\n",
    "print('==========================')\n",
    "print(psutil.virtual_memory())\n",
    "print('==========================')\n",
    "\n",
    "metadata"
   ]
  },
  {
   "cell_type": "markdown",
   "id": "caba1b01",
   "metadata": {},
   "source": [
    "# Create a synthesizer\n",
    "## Set enforce_min_max_values to ensure the synthetic data adheres to the min/max boundaries set by the real data.\n",
    "## Use enforce_rounding to ensure rounding is not enforced.  The Age column is not rounded."
   ]
  },
  {
   "cell_type": "code",
   "execution_count": 10,
   "id": "0ce681c0",
   "metadata": {},
   "outputs": [
    {
     "name": "stdout",
     "output_type": "stream",
     "text": [
      "==========================\n",
      "2024-08-05 22:18:41.285792\n",
      "==========================\n",
      "svmem(total=16756752384, available=6095380480, percent=63.6, used=10661371904, free=6095380480)\n",
      "==========================\n"
     ]
    },
    {
     "name": "stderr",
     "output_type": "stream",
     "text": [
      "C:\\Users\\m033\\Anaconda3\\lib\\site-packages\\rdt\\transformers\\base.py:132: FutureWarning: Future versions of RDT will not support the 'model_missing_values' parameter. Please switch to using the 'missing_value_generation' parameter to select your strategy.\n",
      "  warnings.warn(\n"
     ]
    }
   ],
   "source": [
    "synthesizer = GaussianCopulaSynthesizer(\n",
    "    metadata, # required\n",
    "    enforce_min_max_values=True,\n",
    "    enforce_rounding=False,\n",
    "    numerical_distributions={\n",
    "        'PricingVariant': 'norm',\n",
    "        'IndexationPercent': 'norm',\n",
    "        'Premium': 'norm',\n",
    "        'InitialRate': 'norm',\n",
    "        'RenewalRate': 'norm',\n",
    "        'PayFreq': 'norm'\n",
    "    },\n",
    "    default_distribution='norm'\n",
    ")\n",
    "\n",
    "print('==========================')\n",
    "now = datetime.now()\n",
    "print(now)\n",
    "print('==========================')\n",
    "print(psutil.virtual_memory())\n",
    "print('==========================')"
   ]
  },
  {
   "cell_type": "markdown",
   "id": "56532865",
   "metadata": {},
   "source": [
    "### View all parameters used by the synthesizer, mine and the default ones."
   ]
  },
  {
   "cell_type": "code",
   "execution_count": 11,
   "id": "b013b528",
   "metadata": {},
   "outputs": [
    {
     "name": "stdout",
     "output_type": "stream",
     "text": [
      "==========================\n",
      "2024-08-05 22:18:41.304261\n",
      "==========================\n",
      "svmem(total=16756752384, available=6095536128, percent=63.6, used=10661216256, free=6095536128)\n",
      "==========================\n"
     ]
    }
   ],
   "source": [
    "parameters=synthesizer.get_parameters()\n",
    "parameters\n",
    "\n",
    "\n",
    "print('==========================')\n",
    "now = datetime.now()\n",
    "print(now)\n",
    "print('==========================')\n",
    "print(psutil.virtual_memory())\n",
    "print('==========================')"
   ]
  },
  {
   "cell_type": "markdown",
   "id": "139dbdb8",
   "metadata": {},
   "source": [
    "### View the metadata objects included for the synthesizer"
   ]
  },
  {
   "cell_type": "code",
   "execution_count": 22,
   "id": "8e181e62",
   "metadata": {},
   "outputs": [
    {
     "data": {
      "text/plain": [
       "{\n",
       "    \"METADATA_SPEC_VERSION\": \"SINGLE_TABLE_V1\",\n",
       "    \"columns\": {\n",
       "        \"ContractNumber\": {\n",
       "            \"sdtype\": \"categorical\"\n",
       "        },\n",
       "        \"Switch_Flag\": {\n",
       "            \"sdtype\": \"boolean\"\n",
       "        },\n",
       "        \"Term_Passed\": {\n",
       "            \"sdtype\": \"numerical\"\n",
       "        },\n",
       "        \"Term_Remaining\": {\n",
       "            \"sdtype\": \"numerical\"\n",
       "        },\n",
       "        \"TermRemainingLTEQ_5\": {\n",
       "            \"sdtype\": \"numerical\"\n",
       "        },\n",
       "        \"TermRemainingLTEQ_10\": {\n",
       "            \"sdtype\": \"numerical\"\n",
       "        },\n",
       "        \"Age\": {\n",
       "            \"sdtype\": \"numerical\"\n",
       "        },\n",
       "        \"AnniversaryMth\": {\n",
       "            \"sdtype\": \"numerical\"\n",
       "        },\n",
       "        \"ProdCat\": {\n",
       "            \"sdtype\": \"categorical\"\n",
       "        },\n",
       "        \"ProdCode\": {\n",
       "            \"sdtype\": \"categorical\"\n",
       "        },\n",
       "        \"PolicyStatus\": {\n",
       "            \"sdtype\": \"categorical\"\n",
       "        },\n",
       "        \"SnapshotDt\": {\n",
       "            \"sdtype\": \"datetime\",\n",
       "            \"datetime_format\": \"%Y-%m-%d\"\n",
       "        },\n",
       "        \"PolicyFeeType\": {\n",
       "            \"sdtype\": \"categorical\"\n",
       "        },\n",
       "        \"PricingVariant\": {\n",
       "            \"sdtype\": \"numerical\"\n",
       "        },\n",
       "        \"PayFreq\": {\n",
       "            \"sdtype\": \"numerical\"\n",
       "        },\n",
       "        \"IndexationPercent\": {\n",
       "            \"sdtype\": \"numerical\"\n",
       "        },\n",
       "        \"Premium\": {\n",
       "            \"sdtype\": \"numerical\"\n",
       "        },\n",
       "        \"PremiumCalcMethod\": {\n",
       "            \"sdtype\": \"categorical\"\n",
       "        },\n",
       "        \"ServicingBroker\": {\n",
       "            \"sdtype\": \"categorical\"\n",
       "        },\n",
       "        \"InitialBroker\": {\n",
       "            \"sdtype\": \"categorical\"\n",
       "        },\n",
       "        \"BrokerCategory\": {\n",
       "            \"sdtype\": \"categorical\"\n",
       "        },\n",
       "        \"InitialRate\": {\n",
       "            \"sdtype\": \"numerical\"\n",
       "        },\n",
       "        \"RenewalRate\": {\n",
       "            \"sdtype\": \"numerical\"\n",
       "        },\n",
       "        \"VIPType\": {\n",
       "            \"sdtype\": \"categorical\"\n",
       "        },\n",
       "        \"Nationality\": {\n",
       "            \"sdtype\": \"categorical\"\n",
       "        },\n",
       "        \"IsSmoker\": {\n",
       "            \"sdtype\": \"categorical\"\n",
       "        },\n",
       "        \"PoliticallyExposed\": {\n",
       "            \"sdtype\": \"categorical\"\n",
       "        },\n",
       "        \"BirthPlace\": {\n",
       "            \"sdtype\": \"categorical\"\n",
       "        },\n",
       "        \"Gender\": {\n",
       "            \"sdtype\": \"categorical\"\n",
       "        },\n",
       "        \"MaritalStatus\": {\n",
       "            \"sdtype\": \"categorical\"\n",
       "        },\n",
       "        \"PensionDisability\": {\n",
       "            \"sdtype\": \"numerical\"\n",
       "        },\n",
       "        \"WOPDisability\": {\n",
       "            \"sdtype\": \"numerical\"\n",
       "        },\n",
       "        \"AddressCity\": {\n",
       "            \"sdtype\": \"categorical\"\n",
       "        },\n",
       "        \"PartnerType\": {\n",
       "            \"sdtype\": \"categorical\"\n",
       "        },\n",
       "        \"EUSanctioned\": {\n",
       "            \"sdtype\": \"categorical\"\n",
       "        },\n",
       "        \"AddressDistrict\": {\n",
       "            \"sdtype\": \"categorical\"\n",
       "        },\n",
       "        \"Postal_Code\": {\n",
       "            \"sdtype\": \"numerical\"\n",
       "        },\n",
       "        \"Postal_Code_Name\": {\n",
       "            \"sdtype\": \"categorical\"\n",
       "        },\n",
       "        \"District\": {\n",
       "            \"sdtype\": \"categorical\"\n",
       "        },\n",
       "        \"State\": {\n",
       "            \"sdtype\": \"categorical\"\n",
       "        },\n",
       "        \"VN_MILIEU_CODE\": {\n",
       "            \"sdtype\": \"categorical\"\n",
       "        },\n",
       "        \"VN_TARGET_GROUP_CODE\": {\n",
       "            \"sdtype\": \"categorical\"\n",
       "        },\n",
       "        \"VN_MILIEU_DESCRIPTION\": {\n",
       "            \"sdtype\": \"categorical\"\n",
       "        },\n",
       "        \"VP_MILIEU_DESCRIPTION\": {\n",
       "            \"sdtype\": \"categorical\"\n",
       "        },\n",
       "        \"Term\": {\n",
       "            \"sdtype\": \"numerical\"\n",
       "        }\n",
       "    }\n",
       "}"
      ]
     },
     "execution_count": 22,
     "metadata": {},
     "output_type": "execute_result"
    }
   ],
   "source": [
    "metadata = synthesizer.get_metadata()\n",
    "metadata\n",
    "\n",
    "print('==========================')\n",
    "now = datetime.now()\n",
    "print(now)\n",
    "print('==========================')\n",
    "print(psutil.virtual_memory())\n",
    "print('==========================')"
   ]
  },
  {
   "cell_type": "markdown",
   "id": "fc4c8320",
   "metadata": {},
   "source": [
    "## Use the fit method to train an ML model on the data. \n",
    "### The synthesizer uses Gaussian Copulas to learn  distribution of the real data. This happens in two stages.  It learns the distribution of each individual column (the marginal distribution)"
   ]
  },
  {
   "cell_type": "code",
   "execution_count": 23,
   "id": "910ecbd6",
   "metadata": {},
   "outputs": [],
   "source": [
    "synthesizer.fit(df_Switches_table)\n",
    "\n",
    "print('==========================')\n",
    "now = datetime.now()\n",
    "print(now)\n",
    "print('==========================')\n",
    "print(psutil.virtual_memory())\n",
    "print('==========================')"
   ]
  },
  {
   "cell_type": "markdown",
   "id": "a6f8f8f4",
   "metadata": {},
   "source": [
    "## The get_learned_distributions shows  the marginal distributions learned by teh model to estimate the shape of each column.  It outputs a dictionary that maps the name of each learned column to the distribution that estimates its shape."
   ]
  },
  {
   "cell_type": "code",
   "execution_count": 24,
   "id": "c2983e91",
   "metadata": {},
   "outputs": [
    {
     "name": "stdout",
     "output_type": "stream",
     "text": [
      "==========================\n",
      "2024-07-26 21:43:54.778966\n",
      "==========================\n",
      "svmem(total=16756752384, available=10078834688, percent=39.9, used=6677917696, free=10078834688)\n",
      "==========================\n"
     ]
    }
   ],
   "source": [
    "synthesizer.get_learned_distributions()\n",
    "\n",
    "print('==========================')\n",
    "now = datetime.now()\n",
    "print(now)\n",
    "print('==========================')\n",
    "print(psutil.virtual_memory())\n",
    "print('==========================')"
   ]
  },
  {
   "cell_type": "markdown",
   "id": "38fa194d",
   "metadata": {},
   "source": [
    "## Save the synthesizer as a pickle file to use on the real data, to generate synthetic data."
   ]
  },
  {
   "cell_type": "code",
   "execution_count": 25,
   "id": "e9a9cd13",
   "metadata": {},
   "outputs": [
    {
     "name": "stdout",
     "output_type": "stream",
     "text": [
      "==========================\n",
      "2024-07-26 21:43:55.064299\n",
      "==========================\n",
      "svmem(total=16756752384, available=10033778688, percent=40.1, used=6722973696, free=10033778688)\n",
      "==========================\n"
     ]
    }
   ],
   "source": [
    "synthesizer.save(\n",
    "    filepath=home_folder + '\\switch_data_synthesizer.pkl'\n",
    ")\n",
    "\n",
    "print('==========================')\n",
    "now = datetime.now()\n",
    "print(now)\n",
    "print('==========================')\n",
    "print(psutil.virtual_memory())\n",
    "print('==========================')"
   ]
  },
  {
   "cell_type": "markdown",
   "id": "d392d74c",
   "metadata": {},
   "source": [
    "## Now reload this synthesiser from teh pickle file to use on the real data."
   ]
  },
  {
   "cell_type": "code",
   "execution_count": 31,
   "id": "27a11c6d",
   "metadata": {},
   "outputs": [
    {
     "name": "stdout",
     "output_type": "stream",
     "text": [
      "==========================\n",
      "2024-07-26 22:48:51.561830\n",
      "==========================\n",
      "svmem(total=16756752384, available=11960406016, percent=28.6, used=4796346368, free=11960406016)\n",
      "==========================\n"
     ]
    }
   ],
   "source": [
    "synthesizer = GaussianCopulaSynthesizer.load(\n",
    "    filepath=home_folder + '\\switch_data_synthesizer.pkl'\n",
    ")\n",
    "\n",
    "print('==========================')\n",
    "now = datetime.now()\n",
    "print(now)\n",
    "print('==========================')\n",
    "print(psutil.virtual_memory())\n",
    "print('==========================')"
   ]
  },
  {
   "cell_type": "markdown",
   "id": "ec9b7b3a",
   "metadata": {},
   "source": [
    "## Create the synthetic data from the synthesiser."
   ]
  },
  {
   "cell_type": "code",
   "execution_count": 32,
   "id": "060f662b",
   "metadata": {},
   "outputs": [
    {
     "name": "stdout",
     "output_type": "stream",
     "text": [
      "==========================\n",
      "2024-07-26 22:55:47.268118\n",
      "==========================\n",
      "svmem(total=16756752384, available=9934585856, percent=40.7, used=6822166528, free=9934585856)\n",
      "==========================\n",
      "synthetic_data- "
     ]
    },
    {
     "name": "stderr",
     "output_type": "stream",
     "text": [
      "IOPub data rate exceeded.\n",
      "The notebook server will temporarily stop sending output\n",
      "to the client in order to avoid crashing it.\n",
      "To change this limit, set the config variable\n",
      "`--NotebookApp.iopub_data_rate_limit`.\n",
      "\n",
      "Current values:\n",
      "NotebookApp.iopub_data_rate_limit=1000000.0 (bytes/sec)\n",
      "NotebookApp.rate_limit_window=3.0 (secs)\n",
      "\n"
     ]
    }
   ],
   "source": [
    "synthetic_data = synthesizer.sample(num_rows=3100000)\n",
    "\n",
    "print('==========================')\n",
    "now = datetime.now()\n",
    "print(now)\n",
    "print('==========================')\n",
    "print(psutil.virtual_memory())\n",
    "print('==========================')\n",
    "\n",
    "#synthetic_data\n",
    "print(\"synthetic_data-\",synthetic_data) "
   ]
  },
  {
   "cell_type": "markdown",
   "id": "484d7caf",
   "metadata": {},
   "source": [
    "## Save the syntheised data to file."
   ]
  },
  {
   "cell_type": "code",
   "execution_count": 33,
   "id": "4818636b",
   "metadata": {},
   "outputs": [
    {
     "name": "stdout",
     "output_type": "stream",
     "text": [
      "==========================\n",
      "2024-07-26 23:09:20.765272\n",
      "==========================\n",
      "svmem(total=16756752384, available=11413663744, percent=31.9, used=5343088640, free=11413663744)\n",
      "==========================\n",
      "3100000\n"
     ]
    }
   ],
   "source": [
    "# save the data as a CSV\n",
    "synthetic_data.to_csv('data/synthetic_data_tranche1.csv', index=False)\n",
    "\n",
    "print('==========================')\n",
    "now = datetime.now()\n",
    "print(now)\n",
    "print('==========================')\n",
    "print(psutil.virtual_memory())\n",
    "print('==========================')\n",
    "\n",
    "print(len(synthetic_data.index))"
   ]
  },
  {
   "cell_type": "code",
   "execution_count": 34,
   "id": "58b22070",
   "metadata": {},
   "outputs": [
    {
     "name": "stdout",
     "output_type": "stream",
     "text": [
      "3100000\n"
     ]
    }
   ],
   "source": [
    "print(len(synthetic_data.index))"
   ]
  },
  {
   "cell_type": "code",
   "execution_count": 35,
   "id": "f371e07a",
   "metadata": {},
   "outputs": [
    {
     "name": "stdout",
     "output_type": "stream",
     "text": [
      "Variable            Type         Data/Info\n",
      "------------------------------------------\n",
      "df_Switches_table   DataFrame            ContractNumber  S<...>100000 rows x 45 columns]\n",
      "synthetic_data      DataFrame            ContractNumber  S<...>100000 rows x 45 columns]\n"
     ]
    }
   ],
   "source": [
    "%whos DataFrame"
   ]
  },
  {
   "cell_type": "code",
   "execution_count": 36,
   "id": "e9977ae7",
   "metadata": {},
   "outputs": [],
   "source": [
    "del df_Switches_table"
   ]
  },
  {
   "cell_type": "markdown",
   "id": "7290ae54",
   "metadata": {},
   "source": [
    "## Create a Python dictionary that corresponds to the metadata."
   ]
  },
  {
   "cell_type": "code",
   "execution_count": 37,
   "id": "8c3c10cf",
   "metadata": {},
   "outputs": [
    {
     "data": {
      "text/plain": [
       "{'METADATA_SPEC_VERSION': 'SINGLE_TABLE_V1',\n",
       " 'columns': {'ContractNumber': {'sdtype': 'categorical'},\n",
       "  'Switch_Flag': {'sdtype': 'boolean'},\n",
       "  'Term_Passed': {'sdtype': 'numerical'},\n",
       "  'Term_Remaining': {'sdtype': 'numerical'},\n",
       "  'TermRemainingLTEQ_5': {'sdtype': 'numerical'},\n",
       "  'TermRemainingLTEQ_10': {'sdtype': 'numerical'},\n",
       "  'Age': {'sdtype': 'numerical'},\n",
       "  'AnniversaryMth': {'sdtype': 'numerical'},\n",
       "  'ProdCat': {'sdtype': 'categorical'},\n",
       "  'ProdCode': {'sdtype': 'categorical'},\n",
       "  'PolicyStatus': {'sdtype': 'categorical'},\n",
       "  'SnapshotDt': {'sdtype': 'datetime', 'datetime_format': '%Y-%m-%d'},\n",
       "  'PolicyFeeType': {'sdtype': 'categorical'},\n",
       "  'PricingVariant': {'sdtype': 'numerical'},\n",
       "  'PayFreq': {'sdtype': 'numerical'},\n",
       "  'IndexationPercent': {'sdtype': 'numerical'},\n",
       "  'Premium': {'sdtype': 'numerical'},\n",
       "  'PremiumCalcMethod': {'sdtype': 'categorical'},\n",
       "  'ServicingBroker': {'sdtype': 'categorical'},\n",
       "  'InitialBroker': {'sdtype': 'categorical'},\n",
       "  'BrokerCategory': {'sdtype': 'categorical'},\n",
       "  'InitialRate': {'sdtype': 'numerical'},\n",
       "  'RenewalRate': {'sdtype': 'numerical'},\n",
       "  'VIPType': {'sdtype': 'categorical'},\n",
       "  'Nationality': {'sdtype': 'categorical'},\n",
       "  'IsSmoker': {'sdtype': 'categorical'},\n",
       "  'PoliticallyExposed': {'sdtype': 'categorical'},\n",
       "  'BirthPlace': {'sdtype': 'categorical'},\n",
       "  'Gender': {'sdtype': 'categorical'},\n",
       "  'MaritalStatus': {'sdtype': 'categorical'},\n",
       "  'PensionDisability': {'sdtype': 'numerical'},\n",
       "  'WOPDisability': {'sdtype': 'numerical'},\n",
       "  'AddressCity': {'sdtype': 'categorical'},\n",
       "  'PartnerType': {'sdtype': 'categorical'},\n",
       "  'EUSanctioned': {'sdtype': 'categorical'},\n",
       "  'AddressDistrict': {'sdtype': 'categorical'},\n",
       "  'Postal_Code': {'sdtype': 'numerical'},\n",
       "  'Postal_Code_Name': {'sdtype': 'categorical'},\n",
       "  'District': {'sdtype': 'categorical'},\n",
       "  'State': {'sdtype': 'categorical'},\n",
       "  'VN_MILIEU_CODE': {'sdtype': 'categorical'},\n",
       "  'VN_TARGET_GROUP_CODE': {'sdtype': 'categorical'},\n",
       "  'VN_MILIEU_DESCRIPTION': {'sdtype': 'categorical'},\n",
       "  'VP_MILIEU_DESCRIPTION': {'sdtype': 'categorical'},\n",
       "  'Term': {'sdtype': 'numerical'}}}"
      ]
     },
     "execution_count": 37,
     "metadata": {},
     "output_type": "execute_result"
    }
   ],
   "source": [
    "python_dict = metadata.to_dict()\n",
    "python_dict"
   ]
  },
  {
   "cell_type": "code",
   "execution_count": null,
   "id": "fafaab44",
   "metadata": {},
   "outputs": [],
   "source": []
  },
  {
   "cell_type": "code",
   "execution_count": null,
   "id": "c24d8f75",
   "metadata": {},
   "outputs": [],
   "source": []
  },
  {
   "cell_type": "code",
   "execution_count": 62,
   "id": "0bee20c2",
   "metadata": {},
   "outputs": [
    {
     "name": "stdout",
     "output_type": "stream",
     "text": [
      "Variable         Type         Data/Info\n",
      "---------------------------------------\n",
      "Switches_table   DataFrame              POL_NUMB  API_T<...>[102975 rows x 4 columns]\n",
      "synthetic_data   DataFrame          POL_NUMB           <...>18527.459563     202205  \n"
     ]
    }
   ],
   "source": [
    "%whos DataFrame"
   ]
  },
  {
   "cell_type": "code",
   "execution_count": 63,
   "id": "3a654038",
   "metadata": {},
   "outputs": [
    {
     "data": {
      "text/plain": [
       "27.75071840555521"
      ]
     },
     "execution_count": 63,
     "metadata": {},
     "output_type": "execute_result"
    }
   ],
   "source": [
    "psutil.virtual_memory().available * 100 / psutil.virtual_memory().total"
   ]
  },
  {
   "cell_type": "code",
   "execution_count": null,
   "id": "eedb528c",
   "metadata": {},
   "outputs": [],
   "source": []
  }
 ],
 "metadata": {
  "kernelspec": {
   "display_name": "Python 3 (ipykernel)",
   "language": "python",
   "name": "python3"
  },
  "language_info": {
   "codemirror_mode": {
    "name": "ipython",
    "version": 3
   },
   "file_extension": ".py",
   "mimetype": "text/x-python",
   "name": "python",
   "nbconvert_exporter": "python",
   "pygments_lexer": "ipython3",
   "version": "3.8.8"
  }
 },
 "nbformat": 4,
 "nbformat_minor": 5
}
