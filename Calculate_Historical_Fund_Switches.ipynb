{
 "cells": [
  {
   "cell_type": "markdown",
   "id": "a4c7540b",
   "metadata": {},
   "source": [
    "Import the libraries needed"
   ]
  },
  {
   "cell_type": "code",
   "execution_count": 1,
   "id": "96b7fd46",
   "metadata": {},
   "outputs": [
    {
     "name": "stderr",
     "output_type": "stream",
     "text": [
      "C:\\Users\\m033\\Anaconda3\\lib\\site-packages\\requests\\__init__.py:109: RequestsDependencyWarning: urllib3 (1.26.16) or chardet (3.0.0)/charset_normalizer (2.0.4) doesn't match a supported version!\n",
      "  warnings.warn(\n"
     ]
    }
   ],
   "source": [
    "import pandas as pd\n",
    "from pandas.tseries.offsets import DateOffset\n",
    "from datetime import datetime\n",
    "import psutil\n",
    "from datetime import datetime\n",
    "import psutil\n",
    "\n",
    "import numpy as np\n",
    "import os\n",
    "import pyodbc\n",
    "pyodbc.drivers()\n",
    "\n",
    "# For the Yahoo Finance api\n",
    "from pandas_datareader import data as pdr\n",
    "import yfinance as yf\n",
    "yf.pdr_override() \n",
    "\n",
    "import seaborn as sns"
   ]
  },
  {
   "cell_type": "markdown",
   "id": "b0328df7",
   "metadata": {},
   "source": [
    "### All the data used has been provisined in Get_The_Data.ipynb"
   ]
  },
  {
   "cell_type": "code",
   "execution_count": 2,
   "id": "2c2784d6",
   "metadata": {},
   "outputs": [
    {
     "name": "stdout",
     "output_type": "stream",
     "text": [
      "==========================\n",
      "2024-08-05 21:28:57.191121\n",
      "==========================\n",
      "svmem(total=16756752384, available=6176501760, percent=63.1, used=10580250624, free=6176501760)\n",
      "==========================\n"
     ]
    }
   ],
   "source": [
    "pd.set_option('max_row', None)\n",
    "#pd.options.display.max_rows = 1000\n",
    "\n",
    "# Set a value for the home folder.\n",
    "home_folder = \".\"\n",
    "\n",
    "# Set values for the various paths.\n",
    "input_path = home_folder + \"\\data\"\n",
    "\n",
    "cutoff_date = '20191231'\n",
    "\n",
    "print('==========================')\n",
    "now = datetime.now()\n",
    "print(now)\n",
    "print('==========================')\n",
    "print(psutil.virtual_memory())\n",
    "print('==========================')\n"
   ]
  },
  {
   "cell_type": "markdown",
   "id": "18b455d5",
   "metadata": {},
   "source": [
    "### Database connections and SQL to retrieve the various data needed."
   ]
  },
  {
   "cell_type": "code",
   "execution_count": 3,
   "id": "3335d0e4",
   "metadata": {},
   "outputs": [],
   "source": [
    "pd.set_option('max_row', None)\n",
    "#pd.options.display.max_rows = 1000\n",
    "\n",
    "# Set a value for the home folder.\n",
    "home_folder = \".\"\n",
    "\n",
    "# Set values for the various paths.\n",
    "input_path = home_folder + \"\\data\"\n"
   ]
  },
  {
   "cell_type": "markdown",
   "id": "a351eae8",
   "metadata": {},
   "source": [
    "# 1. Get all switchable policies"
   ]
  },
  {
   "cell_type": "code",
   "execution_count": 4,
   "id": "65fcc403",
   "metadata": {},
   "outputs": [
    {
     "name": "stdout",
     "output_type": "stream",
     "text": [
      "8411354\n",
      "ContractNumber    object\n",
      "ProdCat           object\n",
      "ProdCode          object\n",
      "PolicyStatus      object\n",
      "CoverEndDt        object\n",
      "SnapshotDt        object\n",
      "SnapshotYrMth      int64\n",
      "dtype: object\n",
      "2024-08-05 21:29:09.935805\n",
      "==========================\n"
     ]
    }
   ],
   "source": [
    "# giving directory name\n",
    "filename = input_path + '\\Full_Population.csv'\n",
    "df_Horizon = pd.read_csv(filename, delimiter=',',low_memory=False, header=0)\n",
    "\n",
    "# print stats.\n",
    "print(len(df_Horizon.index))\n",
    "print(df_Horizon.dtypes)\n",
    "\n",
    "now = datetime.now()\n",
    "print(now)\n",
    "print('==========================')\n",
    "\n",
    "# No displays to protect PII data\n",
    "#df_Horizon.head(5)"
   ]
  },
  {
   "cell_type": "markdown",
   "id": "9bfdb1d3",
   "metadata": {},
   "source": [
    "## Filter to only take rows since 2020."
   ]
  },
  {
   "cell_type": "code",
   "execution_count": 5,
   "id": "40908edc",
   "metadata": {},
   "outputs": [
    {
     "name": "stdout",
     "output_type": "stream",
     "text": [
      "6012382\n",
      "2024-08-05 21:29:10.789491\n",
      "==========================\n",
      "ContractNumber    object\n",
      "ProdCat           object\n",
      "ProdCode          object\n",
      "PolicyStatus      object\n",
      "CoverEndDt        object\n",
      "SnapshotDt        object\n",
      "SnapshotYrMth      int64\n",
      "dtype: object\n"
     ]
    }
   ],
   "source": [
    "#df_Horizon['SnapshotDt'] = pd.to_datetime(df_Horizon['SnapshotDt'])\n",
    "#df_Horizon['SnapshotDtStr'] = df_Horizon['SnapshotDt'].astype(str)\n",
    "df_Horizon = df_Horizon[df_Horizon.SnapshotYrMth > 201912]\n",
    "\n",
    "# print stats.\n",
    "print(len(df_Horizon.index))\n",
    "now = datetime.now()\n",
    "print(now)\n",
    "print('==========================')\n",
    "\n",
    "print(df_Horizon.dtypes)\n",
    "# No displays to protect PII data\n",
    "#df_Horizon.head(5)"
   ]
  },
  {
   "cell_type": "markdown",
   "id": "ed056a7d",
   "metadata": {},
   "source": [
    "## Set the dates for historical switches."
   ]
  },
  {
   "cell_type": "code",
   "execution_count": 6,
   "id": "a70d985a",
   "metadata": {},
   "outputs": [
    {
     "name": "stdout",
     "output_type": "stream",
     "text": [
      "6012382\n",
      "2024-08-05 21:38:38.326412\n",
      "==========================\n",
      "ContractNumber    object\n",
      "ProdCat           object\n",
      "ProdCode          object\n",
      "PolicyStatus      object\n",
      "CoverEndDt        object\n",
      "SnapshotDt        object\n",
      "SnapshotYrMth      int64\n",
      "3_Months_Ago       int32\n",
      "6_Months_Ago       int32\n",
      "1_Year_Ago         int32\n",
      "2_Year_Ago         int32\n",
      "3_Year_Ago         int32\n",
      "4_Year_Ago         int32\n",
      "5_Year_Ago         int32\n",
      "dtype: object\n"
     ]
    }
   ],
   "source": [
    "df_Horizon['3_Months_Ago'] = pd.to_datetime(df_Horizon['SnapshotDt'])\n",
    "df_Horizon['3_Months_Ago'] = df_Horizon['3_Months_Ago'] + DateOffset(months=-3)\n",
    "df_Horizon['3_Months_Ago'] = df_Horizon['3_Months_Ago'].dt.strftime('%Y%m%d')\n",
    "df_Horizon[\"3_Months_Ago\"] = df_Horizon['3_Months_Ago'].str.replace(\"-\",\"\").astype(int)\n",
    "\n",
    "df_Horizon['6_Months_Ago'] = pd.to_datetime(df_Horizon['SnapshotDt'])\n",
    "df_Horizon['6_Months_Ago'] = df_Horizon['6_Months_Ago'] + DateOffset(months=-6)\n",
    "df_Horizon['6_Months_Ago'] = df_Horizon['6_Months_Ago'].dt.strftime('%Y%m%d')\n",
    "df_Horizon[\"6_Months_Ago\"] = df_Horizon['6_Months_Ago'].str.replace(\"-\",\"\").astype(int)\n",
    "\n",
    "df_Horizon['1_Year_Ago'] = pd.to_datetime(df_Horizon['SnapshotDt'])\n",
    "df_Horizon['1_Year_Ago'] = df_Horizon['1_Year_Ago'] + DateOffset(months=-12)\n",
    "df_Horizon['1_Year_Ago'] = df_Horizon['1_Year_Ago'].dt.strftime('%Y%m%d')\n",
    "df_Horizon[\"1_Year_Ago\"] = df_Horizon['1_Year_Ago'].str.replace(\"-\",\"\").astype(int)\n",
    "\n",
    "df_Horizon['2_Year_Ago'] = pd.to_datetime(df_Horizon['SnapshotDt'])\n",
    "df_Horizon['2_Year_Ago'] = df_Horizon['2_Year_Ago'] + DateOffset(months=-24)\n",
    "df_Horizon['2_Year_Ago'] = df_Horizon['2_Year_Ago'].dt.strftime('%Y%m%d')\n",
    "df_Horizon[\"2_Year_Ago\"] = df_Horizon['2_Year_Ago'].str.replace(\"-\",\"\").astype(int)\n",
    "\n",
    "df_Horizon['3_Year_Ago'] = pd.to_datetime(df_Horizon['SnapshotDt'])\n",
    "df_Horizon['3_Year_Ago'] = df_Horizon['3_Year_Ago'] + DateOffset(months=-36)\n",
    "df_Horizon['3_Year_Ago'] = df_Horizon['3_Year_Ago'].dt.strftime('%Y%m%d')\n",
    "df_Horizon[\"3_Year_Ago\"] = df_Horizon['3_Year_Ago'].str.replace(\"-\",\"\").astype(int)\n",
    "\n",
    "df_Horizon['4_Year_Ago'] = pd.to_datetime(df_Horizon['SnapshotDt'])\n",
    "df_Horizon['4_Year_Ago'] = df_Horizon['4_Year_Ago'] + DateOffset(months=-48)\n",
    "df_Horizon['4_Year_Ago'] = df_Horizon['4_Year_Ago'].dt.strftime('%Y%m%d')\n",
    "df_Horizon[\"4_Year_Ago\"] = df_Horizon['4_Year_Ago'].str.replace(\"-\",\"\").astype(int)\n",
    "\n",
    "df_Horizon['5_Year_Ago'] = pd.to_datetime(df_Horizon['SnapshotDt'])\n",
    "df_Horizon['5_Year_Ago'] = df_Horizon['5_Year_Ago'] + DateOffset(months=-60)\n",
    "df_Horizon['5_Year_Ago'] = df_Horizon['5_Year_Ago'].dt.strftime('%Y%m%d')\n",
    "df_Horizon[\"5_Year_Ago\"] = df_Horizon['5_Year_Ago'].str.replace(\"-\",\"\").astype(int)\n",
    "\n",
    "# print stats.\n",
    "print(len(df_Horizon.index))\n",
    "now = datetime.now()\n",
    "print(now)\n",
    "print('==========================')\n",
    "\n",
    "print(df_Horizon.dtypes)\n",
    "\n",
    "# No displays to protect PII data\n",
    "#df_Horizon.head(5)"
   ]
  },
  {
   "cell_type": "markdown",
   "id": "0255693b",
   "metadata": {},
   "source": [
    "# 2. Get all fund switch records."
   ]
  },
  {
   "cell_type": "code",
   "execution_count": 7,
   "id": "10a97de2",
   "metadata": {},
   "outputs": [
    {
     "name": "stdout",
     "output_type": "stream",
     "text": [
      "201805\n",
      "==========================\n",
      "2024-08-05 21:38:39.590747\n",
      "==========================\n",
      "svmem(total=16756752384, available=3893366784, percent=76.8, used=12863385600, free=3893366784)\n",
      "==========================\n",
      "index                       int64\n",
      "POLICY_NUMBER              object\n",
      "LEGACY_FUND_CODE           object\n",
      "PRODUCT                    object\n",
      "PROCESSING_DATE            object\n",
      "EFFECTIVE_DATE             object\n",
      "UNIT_TYPE                  object\n",
      "CHARGE_TYPE                object\n",
      "CASH_VALUE                float64\n",
      "RISK_COMMENCEMENT_DATE     object\n",
      "Servicing_Broker_Code      object\n",
      "Issue_Date                 object\n",
      "Cover_End_Date             object\n",
      "Anniversary_Date           object\n",
      "Source                     object\n",
      "SOURCE                     object\n",
      "dtype: object\n"
     ]
    }
   ],
   "source": [
    "# giving directory name\n",
    "All_Switches = input_path + '\\All_Switches.csv'\n",
    "df_All_Switches = pd.read_csv(All_Switches, delimiter=',',low_memory=False, header=0)\n",
    "\n",
    "# print stats.\n",
    "print(len(df_All_Switches.index))\n",
    "\n",
    "print('==========================')\n",
    "now = datetime.now()\n",
    "print(now)\n",
    "print('==========================')\n",
    "print(psutil.virtual_memory())\n",
    "print('==========================')\n",
    "\n",
    "print(df_All_Switches.dtypes)\n",
    "\n",
    "# No displays to protect PII data\n",
    "#df_All_Switches.head(5)"
   ]
  },
  {
   "cell_type": "markdown",
   "id": "23357efe",
   "metadata": {},
   "source": [
    "## Filter to only take rows since 2020."
   ]
  },
  {
   "cell_type": "code",
   "execution_count": 11,
   "id": "f7feb211",
   "metadata": {},
   "outputs": [
    {
     "name": "stdout",
     "output_type": "stream",
     "text": [
      "7242\n",
      "2024-08-05 21:43:40.733373\n",
      "==========================\n",
      "POLICY_NUMBER              object\n",
      "PROCESSING_DATE    datetime64[ns]\n",
      "ProcessingYrMth            object\n",
      "dtype: object\n"
     ]
    }
   ],
   "source": [
    "# Filter out old dates.\n",
    "\n",
    "df_All_Switches['PROCESSING_DATE'] = pd.to_datetime(df_All_Switches['PROCESSING_DATE'])\n",
    "df_All_Switches['ProcessingYrMth'] = df_All_Switches['PROCESSING_DATE'].dt.strftime('%Y%m')\n",
    "\n",
    "df_All_Switches = df_All_Switches[df_All_Switches.ProcessingYrMth > '201912']\n",
    "\n",
    "# print stats.\n",
    "print(len(df_All_Switches.index))\n",
    "\n",
    "now = datetime.now()\n",
    "print(now)\n",
    "print('==========================')\n",
    "\n",
    "print(df_All_Switches.dtypes)\n",
    "\n",
    "# No displays to protect PII data\n",
    "#df_All_Switches.head(5)"
   ]
  },
  {
   "cell_type": "code",
   "execution_count": 12,
   "id": "bfa6681f",
   "metadata": {},
   "outputs": [
    {
     "name": "stdout",
     "output_type": "stream",
     "text": [
      "7242\n",
      "7242\n",
      "2024-08-05 21:43:44.185392\n",
      "==========================\n",
      "POLICY_NUMBER              object\n",
      "PROCESSING_DATE    datetime64[ns]\n",
      "ProcessingYrMth            object\n",
      "dtype: object\n"
     ]
    }
   ],
   "source": [
    "\n",
    "\n",
    "# Filter out old dates.\n",
    "#df_All_Switches = df_All_Switches[df_All_Switches.Processing_INT > 20191231]\n",
    "\n",
    "# Reorder the columns\n",
    "df_All_Switches = df_All_Switches[['POLICY_NUMBER', 'PROCESSING_DATE','ProcessingYrMth']]\n",
    "\n",
    "# print stats.\n",
    "print(len(df_All_Switches.index))\n",
    "# Set the processing date to a proper date and drop duplicates\n",
    "#df_All_Switches = df_All_Switches.drop_duplicates(subset=['POLICY_NUMBER','PROCESSING_DATE','ProcessingYrMth','Processing_INT'], keep='first')\n",
    "df_All_Switches = df_All_Switches.drop_duplicates(subset=['POLICY_NUMBER','ProcessingYrMth'], keep='first')\n",
    "\n",
    "\n",
    "# print stats.\n",
    "print(len(df_All_Switches.index))\n",
    "\n",
    "now = datetime.now()\n",
    "print(now)\n",
    "print('==========================')\n",
    "\n",
    "print(df_All_Switches.dtypes)\n",
    "\n",
    "# No displays to protect PII data\n",
    "#df_All_Switches.head(5)"
   ]
  },
  {
   "cell_type": "markdown",
   "id": "8f6a0fbd",
   "metadata": {},
   "source": [
    "# 3. Merge the full population with the switches to create the prediction dataset."
   ]
  },
  {
   "cell_type": "code",
   "execution_count": 13,
   "id": "63eca300",
   "metadata": {},
   "outputs": [
    {
     "name": "stdout",
     "output_type": "stream",
     "text": [
      "6012382\n",
      "ContractNumber             object\n",
      "ProdCat                    object\n",
      "ProdCode                   object\n",
      "PolicyStatus               object\n",
      "CoverEndDt                 object\n",
      "SnapshotDt                 object\n",
      "SnapshotYrMth               int64\n",
      "3_Months_Ago                int32\n",
      "6_Months_Ago                int32\n",
      "1_Year_Ago                  int32\n",
      "2_Year_Ago                  int32\n",
      "3_Year_Ago                  int32\n",
      "4_Year_Ago                  int32\n",
      "5_Year_Ago                  int32\n",
      "PROCESSING_DATE    datetime64[ns]\n",
      "ProcessingYrMth           float64\n",
      "Switch_Flag                 int32\n",
      "dtype: object\n",
      "POLICY_NUMBER              object\n",
      "PROCESSING_DATE    datetime64[ns]\n",
      "ProcessingYrMth             int32\n",
      "dtype: object\n",
      "==========================\n",
      "2024-08-05 21:43:59.395275\n",
      "==========================\n",
      "svmem(total=16756752384, available=6908563456, percent=58.8, used=9848188928, free=6908563456)\n",
      "==========================\n",
      "0    6006459\n",
      "1       5923\n",
      "Name: Switch_Flag, dtype: int64\n"
     ]
    }
   ],
   "source": [
    "# Change to int\n",
    "df_All_Switches[\"ProcessingYrMth\"] = df_All_Switches[\"ProcessingYrMth\"].astype(int)\n",
    "df_Horizon_with_Switches = pd.merge(df_Horizon, df_All_Switches, left_on = ['ContractNumber','SnapshotYrMth'], right_on = ['POLICY_NUMBER','ProcessingYrMth'] , how = 'left') \n",
    "\n",
    "# Change the Processing Date to a flag to indicate a switch.\n",
    "df_Horizon_with_Switches['Switch_Flag'] = ''\n",
    "df_Horizon_with_Switches = df_Horizon_with_Switches.drop(['POLICY_NUMBER'],axis=1)\n",
    "\n",
    "# If the sum is less than 2, ignore this as a positive booking and set it to zero. Also set the positive booking flag.\n",
    "df_Horizon_with_Switches['Switch_Flag'] = np.where(pd.isna(df_Horizon_with_Switches['PROCESSING_DATE']),0,1)\n",
    "\n",
    "# print stats.\n",
    "print(len(df_Horizon_with_Switches.index))\n",
    "\n",
    "print(df_Horizon_with_Switches.dtypes)\n",
    "print(df_All_Switches.dtypes)\n",
    "print('==========================')\n",
    "now = datetime.now()\n",
    "print(now)\n",
    "print('==========================')\n",
    "print(psutil.virtual_memory())\n",
    "print('==========================')\n",
    "print(df_Horizon_with_Switches['Switch_Flag'].value_counts())\n",
    "\n",
    "# No displays to protect PII data\n",
    "#df_Horizon_with_Switches.head(5)"
   ]
  },
  {
   "cell_type": "markdown",
   "id": "f999ed92",
   "metadata": {},
   "source": [
    "# Add the comparable past switch dates for comparison."
   ]
  },
  {
   "cell_type": "code",
   "execution_count": 14,
   "id": "8cede430",
   "metadata": {},
   "outputs": [
    {
     "name": "stdout",
     "output_type": "stream",
     "text": [
      "7242\n",
      "POLICY_NUMBER              object\n",
      "PROCESSING_DATE    datetime64[ns]\n",
      "ProcessingYrMth             int32\n",
      "3_Months_Ago                int32\n",
      "6_Months_Ago                int32\n",
      "1_Year_Ago                  int32\n",
      "2_Year_Ago                  int32\n",
      "3_Year_Ago                  int32\n",
      "4_Year_Ago                  int32\n",
      "5_Year_Ago                  int32\n",
      "dtype: object\n",
      "==========================\n",
      "2024-08-05 21:44:00.906567\n",
      "==========================\n",
      "svmem(total=16756752384, available=6858801152, percent=59.1, used=9897951232, free=6858801152)\n",
      "==========================\n"
     ]
    }
   ],
   "source": [
    "df_All_Switches['3_Months_Ago'] = pd.to_datetime(df_All_Switches['PROCESSING_DATE'])\n",
    "#df_All_Switches['3_Months_Ago'] = df_All_Switches['3_Months_Ago'] + DateOffset(months=-3)\n",
    "df_All_Switches['3_Months_Ago'] = df_All_Switches['3_Months_Ago'].dt.strftime('%Y%m%d')\n",
    "df_All_Switches[\"3_Months_Ago\"] = df_All_Switches['3_Months_Ago'].str.replace(\"-\",\"\").astype(int)\n",
    "\n",
    "df_All_Switches['6_Months_Ago'] = pd.to_datetime(df_All_Switches['PROCESSING_DATE'])\n",
    "#df_All_Switches['6_Months_Ago'] = df_All_Switches['6_Months_Ago'] + DateOffset(months=-6)\n",
    "df_All_Switches['6_Months_Ago'] = df_All_Switches['6_Months_Ago'].dt.strftime('%Y%m%d')\n",
    "df_All_Switches[\"6_Months_Ago\"] = df_All_Switches['6_Months_Ago'].str.replace(\"-\",\"\").astype(int)\n",
    "\n",
    "df_All_Switches['1_Year_Ago'] = pd.to_datetime(df_All_Switches['PROCESSING_DATE'])\n",
    "#df_All_Switches['1_Year_Ago'] = df_All_Switches['1_Year_Ago'] + DateOffset(months=-12)\n",
    "df_All_Switches['1_Year_Ago'] = df_All_Switches['1_Year_Ago'].dt.strftime('%Y%m%d')\n",
    "df_All_Switches[\"1_Year_Ago\"] = df_All_Switches['1_Year_Ago'].str.replace(\"-\",\"\").astype(int)\n",
    "\n",
    "df_All_Switches['2_Year_Ago'] = pd.to_datetime(df_All_Switches['PROCESSING_DATE'])\n",
    "#df_All_Switches['2_Year_Ago'] = df_All_Switches['2_Year_Ago'] + DateOffset(months=-24)\n",
    "df_All_Switches['2_Year_Ago'] = df_All_Switches['2_Year_Ago'].dt.strftime('%Y%m%d')\n",
    "df_All_Switches[\"2_Year_Ago\"] = df_All_Switches['2_Year_Ago'].str.replace(\"-\",\"\").astype(int)\n",
    "\n",
    "df_All_Switches['3_Year_Ago'] = pd.to_datetime(df_All_Switches['PROCESSING_DATE'])\n",
    "#df_All_Switches['3_Year_Ago'] = df_All_Switches['3_Year_Ago'] + DateOffset(months=-36)\n",
    "df_All_Switches['3_Year_Ago'] = df_All_Switches['3_Year_Ago'].dt.strftime('%Y%m%d')\n",
    "df_All_Switches[\"3_Year_Ago\"] = df_All_Switches['3_Year_Ago'].str.replace(\"-\",\"\").astype(int)\n",
    "\n",
    "df_All_Switches['4_Year_Ago'] = pd.to_datetime(df_All_Switches['PROCESSING_DATE'])\n",
    "#df_All_Switches['4_Year_Ago'] = df_All_Switches['4_Year_Ago'] + DateOffset(months=-48)\n",
    "df_All_Switches['4_Year_Ago'] = df_All_Switches['4_Year_Ago'].dt.strftime('%Y%m%d')\n",
    "df_All_Switches[\"4_Year_Ago\"] = df_All_Switches['4_Year_Ago'].str.replace(\"-\",\"\").astype(int)\n",
    "\n",
    "df_All_Switches['5_Year_Ago'] = pd.to_datetime(df_All_Switches['PROCESSING_DATE'])\n",
    "#df_All_Switches['5_Year_Ago'] = df_All_Switches['5_Year_Ago'] + DateOffset(months=-60)\n",
    "df_All_Switches['5_Year_Ago'] = df_All_Switches['5_Year_Ago'].dt.strftime('%Y%m%d')\n",
    "df_All_Switches[\"5_Year_Ago\"] = df_All_Switches['5_Year_Ago'].str.replace(\"-\",\"\").astype(int)\n",
    "\n",
    "# print stats.\n",
    "print(len(df_All_Switches.index))\n",
    "print(df_All_Switches.dtypes)\n",
    "print('==========================')\n",
    "now = datetime.now()\n",
    "print(now)\n",
    "print('==========================')\n",
    "print(psutil.virtual_memory())\n",
    "print('==========================')\n",
    "\n",
    "# No displays to protect PII data\n",
    "#df_All_Switches.head(5)"
   ]
  },
  {
   "cell_type": "code",
   "execution_count": 15,
   "id": "fc49d9db",
   "metadata": {},
   "outputs": [
    {
     "name": "stdout",
     "output_type": "stream",
     "text": [
      "0    6006459\n",
      "1       5923\n",
      "Name: Switch_Flag, dtype: int64\n"
     ]
    }
   ],
   "source": [
    "print(df_Horizon_with_Switches['Switch_Flag'].value_counts())\n",
    "\n",
    "# No displays to protect PII data\n",
    "#df_Horizon_with_Switches.head(5)"
   ]
  },
  {
   "cell_type": "code",
   "execution_count": 16,
   "id": "1a211391",
   "metadata": {},
   "outputs": [
    {
     "name": "stdout",
     "output_type": "stream",
     "text": [
      "6012382\n",
      "ContractNumber             object\n",
      "ProdCat                    object\n",
      "ProdCode                   object\n",
      "PolicyStatus               object\n",
      "CoverEndDt                 object\n",
      "SnapshotDt                 object\n",
      "SnapshotYrMth               int64\n",
      "3_Months_Ago                int32\n",
      "6_Months_Ago                int32\n",
      "1_Year_Ago                  int32\n",
      "2_Year_Ago                  int32\n",
      "3_Year_Ago                  int32\n",
      "4_Year_Ago                  int32\n",
      "5_Year_Ago                  int32\n",
      "PROCESSING_DATE    datetime64[ns]\n",
      "ProcessingYrMth           float64\n",
      "Switch_Flag                 int32\n",
      "dtype: object\n",
      "POLICY_NUMBER              object\n",
      "PROCESSING_DATE    datetime64[ns]\n",
      "ProcessingYrMth             int32\n",
      "3_Months_Ago                int32\n",
      "6_Months_Ago                int32\n",
      "1_Year_Ago                  int32\n",
      "2_Year_Ago                  int32\n",
      "3_Year_Ago                  int32\n",
      "4_Year_Ago                  int32\n",
      "5_Year_Ago                  int32\n",
      "dtype: object\n",
      "0    6006459\n",
      "1       5923\n",
      "Name: Switch_Flag, dtype: int64\n"
     ]
    }
   ],
   "source": [
    "# Drop obsolete columns\n",
    "#df_Horizon_with_Switches = df_Horizon_with_Switches.drop(['PROCESSING_DATE'],axis=1)\n",
    "#df_Horizon_with_Switches = df_Horizon_with_Switches.drop(['ProcessingYrMth'],axis=1)\n",
    "\n",
    "# print stats.\n",
    "print(len(df_Horizon_with_Switches.index))\n",
    "\n",
    "print(df_Horizon_with_Switches.dtypes)\n",
    "print(df_All_Switches.dtypes)\n",
    "\n",
    "print(df_Horizon_with_Switches['Switch_Flag'].value_counts())\n",
    "\n",
    "# No displays to protect PII data\n",
    "#df_Horizon_with_Switches.head(5)"
   ]
  },
  {
   "cell_type": "code",
   "execution_count": 17,
   "id": "dad033c6",
   "metadata": {},
   "outputs": [
    {
     "name": "stdout",
     "output_type": "stream",
     "text": [
      "6012382\n",
      "ContractNumber             object\n",
      "ProdCat                    object\n",
      "ProdCode                   object\n",
      "PolicyStatus               object\n",
      "CoverEndDt                 object\n",
      "SnapshotDt                 object\n",
      "SnapshotYrMth               int64\n",
      "3_Months_Ago                int32\n",
      "6_Months_Ago                int32\n",
      "1_Year_Ago                  int32\n",
      "2_Year_Ago                  int32\n",
      "3_Year_Ago                  int32\n",
      "4_Year_Ago                  int32\n",
      "5_Year_Ago                  int32\n",
      "PROCESSING_DATE    datetime64[ns]\n",
      "ProcessingYrMth           float64\n",
      "Switch_Flag                 int32\n",
      "dtype: object\n",
      "ContractNumber             object\n",
      "PROCESSING_DATE    datetime64[ns]\n",
      "ProcessingYrMth             int32\n",
      "3_Months_Ago                int32\n",
      "6_Months_Ago                int32\n",
      "1_Year_Ago                  int32\n",
      "2_Year_Ago                  int32\n",
      "3_Year_Ago                  int32\n",
      "4_Year_Ago                  int32\n",
      "5_Year_Ago                  int32\n",
      "dtype: object\n",
      "0    6006459\n",
      "1       5923\n",
      "Name: Switch_Flag, dtype: int64\n"
     ]
    }
   ],
   "source": [
    "df_All_Switches.rename(columns = {'POLICY_NUMBER':'ContractNumber'}, inplace = True)\n",
    "\n",
    "# print stats.\n",
    "print(len(df_Horizon_with_Switches.index))\n",
    "\n",
    "print(df_Horizon_with_Switches.dtypes)\n",
    "print(df_All_Switches.dtypes)\n",
    "\n",
    "print(df_Horizon_with_Switches['Switch_Flag'].value_counts())\n",
    "\n",
    "# No displays to protect PII data\n",
    "#df_Horizon_with_Switches.head(5)"
   ]
  },
  {
   "cell_type": "code",
   "execution_count": 18,
   "id": "a8e87e16",
   "metadata": {},
   "outputs": [
    {
     "data": {
      "text/plain": [
       "ContractNumber             object\n",
       "ProdCat                    object\n",
       "ProdCode                   object\n",
       "PolicyStatus               object\n",
       "CoverEndDt                 object\n",
       "SnapshotDt                 object\n",
       "SnapshotYrMth               int64\n",
       "3_Months_Ago                int32\n",
       "6_Months_Ago                int32\n",
       "1_Year_Ago                  int32\n",
       "2_Year_Ago                  int32\n",
       "3_Year_Ago                  int32\n",
       "4_Year_Ago                  int32\n",
       "5_Year_Ago                  int32\n",
       "PROCESSING_DATE    datetime64[ns]\n",
       "ProcessingYrMth           float64\n",
       "Switch_Flag                 int32\n",
       "dtype: object"
      ]
     },
     "execution_count": 18,
     "metadata": {},
     "output_type": "execute_result"
    }
   ],
   "source": [
    "df_Horizon_with_Switches.dtypes"
   ]
  },
  {
   "cell_type": "code",
   "execution_count": 19,
   "id": "b743ddc1",
   "metadata": {},
   "outputs": [
    {
     "data": {
      "text/plain": [
       "ContractNumber             object\n",
       "PROCESSING_DATE    datetime64[ns]\n",
       "ProcessingYrMth             int32\n",
       "3_Months_Ago                int32\n",
       "6_Months_Ago                int32\n",
       "1_Year_Ago                  int32\n",
       "2_Year_Ago                  int32\n",
       "3_Year_Ago                  int32\n",
       "4_Year_Ago                  int32\n",
       "5_Year_Ago                  int32\n",
       "dtype: object"
      ]
     },
     "execution_count": 19,
     "metadata": {},
     "output_type": "execute_result"
    }
   ],
   "source": [
    "df_All_Switches.dtypes"
   ]
  },
  {
   "cell_type": "code",
   "execution_count": 20,
   "id": "7ee27fda",
   "metadata": {},
   "outputs": [
    {
     "data": {
      "text/plain": [
       "ContractNumber             object\n",
       "PROCESSING_DATE    datetime64[ns]\n",
       "ProcessingYrMth             int32\n",
       "3_Months_Ago                int32\n",
       "6_Months_Ago                int32\n",
       "1_Year_Ago                  int32\n",
       "2_Year_Ago                  int32\n",
       "3_Year_Ago                  int32\n",
       "4_Year_Ago                  int32\n",
       "5_Year_Ago                  int32\n",
       "SnapshotYrMth               int64\n",
       "dtype: object"
      ]
     },
     "execution_count": 20,
     "metadata": {},
     "output_type": "execute_result"
    }
   ],
   "source": [
    "df_All_Switches['SnapshotYrMth'] = pd.to_numeric(df_All_Switches['ProcessingYrMth'], errors=\"coerce\").fillna(0).astype('int64')\n",
    "df_All_Switches.dtypes"
   ]
  },
  {
   "cell_type": "code",
   "execution_count": 21,
   "id": "314cf3bd",
   "metadata": {},
   "outputs": [
    {
     "name": "stdout",
     "output_type": "stream",
     "text": [
      "6012382\n"
     ]
    }
   ],
   "source": [
    "# print stats.\n",
    "print(len(df_Horizon_with_Switches.index))"
   ]
  },
  {
   "cell_type": "code",
   "execution_count": 22,
   "id": "b76d5321",
   "metadata": {},
   "outputs": [
    {
     "name": "stdout",
     "output_type": "stream",
     "text": [
      "0    5760772\n",
      "1     251610\n",
      "Name: Any_Switch, dtype: int64\n"
     ]
    }
   ],
   "source": [
    "df_Horizon_with_Switches['Any_Switch'] = df_Horizon_with_Switches.ContractNumber.isin(df_All_Switches.ContractNumber).astype(int)\n",
    "#df_Horizon_with_Switches['Past_Switch'] = df_All_Switches['PROCESSING_DATE'].lt(df_Horizon_with_Switches['PROCESSING_DATE']) & df_Horizon_with_Switches.ContractNumber.isin(df_All_Switches.ContractNumber).astype(int)\n",
    "\n",
    "print(df_Horizon_with_Switches['Any_Switch'].value_counts())\n",
    "\n",
    "# No displays to protect PII data\n",
    "#df_Horizon_with_Switches.head(5)"
   ]
  },
  {
   "cell_type": "markdown",
   "id": "1b10eebf",
   "metadata": {},
   "source": [
    "## Set the flag for where a contract has some kind of past switch."
   ]
  },
  {
   "cell_type": "code",
   "execution_count": 23,
   "id": "6e5202bf",
   "metadata": {},
   "outputs": [
    {
     "name": "stdout",
     "output_type": "stream",
     "text": [
      "0    6012377\n",
      "1          5\n",
      "Name: Past_Switch, dtype: int64\n"
     ]
    },
    {
     "data": {
      "image/png": "[encoded data removed]",
      "text/plain": [
       "<Figure size 640x480 with 1 Axes>"
      ]
     },
     "metadata": {},
     "output_type": "display_data"
    },
    {
     "name": "stdout",
     "output_type": "stream",
     "text": [
      "The history saving thread hit an unexpected error (OperationalError('database is locked')).History will not be written to the database.\n"
     ]
    }
   ],
   "source": [
    "# Check how many policies with a switch have had a past switch.\n",
    "df_Horizon_with_Switches['Past_Switch'] = (((df_Horizon_with_Switches.ContractNumber).isin\n",
    "                                            (df_All_Switches.ContractNumber).astype(int)) & \n",
    "                                           ((df_All_Switches.SnapshotYrMth.astype(int)).le\n",
    "                                            (df_Horizon_with_Switches.SnapshotYrMth).astype(int)))\n",
    "\n",
    "# Count and print the values. \n",
    "print(df_Horizon_with_Switches['Past_Switch'].value_counts())\n",
    "\n",
    "# plot value_counts of Series\n",
    "ax = df_Horizon_with_Switches['Past_Switch'].value_counts().plot(kind='barh')\n",
    "\n",
    "# Set axis headings.\n",
    "ax.set(xlabel='Total Policies with a Fund Switch', ylabel='Past Fund Switch')\n",
    "ax.set_xscale('log')\n",
    "\n",
    "ax.figure.savefig('Fund switch policies with a prior switch.png')  # saves the current figure"
   ]
  },
  {
   "cell_type": "code",
   "execution_count": 24,
   "id": "7fc48f8e",
   "metadata": {},
   "outputs": [
    {
     "data": {
      "text/plain": [
       "<AxesSubplot:xlabel='Total Policies with a Fund Switch', ylabel='Past Fund Switch'>"
      ]
     },
     "execution_count": 24,
     "metadata": {},
     "output_type": "execute_result"
    }
   ],
   "source": [
    "ax"
   ]
  },
  {
   "cell_type": "markdown",
   "id": "9a77df58",
   "metadata": {},
   "source": [
    "# No significant past fund switch activity indicating potential future switches so no need to proceed."
   ]
  },
  {
   "cell_type": "markdown",
   "id": "d4223b24",
   "metadata": {},
   "source": [
    "## Clean up the file."
   ]
  },
  {
   "cell_type": "code",
   "execution_count": 25,
   "id": "ad4be976",
   "metadata": {},
   "outputs": [
    {
     "name": "stdout",
     "output_type": "stream",
     "text": [
      "6012382\n",
      "ContractNumber    object\n",
      "ProdCat           object\n",
      "ProdCode          object\n",
      "PolicyStatus      object\n",
      "CoverEndDt        object\n",
      "SnapshotDt        object\n",
      "Switch_Flag        int32\n",
      "dtype: object\n",
      "ContractNumber             object\n",
      "PROCESSING_DATE    datetime64[ns]\n",
      "ProcessingYrMth             int32\n",
      "3_Months_Ago                int32\n",
      "6_Months_Ago                int32\n",
      "1_Year_Ago                  int32\n",
      "2_Year_Ago                  int32\n",
      "3_Year_Ago                  int32\n",
      "4_Year_Ago                  int32\n",
      "5_Year_Ago                  int32\n",
      "SnapshotYrMth               int64\n",
      "dtype: object\n",
      "==========================\n",
      "2024-08-05 21:44:46.181919\n",
      "==========================\n",
      "svmem(total=16756752384, available=6893813760, percent=58.9, used=9862938624, free=6893813760)\n",
      "==========================\n",
      "0    6006459\n",
      "1       5923\n",
      "Name: Switch_Flag, dtype: int64\n"
     ]
    }
   ],
   "source": [
    "\n",
    "df_Horizon_with_Switches = df_Horizon_with_Switches.drop(['SnapshotYrMth','3_Months_Ago','6_Months_Ago','1_Year_Ago','2_Year_Ago','3_Year_Ago','4_Year_Ago','5_Year_Ago','PROCESSING_DATE','ProcessingYrMth','Any_Switch','Past_Switch'],axis=1)\n",
    "# print stats.\n",
    "print(len(df_Horizon_with_Switches.index))\n",
    "\n",
    "print(df_Horizon_with_Switches.dtypes)\n",
    "print(df_All_Switches.dtypes)\n",
    "print('==========================')\n",
    "now = datetime.now()\n",
    "print(now)\n",
    "print('==========================')\n",
    "print(psutil.virtual_memory())\n",
    "print('==========================')\n",
    "print(df_Horizon_with_Switches['Switch_Flag'].value_counts())\n",
    "\n",
    "# No displays to protect PII data\n",
    "#df_Horizon_with_Switches.head(5)"
   ]
  },
  {
   "cell_type": "markdown",
   "id": "d07e10cb",
   "metadata": {},
   "source": [
    "# Now write out the data to file and in another notebook, add the rest of the features that need to be synthesised because of PII."
   ]
  },
  {
   "cell_type": "code",
   "execution_count": 26,
   "id": "30ee2828",
   "metadata": {},
   "outputs": [
    {
     "name": "stdout",
     "output_type": "stream",
     "text": [
      "ContractNumber    object\n",
      "ProdCat           object\n",
      "ProdCode          object\n",
      "PolicyStatus      object\n",
      "CoverEndDt        object\n",
      "SnapshotDt        object\n",
      "Switch_Flag        int32\n",
      "dtype: object\n",
      "==========================\n",
      "2024-08-05 21:46:07.433201\n",
      "==========================\n",
      "svmem(total=16756752384, available=8931389440, percent=46.7, used=7825362944, free=8931389440)\n",
      "==========================\n",
      "0    6006459\n",
      "1       5923\n",
      "Name: Switch_Flag, dtype: int64\n",
      ".\\data\\Full_Population_With_Switch_Flags.csv\n"
     ]
    }
   ],
   "source": [
    "# Write out to a comma separated values file.\n",
    "filename = input_path + '\\Full_Population_With_Switch_Flags.csv'\n",
    "df_Horizon_with_Switches.to_csv(filename, encoding='utf-8', index=False)        \n",
    "\n",
    "# Types and row count\n",
    "print(df_Horizon_with_Switches.dtypes)\n",
    "print('==========================')\n",
    "now = datetime.now()\n",
    "print(now)\n",
    "print('==========================')\n",
    "print(psutil.virtual_memory())\n",
    "print('==========================')\n",
    "print(df_Horizon_with_Switches['Switch_Flag'].value_counts())\n",
    "\n",
    "print(filename)\n",
    "\n",
    "# No displays to protect PII data\n",
    "#df_Horizon_with_Switches.head(5)"
   ]
  },
  {
   "cell_type": "code",
   "execution_count": 27,
   "id": "a1398ade",
   "metadata": {},
   "outputs": [
    {
     "data": {
      "text/plain": [
       "['df_All_Switches', 'df_Horizon', 'df_Horizon_with_Switches']"
      ]
     },
     "execution_count": 27,
     "metadata": {},
     "output_type": "execute_result"
    }
   ],
   "source": [
    "%who_ls DataFrame "
   ]
  },
  {
   "cell_type": "code",
   "execution_count": 28,
   "id": "0b03a7c3",
   "metadata": {},
   "outputs": [
    {
     "name": "stdout",
     "output_type": "stream",
     "text": [
      "==========================\n",
      "2024-08-05 21:46:08.568563\n",
      "==========================\n",
      "svmem(total=16756752384, available=9918341120, percent=40.8, used=6838411264, free=9918341120)\n",
      "==========================\n"
     ]
    }
   ],
   "source": [
    "del df_All_Switches\n",
    "del df_Horizon\n",
    "del df_Horizon_with_Switches\n",
    "\n",
    "print('==========================')\n",
    "now = datetime.now()\n",
    "print(now)\n",
    "print('==========================')\n",
    "print(psutil.virtual_memory())\n",
    "print('==========================')"
   ]
  },
  {
   "cell_type": "code",
   "execution_count": null,
   "id": "42978de1",
   "metadata": {},
   "outputs": [],
   "source": []
  },
  {
   "cell_type": "code",
   "execution_count": null,
   "id": "b6d3cd24",
   "metadata": {},
   "outputs": [],
   "source": []
  },
  {
   "cell_type": "code",
   "execution_count": null,
   "id": "3e201188",
   "metadata": {},
   "outputs": [],
   "source": []
  },
  {
   "cell_type": "code",
   "execution_count": null,
   "id": "6c174e11",
   "metadata": {},
   "outputs": [],
   "source": []
  }
 ],
 "metadata": {
  "kernelspec": {
   "display_name": "Python 3 (ipykernel)",
   "language": "python",
   "name": "python3"
  },
  "language_info": {
   "codemirror_mode": {
    "name": "ipython",
    "version": 3
   },
   "file_extension": ".py",
   "mimetype": "text/x-python",
   "name": "python",
   "nbconvert_exporter": "python",
   "pygments_lexer": "ipython3",
   "version": "3.8.8"
  }
 },
 "nbformat": 4,
 "nbformat_minor": 5
}
