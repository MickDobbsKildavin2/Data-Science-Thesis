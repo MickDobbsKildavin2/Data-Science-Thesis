{
 "cells": [
  {
   "cell_type": "markdown",
   "id": "cdca3e33",
   "metadata": {},
   "source": [
    "# Merge the 2 separate tranches of synthesised data.\n",
    "## The internal PII and commercially sensitive data was synthesised in 2 separate tranches because of nmemory constraibts.  Theis merges them and this data is fully shareable because the synthesisation (code shared, data cannot) has obfuscated the original PII data, keeping teh statistical integrity of teh original data.\n",
    "\n",
    "## Next, the merging of the synthesised internal data with the fully shareable external data."
   ]
  },
  {
   "cell_type": "code",
   "execution_count": 1,
   "id": "b90e63ff",
   "metadata": {},
   "outputs": [],
   "source": [
    "import pandas as pd\n",
    "from datetime import datetime\n",
    "import psutil\n",
    "import os\n",
    "\n",
    "import psutil \n",
    "import gc\n",
    "\n",
    "\n",
    "# importing matplotlib module\n",
    "import matplotlib.pyplot as plt\n",
    "plt.style.use('default')\n",
    "# %matplotlib inline: only draw static\n",
    "# images in the notebook\n",
    "%matplotlib inline"
   ]
  },
  {
   "cell_type": "markdown",
   "id": "a40bd667",
   "metadata": {},
   "source": [
    "## Set all runtime variables."
   ]
  },
  {
   "cell_type": "code",
   "execution_count": 2,
   "id": "77ec1b2f",
   "metadata": {
    "scrolled": true
   },
   "outputs": [
    {
     "name": "stdout",
     "output_type": "stream",
     "text": [
      "==========================\n",
      "2024-08-14 21:47:51.041632\n",
      "==========================\n",
      "svmem(total=16756752384, available=3116978176, percent=81.4, used=13639774208, free=3116978176)\n",
      "==========================\n",
      "..\n",
      ".\\data\n",
      ".\\data\\synthetic_data_tranche1.csv\n",
      ".\\data\\synthetic_data_tranche2.csv\n",
      ".\\data\\Synthetic_Switch_Data.csv\n"
     ]
    }
   ],
   "source": [
    "pd.set_option('max_row', None)\n",
    "#pd.options.display.max_rows = 1000\n",
    "\n",
    "# Set a value for the home folder.\n",
    "home_folder = \".\"\n",
    "\n",
    "# Set values for the various paths.\n",
    "BASE_DIR = os.path.join( os.path.dirname( home_folder ), '..' )\n",
    "input_path = BASE_DIR +  \"\\Synthesisation\\data\"\n",
    "input_path = home_folder +  \"\\data\"\n",
    "\n",
    "# giving directory name\n",
    "tranche1 = input_path + '\\synthetic_data_tranche1.csv'\n",
    "tranche2 = input_path + '\\synthetic_data_tranche2.csv'\n",
    "full_file = input_path + '\\Synthetic_Switch_Data.csv'\n",
    "\n",
    "print('==========================')\n",
    "now = datetime.now()\n",
    "print(now)\n",
    "print('==========================')\n",
    "print(psutil.virtual_memory())\n",
    "print('==========================')\n",
    "os.path.abspath(os.getcwd())\n",
    "\n",
    "print(BASE_DIR)\n",
    "print(input_path)\n",
    "print(tranche1)\n",
    "print(tranche2)\n",
    "print(full_file)"
   ]
  },
  {
   "cell_type": "markdown",
   "id": "c75fdd55",
   "metadata": {},
   "source": [
    "# Read the first file."
   ]
  },
  {
   "cell_type": "code",
   "execution_count": null,
   "id": "2a096fa2",
   "metadata": {},
   "outputs": [],
   "source": [
    "df_Tranche1 = pd.read_csv(tranche1,low_memory=False, header=0)\n",
    "\n",
    "# Fill NULLs\n",
    "df_Tranche1 = df_Tranche1.fillna(0)\n",
    "\n",
    "# Track runtime and encironment.\n",
    "print('==========================')\n",
    "now = datetime.now()\n",
    "print(now)\n",
    "print('==========================')\n",
    "print(psutil.virtual_memory())\n",
    "print('==========================')\n",
    "\n",
    "# print stats.\n",
    "print(len(df_Tranche1.index))\n",
    "print(df_Tranche1.dtypes)\n",
    "#df_Tranche1.head(10)"
   ]
  },
  {
   "cell_type": "markdown",
   "id": "64799c6e",
   "metadata": {},
   "source": [
    "# Read the second file."
   ]
  },
  {
   "cell_type": "code",
   "execution_count": null,
   "id": "5d3007a8",
   "metadata": {},
   "outputs": [],
   "source": [
    "df_Tranche2 = pd.read_csv(tranche2,low_memory=False, header=0)\n",
    "\n",
    "# Fill NULLs\n",
    "df_Tranche2 = df_Tranche2.fillna(0)\n",
    "\n",
    "# Track runtime and encironment.\n",
    "print('==========================')\n",
    "now = datetime.now()\n",
    "print(now)\n",
    "print('==========================')\n",
    "print(psutil.virtual_memory())\n",
    "print('==========================')\n",
    "\n",
    "# print stats.\n",
    "print(len(df_Tranche2.index))\n",
    "print(df_Tranche2.dtypes)\n",
    "#df_Tranche2.head(10)"
   ]
  },
  {
   "cell_type": "markdown",
   "id": "70655887",
   "metadata": {},
   "source": [
    "# Merge the files."
   ]
  },
  {
   "cell_type": "code",
   "execution_count": 5,
   "id": "b70ced6f",
   "metadata": {
    "scrolled": true
   },
   "outputs": [
    {
     "name": "stdout",
     "output_type": "stream",
     "text": [
      "==========================\n",
      "2024-08-05 22:14:48.485834\n",
      "==========================\n",
      "svmem(total=16756752384, available=3949662208, percent=76.4, used=12807090176, free=3949662208)\n",
      "==========================\n",
      "6200000\n",
      "ContractNumber            object\n",
      "Switch_Flag                 bool\n",
      "Term_Passed              float64\n",
      "Term_Remaining           float64\n",
      "TermRemainingLTEQ_5        int64\n",
      "TermRemainingLTEQ_10       int64\n",
      "Age                      float64\n",
      "AnniversaryMth             int64\n",
      "ProdCat                   object\n",
      "ProdCode                  object\n",
      "PolicyStatus              object\n",
      "SnapshotDt                object\n",
      "PolicyFeeType             object\n",
      "PricingVariant             int64\n",
      "PayFreq                    int64\n",
      "IndexationPercent          int64\n",
      "Premium                  float64\n",
      "PremiumCalcMethod         object\n",
      "ServicingBroker          float64\n",
      "InitialBroker            float64\n",
      "BrokerCategory            object\n",
      "InitialRate              float64\n",
      "RenewalRate              float64\n",
      "VIPType                  float64\n",
      "Nationality               object\n",
      "IsSmoker                  object\n",
      "PoliticallyExposed       float64\n",
      "BirthPlace                object\n",
      "Gender                   float64\n",
      "MaritalStatus            float64\n",
      "PensionDisability        float64\n",
      "WOPDisability            float64\n",
      "AddressCity               object\n",
      "PartnerType               object\n",
      "EUSanctioned              object\n",
      "AddressDistrict          float64\n",
      "Postal_Code              float64\n",
      "Postal_Code_Name          object\n",
      "District                  object\n",
      "State                     object\n",
      "VN_MILIEU_CODE            object\n",
      "VN_TARGET_GROUP_CODE      object\n",
      "VN_MILIEU_DESCRIPTION     object\n",
      "VP_MILIEU_DESCRIPTION     object\n",
      "Term                     float64\n",
      "dtype: object\n"
     ]
    }
   ],
   "source": [
    "df_Synthetic_Switch_Data = pd.concat([df_Tranche1, df_Tranche2], axis=0)\n",
    "\n",
    "# Fill NULLs\n",
    "df_Synthetic_Switch_Data = df_Synthetic_Switch_Data.fillna(0)\n",
    "\n",
    "# Track runtime and encironment.\n",
    "print('==========================')\n",
    "now = datetime.now()\n",
    "print(now)\n",
    "print('==========================')\n",
    "print(psutil.virtual_memory())\n",
    "print('==========================')\n",
    "\n",
    "# print stats.\n",
    "print(len(df_Synthetic_Switch_Data.index))\n",
    "print(df_Tranche2.dtypes)\n",
    "\n",
    "# Turn off dislays to protect PII\n",
    "#df_Synthetic_Switch_Data.head(10)"
   ]
  },
  {
   "cell_type": "markdown",
   "id": "8837b37d",
   "metadata": {},
   "source": [
    "### List all dataframes."
   ]
  },
  {
   "cell_type": "code",
   "execution_count": 9,
   "id": "e000b879",
   "metadata": {},
   "outputs": [
    {
     "name": "stdout",
     "output_type": "stream",
     "text": [
      "Variable                   Type         Data/Info\n",
      "-------------------------------------------------\n",
      "df_Synthetic_Switch_Data   DataFrame    <object with id 3079650055744 (str() failed)>\n",
      "df_Tranche1                DataFrame            ContractNumber  S<...>100000 rows x 45 columns]\n",
      "df_Tranche2                DataFrame    <object with id 3079650631008 (str() failed)>\n"
     ]
    }
   ],
   "source": [
    "%whos DataFrame"
   ]
  },
  {
   "cell_type": "code",
   "execution_count": 10,
   "id": "147c7372",
   "metadata": {},
   "outputs": [],
   "source": [
    "del df_Tranche1\n",
    "del df_Tranche2"
   ]
  },
  {
   "cell_type": "markdown",
   "id": "777fa15f",
   "metadata": {},
   "source": [
    "# Write out the enhanced data for future use."
   ]
  },
  {
   "cell_type": "code",
   "execution_count": 11,
   "id": "c2a2f58e",
   "metadata": {},
   "outputs": [],
   "source": [
    "# Write to a csv file and use index=false to drop teh index from the dataframe\n",
    "df_Synthetic_Switch_Data.to_csv(full_file, encoding='utf-8', index=False)"
   ]
  },
  {
   "cell_type": "code",
   "execution_count": 6,
   "id": "7d57417a",
   "metadata": {},
   "outputs": [
    {
     "name": "stdout",
     "output_type": "stream",
     "text": [
      "==========================\n",
      "2024-08-05 22:14:48.511946\n",
      "==========================\n",
      "svmem(total=16756752384, available=3950485504, percent=76.4, used=12806266880, free=3950485504)\n",
      "==========================\n"
     ]
    }
   ],
   "source": [
    "# Track runtime and encironment.\n",
    "print('==========================')\n",
    "now = datetime.now()\n",
    "print(now)\n",
    "print('==========================')\n",
    "print(psutil.virtual_memory())\n",
    "print('==========================')"
   ]
  },
  {
   "cell_type": "code",
   "execution_count": 13,
   "id": "76a31fa8",
   "metadata": {},
   "outputs": [
    {
     "name": "stdout",
     "output_type": "stream",
     "text": [
      "Variable                   Type         Data/Info\n",
      "-------------------------------------------------\n",
      "df_Synthetic_Switch_Data   DataFrame    <object with id 3079650055744 (str() failed)>\n"
     ]
    }
   ],
   "source": [
    "%whos DataFrame"
   ]
  },
  {
   "cell_type": "code",
   "execution_count": 14,
   "id": "203d6edc",
   "metadata": {},
   "outputs": [],
   "source": [
    "del df_Synthetic_Switch_Data"
   ]
  },
  {
   "cell_type": "code",
   "execution_count": null,
   "id": "6c511269",
   "metadata": {},
   "outputs": [],
   "source": []
  }
 ],
 "metadata": {
  "kernelspec": {
   "display_name": "Python 3 (ipykernel)",
   "language": "python",
   "name": "python3"
  },
  "language_info": {
   "codemirror_mode": {
    "name": "ipython",
    "version": 3
   },
   "file_extension": ".py",
   "mimetype": "text/x-python",
   "name": "python",
   "nbconvert_exporter": "python",
   "pygments_lexer": "ipython3",
   "version": "3.8.8"
  }
 },
 "nbformat": 4,
 "nbformat_minor": 5
}
