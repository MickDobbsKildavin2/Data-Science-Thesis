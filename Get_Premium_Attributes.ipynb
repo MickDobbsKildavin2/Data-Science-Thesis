{
 "cells": [
  {
   "cell_type": "markdown",
   "id": "a4c7540b",
   "metadata": {},
   "source": [
    "Import the libraries needed"
   ]
  },
  {
   "cell_type": "code",
   "execution_count": 1,
   "id": "96b7fd46",
   "metadata": {},
   "outputs": [
    {
     "name": "stderr",
     "output_type": "stream",
     "text": [
      "C:\\Users\\m033\\Anaconda3\\lib\\site-packages\\requests\\__init__.py:109: RequestsDependencyWarning: urllib3 (1.26.16) or chardet (3.0.0)/charset_normalizer (2.0.4) doesn't match a supported version!\n",
      "  warnings.warn(\n"
     ]
    }
   ],
   "source": [
    "import pandas as pd\n",
    "#from pandas.compat import StringIO\n",
    "from pandas.tseries.offsets import DateOffset\n",
    "\n",
    "from datetime import datetime\n",
    "import psutil\n",
    "\n",
    "\n",
    "import numpy as np\n",
    "import os\n",
    "import pyodbc\n",
    "pyodbc.drivers()\n",
    "\n",
    "import csv\n",
    "\n",
    "from sklearn.preprocessing import StandardScaler\n",
    "import seaborn as sns\n",
    "\n",
    "pd.options.display.max_rows = 1000\n",
    "\n",
    "# For the Yahoo Finance api\n",
    "from pandas_datareader import data as pdr\n",
    "import yfinance as yf\n",
    "yf.pdr_override() \n"
   ]
  },
  {
   "cell_type": "markdown",
   "id": "a42969f9",
   "metadata": {},
   "source": [
    "### Database connections and SQL to retrieve the various data needed."
   ]
  },
  {
   "cell_type": "code",
   "execution_count": 2,
   "id": "b616bb0f",
   "metadata": {},
   "outputs": [
    {
     "name": "stdout",
     "output_type": "stream",
     "text": [
      "==========================\n",
      "2024-08-14 17:54:43.094719\n",
      "==========================\n",
      "svmem(total=16756752384, available=4414054400, percent=73.7, used=12342697984, free=4414054400)\n",
      "==========================\n"
     ]
    }
   ],
   "source": [
    "SQL_server = 'xxx\\yyy'\n",
    "Reporting_database = 'zzz'\n",
    "Reference_Data_database = 'aaa'\n",
    "\n",
    "pd.set_option('max_row', None)\n",
    "#pd.options.display.max_rows = 1000\n",
    "\n",
    "# Set a value for the home folder.\n",
    "home_folder = \".\"\n",
    "\n",
    "# Set values for the various paths.\n",
    "input_path = home_folder + \"\\data\"\n",
    "\n",
    "print('==========================')\n",
    "now = datetime.now()\n",
    "print(now)\n",
    "print('==========================')\n",
    "print(psutil.virtual_memory())\n",
    "print('==========================')"
   ]
  },
  {
   "cell_type": "markdown",
   "id": "45824292",
   "metadata": {},
   "source": [
    "# 1. Get supplementary policy features - Premium and Indexation.\n",
    "\n",
    "  -  Identified in Lit Review.# 1. Read back the population with switches data."
   ]
  },
  {
   "cell_type": "code",
   "execution_count": 3,
   "id": "acf89b55",
   "metadata": {},
   "outputs": [
    {
     "name": "stdout",
     "output_type": "stream",
     "text": [
      "137245\n",
      "2024-08-14 17:55:03.749175\n",
      "==========================\n",
      "Contract_Number       object\n",
      "PayFreq                int64\n",
      "AnniversaryDt         object\n",
      "IndexationPercent    float64\n",
      "IndexationStartDt     object\n",
      "PremHolStartDt        object\n",
      "PremHolEndDt          object\n",
      "Premium              float64\n",
      "PremiumCalcMethod     object\n",
      "dtype: object\n",
      "==========================\n",
      "2024-08-14 17:55:03.750254\n",
      "==========================\n",
      "svmem(total=16756752384, available=4382179328, percent=73.8, used=12374573056, free=4382179328)\n",
      "==========================\n"
     ]
    }
   ],
   "source": [
    "conn = pyodbc.connect(\n",
    "         'DRIVER={ODBC Driver 17 for SQL Server};'\n",
    "         'SERVER='+SQL_server+';'\n",
    "         'DATABASE='+Reporting_database+';'\n",
    "         'Trusted_Connection=yes;')\n",
    "\n",
    "premium_query = f\"\"\"SELECT pol.Policy_Number                AS Contract_Number\n",
    "\t                      ,pol.Premiums_Per_Year            AS PayFreq\n",
    "\t                      ,pol.Anniversary_Date             AS AnniversaryDt\n",
    "\t                      ,pol.Indexation_Percentage        AS IndexationPercent \n",
    "\t                      ,pol.Indexation_Start_Date        AS IndexationStartDt \n",
    "\t                      ,pol.Premium_Holiday_Start        AS PremHolStartDt\n",
    "\t                      ,pol.Premium_Holiday_End          AS PremHolEndDt\n",
    "\t                      ,pol.Regular_Premium              AS Premium\n",
    "                          ,pol.Premium_Calc_Method          AS PremiumCalcMethod\n",
    "                 FROM Policy pol\n",
    "                 INNER JOIN Product prd ON prd.Product_Id = pol.Product_Id\n",
    "                 WHERE prd.Product_Code IN ('FKP','GNPP_','GNRP_1')\n",
    "                 ORDER BY pol.Policy_Number;\"\"\"\n",
    "\n",
    "df_premium = pd.read_sql(premium_query, conn)\n",
    "\n",
    "# Types and row count\n",
    "# print stats.\n",
    "print(len(df_premium.index))\n",
    "now = datetime.now()\n",
    "print(now)\n",
    "print('==========================')\n",
    "\n",
    "print(df_premium.dtypes)\n",
    "print('==========================')\n",
    "now = datetime.now()\n",
    "print(now)\n",
    "print('==========================')\n",
    "print(psutil.virtual_memory())\n",
    "print('==========================')\n",
    "\n",
    "# No displays to protect PII data\n",
    "#df_premium.head(5)"
   ]
  },
  {
   "cell_type": "markdown",
   "id": "4499fedc",
   "metadata": {},
   "source": [
    "## Drop obsolete or repeated features.\n",
    "\n",
    "## Check for nulls"
   ]
  },
  {
   "cell_type": "code",
   "execution_count": 4,
   "id": "8b752078",
   "metadata": {},
   "outputs": [
    {
     "data": {
      "text/plain": [
       "Contract_Number       object\n",
       "PayFreq                int64\n",
       "AnniversaryDt         object\n",
       "IndexationPercent    float64\n",
       "IndexationStartDt     object\n",
       "PremHolStartDt        object\n",
       "PremHolEndDt          object\n",
       "Premium              float64\n",
       "PremiumCalcMethod     object\n",
       "dtype: object"
      ]
     },
     "execution_count": 4,
     "metadata": {},
     "output_type": "execute_result"
    }
   ],
   "source": [
    "df_premium.dtypes"
   ]
  },
  {
   "cell_type": "code",
   "execution_count": 5,
   "id": "fd4ec6f7",
   "metadata": {},
   "outputs": [
    {
     "data": {
      "text/plain": [
       "Contract_Number      False\n",
       "PayFreq              False\n",
       "AnniversaryDt         True\n",
       "IndexationPercent     True\n",
       "IndexationStartDt     True\n",
       "PremHolStartDt        True\n",
       "PremHolEndDt          True\n",
       "Premium              False\n",
       "PremiumCalcMethod    False\n",
       "dtype: bool"
      ]
     },
     "execution_count": 5,
     "metadata": {},
     "output_type": "execute_result"
    }
   ],
   "source": [
    "df_premium.isna().any()"
   ]
  },
  {
   "cell_type": "markdown",
   "id": "c36731f1",
   "metadata": {},
   "source": [
    "## Replace any nulls before checking the distributions of values for each column."
   ]
  },
  {
   "cell_type": "code",
   "execution_count": 6,
   "id": "9eb0a436",
   "metadata": {},
   "outputs": [],
   "source": [
    "df_premium['IndexationPercent'] = df_premium['IndexationPercent'].fillna(0).apply(np.int64)\n",
    "df_premium['IndexationPercent'] = df_premium['IndexationPercent'].fillna(0).apply(np.int64)"
   ]
  },
  {
   "cell_type": "markdown",
   "id": "99e2ac19",
   "metadata": {},
   "source": [
    "## Check the distributions of values for each column."
   ]
  },
  {
   "cell_type": "code",
   "execution_count": 7,
   "id": "752432d2",
   "metadata": {},
   "outputs": [
    {
     "name": "stdout",
     "output_type": "stream",
     "text": [
      "IndexationPercent :  0    137245\n",
      "Name: IndexationPercent, dtype: int64\n"
     ]
    }
   ],
   "source": [
    "print('IndexationPercent : ',df_premium['IndexationPercent'].value_counts())"
   ]
  },
  {
   "cell_type": "markdown",
   "id": "e260429d",
   "metadata": {},
   "source": [
    "## Count does not show it but IndexationPercent has a distribution so leave it in."
   ]
  },
  {
   "cell_type": "markdown",
   "id": "dda6d504",
   "metadata": {},
   "source": [
    "# write to Excel"
   ]
  },
  {
   "cell_type": "code",
   "execution_count": 8,
   "id": "0020b718",
   "metadata": {},
   "outputs": [
    {
     "name": "stdout",
     "output_type": "stream",
     "text": [
      "==========================\n",
      "2024-08-14 17:55:06.188683\n",
      "==========================\n",
      "svmem(total=16756752384, available=4355014656, percent=74.0, used=12401737728, free=4355014656)\n",
      "==========================\n"
     ]
    }
   ],
   "source": [
    "# Write out to a comma separated values file.\n",
    "\n",
    "# giving directory name\n",
    "filename = input_path + '\\Premium_data.csv'\n",
    "df_premium.to_csv(filename, encoding='utf-8', index=False)        \n",
    "\n",
    "print('==========================')\n",
    "now = datetime.now()\n",
    "print(now)\n",
    "print('==========================')\n",
    "print(psutil.virtual_memory())\n",
    "print('==========================')\n",
    "\n",
    "# No displays to protect PII data\n",
    "#df_premium.head(10)"
   ]
  },
  {
   "cell_type": "code",
   "execution_count": 9,
   "id": "429258dc",
   "metadata": {},
   "outputs": [
    {
     "data": {
      "text/plain": [
       "['df_premium']"
      ]
     },
     "execution_count": 9,
     "metadata": {},
     "output_type": "execute_result"
    }
   ],
   "source": [
    "%who_ls DataFrame "
   ]
  },
  {
   "cell_type": "code",
   "execution_count": 10,
   "id": "5bd86195",
   "metadata": {},
   "outputs": [],
   "source": [
    "del df_premium\n"
   ]
  },
  {
   "cell_type": "code",
   "execution_count": 11,
   "id": "0401ba4c",
   "metadata": {},
   "outputs": [
    {
     "name": "stdout",
     "output_type": "stream",
     "text": [
      "==========================\n",
      "2024-08-14 17:55:07.213715\n",
      "==========================\n",
      "svmem(total=16756752384, available=4424298496, percent=73.6, used=12332453888, free=4424298496)\n",
      "==========================\n"
     ]
    }
   ],
   "source": [
    "print('==========================')\n",
    "now = datetime.now()\n",
    "print(now)\n",
    "print('==========================')\n",
    "print(psutil.virtual_memory())\n",
    "print('==========================')\n",
    "\n",
    "# No displays to protect PII data\n",
    "#"
   ]
  },
  {
   "cell_type": "code",
   "execution_count": null,
   "id": "539dd866",
   "metadata": {},
   "outputs": [],
   "source": []
  }
 ],
 "metadata": {
  "kernelspec": {
   "display_name": "Python 3 (ipykernel)",
   "language": "python",
   "name": "python3"
  },
  "language_info": {
   "codemirror_mode": {
    "name": "ipython",
    "version": 3
   },
   "file_extension": ".py",
   "mimetype": "text/x-python",
   "name": "python",
   "nbconvert_exporter": "python",
   "pygments_lexer": "ipython3",
   "version": "3.8.8"
  }
 },
 "nbformat": 4,
 "nbformat_minor": 5
}
