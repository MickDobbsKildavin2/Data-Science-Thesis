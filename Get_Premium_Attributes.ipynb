{
 "cells": [
  {
   "cell_type": "markdown",
   "id": "a4c7540b",
   "metadata": {},
   "source": [
    "Import the libraries needed"
   ]
  },
  {
   "cell_type": "code",
   "execution_count": 1,
   "id": "96b7fd46",
   "metadata": {},
   "outputs": [
    {
     "name": "stderr",
     "output_type": "stream",
     "text": [
      "C:\\Users\\m033\\Anaconda3\\lib\\site-packages\\requests\\__init__.py:109: RequestsDependencyWarning: urllib3 (1.26.16) or chardet (3.0.0)/charset_normalizer (2.0.4) doesn't match a supported version!\n",
      "  warnings.warn(\n"
     ]
    }
   ],
   "source": [
    "import pandas as pd\n",
    "#from pandas.compat import StringIO\n",
    "from pandas.tseries.offsets import DateOffset\n",
    "\n",
    "from datetime import datetime\n",
    "import psutil\n",
    "\n",
    "\n",
    "import numpy as np\n",
    "import os\n",
    "import pyodbc\n",
    "pyodbc.drivers()\n",
    "\n",
    "import csv\n",
    "\n",
    "from sklearn.preprocessing import StandardScaler\n",
    "import seaborn as sns\n",
    "\n",
    "pd.options.display.max_rows = 1000\n",
    "\n",
    "# For the Yahoo Finance api\n",
    "from pandas_datareader import data as pdr\n",
    "import yfinance as yf\n",
    "yf.pdr_override() \n"
   ]
  },
  {
   "cell_type": "markdown",
   "id": "a42969f9",
   "metadata": {},
   "source": [
    "### Database connections and SQL to retrieve the various data needed."
   ]
  },
  {
   "cell_type": "code",
   "execution_count": 2,
   "id": "b616bb0f",
   "metadata": {},
   "outputs": [
    {
     "name": "stdout",
     "output_type": "stream",
     "text": [
      "==========================\n",
      "2024-07-19 19:08:35.557796\n",
      "==========================\n",
      "svmem(total=16756752384, available=3310739456, percent=80.2, used=13446012928, free=3310739456)\n",
      "==========================\n"
     ]
    }
   ],
   "source": [
    "SQL_server = 'WINPRDAI1572\\CLESQLDW'\n",
    "Reporting_database = 'CLE_Reporting'\n",
    "\n",
    "pd.set_option('max_row', None)\n",
    "#pd.options.display.max_rows = 1000\n",
    "\n",
    "# Set a value for the home folder.\n",
    "home_folder = \".\"\n",
    "\n",
    "# Set values for the various paths.\n",
    "input_path = home_folder + \"\\data\"\n",
    "\n",
    "print('==========================')\n",
    "now = datetime.now()\n",
    "print(now)\n",
    "print('==========================')\n",
    "print(psutil.virtual_memory())\n",
    "print('==========================')"
   ]
  },
  {
   "cell_type": "markdown",
   "id": "45824292",
   "metadata": {},
   "source": [
    "# 1. Get supplementary policy features - Premium and Indexation.\n",
    "\n",
    "  -  Identified in Lit Review.# 1. Read back the population with switches data."
   ]
  },
  {
   "cell_type": "code",
   "execution_count": 3,
   "id": "acf89b55",
   "metadata": {},
   "outputs": [
    {
     "name": "stdout",
     "output_type": "stream",
     "text": [
      "136827\n",
      "2024-07-19 19:08:45.657423\n",
      "==========================\n",
      "Contract_Number       object\n",
      "PayFreq                int64\n",
      "AnniversaryDt         object\n",
      "IndexationPercent    float64\n",
      "IndexationStartDt     object\n",
      "PremHolStartDt        object\n",
      "PremHolEndDt          object\n",
      "Premium              float64\n",
      "PremiumCalcMethod     object\n",
      "dtype: object\n"
     ]
    },
    {
     "data": {
      "text/html": [
       "<div>\n",
       "<style scoped>\n",
       "    .dataframe tbody tr th:only-of-type {\n",
       "        vertical-align: middle;\n",
       "    }\n",
       "\n",
       "    .dataframe tbody tr th {\n",
       "        vertical-align: top;\n",
       "    }\n",
       "\n",
       "    .dataframe thead th {\n",
       "        text-align: right;\n",
       "    }\n",
       "</style>\n",
       "<table border=\"1\" class=\"dataframe\">\n",
       "  <thead>\n",
       "    <tr style=\"text-align: right;\">\n",
       "      <th></th>\n",
       "      <th>Contract_Number</th>\n",
       "      <th>PayFreq</th>\n",
       "      <th>AnniversaryDt</th>\n",
       "      <th>IndexationPercent</th>\n",
       "      <th>IndexationStartDt</th>\n",
       "      <th>PremHolStartDt</th>\n",
       "      <th>PremHolEndDt</th>\n",
       "      <th>Premium</th>\n",
       "      <th>PremiumCalcMethod</th>\n",
       "    </tr>\n",
       "  </thead>\n",
       "  <tbody>\n",
       "    <tr>\n",
       "      <th>0</th>\n",
       "      <td>6074160W</td>\n",
       "      <td>12</td>\n",
       "      <td>2007-12-01</td>\n",
       "      <td>0.07</td>\n",
       "      <td>2007-12-01</td>\n",
       "      <td>None</td>\n",
       "      <td>None</td>\n",
       "      <td>221.40</td>\n",
       "      <td>Beitragsvorgabe</td>\n",
       "    </tr>\n",
       "    <tr>\n",
       "      <th>1</th>\n",
       "      <td>6074937L</td>\n",
       "      <td>12</td>\n",
       "      <td>2006-12-01</td>\n",
       "      <td>0.07</td>\n",
       "      <td>2006-12-01</td>\n",
       "      <td>None</td>\n",
       "      <td>None</td>\n",
       "      <td>157.97</td>\n",
       "      <td>Beitragsvorgabe</td>\n",
       "    </tr>\n",
       "    <tr>\n",
       "      <th>2</th>\n",
       "      <td>6074962M</td>\n",
       "      <td>12</td>\n",
       "      <td>2006-12-01</td>\n",
       "      <td>0.07</td>\n",
       "      <td>2006-12-01</td>\n",
       "      <td>None</td>\n",
       "      <td>None</td>\n",
       "      <td>157.97</td>\n",
       "      <td>Beitragsvorgabe</td>\n",
       "    </tr>\n",
       "    <tr>\n",
       "      <th>3</th>\n",
       "      <td>6075850C</td>\n",
       "      <td>12</td>\n",
       "      <td>2006-12-01</td>\n",
       "      <td>0.07</td>\n",
       "      <td>2006-12-01</td>\n",
       "      <td>None</td>\n",
       "      <td>None</td>\n",
       "      <td>0.00</td>\n",
       "      <td>Beitragsvorgabe</td>\n",
       "    </tr>\n",
       "    <tr>\n",
       "      <th>4</th>\n",
       "      <td>6100638P</td>\n",
       "      <td>12</td>\n",
       "      <td>2007-04-01</td>\n",
       "      <td>0.07</td>\n",
       "      <td>2007-04-01</td>\n",
       "      <td>None</td>\n",
       "      <td>None</td>\n",
       "      <td>137.98</td>\n",
       "      <td>Beitragsvorgabe</td>\n",
       "    </tr>\n",
       "  </tbody>\n",
       "</table>\n",
       "</div>"
      ],
      "text/plain": [
       "  Contract_Number  PayFreq AnniversaryDt  IndexationPercent IndexationStartDt  \\\n",
       "0        6074160W       12    2007-12-01               0.07        2007-12-01   \n",
       "1        6074937L       12    2006-12-01               0.07        2006-12-01   \n",
       "2        6074962M       12    2006-12-01               0.07        2006-12-01   \n",
       "3        6075850C       12    2006-12-01               0.07        2006-12-01   \n",
       "4        6100638P       12    2007-04-01               0.07        2007-04-01   \n",
       "\n",
       "  PremHolStartDt PremHolEndDt  Premium PremiumCalcMethod  \n",
       "0           None         None   221.40   Beitragsvorgabe  \n",
       "1           None         None   157.97   Beitragsvorgabe  \n",
       "2           None         None   157.97   Beitragsvorgabe  \n",
       "3           None         None     0.00   Beitragsvorgabe  \n",
       "4           None         None   137.98   Beitragsvorgabe  "
      ]
     },
     "execution_count": 3,
     "metadata": {},
     "output_type": "execute_result"
    }
   ],
   "source": [
    "conn = pyodbc.connect(\n",
    "         'DRIVER={ODBC Driver 17 for SQL Server};'\n",
    "         'SERVER='+SQL_server+';'\n",
    "         'DATABASE='+Reporting_database+';'\n",
    "         'Trusted_Connection=yes;')\n",
    "\n",
    "premium_query = f\"\"\"SELECT pol.Policy_Number                AS Contract_Number\n",
    "\t                      ,pol.Premiums_Per_Year            AS PayFreq\n",
    "\t                      ,pol.Anniversary_Date             AS AnniversaryDt\n",
    "\t                      ,pol.Indexation_Percentage        AS IndexationPercent \n",
    "\t                      ,pol.Indexation_Start_Date        AS IndexationStartDt \n",
    "\t                      ,pol.Premium_Holiday_Start        AS PremHolStartDt\n",
    "\t                      ,pol.Premium_Holiday_End          AS PremHolEndDt\n",
    "\t                      ,pol.Regular_Premium              AS Premium\n",
    "                          ,pol.Premium_Calc_Method          AS PremiumCalcMethod\n",
    "                 FROM CLT_Policy pol\n",
    "                 INNER JOIN CLE_Reporting.dbo.CLT_Product prd ON prd.Product_Id = pol.Product_Id\n",
    "                 WHERE prd.Product_Code IN ('FKP_2006V1','FKP_2006V2','FKP_2008V1','FKP_2010V1','FKP_2012V1','FKP_2017V1',\n",
    "                                            'GNPP_2016V1','GNPP_2017V1','GNPP_2022V1','GNPP_2023V1',\n",
    "                                            'GNRP_2008V1','GNRP_2010V1','GNRP_2012V1','GNRP_2017V1','GNRP_2022V1',\n",
    "                                            'XRPP_2005V1','XRPP_2008V1','XRPP_2010V1','XRPP_2012V1','XRPP_2015V1')\n",
    "                 ORDER BY pol.Policy_Number;\"\"\"\n",
    "\n",
    "df_premium = pd.read_sql(premium_query, conn)\n",
    "\n",
    "# Types and row count\n",
    "# print stats.\n",
    "print(len(df_premium.index))\n",
    "now = datetime.now()\n",
    "print(now)\n",
    "print('==========================')\n",
    "\n",
    "print(df_premium.dtypes)\n",
    "df_premium.head(5)"
   ]
  },
  {
   "cell_type": "markdown",
   "id": "4499fedc",
   "metadata": {},
   "source": [
    "## Drop obsolete or repeated features.\n",
    "\n",
    "## Check for nulls"
   ]
  },
  {
   "cell_type": "code",
   "execution_count": 4,
   "id": "8b752078",
   "metadata": {},
   "outputs": [
    {
     "data": {
      "text/plain": [
       "Contract_Number       object\n",
       "PayFreq                int64\n",
       "AnniversaryDt         object\n",
       "IndexationPercent    float64\n",
       "IndexationStartDt     object\n",
       "PremHolStartDt        object\n",
       "PremHolEndDt          object\n",
       "Premium              float64\n",
       "PremiumCalcMethod     object\n",
       "dtype: object"
      ]
     },
     "execution_count": 4,
     "metadata": {},
     "output_type": "execute_result"
    }
   ],
   "source": [
    "df_premium.dtypes"
   ]
  },
  {
   "cell_type": "code",
   "execution_count": 5,
   "id": "fd4ec6f7",
   "metadata": {},
   "outputs": [
    {
     "data": {
      "text/plain": [
       "Contract_Number      False\n",
       "PayFreq              False\n",
       "AnniversaryDt         True\n",
       "IndexationPercent     True\n",
       "IndexationStartDt     True\n",
       "PremHolStartDt        True\n",
       "PremHolEndDt          True\n",
       "Premium              False\n",
       "PremiumCalcMethod    False\n",
       "dtype: bool"
      ]
     },
     "execution_count": 5,
     "metadata": {},
     "output_type": "execute_result"
    }
   ],
   "source": [
    "df_premium.isna().any()"
   ]
  },
  {
   "cell_type": "markdown",
   "id": "c36731f1",
   "metadata": {},
   "source": [
    "## Replace any nulls before checking the distributions of values for each column."
   ]
  },
  {
   "cell_type": "code",
   "execution_count": 6,
   "id": "9eb0a436",
   "metadata": {},
   "outputs": [],
   "source": [
    "df_premium['IndexationPercent'] = df_premium['IndexationPercent'].fillna(0).apply(np.int64)\n",
    "df_premium['IndexationPercent'] = df_premium['IndexationPercent'].fillna(0).apply(np.int64)"
   ]
  },
  {
   "cell_type": "markdown",
   "id": "99e2ac19",
   "metadata": {},
   "source": [
    "## Check the distributions of values for each column."
   ]
  },
  {
   "cell_type": "code",
   "execution_count": 7,
   "id": "752432d2",
   "metadata": {},
   "outputs": [
    {
     "name": "stdout",
     "output_type": "stream",
     "text": [
      "IndexationPercent :  0    136827\n",
      "Name: IndexationPercent, dtype: int64\n"
     ]
    }
   ],
   "source": [
    "print('IndexationPercent : ',df_premium['IndexationPercent'].value_counts())"
   ]
  },
  {
   "cell_type": "markdown",
   "id": "e260429d",
   "metadata": {},
   "source": [
    "## Count does not show it but IndexationPercent has a distribution so leave it in."
   ]
  },
  {
   "cell_type": "markdown",
   "id": "dda6d504",
   "metadata": {},
   "source": [
    "# write to Excel"
   ]
  },
  {
   "cell_type": "code",
   "execution_count": 8,
   "id": "0020b718",
   "metadata": {},
   "outputs": [
    {
     "data": {
      "text/html": [
       "<div>\n",
       "<style scoped>\n",
       "    .dataframe tbody tr th:only-of-type {\n",
       "        vertical-align: middle;\n",
       "    }\n",
       "\n",
       "    .dataframe tbody tr th {\n",
       "        vertical-align: top;\n",
       "    }\n",
       "\n",
       "    .dataframe thead th {\n",
       "        text-align: right;\n",
       "    }\n",
       "</style>\n",
       "<table border=\"1\" class=\"dataframe\">\n",
       "  <thead>\n",
       "    <tr style=\"text-align: right;\">\n",
       "      <th></th>\n",
       "      <th>Contract_Number</th>\n",
       "      <th>PayFreq</th>\n",
       "      <th>AnniversaryDt</th>\n",
       "      <th>IndexationPercent</th>\n",
       "      <th>IndexationStartDt</th>\n",
       "      <th>PremHolStartDt</th>\n",
       "      <th>PremHolEndDt</th>\n",
       "      <th>Premium</th>\n",
       "      <th>PremiumCalcMethod</th>\n",
       "    </tr>\n",
       "  </thead>\n",
       "  <tbody>\n",
       "    <tr>\n",
       "      <th>0</th>\n",
       "      <td>6074160W</td>\n",
       "      <td>12</td>\n",
       "      <td>2007-12-01</td>\n",
       "      <td>0</td>\n",
       "      <td>2007-12-01</td>\n",
       "      <td>None</td>\n",
       "      <td>None</td>\n",
       "      <td>221.40</td>\n",
       "      <td>Beitragsvorgabe</td>\n",
       "    </tr>\n",
       "    <tr>\n",
       "      <th>1</th>\n",
       "      <td>6074937L</td>\n",
       "      <td>12</td>\n",
       "      <td>2006-12-01</td>\n",
       "      <td>0</td>\n",
       "      <td>2006-12-01</td>\n",
       "      <td>None</td>\n",
       "      <td>None</td>\n",
       "      <td>157.97</td>\n",
       "      <td>Beitragsvorgabe</td>\n",
       "    </tr>\n",
       "    <tr>\n",
       "      <th>2</th>\n",
       "      <td>6074962M</td>\n",
       "      <td>12</td>\n",
       "      <td>2006-12-01</td>\n",
       "      <td>0</td>\n",
       "      <td>2006-12-01</td>\n",
       "      <td>None</td>\n",
       "      <td>None</td>\n",
       "      <td>157.97</td>\n",
       "      <td>Beitragsvorgabe</td>\n",
       "    </tr>\n",
       "    <tr>\n",
       "      <th>3</th>\n",
       "      <td>6075850C</td>\n",
       "      <td>12</td>\n",
       "      <td>2006-12-01</td>\n",
       "      <td>0</td>\n",
       "      <td>2006-12-01</td>\n",
       "      <td>None</td>\n",
       "      <td>None</td>\n",
       "      <td>0.00</td>\n",
       "      <td>Beitragsvorgabe</td>\n",
       "    </tr>\n",
       "    <tr>\n",
       "      <th>4</th>\n",
       "      <td>6100638P</td>\n",
       "      <td>12</td>\n",
       "      <td>2007-04-01</td>\n",
       "      <td>0</td>\n",
       "      <td>2007-04-01</td>\n",
       "      <td>None</td>\n",
       "      <td>None</td>\n",
       "      <td>137.98</td>\n",
       "      <td>Beitragsvorgabe</td>\n",
       "    </tr>\n",
       "    <tr>\n",
       "      <th>5</th>\n",
       "      <td>6100746E</td>\n",
       "      <td>12</td>\n",
       "      <td>2006-05-01</td>\n",
       "      <td>0</td>\n",
       "      <td>2006-05-01</td>\n",
       "      <td>None</td>\n",
       "      <td>None</td>\n",
       "      <td>165.54</td>\n",
       "      <td>Beitragsvorgabe</td>\n",
       "    </tr>\n",
       "    <tr>\n",
       "      <th>6</th>\n",
       "      <td>6214246Y</td>\n",
       "      <td>12</td>\n",
       "      <td>2005-10-01</td>\n",
       "      <td>0</td>\n",
       "      <td>2005-10-01</td>\n",
       "      <td>None</td>\n",
       "      <td>None</td>\n",
       "      <td>178.22</td>\n",
       "      <td>Beitragsvorgabe</td>\n",
       "    </tr>\n",
       "    <tr>\n",
       "      <th>7</th>\n",
       "      <td>6215630F</td>\n",
       "      <td>12</td>\n",
       "      <td>2005-12-01</td>\n",
       "      <td>0</td>\n",
       "      <td>2005-12-01</td>\n",
       "      <td>None</td>\n",
       "      <td>None</td>\n",
       "      <td>113.45</td>\n",
       "      <td>Beitragsvorgabe</td>\n",
       "    </tr>\n",
       "    <tr>\n",
       "      <th>8</th>\n",
       "      <td>6215740Y</td>\n",
       "      <td>12</td>\n",
       "      <td>2005-10-01</td>\n",
       "      <td>0</td>\n",
       "      <td>2005-10-01</td>\n",
       "      <td>None</td>\n",
       "      <td>None</td>\n",
       "      <td>109.15</td>\n",
       "      <td>Beitragsvorgabe</td>\n",
       "    </tr>\n",
       "    <tr>\n",
       "      <th>9</th>\n",
       "      <td>6215812A</td>\n",
       "      <td>12</td>\n",
       "      <td>2005-10-01</td>\n",
       "      <td>0</td>\n",
       "      <td>2005-10-01</td>\n",
       "      <td>None</td>\n",
       "      <td>None</td>\n",
       "      <td>120.34</td>\n",
       "      <td>Beitragsvorgabe</td>\n",
       "    </tr>\n",
       "  </tbody>\n",
       "</table>\n",
       "</div>"
      ],
      "text/plain": [
       "  Contract_Number  PayFreq AnniversaryDt  IndexationPercent IndexationStartDt  \\\n",
       "0        6074160W       12    2007-12-01                  0        2007-12-01   \n",
       "1        6074937L       12    2006-12-01                  0        2006-12-01   \n",
       "2        6074962M       12    2006-12-01                  0        2006-12-01   \n",
       "3        6075850C       12    2006-12-01                  0        2006-12-01   \n",
       "4        6100638P       12    2007-04-01                  0        2007-04-01   \n",
       "5        6100746E       12    2006-05-01                  0        2006-05-01   \n",
       "6        6214246Y       12    2005-10-01                  0        2005-10-01   \n",
       "7        6215630F       12    2005-12-01                  0        2005-12-01   \n",
       "8        6215740Y       12    2005-10-01                  0        2005-10-01   \n",
       "9        6215812A       12    2005-10-01                  0        2005-10-01   \n",
       "\n",
       "  PremHolStartDt PremHolEndDt  Premium PremiumCalcMethod  \n",
       "0           None         None   221.40   Beitragsvorgabe  \n",
       "1           None         None   157.97   Beitragsvorgabe  \n",
       "2           None         None   157.97   Beitragsvorgabe  \n",
       "3           None         None     0.00   Beitragsvorgabe  \n",
       "4           None         None   137.98   Beitragsvorgabe  \n",
       "5           None         None   165.54   Beitragsvorgabe  \n",
       "6           None         None   178.22   Beitragsvorgabe  \n",
       "7           None         None   113.45   Beitragsvorgabe  \n",
       "8           None         None   109.15   Beitragsvorgabe  \n",
       "9           None         None   120.34   Beitragsvorgabe  "
      ]
     },
     "execution_count": 8,
     "metadata": {},
     "output_type": "execute_result"
    }
   ],
   "source": [
    "# Write out to a comma separated values file.\n",
    "\n",
    "# giving directory name\n",
    "filename = input_path + '\\Premium_data.csv'\n",
    "df_premium.to_csv(filename, encoding='utf-8', index=False)        \n",
    "df_premium.head(10)"
   ]
  },
  {
   "cell_type": "code",
   "execution_count": 9,
   "id": "429258dc",
   "metadata": {},
   "outputs": [
    {
     "data": {
      "text/plain": [
       "['df_premium']"
      ]
     },
     "execution_count": 9,
     "metadata": {},
     "output_type": "execute_result"
    }
   ],
   "source": [
    "%who_ls DataFrame "
   ]
  },
  {
   "cell_type": "code",
   "execution_count": 10,
   "id": "5bd86195",
   "metadata": {},
   "outputs": [
    {
     "name": "stdout",
     "output_type": "stream",
     "text": [
      "==========================\n",
      "2024-07-19 19:08:47.226697\n",
      "==========================\n",
      "svmem(total=16756752384, available=3185242112, percent=81.0, used=13571510272, free=3185242112)\n",
      "==========================\n"
     ]
    }
   ],
   "source": [
    "del df_premium\n",
    "\n",
    "print('==========================')\n",
    "now = datetime.now()\n",
    "print(now)\n",
    "print('==========================')\n",
    "print(psutil.virtual_memory())\n",
    "print('==========================')"
   ]
  },
  {
   "cell_type": "code",
   "execution_count": null,
   "id": "0401ba4c",
   "metadata": {},
   "outputs": [],
   "source": []
  }
 ],
 "metadata": {
  "kernelspec": {
   "display_name": "Python 3 (ipykernel)",
   "language": "python",
   "name": "python3"
  },
  "language_info": {
   "codemirror_mode": {
    "name": "ipython",
    "version": 3
   },
   "file_extension": ".py",
   "mimetype": "text/x-python",
   "name": "python",
   "nbconvert_exporter": "python",
   "pygments_lexer": "ipython3",
   "version": "3.8.8"
  }
 },
 "nbformat": 4,
 "nbformat_minor": 5
}
